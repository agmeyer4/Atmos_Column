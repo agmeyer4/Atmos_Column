{
 "cells": [
  {
   "cell_type": "code",
   "execution_count": 14,
   "id": "0dbb51ce",
   "metadata": {},
   "outputs": [
    {
     "name": "stdout",
     "output_type": "stream",
     "text": [
      "The autoreload extension is already loaded. To reload it, use:\n",
      "  %reload_ext autoreload\n"
     ]
    }
   ],
   "source": [
    "#Import Packages\n",
    "import pandas as pd\n",
    "import numpy as np\n",
    "import os\n",
    "import itertools\n",
    "import plotly.graph_objects as go\n",
    "import matplotlib.pyplot as plt\n",
    "import datetime\n",
    "import matplotlib\n",
    "from herbie import Herbie\n",
    "import pickle\n",
    "import cartopy.crs as ccrs\n",
    "import cartopy.io.img_tiles as cimgt\n",
    "import pysolar.solar as solar\n",
    "from geographiclib.geodesic import Geodesic\n",
    "import xarray as xr\n",
    "import pytz\n",
    "import simplekml\n",
    "import cartopy\n",
    "import sys\n",
    "sys.path.append('..')\n",
    "import funcs.ac_funcs as ac\n",
    "import funcs.plotting as plotting\n",
    "\n",
    "\n",
    "pd.options.mode.chained_assignment = None\n",
    "\n",
    "\n",
    "#Autoreload changed local modules\n",
    "%load_ext autoreload\n",
    "%autoreload 2"
   ]
  },
  {
   "cell_type": "code",
   "execution_count": 15,
   "id": "ecb8d333",
   "metadata": {},
   "outputs": [],
   "source": [
    "base_project_dir = '/uufs/chpc.utah.edu/common/home/u0890904/LAIR_1/'"
   ]
  },
  {
   "cell_type": "code",
   "execution_count": 22,
   "id": "cb98bf6b",
   "metadata": {},
   "outputs": [],
   "source": [
    "#First define the instrument location and elevation\n",
    "inst_lat = 40.766\n",
    "inst_lon = -111.847\n",
    "inst_zasl = 1492 #instrument elevation in meters above sea level\n",
    "\n",
    "#Next define the datetime range\n",
    "dt1_str = dt2_str = '2022-10-16 14:00:00' #start datetime\n",
    "timezone = 'UTC' #this should nearly always be UTC, but can identify if your datetime strings above are in a different timezone\n",
    "\n",
    "#Now format the datetime and timezone into useful formats\n",
    "dt1 = ac.dtstr_to_dttz(dt1_str,timezone)\n",
    "dt2 = ac.dtstr_to_dttz(dt2_str,timezone)\n",
    "\n",
    "#Define the heights above the instrument (in m) from which we would like to release particles\n",
    "z_ail_list = [0,25,50,75,100,150,200,300,400,600,1000,1500,2000,2500]"
   ]
  },
  {
   "cell_type": "code",
   "execution_count": 23,
   "id": "845fe3a8",
   "metadata": {},
   "outputs": [
    {
     "name": "stdout",
     "output_type": "stream",
     "text": [
      "Adding receptor lat/lons along the slant column\n"
     ]
    },
    {
     "name": "stderr",
     "output_type": "stream",
     "text": [
      "/uufs/chpc.utah.edu/common/home/u0890904/software/pkg/miniconda3/envs/atmos_column/lib/python3.11/site-packages/pysolar/solartime.py:111: UserWarning:\n",
      "\n",
      "I don't know about leap seconds after 2021\n",
      "\n"
     ]
    }
   ],
   "source": [
    "#Create the ground slant handler \n",
    "gsh = ac.ground_slant_handler(inst_lat,inst_lon,inst_zasl,z_ail_list)\n",
    "#Create the list of datetimes, in our case it will just be one datetime since the start and end are the same\n",
    "dt_list = ac.create_dt_list(dt1,dt2,'1H') #the interval doesn't matter here because it's only one time\n",
    "initial_slantdf = gsh.create_initial_slantdf(dt_list) #create the dataframe from the inputs"
   ]
  },
  {
   "cell_type": "code",
   "execution_count": 24,
   "id": "e819d781",
   "metadata": {},
   "outputs": [],
   "source": [
    "dem_folder = os.path.join(base_project_dir,'Data/DEM/')\n",
    "dem_fname = 'ASTGTM_NC.003_30m_aid0001_slcbig.nc'\n",
    "dem_typeid = 'aster'\n",
    "         \n",
    "my_dem_handler = ac.DEM_handler(dem_folder,dem_fname,dem_typeid)"
   ]
  },
  {
   "cell_type": "code",
   "execution_count": 25,
   "id": "6c809275",
   "metadata": {},
   "outputs": [
    {
     "name": "stdout",
     "output_type": "stream",
     "text": [
      "adding surface and agl heights\n",
      "No DEM dataset defined....defining.\n"
     ]
    }
   ],
   "source": [
    "slant_df = ac.add_sh_and_agl(initial_slantdf,my_dem_handler)"
   ]
  },
  {
   "cell_type": "code",
   "execution_count": 26,
   "id": "d527df6c",
   "metadata": {},
   "outputs": [
    {
     "data": {
      "application/vnd.plotly.v1+json": {
       "config": {
        "plotlyServerURL": "https://plot.ly"
       },
       "data": [
        {
         "customdata": [
          [
           0,
           1492,
           1441,
           51
          ],
          [
           25,
           1517,
           1461,
           56
          ],
          [
           50,
           1542,
           1471,
           71
          ],
          [
           75,
           1567,
           1490,
           77
          ],
          [
           100,
           1592,
           1513,
           79
          ],
          [
           150,
           1642,
           1645,
           -3
          ],
          [
           200,
           1692,
           1683,
           9
          ],
          [
           300,
           1792,
           1832,
           -40
          ],
          [
           400,
           1892,
           2043,
           -151
          ],
          [
           600,
           2092,
           1928,
           164
          ],
          [
           1000,
           2492,
           2232,
           260
          ],
          [
           1500,
           2992,
           1974,
           1018
          ],
          [
           2000,
           3492,
           2161,
           1331
          ],
          [
           2500,
           3992,
           2033,
           1959
          ]
         ],
         "hovertemplate": "<b>z above inst = %{customdata[0]:.0f}m </b><br><b>z above msl = %{customdata[1]:.0f}m </b><br><b>surface msl = %{customdata[2]:.0f}m </b><br><b>z above ground = %{customdata[3]:.0f}m </b><br>longitude: %{lon:.3f}<br>latitude: %{lat:.3f}<br>",
         "lat": [
          40.766,
          40.76496471139687,
          40.76392918288726,
          40.76289341448721,
          40.7618574062128,
          40.75978467010511,
          40.75771097469275,
          40.753560706468285,
          40.749406602568506,
          40.741086891862246,
          40.724401487692624,
          40.70345860002454,
          40.682420130414705,
          40.66128620863585
         ],
         "lon": [
          -111.847,
          -111.84174008347654,
          -111.83648033021252,
          -111.83122074023471,
          -111.82596131356986,
          -111.81544295028606,
          -111.80492524057502,
          -111.78389178272609,
          -111.7628609417313,
          -111.72080711712513,
          -111.63673094505978,
          -111.5316948893275,
          -111.42672476264535,
          -111.32182077406642
         ],
         "marker": {
          "size": 10
         },
         "mode": "markers+lines",
         "name": "2022-10-16 14:00:00 UTC",
         "type": "scattermapbox"
        }
       ],
       "layout": {
        "height": 400,
        "hovermode": "closest",
        "mapbox": {
         "bearing": 0,
         "center": {
          "lat": 40.766,
          "lon": -111.847
         },
         "layers": [
          {
           "below": "traces",
           "source": [
            "https://basemap.nationalmap.gov/arcgis/rest/services/USGSImageryOnly/MapServer/tile/{z}/{y}/{x}"
           ],
           "sourceattribution": "United States Geological Survey",
           "sourcetype": "raster"
          },
          {
           "source": [
            "https://geo.weather.gc.ca/geomet/?SERVICE=WMS&VERSION=1.3.0&REQUEST=GetMap&BBOX={bbox-epsg-3857}&CRS=EPSG:3857&WIDTH=1000&HEIGHT=1000&LAYERS=RADAR_1KM_RDBR&TILED=true&FORMAT=image/png"
           ],
           "sourceattribution": "Government of Canada",
           "sourcetype": "raster"
          }
         ],
         "pitch": 0,
         "style": "white-bg",
         "zoom": 8
        },
        "margin": {
         "b": 0,
         "l": 0,
         "r": 0,
         "t": 0
        },
        "showlegend": true,
        "template": {
         "data": {
          "bar": [
           {
            "error_x": {
             "color": "#2a3f5f"
            },
            "error_y": {
             "color": "#2a3f5f"
            },
            "marker": {
             "line": {
              "color": "#E5ECF6",
              "width": 0.5
             },
             "pattern": {
              "fillmode": "overlay",
              "size": 10,
              "solidity": 0.2
             }
            },
            "type": "bar"
           }
          ],
          "barpolar": [
           {
            "marker": {
             "line": {
              "color": "#E5ECF6",
              "width": 0.5
             },
             "pattern": {
              "fillmode": "overlay",
              "size": 10,
              "solidity": 0.2
             }
            },
            "type": "barpolar"
           }
          ],
          "carpet": [
           {
            "aaxis": {
             "endlinecolor": "#2a3f5f",
             "gridcolor": "white",
             "linecolor": "white",
             "minorgridcolor": "white",
             "startlinecolor": "#2a3f5f"
            },
            "baxis": {
             "endlinecolor": "#2a3f5f",
             "gridcolor": "white",
             "linecolor": "white",
             "minorgridcolor": "white",
             "startlinecolor": "#2a3f5f"
            },
            "type": "carpet"
           }
          ],
          "choropleth": [
           {
            "colorbar": {
             "outlinewidth": 0,
             "ticks": ""
            },
            "type": "choropleth"
           }
          ],
          "contour": [
           {
            "colorbar": {
             "outlinewidth": 0,
             "ticks": ""
            },
            "colorscale": [
             [
              0,
              "#0d0887"
             ],
             [
              0.1111111111111111,
              "#46039f"
             ],
             [
              0.2222222222222222,
              "#7201a8"
             ],
             [
              0.3333333333333333,
              "#9c179e"
             ],
             [
              0.4444444444444444,
              "#bd3786"
             ],
             [
              0.5555555555555556,
              "#d8576b"
             ],
             [
              0.6666666666666666,
              "#ed7953"
             ],
             [
              0.7777777777777778,
              "#fb9f3a"
             ],
             [
              0.8888888888888888,
              "#fdca26"
             ],
             [
              1,
              "#f0f921"
             ]
            ],
            "type": "contour"
           }
          ],
          "contourcarpet": [
           {
            "colorbar": {
             "outlinewidth": 0,
             "ticks": ""
            },
            "type": "contourcarpet"
           }
          ],
          "heatmap": [
           {
            "colorbar": {
             "outlinewidth": 0,
             "ticks": ""
            },
            "colorscale": [
             [
              0,
              "#0d0887"
             ],
             [
              0.1111111111111111,
              "#46039f"
             ],
             [
              0.2222222222222222,
              "#7201a8"
             ],
             [
              0.3333333333333333,
              "#9c179e"
             ],
             [
              0.4444444444444444,
              "#bd3786"
             ],
             [
              0.5555555555555556,
              "#d8576b"
             ],
             [
              0.6666666666666666,
              "#ed7953"
             ],
             [
              0.7777777777777778,
              "#fb9f3a"
             ],
             [
              0.8888888888888888,
              "#fdca26"
             ],
             [
              1,
              "#f0f921"
             ]
            ],
            "type": "heatmap"
           }
          ],
          "heatmapgl": [
           {
            "colorbar": {
             "outlinewidth": 0,
             "ticks": ""
            },
            "colorscale": [
             [
              0,
              "#0d0887"
             ],
             [
              0.1111111111111111,
              "#46039f"
             ],
             [
              0.2222222222222222,
              "#7201a8"
             ],
             [
              0.3333333333333333,
              "#9c179e"
             ],
             [
              0.4444444444444444,
              "#bd3786"
             ],
             [
              0.5555555555555556,
              "#d8576b"
             ],
             [
              0.6666666666666666,
              "#ed7953"
             ],
             [
              0.7777777777777778,
              "#fb9f3a"
             ],
             [
              0.8888888888888888,
              "#fdca26"
             ],
             [
              1,
              "#f0f921"
             ]
            ],
            "type": "heatmapgl"
           }
          ],
          "histogram": [
           {
            "marker": {
             "pattern": {
              "fillmode": "overlay",
              "size": 10,
              "solidity": 0.2
             }
            },
            "type": "histogram"
           }
          ],
          "histogram2d": [
           {
            "colorbar": {
             "outlinewidth": 0,
             "ticks": ""
            },
            "colorscale": [
             [
              0,
              "#0d0887"
             ],
             [
              0.1111111111111111,
              "#46039f"
             ],
             [
              0.2222222222222222,
              "#7201a8"
             ],
             [
              0.3333333333333333,
              "#9c179e"
             ],
             [
              0.4444444444444444,
              "#bd3786"
             ],
             [
              0.5555555555555556,
              "#d8576b"
             ],
             [
              0.6666666666666666,
              "#ed7953"
             ],
             [
              0.7777777777777778,
              "#fb9f3a"
             ],
             [
              0.8888888888888888,
              "#fdca26"
             ],
             [
              1,
              "#f0f921"
             ]
            ],
            "type": "histogram2d"
           }
          ],
          "histogram2dcontour": [
           {
            "colorbar": {
             "outlinewidth": 0,
             "ticks": ""
            },
            "colorscale": [
             [
              0,
              "#0d0887"
             ],
             [
              0.1111111111111111,
              "#46039f"
             ],
             [
              0.2222222222222222,
              "#7201a8"
             ],
             [
              0.3333333333333333,
              "#9c179e"
             ],
             [
              0.4444444444444444,
              "#bd3786"
             ],
             [
              0.5555555555555556,
              "#d8576b"
             ],
             [
              0.6666666666666666,
              "#ed7953"
             ],
             [
              0.7777777777777778,
              "#fb9f3a"
             ],
             [
              0.8888888888888888,
              "#fdca26"
             ],
             [
              1,
              "#f0f921"
             ]
            ],
            "type": "histogram2dcontour"
           }
          ],
          "mesh3d": [
           {
            "colorbar": {
             "outlinewidth": 0,
             "ticks": ""
            },
            "type": "mesh3d"
           }
          ],
          "parcoords": [
           {
            "line": {
             "colorbar": {
              "outlinewidth": 0,
              "ticks": ""
             }
            },
            "type": "parcoords"
           }
          ],
          "pie": [
           {
            "automargin": true,
            "type": "pie"
           }
          ],
          "scatter": [
           {
            "fillpattern": {
             "fillmode": "overlay",
             "size": 10,
             "solidity": 0.2
            },
            "type": "scatter"
           }
          ],
          "scatter3d": [
           {
            "line": {
             "colorbar": {
              "outlinewidth": 0,
              "ticks": ""
             }
            },
            "marker": {
             "colorbar": {
              "outlinewidth": 0,
              "ticks": ""
             }
            },
            "type": "scatter3d"
           }
          ],
          "scattercarpet": [
           {
            "marker": {
             "colorbar": {
              "outlinewidth": 0,
              "ticks": ""
             }
            },
            "type": "scattercarpet"
           }
          ],
          "scattergeo": [
           {
            "marker": {
             "colorbar": {
              "outlinewidth": 0,
              "ticks": ""
             }
            },
            "type": "scattergeo"
           }
          ],
          "scattergl": [
           {
            "marker": {
             "colorbar": {
              "outlinewidth": 0,
              "ticks": ""
             }
            },
            "type": "scattergl"
           }
          ],
          "scattermapbox": [
           {
            "marker": {
             "colorbar": {
              "outlinewidth": 0,
              "ticks": ""
             }
            },
            "type": "scattermapbox"
           }
          ],
          "scatterpolar": [
           {
            "marker": {
             "colorbar": {
              "outlinewidth": 0,
              "ticks": ""
             }
            },
            "type": "scatterpolar"
           }
          ],
          "scatterpolargl": [
           {
            "marker": {
             "colorbar": {
              "outlinewidth": 0,
              "ticks": ""
             }
            },
            "type": "scatterpolargl"
           }
          ],
          "scatterternary": [
           {
            "marker": {
             "colorbar": {
              "outlinewidth": 0,
              "ticks": ""
             }
            },
            "type": "scatterternary"
           }
          ],
          "surface": [
           {
            "colorbar": {
             "outlinewidth": 0,
             "ticks": ""
            },
            "colorscale": [
             [
              0,
              "#0d0887"
             ],
             [
              0.1111111111111111,
              "#46039f"
             ],
             [
              0.2222222222222222,
              "#7201a8"
             ],
             [
              0.3333333333333333,
              "#9c179e"
             ],
             [
              0.4444444444444444,
              "#bd3786"
             ],
             [
              0.5555555555555556,
              "#d8576b"
             ],
             [
              0.6666666666666666,
              "#ed7953"
             ],
             [
              0.7777777777777778,
              "#fb9f3a"
             ],
             [
              0.8888888888888888,
              "#fdca26"
             ],
             [
              1,
              "#f0f921"
             ]
            ],
            "type": "surface"
           }
          ],
          "table": [
           {
            "cells": {
             "fill": {
              "color": "#EBF0F8"
             },
             "line": {
              "color": "white"
             }
            },
            "header": {
             "fill": {
              "color": "#C8D4E3"
             },
             "line": {
              "color": "white"
             }
            },
            "type": "table"
           }
          ]
         },
         "layout": {
          "annotationdefaults": {
           "arrowcolor": "#2a3f5f",
           "arrowhead": 0,
           "arrowwidth": 1
          },
          "autotypenumbers": "strict",
          "coloraxis": {
           "colorbar": {
            "outlinewidth": 0,
            "ticks": ""
           }
          },
          "colorscale": {
           "diverging": [
            [
             0,
             "#8e0152"
            ],
            [
             0.1,
             "#c51b7d"
            ],
            [
             0.2,
             "#de77ae"
            ],
            [
             0.3,
             "#f1b6da"
            ],
            [
             0.4,
             "#fde0ef"
            ],
            [
             0.5,
             "#f7f7f7"
            ],
            [
             0.6,
             "#e6f5d0"
            ],
            [
             0.7,
             "#b8e186"
            ],
            [
             0.8,
             "#7fbc41"
            ],
            [
             0.9,
             "#4d9221"
            ],
            [
             1,
             "#276419"
            ]
           ],
           "sequential": [
            [
             0,
             "#0d0887"
            ],
            [
             0.1111111111111111,
             "#46039f"
            ],
            [
             0.2222222222222222,
             "#7201a8"
            ],
            [
             0.3333333333333333,
             "#9c179e"
            ],
            [
             0.4444444444444444,
             "#bd3786"
            ],
            [
             0.5555555555555556,
             "#d8576b"
            ],
            [
             0.6666666666666666,
             "#ed7953"
            ],
            [
             0.7777777777777778,
             "#fb9f3a"
            ],
            [
             0.8888888888888888,
             "#fdca26"
            ],
            [
             1,
             "#f0f921"
            ]
           ],
           "sequentialminus": [
            [
             0,
             "#0d0887"
            ],
            [
             0.1111111111111111,
             "#46039f"
            ],
            [
             0.2222222222222222,
             "#7201a8"
            ],
            [
             0.3333333333333333,
             "#9c179e"
            ],
            [
             0.4444444444444444,
             "#bd3786"
            ],
            [
             0.5555555555555556,
             "#d8576b"
            ],
            [
             0.6666666666666666,
             "#ed7953"
            ],
            [
             0.7777777777777778,
             "#fb9f3a"
            ],
            [
             0.8888888888888888,
             "#fdca26"
            ],
            [
             1,
             "#f0f921"
            ]
           ]
          },
          "colorway": [
           "#636efa",
           "#EF553B",
           "#00cc96",
           "#ab63fa",
           "#FFA15A",
           "#19d3f3",
           "#FF6692",
           "#B6E880",
           "#FF97FF",
           "#FECB52"
          ],
          "font": {
           "color": "#2a3f5f"
          },
          "geo": {
           "bgcolor": "white",
           "lakecolor": "white",
           "landcolor": "#E5ECF6",
           "showlakes": true,
           "showland": true,
           "subunitcolor": "white"
          },
          "hoverlabel": {
           "align": "left"
          },
          "hovermode": "closest",
          "mapbox": {
           "style": "light"
          },
          "paper_bgcolor": "white",
          "plot_bgcolor": "#E5ECF6",
          "polar": {
           "angularaxis": {
            "gridcolor": "white",
            "linecolor": "white",
            "ticks": ""
           },
           "bgcolor": "#E5ECF6",
           "radialaxis": {
            "gridcolor": "white",
            "linecolor": "white",
            "ticks": ""
           }
          },
          "scene": {
           "xaxis": {
            "backgroundcolor": "#E5ECF6",
            "gridcolor": "white",
            "gridwidth": 2,
            "linecolor": "white",
            "showbackground": true,
            "ticks": "",
            "zerolinecolor": "white"
           },
           "yaxis": {
            "backgroundcolor": "#E5ECF6",
            "gridcolor": "white",
            "gridwidth": 2,
            "linecolor": "white",
            "showbackground": true,
            "ticks": "",
            "zerolinecolor": "white"
           },
           "zaxis": {
            "backgroundcolor": "#E5ECF6",
            "gridcolor": "white",
            "gridwidth": 2,
            "linecolor": "white",
            "showbackground": true,
            "ticks": "",
            "zerolinecolor": "white"
           }
          },
          "shapedefaults": {
           "line": {
            "color": "#2a3f5f"
           }
          },
          "ternary": {
           "aaxis": {
            "gridcolor": "white",
            "linecolor": "white",
            "ticks": ""
           },
           "baxis": {
            "gridcolor": "white",
            "linecolor": "white",
            "ticks": ""
           },
           "bgcolor": "#E5ECF6",
           "caxis": {
            "gridcolor": "white",
            "linecolor": "white",
            "ticks": ""
           }
          },
          "title": {
           "x": 0.05
          },
          "xaxis": {
           "automargin": true,
           "gridcolor": "white",
           "linecolor": "white",
           "ticks": "",
           "title": {
            "standoff": 15
           },
           "zerolinecolor": "white",
           "zerolinewidth": 2
          },
          "yaxis": {
           "automargin": true,
           "gridcolor": "white",
           "linecolor": "white",
           "ticks": "",
           "title": {
            "standoff": 15
           },
           "zerolinecolor": "white",
           "zerolinewidth": 2
          }
         }
        }
       }
      },
      "text/html": [
       "<div>                            <div id=\"b71e652a-681e-4562-9136-48cd57845fec\" class=\"plotly-graph-div\" style=\"height:400px; width:100%;\"></div>            <script type=\"text/javascript\">                require([\"plotly\"], function(Plotly) {                    window.PLOTLYENV=window.PLOTLYENV || {};                                    if (document.getElementById(\"b71e652a-681e-4562-9136-48cd57845fec\")) {                    Plotly.newPlot(                        \"b71e652a-681e-4562-9136-48cd57845fec\",                        [{\"customdata\":[[0.0,1492.0,1441.0,51.0],[25.0,1517.0,1461.0,56.0],[50.0,1542.0,1471.0,71.0],[75.0,1567.0,1490.0,77.0],[100.0,1592.0,1513.0,79.0],[150.0,1642.0,1645.0,-3.0],[200.0,1692.0,1683.0,9.0],[300.0,1792.0,1832.0,-40.0],[400.0,1892.0,2043.0,-151.0],[600.0,2092.0,1928.0,164.0],[1000.0,2492.0,2232.0,260.0],[1500.0,2992.0,1974.0,1018.0],[2000.0,3492.0,2161.0,1331.0],[2500.0,3992.0,2033.0,1959.0]],\"hovertemplate\":\"<b>z above inst = %{customdata[0]:.0f}m </b><br><b>z above msl = %{customdata[1]:.0f}m </b><br><b>surface msl = %{customdata[2]:.0f}m </b><br><b>z above ground = %{customdata[3]:.0f}m </b><br>longitude: %{lon:.3f}<br>latitude: %{lat:.3f}<br>\",\"lat\":[40.766,40.76496471139687,40.76392918288726,40.76289341448721,40.7618574062128,40.75978467010511,40.75771097469275,40.753560706468285,40.749406602568506,40.741086891862246,40.724401487692624,40.70345860002454,40.682420130414705,40.66128620863585],\"lon\":[-111.847,-111.84174008347654,-111.83648033021252,-111.83122074023471,-111.82596131356986,-111.81544295028606,-111.80492524057502,-111.78389178272609,-111.7628609417313,-111.72080711712513,-111.63673094505978,-111.5316948893275,-111.42672476264535,-111.32182077406642],\"marker\":{\"size\":10},\"mode\":\"markers+lines\",\"name\":\"2022-10-16 14:00:00 UTC\",\"type\":\"scattermapbox\"}],                        {\"template\":{\"data\":{\"histogram2dcontour\":[{\"type\":\"histogram2dcontour\",\"colorbar\":{\"outlinewidth\":0,\"ticks\":\"\"},\"colorscale\":[[0.0,\"#0d0887\"],[0.1111111111111111,\"#46039f\"],[0.2222222222222222,\"#7201a8\"],[0.3333333333333333,\"#9c179e\"],[0.4444444444444444,\"#bd3786\"],[0.5555555555555556,\"#d8576b\"],[0.6666666666666666,\"#ed7953\"],[0.7777777777777778,\"#fb9f3a\"],[0.8888888888888888,\"#fdca26\"],[1.0,\"#f0f921\"]]}],\"choropleth\":[{\"type\":\"choropleth\",\"colorbar\":{\"outlinewidth\":0,\"ticks\":\"\"}}],\"histogram2d\":[{\"type\":\"histogram2d\",\"colorbar\":{\"outlinewidth\":0,\"ticks\":\"\"},\"colorscale\":[[0.0,\"#0d0887\"],[0.1111111111111111,\"#46039f\"],[0.2222222222222222,\"#7201a8\"],[0.3333333333333333,\"#9c179e\"],[0.4444444444444444,\"#bd3786\"],[0.5555555555555556,\"#d8576b\"],[0.6666666666666666,\"#ed7953\"],[0.7777777777777778,\"#fb9f3a\"],[0.8888888888888888,\"#fdca26\"],[1.0,\"#f0f921\"]]}],\"heatmap\":[{\"type\":\"heatmap\",\"colorbar\":{\"outlinewidth\":0,\"ticks\":\"\"},\"colorscale\":[[0.0,\"#0d0887\"],[0.1111111111111111,\"#46039f\"],[0.2222222222222222,\"#7201a8\"],[0.3333333333333333,\"#9c179e\"],[0.4444444444444444,\"#bd3786\"],[0.5555555555555556,\"#d8576b\"],[0.6666666666666666,\"#ed7953\"],[0.7777777777777778,\"#fb9f3a\"],[0.8888888888888888,\"#fdca26\"],[1.0,\"#f0f921\"]]}],\"heatmapgl\":[{\"type\":\"heatmapgl\",\"colorbar\":{\"outlinewidth\":0,\"ticks\":\"\"},\"colorscale\":[[0.0,\"#0d0887\"],[0.1111111111111111,\"#46039f\"],[0.2222222222222222,\"#7201a8\"],[0.3333333333333333,\"#9c179e\"],[0.4444444444444444,\"#bd3786\"],[0.5555555555555556,\"#d8576b\"],[0.6666666666666666,\"#ed7953\"],[0.7777777777777778,\"#fb9f3a\"],[0.8888888888888888,\"#fdca26\"],[1.0,\"#f0f921\"]]}],\"contourcarpet\":[{\"type\":\"contourcarpet\",\"colorbar\":{\"outlinewidth\":0,\"ticks\":\"\"}}],\"contour\":[{\"type\":\"contour\",\"colorbar\":{\"outlinewidth\":0,\"ticks\":\"\"},\"colorscale\":[[0.0,\"#0d0887\"],[0.1111111111111111,\"#46039f\"],[0.2222222222222222,\"#7201a8\"],[0.3333333333333333,\"#9c179e\"],[0.4444444444444444,\"#bd3786\"],[0.5555555555555556,\"#d8576b\"],[0.6666666666666666,\"#ed7953\"],[0.7777777777777778,\"#fb9f3a\"],[0.8888888888888888,\"#fdca26\"],[1.0,\"#f0f921\"]]}],\"surface\":[{\"type\":\"surface\",\"colorbar\":{\"outlinewidth\":0,\"ticks\":\"\"},\"colorscale\":[[0.0,\"#0d0887\"],[0.1111111111111111,\"#46039f\"],[0.2222222222222222,\"#7201a8\"],[0.3333333333333333,\"#9c179e\"],[0.4444444444444444,\"#bd3786\"],[0.5555555555555556,\"#d8576b\"],[0.6666666666666666,\"#ed7953\"],[0.7777777777777778,\"#fb9f3a\"],[0.8888888888888888,\"#fdca26\"],[1.0,\"#f0f921\"]]}],\"mesh3d\":[{\"type\":\"mesh3d\",\"colorbar\":{\"outlinewidth\":0,\"ticks\":\"\"}}],\"scatter\":[{\"fillpattern\":{\"fillmode\":\"overlay\",\"size\":10,\"solidity\":0.2},\"type\":\"scatter\"}],\"parcoords\":[{\"type\":\"parcoords\",\"line\":{\"colorbar\":{\"outlinewidth\":0,\"ticks\":\"\"}}}],\"scatterpolargl\":[{\"type\":\"scatterpolargl\",\"marker\":{\"colorbar\":{\"outlinewidth\":0,\"ticks\":\"\"}}}],\"bar\":[{\"error_x\":{\"color\":\"#2a3f5f\"},\"error_y\":{\"color\":\"#2a3f5f\"},\"marker\":{\"line\":{\"color\":\"#E5ECF6\",\"width\":0.5},\"pattern\":{\"fillmode\":\"overlay\",\"size\":10,\"solidity\":0.2}},\"type\":\"bar\"}],\"scattergeo\":[{\"type\":\"scattergeo\",\"marker\":{\"colorbar\":{\"outlinewidth\":0,\"ticks\":\"\"}}}],\"scatterpolar\":[{\"type\":\"scatterpolar\",\"marker\":{\"colorbar\":{\"outlinewidth\":0,\"ticks\":\"\"}}}],\"histogram\":[{\"marker\":{\"pattern\":{\"fillmode\":\"overlay\",\"size\":10,\"solidity\":0.2}},\"type\":\"histogram\"}],\"scattergl\":[{\"type\":\"scattergl\",\"marker\":{\"colorbar\":{\"outlinewidth\":0,\"ticks\":\"\"}}}],\"scatter3d\":[{\"type\":\"scatter3d\",\"line\":{\"colorbar\":{\"outlinewidth\":0,\"ticks\":\"\"}},\"marker\":{\"colorbar\":{\"outlinewidth\":0,\"ticks\":\"\"}}}],\"scattermapbox\":[{\"type\":\"scattermapbox\",\"marker\":{\"colorbar\":{\"outlinewidth\":0,\"ticks\":\"\"}}}],\"scatterternary\":[{\"type\":\"scatterternary\",\"marker\":{\"colorbar\":{\"outlinewidth\":0,\"ticks\":\"\"}}}],\"scattercarpet\":[{\"type\":\"scattercarpet\",\"marker\":{\"colorbar\":{\"outlinewidth\":0,\"ticks\":\"\"}}}],\"carpet\":[{\"aaxis\":{\"endlinecolor\":\"#2a3f5f\",\"gridcolor\":\"white\",\"linecolor\":\"white\",\"minorgridcolor\":\"white\",\"startlinecolor\":\"#2a3f5f\"},\"baxis\":{\"endlinecolor\":\"#2a3f5f\",\"gridcolor\":\"white\",\"linecolor\":\"white\",\"minorgridcolor\":\"white\",\"startlinecolor\":\"#2a3f5f\"},\"type\":\"carpet\"}],\"table\":[{\"cells\":{\"fill\":{\"color\":\"#EBF0F8\"},\"line\":{\"color\":\"white\"}},\"header\":{\"fill\":{\"color\":\"#C8D4E3\"},\"line\":{\"color\":\"white\"}},\"type\":\"table\"}],\"barpolar\":[{\"marker\":{\"line\":{\"color\":\"#E5ECF6\",\"width\":0.5},\"pattern\":{\"fillmode\":\"overlay\",\"size\":10,\"solidity\":0.2}},\"type\":\"barpolar\"}],\"pie\":[{\"automargin\":true,\"type\":\"pie\"}]},\"layout\":{\"autotypenumbers\":\"strict\",\"colorway\":[\"#636efa\",\"#EF553B\",\"#00cc96\",\"#ab63fa\",\"#FFA15A\",\"#19d3f3\",\"#FF6692\",\"#B6E880\",\"#FF97FF\",\"#FECB52\"],\"font\":{\"color\":\"#2a3f5f\"},\"hovermode\":\"closest\",\"hoverlabel\":{\"align\":\"left\"},\"paper_bgcolor\":\"white\",\"plot_bgcolor\":\"#E5ECF6\",\"polar\":{\"bgcolor\":\"#E5ECF6\",\"angularaxis\":{\"gridcolor\":\"white\",\"linecolor\":\"white\",\"ticks\":\"\"},\"radialaxis\":{\"gridcolor\":\"white\",\"linecolor\":\"white\",\"ticks\":\"\"}},\"ternary\":{\"bgcolor\":\"#E5ECF6\",\"aaxis\":{\"gridcolor\":\"white\",\"linecolor\":\"white\",\"ticks\":\"\"},\"baxis\":{\"gridcolor\":\"white\",\"linecolor\":\"white\",\"ticks\":\"\"},\"caxis\":{\"gridcolor\":\"white\",\"linecolor\":\"white\",\"ticks\":\"\"}},\"coloraxis\":{\"colorbar\":{\"outlinewidth\":0,\"ticks\":\"\"}},\"colorscale\":{\"sequential\":[[0.0,\"#0d0887\"],[0.1111111111111111,\"#46039f\"],[0.2222222222222222,\"#7201a8\"],[0.3333333333333333,\"#9c179e\"],[0.4444444444444444,\"#bd3786\"],[0.5555555555555556,\"#d8576b\"],[0.6666666666666666,\"#ed7953\"],[0.7777777777777778,\"#fb9f3a\"],[0.8888888888888888,\"#fdca26\"],[1.0,\"#f0f921\"]],\"sequentialminus\":[[0.0,\"#0d0887\"],[0.1111111111111111,\"#46039f\"],[0.2222222222222222,\"#7201a8\"],[0.3333333333333333,\"#9c179e\"],[0.4444444444444444,\"#bd3786\"],[0.5555555555555556,\"#d8576b\"],[0.6666666666666666,\"#ed7953\"],[0.7777777777777778,\"#fb9f3a\"],[0.8888888888888888,\"#fdca26\"],[1.0,\"#f0f921\"]],\"diverging\":[[0,\"#8e0152\"],[0.1,\"#c51b7d\"],[0.2,\"#de77ae\"],[0.3,\"#f1b6da\"],[0.4,\"#fde0ef\"],[0.5,\"#f7f7f7\"],[0.6,\"#e6f5d0\"],[0.7,\"#b8e186\"],[0.8,\"#7fbc41\"],[0.9,\"#4d9221\"],[1,\"#276419\"]]},\"xaxis\":{\"gridcolor\":\"white\",\"linecolor\":\"white\",\"ticks\":\"\",\"title\":{\"standoff\":15},\"zerolinecolor\":\"white\",\"automargin\":true,\"zerolinewidth\":2},\"yaxis\":{\"gridcolor\":\"white\",\"linecolor\":\"white\",\"ticks\":\"\",\"title\":{\"standoff\":15},\"zerolinecolor\":\"white\",\"automargin\":true,\"zerolinewidth\":2},\"scene\":{\"xaxis\":{\"backgroundcolor\":\"#E5ECF6\",\"gridcolor\":\"white\",\"linecolor\":\"white\",\"showbackground\":true,\"ticks\":\"\",\"zerolinecolor\":\"white\",\"gridwidth\":2},\"yaxis\":{\"backgroundcolor\":\"#E5ECF6\",\"gridcolor\":\"white\",\"linecolor\":\"white\",\"showbackground\":true,\"ticks\":\"\",\"zerolinecolor\":\"white\",\"gridwidth\":2},\"zaxis\":{\"backgroundcolor\":\"#E5ECF6\",\"gridcolor\":\"white\",\"linecolor\":\"white\",\"showbackground\":true,\"ticks\":\"\",\"zerolinecolor\":\"white\",\"gridwidth\":2}},\"shapedefaults\":{\"line\":{\"color\":\"#2a3f5f\"}},\"annotationdefaults\":{\"arrowcolor\":\"#2a3f5f\",\"arrowhead\":0,\"arrowwidth\":1},\"geo\":{\"bgcolor\":\"white\",\"landcolor\":\"#E5ECF6\",\"subunitcolor\":\"white\",\"showland\":true,\"showlakes\":true,\"lakecolor\":\"white\"},\"title\":{\"x\":0.05},\"mapbox\":{\"style\":\"light\"}}},\"mapbox\":{\"style\":\"white-bg\",\"layers\":[{\"below\":\"traces\",\"source\":[\"https://basemap.nationalmap.gov/arcgis/rest/services/USGSImageryOnly/MapServer/tile/{z}/{y}/{x}\"],\"sourceattribution\":\"United States Geological Survey\",\"sourcetype\":\"raster\"},{\"source\":[\"https://geo.weather.gc.ca/geomet/?SERVICE=WMS&VERSION=1.3.0&REQUEST=GetMap&BBOX={bbox-epsg-3857}&CRS=EPSG:3857&WIDTH=1000&HEIGHT=1000&LAYERS=RADAR_1KM_RDBR&TILED=true&FORMAT=image/png\"],\"sourceattribution\":\"Government of Canada\",\"sourcetype\":\"raster\"}],\"bearing\":0,\"center\":{\"lat\":40.766,\"lon\":-111.847},\"pitch\":0,\"zoom\":8},\"margin\":{\"r\":0,\"t\":0,\"l\":0,\"b\":0},\"height\":400,\"showlegend\":true,\"hovermode\":\"closest\"},                        {\"responsive\": true}                    ).then(function(){\n",
       "                            \n",
       "var gd = document.getElementById('b71e652a-681e-4562-9136-48cd57845fec');\n",
       "var x = new MutationObserver(function (mutations, observer) {{\n",
       "        var display = window.getComputedStyle(gd).display;\n",
       "        if (!display || display === 'none') {{\n",
       "            console.log([gd, 'removed!']);\n",
       "            Plotly.purge(gd);\n",
       "            observer.disconnect();\n",
       "        }}\n",
       "}});\n",
       "\n",
       "// Listen for the removal of the full notebook cells\n",
       "var notebookContainer = gd.closest('#notebook-container');\n",
       "if (notebookContainer) {{\n",
       "    x.observe(notebookContainer, {childList: true});\n",
       "}}\n",
       "\n",
       "// Listen for the clearing of the current output cell\n",
       "var outputEl = gd.closest('.output');\n",
       "if (outputEl) {{\n",
       "    x.observe(outputEl, {childList: true});\n",
       "}}\n",
       "\n",
       "                        })                };                });            </script>        </div>"
      ]
     },
     "metadata": {},
     "output_type": "display_data"
    }
   ],
   "source": [
    "plotting.create_slant_plots(slant_df,inst_lat,inst_lon)"
   ]
  },
  {
   "cell_type": "code",
   "execution_count": 21,
   "id": "d4ac97a2",
   "metadata": {},
   "outputs": [
    {
     "name": "stdout",
     "output_type": "stream",
     "text": [
      "Adding receptor lat/lons along the slant column\n",
      "adding surface and agl heights\n"
     ]
    }
   ],
   "source": [
    "#Define instrument parameters\n",
    "inst_lat = 40.766\n",
    "inst_lon = -111.847\n",
    "inst_zasl = 1492 #instrument elevation in meters above sea level\n",
    "\n",
    "#define datetime range and interval parameters\n",
    "dt1_str = '2022-06-16 00:00:00'#start datetime\n",
    "dt2_str = '2022-06-17 00:00:00' #end datetime\n",
    "interval = '1H' #interval at which we want our dataframe\n",
    "timezone = 'UTC' #this should nearly always be UTC, but can identify if your datetime strings above are in a different timezone\n",
    "\n",
    "#Define the heights above the instrument (in m) from which we would like to release particles\n",
    "z_ail_list = [0,25,50,75,100,150,200,300,400,600,1000,1500,2000,2500]\n",
    "\n",
    "#Now format the datetime and timezone into useful formats\n",
    "dt1 = ac.dtstr_to_dttz(dt1_str,timezone)\n",
    "dt2 = ac.dtstr_to_dttz(dt2_str,timezone)\n",
    "\n",
    "\n",
    "gsh = ac.ground_slant_handler(inst_lat,inst_lon,inst_zasl,z_ail_list)\n",
    "dt_list = ac.create_dt_list(dt1,dt2,interval) #create the dt list based on the range and interval\n",
    "multi_df = gsh.create_initial_slantdf(dt_list) #create the multidf \n",
    "multi_df = ac.add_sh_and_agl(multi_df,my_dem_handler)"
   ]
  },
  {
   "cell_type": "code",
   "execution_count": 10,
   "id": "5a814265",
   "metadata": {},
   "outputs": [
    {
     "data": {
      "application/vnd.plotly.v1+json": {
       "config": {
        "plotlyServerURL": "https://plot.ly"
       },
       "data": [
        {
         "customdata": [
          [
           0,
           1492,
           1441,
           51
          ],
          [
           25,
           1517,
           1443,
           74
          ],
          [
           50,
           1542,
           1440,
           102
          ],
          [
           75,
           1567,
           1437,
           130
          ],
          [
           100,
           1592,
           1434,
           158
          ],
          [
           150,
           1642,
           1433,
           209
          ],
          [
           200,
           1692,
           1426,
           266
          ],
          [
           300,
           1792,
           1413,
           379
          ],
          [
           400,
           1892,
           1393,
           499
          ],
          [
           600,
           2092,
           1378,
           714
          ],
          [
           1000,
           2492,
           1348,
           1144
          ],
          [
           1500,
           2992,
           1336,
           1656
          ],
          [
           2000,
           3492,
           1326,
           2166
          ],
          [
           2500,
           3992,
           1328,
           2664
          ]
         ],
         "hovertemplate": "<b>z above inst = %{customdata[0]:.0f}m </b><br><b>z above msl = %{customdata[1]:.0f}m </b><br><b>surface msl = %{customdata[2]:.0f}m </b><br><b>z above ground = %{customdata[3]:.0f}m </b><br>longitude: %{lon:.3f}<br>latitude: %{lat:.3f}<br>",
         "lat": [
          40.76599999999999,
          40.76603271567257,
          40.76606542930559,
          40.76609814089903,
          40.766130850452896,
          40.76619626344188,
          40.76626166827249,
          40.7663924534585,
          40.76652320601067,
          40.76678461321231,
          40.76730703599719,
          40.767959330171,
          40.76861080841572,
          40.769261470696954
         ],
         "lon": [
          -111.847,
          -111.84748514082811,
          -111.84797028213204,
          -111.84845542391173,
          -111.84894056616716,
          -111.84991085210511,
          -111.85088113994568,
          -111.85282172133374,
          -111.8547623103295,
          -111.8586435111368,
          -111.86640600396314,
          -111.87610929086678,
          -111.88581276741279,
          -111.89551643337187
         ],
         "marker": {
          "size": 10
         },
         "mode": "markers+lines",
         "name": "2022-06-16 00:00:00 UTC",
         "type": "scattermapbox"
        },
        {
         "customdata": [
          [
           0,
           1492,
           1441,
           51
          ],
          [
           25,
           1517,
           1442,
           75
          ],
          [
           50,
           1542,
           1437,
           105
          ],
          [
           75,
           1567,
           1434,
           133
          ],
          [
           100,
           1592,
           1432,
           160
          ],
          [
           150,
           1642,
           1414,
           228
          ],
          [
           200,
           1692,
           1399,
           293
          ],
          [
           300,
           1792,
           1379,
           413
          ],
          [
           400,
           1892,
           1374,
           518
          ],
          [
           600,
           2092,
           1359,
           733
          ],
          [
           1000,
           2492,
           1351,
           1141
          ],
          [
           1500,
           2992,
           1320,
           1672
          ],
          [
           2000,
           3492,
           1292,
           2200
          ],
          [
           2500,
           3992,
           1276,
           2716
          ]
         ],
         "hovertemplate": "<b>z above inst = %{customdata[0]:.0f}m </b><br><b>z above msl = %{customdata[1]:.0f}m </b><br><b>surface msl = %{customdata[2]:.0f}m </b><br><b>z above ground = %{customdata[3]:.0f}m </b><br>longitude: %{lon:.3f}<br>latitude: %{lat:.3f}<br>",
         "lat": [
          40.766,
          40.7661485085051,
          40.766297011679846,
          40.766445509524196,
          40.7665940020381,
          40.76689097107433,
          40.767187918788146,
          40.76778175024689,
          40.76837549641104,
          40.769562732842466,
          40.77193618202623,
          40.774901073837604,
          40.77786383230256,
          40.780824457012365
         ],
         "lon": [
          -111.847,
          -111.84778404172867,
          -111.84856808694795,
          -111.84935213565768,
          -111.85013618785781,
          -111.85170430272886,
          -111.85327243156037,
          -111.8564087311018,
          -111.85954508647625,
          -111.8658179647008,
          -111.8783643908886,
          -111.89404867890008,
          -111.90973436097934,
          -111.92542143639281
         ],
         "marker": {
          "size": 10
         },
         "mode": "markers+lines",
         "name": "2022-06-16 01:00:00 UTC",
         "type": "scattermapbox"
        },
        {
         "customdata": [
          [
           0,
           1492,
           1441,
           51
          ],
          [
           25,
           1517,
           1438,
           79
          ],
          [
           50,
           1542,
           1430,
           112
          ],
          [
           75,
           1567,
           1410,
           157
          ],
          [
           100,
           1592,
           1399,
           193
          ],
          [
           150,
           1642,
           1389,
           253
          ],
          [
           200,
           1692,
           1381,
           311
          ],
          [
           300,
           1792,
           1375,
           417
          ],
          [
           400,
           1892,
           1369,
           523
          ],
          [
           600,
           2092,
           1382,
           710
          ],
          [
           1000,
           2492,
           1279,
           1213
          ],
          [
           1500,
           2992,
           1284,
           1708
          ],
          [
           2000,
           3492,
           1286,
           2206
          ],
          [
           2500,
           3992,
           1269,
           2723
          ]
         ],
         "hovertemplate": "<b>z above inst = %{customdata[0]:.0f}m </b><br><b>z above msl = %{customdata[1]:.0f}m </b><br><b>surface msl = %{customdata[2]:.0f}m </b><br><b>z above ground = %{customdata[3]:.0f}m </b><br>longitude: %{lon:.3f}<br>latitude: %{lat:.3f}<br>",
         "lat": [
          40.76599999999999,
          40.76652800806582,
          40.767055992597456,
          40.76758395359412,
          40.76811189105499,
          40.76916769536618,
          40.7702234055246,
          40.77233454335745,
          40.77444530450221,
          40.77866569652206,
          40.787101958045454,
          40.79763880099581,
          40.80816621134111,
          40.81868418266426
         ],
         "lon": [
          -111.847,
          -111.84864632894303,
          -111.85029268394577,
          -111.85193906500794,
          -111.8535854721293,
          -111.85687836454848,
          -111.86017136120121,
          -111.86675766719891,
          -111.8733443901056,
          -111.88651908657842,
          -111.91287348168771,
          -111.94582585322651,
          -111.97878864237771,
          -112.01176184697862
         ],
         "marker": {
          "size": 10
         },
         "mode": "markers+lines",
         "name": "2022-06-16 02:00:00 UTC",
         "type": "scattermapbox"
        },
        {
         "customdata": [
          [
           0,
           1492,
           1441,
           51
          ],
          [
           25,
           1517,
           1748,
           -231
          ],
          [
           50,
           1542,
           1900,
           -358
          ],
          [
           75,
           1567,
           2291,
           -724
          ],
          [
           100,
           1592,
           2164,
           -572
          ],
          [
           150,
           1642,
           2051,
           -409
          ],
          [
           200,
           1692,
           2130,
           -438
          ],
          [
           300,
           1792,
           1956,
           -164
          ],
          [
           400,
           1892,
           2024,
           -132
          ],
          [
           600,
           2092,
           2202,
           -110
          ],
          [
           1000,
           2492,
           1988,
           504
          ],
          [
           1500,
           2992,
           2061,
           931
          ],
          [
           2000,
           3492,
           null,
           null
          ],
          [
           2500,
           3992,
           null,
           null
          ]
         ],
         "hovertemplate": "<b>z above inst = %{customdata[0]:.0f}m </b><br><b>z above msl = %{customdata[1]:.0f}m </b><br><b>surface msl = %{customdata[2]:.0f}m </b><br><b>z above ground = %{customdata[3]:.0f}m </b><br>longitude: %{lon:.3f}<br>latitude: %{lat:.3f}<br>",
         "lat": [
          40.766,
          40.78362088768161,
          40.80122946793097,
          40.81882572677241,
          40.83640965022069,
          40.87154043494935,
          40.90662171004521,
          40.97663528229498,
          41.04644946737766,
          41.18547606571225,
          41.46109677069533,
          41.800986307085154,
          42.13561664836544,
          42.4648711330685
         ],
         "lon": [
          -111.847,
          -111.80940635580976,
          -111.7717928421375,
          -111.73415944999188,
          -111.69650617041364,
          -111.62113991328339,
          -111.54569399971888,
          -111.39456292178566,
          -111.24311237888834,
          -110.93925071010504,
          -110.32767021666794,
          -109.55592101912498,
          -108.77603598627725,
          -107.98796323075668
         ],
         "marker": {
          "size": 10
         },
         "mode": "markers+lines",
         "name": "2022-06-16 12:00:00 UTC",
         "type": "scattermapbox"
        },
        {
         "customdata": [
          [
           0,
           1492,
           1441,
           51
          ],
          [
           25,
           1517,
           1453,
           64
          ],
          [
           50,
           1542,
           1456,
           86
          ],
          [
           75,
           1567,
           1466,
           101
          ],
          [
           100,
           1592,
           1472,
           120
          ],
          [
           150,
           1642,
           1485,
           157
          ],
          [
           200,
           1692,
           1517,
           175
          ],
          [
           300,
           1792,
           1636,
           156
          ],
          [
           400,
           1892,
           1611,
           281
          ],
          [
           600,
           2092,
           1666,
           426
          ],
          [
           1000,
           2492,
           1975,
           517
          ],
          [
           1500,
           2992,
           2171,
           821
          ],
          [
           2000,
           3492,
           2025,
           1467
          ],
          [
           2500,
           3992,
           2105,
           1887
          ]
         ],
         "hovertemplate": "<b>z above inst = %{customdata[0]:.0f}m </b><br><b>z above msl = %{customdata[1]:.0f}m </b><br><b>surface msl = %{customdata[2]:.0f}m </b><br><b>z above ground = %{customdata[3]:.0f}m </b><br>longitude: %{lon:.3f}<br>latitude: %{lat:.3f}<br>",
         "lat": [
          40.766,
          40.766479429085415,
          40.766958837630966,
          40.767438225636,
          40.76791759309988,
          40.76887626640165,
          40.76983485753119,
          40.77175179325321,
          40.77366840022527,
          40.77750062775673,
          40.78516113602958,
          40.79472936778244,
          40.80428936857956,
          40.81384113333578
         ],
         "lon": [
          -111.847,
          -111.8454618765986,
          -111.84392373109037,
          -111.84238556347552,
          -111.84084737375431,
          -111.83777092799386,
          -111.83469439381103,
          -111.8285410601865,
          -111.82238737289697,
          -111.81007893738841,
          -111.78545782311228,
          -111.75467347551493,
          -111.72388029123604,
          -111.69307827235973
         ],
         "marker": {
          "size": 10
         },
         "mode": "markers+lines",
         "name": "2022-06-16 13:00:00 UTC",
         "type": "scattermapbox"
        },
        {
         "customdata": [
          [
           0,
           1492,
           1441,
           51
          ],
          [
           25,
           1517,
           1448,
           69
          ],
          [
           50,
           1542,
           1453,
           89
          ],
          [
           75,
           1567,
           1455,
           112
          ],
          [
           100,
           1592,
           1458,
           134
          ],
          [
           150,
           1642,
           1463,
           179
          ],
          [
           200,
           1692,
           1471,
           221
          ],
          [
           300,
           1792,
           1476,
           316
          ],
          [
           400,
           1892,
           1496,
           396
          ],
          [
           600,
           2092,
           1548,
           544
          ],
          [
           1000,
           2492,
           1643,
           849
          ],
          [
           1500,
           2992,
           2032,
           960
          ],
          [
           2000,
           3492,
           2143,
           1349
          ],
          [
           2500,
           3992,
           1918,
           2074
          ]
         ],
         "hovertemplate": "<b>z above inst = %{customdata[0]:.0f}m </b><br><b>z above msl = %{customdata[1]:.0f}m </b><br><b>surface msl = %{customdata[2]:.0f}m </b><br><b>z above ground = %{customdata[3]:.0f}m </b><br>longitude: %{lon:.3f}<br>latitude: %{lat:.3f}<br>",
         "lat": [
          40.766,
          40.76613723980374,
          40.76627447465322,
          40.76641170454842,
          40.766548929489275,
          40.7668233645078,
          40.76709777970844,
          40.7676465506547,
          40.76819524232523,
          40.769292387827846,
          40.77148572740062,
          40.774225617698846,
          40.776963525260655,
          40.77969944973503
         ],
         "lon": [
          -111.847,
          -111.84624410222567,
          -111.84548820134142,
          -111.84473229734736,
          -111.84397639024354,
          -111.842464566707,
          -111.84095273073247,
          -111.83792902147219,
          -111.83490526246811,
          -111.82885759525016,
          -111.8167616641263,
          -111.80164063187776,
          -111.78651835765636,
          -111.77139484213903
         ],
         "marker": {
          "size": 10
         },
         "mode": "markers+lines",
         "name": "2022-06-16 14:00:00 UTC",
         "type": "scattermapbox"
        },
        {
         "customdata": [
          [
           0,
           1492,
           1441,
           51
          ],
          [
           25,
           1517,
           1441,
           76
          ],
          [
           50,
           1542,
           1448,
           94
          ],
          [
           75,
           1567,
           1453,
           114
          ],
          [
           100,
           1592,
           1454,
           138
          ],
          [
           150,
           1642,
           1461,
           181
          ],
          [
           200,
           1692,
           1460,
           232
          ],
          [
           300,
           1792,
           1460,
           332
          ],
          [
           400,
           1892,
           1466,
           426
          ],
          [
           600,
           2092,
           1492,
           600
          ],
          [
           1000,
           2492,
           1521,
           971
          ],
          [
           1500,
           2992,
           1643,
           1349
          ],
          [
           2000,
           3492,
           1866,
           1626
          ],
          [
           2500,
           3992,
           2119,
           1873
          ]
         ],
         "hovertemplate": "<b>z above inst = %{customdata[0]:.0f}m </b><br><b>z above msl = %{customdata[1]:.0f}m </b><br><b>surface msl = %{customdata[2]:.0f}m </b><br><b>z above ground = %{customdata[3]:.0f}m </b><br>longitude: %{lon:.3f}<br>latitude: %{lat:.3f}<br>",
         "lat": [
          40.766,
          40.76602813295694,
          40.76605626398745,
          40.76608439309153,
          40.766112520269175,
          40.76616876884513,
          40.7662250097153,
          40.766337468338165,
          40.766449896137544,
          40.76667465926492,
          40.76712381562795,
          40.76768456751621,
          40.76824454875008,
          40.76880375930161
         ],
         "lon": [
          -111.847,
          -111.8465285022995,
          -111.84605700420138,
          -111.84558550570564,
          -111.84511400681232,
          -111.84417100783301,
          -111.84322800726366,
          -111.84134200135573,
          -111.8394559890902,
          -111.83568394549313,
          -111.82813978208257,
          -111.81870943505346,
          -111.80927892959348,
          -111.79984826591473
         ],
         "marker": {
          "size": 10
         },
         "mode": "markers+lines",
         "name": "2022-06-16 15:00:00 UTC",
         "type": "scattermapbox"
        },
        {
         "customdata": [
          [
           0,
           1492,
           1441,
           51
          ],
          [
           25,
           1517,
           1441,
           76
          ],
          [
           50,
           1542,
           1443,
           99
          ],
          [
           75,
           1567,
           1446,
           121
          ],
          [
           100,
           1592,
           1448,
           144
          ],
          [
           150,
           1642,
           1453,
           189
          ],
          [
           200,
           1692,
           1455,
           237
          ],
          [
           300,
           1792,
           1459,
           333
          ],
          [
           400,
           1892,
           1460,
           432
          ],
          [
           600,
           2092,
           1468,
           624
          ],
          [
           1000,
           2492,
           1496,
           996
          ],
          [
           1500,
           2992,
           1516,
           1476
          ],
          [
           2000,
           3492,
           1558,
           1934
          ],
          [
           2500,
           3992,
           1689,
           2303
          ]
         ],
         "hovertemplate": "<b>z above inst = %{customdata[0]:.0f}m </b><br><b>z above msl = %{customdata[1]:.0f}m </b><br><b>surface msl = %{customdata[2]:.0f}m </b><br><b>z above ground = %{customdata[3]:.0f}m </b><br>longitude: %{lon:.3f}<br>latitude: %{lat:.3f}<br>",
         "lat": [
          40.766,
          40.76597755575987,
          40.765955110676884,
          40.76593266475105,
          40.76591021798236,
          40.76586532191643,
          40.765820422479095,
          40.7657306134903,
          40.76564079101604,
          40.76546110561143,
          40.765101572980086,
          40.76465185378091,
          40.76420179746866,
          40.76375140405315
         ],
         "lon": [
          -111.847,
          -111.84668813060297,
          -111.8463762614158,
          -111.84606439243848,
          -111.84575252367102,
          -111.8451287867657,
          -111.84450505069991,
          -111.84325758108713,
          -111.84201011483319,
          -111.83951519240374,
          -111.83452538787212,
          -111.8282882078612,
          -111.8220511119664,
          -111.81581410024825
         ],
         "marker": {
          "size": 10
         },
         "mode": "markers+lines",
         "name": "2022-06-16 16:00:00 UTC",
         "type": "scattermapbox"
        },
        {
         "customdata": [
          [
           0,
           1492,
           1441,
           51
          ],
          [
           25,
           1517,
           1442,
           75
          ],
          [
           50,
           1542,
           1442,
           100
          ],
          [
           75,
           1567,
           1443,
           124
          ],
          [
           100,
           1592,
           1446,
           146
          ],
          [
           150,
           1642,
           1448,
           194
          ],
          [
           200,
           1692,
           1452,
           240
          ],
          [
           300,
           1792,
           1453,
           339
          ],
          [
           400,
           1892,
           1448,
           444
          ],
          [
           600,
           2092,
           1461,
           631
          ],
          [
           1000,
           2492,
           1462,
           1030
          ],
          [
           1500,
           2992,
           1481,
           1511
          ],
          [
           2000,
           3492,
           1486,
           2006
          ],
          [
           2500,
           3992,
           1506,
           2486
          ]
         ],
         "hovertemplate": "<b>z above inst = %{customdata[0]:.0f}m </b><br><b>z above msl = %{customdata[1]:.0f}m </b><br><b>surface msl = %{customdata[2]:.0f}m </b><br><b>z above ground = %{customdata[3]:.0f}m </b><br>longitude: %{lon:.3f}<br>latitude: %{lat:.3f}<br>",
         "lat": [
          40.766000000000005,
          40.76595073332955,
          40.76590146630848,
          40.76585219893679,
          40.765802931214516,
          40.76570439471815,
          40.76560585681938,
          40.765408776814645,
          40.765211691200406,
          40.76481750314366,
          40.76402905971914,
          40.7630433792362,
          40.762057558536824,
          40.76107159762994
         ],
         "lon": [
          -111.847,
          -111.8467989667617,
          -111.84659793382032,
          -111.84639690117585,
          -111.8461958688283,
          -111.84579380502397,
          -111.84539174240732,
          -111.84458762073707,
          -111.84378350381769,
          -111.84217528423173,
          -111.83895890207316,
          -111.83493853128107,
          -111.8309182792822,
          -111.82689814608578
         ],
         "marker": {
          "size": 10
         },
         "mode": "markers+lines",
         "name": "2022-06-16 17:00:00 UTC",
         "type": "scattermapbox"
        },
        {
         "customdata": [
          [
           0,
           1492,
           1441,
           51
          ],
          [
           25,
           1517,
           1440,
           77
          ],
          [
           50,
           1542,
           1442,
           100
          ],
          [
           75,
           1567,
           1442,
           125
          ],
          [
           100,
           1592,
           1442,
           150
          ],
          [
           150,
           1642,
           1448,
           194
          ],
          [
           200,
           1692,
           1449,
           243
          ],
          [
           300,
           1792,
           1455,
           337
          ],
          [
           400,
           1892,
           1451,
           441
          ],
          [
           600,
           2092,
           1450,
           642
          ],
          [
           1000,
           2492,
           1457,
           1035
          ],
          [
           1500,
           2992,
           1459,
           1533
          ],
          [
           2000,
           3492,
           1478,
           2014
          ],
          [
           2500,
           3992,
           1464,
           2528
          ]
         ],
         "hovertemplate": "<b>z above inst = %{customdata[0]:.0f}m </b><br><b>z above msl = %{customdata[1]:.0f}m </b><br><b>surface msl = %{customdata[2]:.0f}m </b><br><b>z above ground = %{customdata[3]:.0f}m </b><br>longitude: %{lon:.3f}<br>latitude: %{lat:.3f}<br>",
         "lat": [
          40.766,
          40.76593640241459,
          40.76587280471815,
          40.7658092069107,
          40.76574560899223,
          40.765618412822256,
          40.76549121620821,
          40.76523682164798,
          40.76498242531157,
          40.76447362731031,
          40.763456009994854,
          40.76218394839116,
          40.760911842391586,
          40.75963969199974
         ],
         "lon": [
          -111.847,
          -111.84688716773024,
          -111.84677433567562,
          -111.84666150383612,
          -111.84654867221172,
          -111.8463230096083,
          -111.84609734786537,
          -111.84564602696089,
          -111.84519470949826,
          -111.84429208489843,
          -111.84248687699947,
          -111.84023044456188,
          -111.83797409816053,
          -111.83571783779128
         ],
         "marker": {
          "size": 10
         },
         "mode": "markers+lines",
         "name": "2022-06-16 18:00:00 UTC",
         "type": "scattermapbox"
        },
        {
         "customdata": [
          [
           0,
           1492,
           1441,
           51
          ],
          [
           25,
           1517,
           1440,
           77
          ],
          [
           50,
           1542,
           1440,
           102
          ],
          [
           75,
           1567,
           1440,
           127
          ],
          [
           100,
           1592,
           1440,
           152
          ],
          [
           150,
           1642,
           1447,
           195
          ],
          [
           200,
           1692,
           1447,
           245
          ],
          [
           300,
           1792,
           1450,
           342
          ],
          [
           400,
           1892,
           1448,
           444
          ],
          [
           600,
           2092,
           1446,
           646
          ],
          [
           1000,
           2492,
           1436,
           1056
          ],
          [
           1500,
           2992,
           1447,
           1545
          ],
          [
           2000,
           3492,
           1441,
           2051
          ],
          [
           2500,
           3992,
           1441,
           2551
          ]
         ],
         "hovertemplate": "<b>z above inst = %{customdata[0]:.0f}m </b><br><b>z above msl = %{customdata[1]:.0f}m </b><br><b>surface msl = %{customdata[2]:.0f}m </b><br><b>z above ground = %{customdata[3]:.0f}m </b><br>longitude: %{lon:.3f}<br>latitude: %{lat:.3f}<br>",
         "lat": [
          40.766,
          40.765930146402745,
          40.76586029279399,
          40.76579043917372,
          40.765720585541956,
          40.765580878243895,
          40.76544117089982,
          40.765161756073596,
          40.764882341063284,
          40.764323510490414,
          40.763205847135794,
          40.761808763801106,
          40.76041167586519,
          40.75901458332846
         ],
         "lon": [
          -111.847,
          -111.8469649289063,
          -111.84692985788605,
          -111.84689478693923,
          -111.84685971606586,
          -111.84678957453946,
          -111.8467194333068,
          -111.84657915172278,
          -111.8464388713138,
          -111.84615831402077,
          -111.84559721353409,
          -111.84489586436032,
          -111.84419454455589,
          -111.8434932541182
         ],
         "marker": {
          "size": 10
         },
         "mode": "markers+lines",
         "name": "2022-06-16 19:00:00 UTC",
         "type": "scattermapbox"
        },
        {
         "customdata": [
          [
           0,
           1492,
           1441,
           51
          ],
          [
           25,
           1517,
           1440,
           77
          ],
          [
           50,
           1542,
           1440,
           102
          ],
          [
           75,
           1567,
           1441,
           126
          ],
          [
           100,
           1592,
           1441,
           151
          ],
          [
           150,
           1642,
           1443,
           199
          ],
          [
           200,
           1692,
           1443,
           249
          ],
          [
           300,
           1792,
           1441,
           351
          ],
          [
           400,
           1892,
           1440,
           452
          ],
          [
           600,
           2092,
           1432,
           660
          ],
          [
           1000,
           2492,
           1433,
           1059
          ],
          [
           1500,
           2992,
           1430,
           1562
          ],
          [
           2000,
           3492,
           1415,
           2077
          ],
          [
           2500,
           3992,
           1414,
           2578
          ]
         ],
         "hovertemplate": "<b>z above inst = %{customdata[0]:.0f}m </b><br><b>z above msl = %{customdata[1]:.0f}m </b><br><b>surface msl = %{customdata[2]:.0f}m </b><br><b>z above ground = %{customdata[3]:.0f}m </b><br>longitude: %{lon:.3f}<br>latitude: %{lat:.3f}<br>",
         "lat": [
          40.766000000000005,
          40.76593034462604,
          40.76586068923757,
          40.765791033834574,
          40.76572137841706,
          40.76558206753848,
          40.76544275660183,
          40.76516413455432,
          40.76488551227451,
          40.76432826701806,
          40.76321377371792,
          40.761820651867005,
          40.76042752421014,
          40.75903439074783
         ],
         "lon": [
          -111.847,
          -111.84703972676684,
          -111.84707945345072,
          -111.84711918005164,
          -111.8471589065696,
          -111.8472383593567,
          -111.84731781181195,
          -111.84747671572704,
          -111.8476356183149,
          -111.84795341950903,
          -111.84858900597153,
          -111.84938345919082,
          -111.8501778792363,
          -111.85097226611086
         ],
         "marker": {
          "size": 10
         },
         "mode": "markers+lines",
         "name": "2022-06-16 20:00:00 UTC",
         "type": "scattermapbox"
        },
        {
         "customdata": [
          [
           0,
           1492,
           1441,
           51
          ],
          [
           25,
           1517,
           1441,
           76
          ],
          [
           50,
           1542,
           1441,
           101
          ],
          [
           75,
           1567,
           1441,
           126
          ],
          [
           100,
           1592,
           1443,
           149
          ],
          [
           150,
           1642,
           1441,
           201
          ],
          [
           200,
           1692,
           1442,
           250
          ],
          [
           300,
           1792,
           1440,
           352
          ],
          [
           400,
           1892,
           1432,
           460
          ],
          [
           600,
           2092,
           1432,
           660
          ],
          [
           1000,
           2492,
           1415,
           1077
          ],
          [
           1500,
           2992,
           1391,
           1601
          ],
          [
           2000,
           3492,
           1390,
           2102
          ],
          [
           2500,
           3992,
           1380,
           2612
          ]
         ],
         "hovertemplate": "<b>z above inst = %{customdata[0]:.0f}m </b><br><b>z above msl = %{customdata[1]:.0f}m </b><br><b>surface msl = %{customdata[2]:.0f}m </b><br><b>z above ground = %{customdata[3]:.0f}m </b><br>longitude: %{lon:.3f}<br>latitude: %{lat:.3f}<br>",
         "lat": [
          40.766,
          40.765937044830586,
          40.76587408954007,
          40.76581113412845,
          40.76574817859572,
          40.76562226716696,
          40.765496355253816,
          40.765244529974304,
          40.76499270275722,
          40.76448904251047,
          40.76348169876753,
          40.7622224754987,
          40.76096320380006,
          40.759703883675506
         ],
         "lon": [
          -111.847,
          -111.84711788501463,
          -111.84723576980679,
          -111.84735365437645,
          -111.84747153872364,
          -111.84770730675056,
          -111.84794307388755,
          -111.84841460549178,
          -111.84888613353635,
          -111.8498291789466,
          -111.85171522705255,
          -111.8540727070977,
          -111.85643009816064,
          -111.85878740024529
         ],
         "marker": {
          "size": 10
         },
         "mode": "markers+lines",
         "name": "2022-06-16 21:00:00 UTC",
         "type": "scattermapbox"
        },
        {
         "customdata": [
          [
           0,
           1492,
           1441,
           51
          ],
          [
           25,
           1517,
           1441,
           76
          ],
          [
           50,
           1542,
           1443,
           99
          ],
          [
           75,
           1567,
           1443,
           124
          ],
          [
           100,
           1592,
           1443,
           149
          ],
          [
           150,
           1642,
           1437,
           205
          ],
          [
           200,
           1692,
           1435,
           257
          ],
          [
           300,
           1792,
           1426,
           366
          ],
          [
           400,
           1892,
           1424,
           468
          ],
          [
           600,
           2092,
           1414,
           678
          ],
          [
           1000,
           2492,
           1394,
           1098
          ],
          [
           1500,
           2992,
           1363,
           1629
          ],
          [
           2000,
           3492,
           1344,
           2148
          ],
          [
           2500,
           3992,
           1328,
           2664
          ]
         ],
         "hovertemplate": "<b>z above inst = %{customdata[0]:.0f}m </b><br><b>z above msl = %{customdata[1]:.0f}m </b><br><b>surface msl = %{customdata[2]:.0f}m </b><br><b>z above ground = %{customdata[3]:.0f}m </b><br>longitude: %{lon:.3f}<br>latitude: %{lat:.3f}<br>",
         "lat": [
          40.766,
          40.765951993225954,
          40.765903986080076,
          40.765855978562385,
          40.76580797067287,
          40.765711953778364,
          40.76561593539659,
          40.76542389417125,
          40.76523184699691,
          40.76484773480155,
          40.76407943902611,
          40.763118935466665,
          40.76215828320449,
          40.761197482248846
         ],
         "lon": [
          -111.847,
          -111.84720703996538,
          -111.8474140796328,
          -111.84762111900224,
          -111.84782815807372,
          -111.84824223532276,
          -111.84865631137991,
          -111.84948445991849,
          -111.85031260368935,
          -111.8519688769276,
          -111.85528136618775,
          -111.85942187047502,
          -111.86356225554321,
          -111.86770252138143
         ],
         "marker": {
          "size": 10
         },
         "mode": "markers+lines",
         "name": "2022-06-16 22:00:00 UTC",
         "type": "scattermapbox"
        },
        {
         "customdata": [
          [
           0,
           1492,
           1441,
           51
          ],
          [
           25,
           1517,
           1442,
           75
          ],
          [
           50,
           1542,
           1443,
           99
          ],
          [
           75,
           1567,
           1441,
           126
          ],
          [
           100,
           1592,
           1437,
           155
          ],
          [
           150,
           1642,
           1431,
           211
          ],
          [
           200,
           1692,
           1431,
           261
          ],
          [
           300,
           1792,
           1425,
           367
          ],
          [
           400,
           1892,
           1413,
           479
          ],
          [
           600,
           2092,
           1397,
           695
          ],
          [
           1000,
           2492,
           1361,
           1131
          ],
          [
           1500,
           2992,
           1343,
           1649
          ],
          [
           2000,
           3492,
           1327,
           2165
          ],
          [
           2500,
           3992,
           1313,
           2679
          ]
         ],
         "hovertemplate": "<b>z above inst = %{customdata[0]:.0f}m </b><br><b>z above msl = %{customdata[1]:.0f}m </b><br><b>surface msl = %{customdata[2]:.0f}m </b><br><b>z above ground = %{customdata[3]:.0f}m </b><br>longitude: %{lon:.3f}<br>latitude: %{lat:.3f}<br>",
         "lat": [
          40.766000000000005,
          40.765979862637266,
          40.76595972438789,
          40.7659395852519,
          40.76591944522929,
          40.765879162524215,
          40.765838876272646,
          40.76575829313017,
          40.76567769580191,
          40.76551645858838,
          40.76519381393529,
          40.76479018895126,
          40.76438620934513,
          40.76398187512616
         ],
         "lon": [
          -111.847,
          -111.84731986832189,
          -111.84763973645067,
          -111.84795960438635,
          -111.8482794721289,
          -111.8489192070346,
          -111.84955894116773,
          -111.85083840711596,
          -111.85211786997304,
          -111.85467678641174,
          -111.85979458217234,
          -111.86619175723558,
          -111.87258885486226,
          -111.8789858749864
         ],
         "marker": {
          "size": 10
         },
         "mode": "markers+lines",
         "name": "2022-06-16 23:00:00 UTC",
         "type": "scattermapbox"
        },
        {
         "customdata": [
          [
           0,
           1492,
           1441,
           51
          ],
          [
           25,
           1517,
           1443,
           74
          ],
          [
           50,
           1542,
           1440,
           102
          ],
          [
           75,
           1567,
           1437,
           130
          ],
          [
           100,
           1592,
           1434,
           158
          ],
          [
           150,
           1642,
           1433,
           209
          ],
          [
           200,
           1692,
           1426,
           266
          ],
          [
           300,
           1792,
           1413,
           379
          ],
          [
           400,
           1892,
           1393,
           499
          ],
          [
           600,
           2092,
           1378,
           714
          ],
          [
           1000,
           2492,
           1348,
           1144
          ],
          [
           1500,
           2992,
           1336,
           1656
          ],
          [
           2000,
           3492,
           1326,
           2166
          ],
          [
           2500,
           3992,
           1327,
           2665
          ]
         ],
         "hovertemplate": "<b>z above inst = %{customdata[0]:.0f}m </b><br><b>z above msl = %{customdata[1]:.0f}m </b><br><b>surface msl = %{customdata[2]:.0f}m </b><br><b>z above ground = %{customdata[3]:.0f}m </b><br>longitude: %{lon:.3f}<br>latitude: %{lat:.3f}<br>",
         "lat": [
          40.766,
          40.76603263604395,
          40.76606527005785,
          40.76609790204171,
          40.76613053199549,
          40.76619578581288,
          40.76626103150998,
          40.766391498543165,
          40.766521933094786,
          40.766782704752245,
          40.76730385827633,
          40.76795456930103,
          40.76860446820449,
          40.76925355495258
         ],
         "lon": [
          -111.847,
          -111.84748400752889,
          -111.84796801553134,
          -111.84845202400726,
          -111.84893603295667,
          -111.84990405227579,
          -111.85087207348846,
          -111.85280812159353,
          -111.85474417727008,
          -111.85861631133028,
          -111.86636067022819,
          -111.87604128890816,
          -111.8857220963285,
          -111.89540309226152
         ],
         "marker": {
          "size": 10
         },
         "mode": "markers+lines",
         "name": "2022-06-17 00:00:00 UTC",
         "type": "scattermapbox"
        }
       ],
       "layout": {
        "height": 400,
        "hovermode": "closest",
        "mapbox": {
         "bearing": 0,
         "center": {
          "lat": 40.766,
          "lon": -111.847
         },
         "layers": [
          {
           "below": "traces",
           "source": [
            "https://basemap.nationalmap.gov/arcgis/rest/services/USGSImageryOnly/MapServer/tile/{z}/{y}/{x}"
           ],
           "sourceattribution": "United States Geological Survey",
           "sourcetype": "raster"
          },
          {
           "source": [
            "https://geo.weather.gc.ca/geomet/?SERVICE=WMS&VERSION=1.3.0&REQUEST=GetMap&BBOX={bbox-epsg-3857}&CRS=EPSG:3857&WIDTH=1000&HEIGHT=1000&LAYERS=RADAR_1KM_RDBR&TILED=true&FORMAT=image/png"
           ],
           "sourceattribution": "Government of Canada",
           "sourcetype": "raster"
          }
         ],
         "pitch": 0,
         "style": "white-bg",
         "zoom": 8
        },
        "margin": {
         "b": 0,
         "l": 0,
         "r": 0,
         "t": 0
        },
        "showlegend": true,
        "template": {
         "data": {
          "bar": [
           {
            "error_x": {
             "color": "#2a3f5f"
            },
            "error_y": {
             "color": "#2a3f5f"
            },
            "marker": {
             "line": {
              "color": "#E5ECF6",
              "width": 0.5
             },
             "pattern": {
              "fillmode": "overlay",
              "size": 10,
              "solidity": 0.2
             }
            },
            "type": "bar"
           }
          ],
          "barpolar": [
           {
            "marker": {
             "line": {
              "color": "#E5ECF6",
              "width": 0.5
             },
             "pattern": {
              "fillmode": "overlay",
              "size": 10,
              "solidity": 0.2
             }
            },
            "type": "barpolar"
           }
          ],
          "carpet": [
           {
            "aaxis": {
             "endlinecolor": "#2a3f5f",
             "gridcolor": "white",
             "linecolor": "white",
             "minorgridcolor": "white",
             "startlinecolor": "#2a3f5f"
            },
            "baxis": {
             "endlinecolor": "#2a3f5f",
             "gridcolor": "white",
             "linecolor": "white",
             "minorgridcolor": "white",
             "startlinecolor": "#2a3f5f"
            },
            "type": "carpet"
           }
          ],
          "choropleth": [
           {
            "colorbar": {
             "outlinewidth": 0,
             "ticks": ""
            },
            "type": "choropleth"
           }
          ],
          "contour": [
           {
            "colorbar": {
             "outlinewidth": 0,
             "ticks": ""
            },
            "colorscale": [
             [
              0,
              "#0d0887"
             ],
             [
              0.1111111111111111,
              "#46039f"
             ],
             [
              0.2222222222222222,
              "#7201a8"
             ],
             [
              0.3333333333333333,
              "#9c179e"
             ],
             [
              0.4444444444444444,
              "#bd3786"
             ],
             [
              0.5555555555555556,
              "#d8576b"
             ],
             [
              0.6666666666666666,
              "#ed7953"
             ],
             [
              0.7777777777777778,
              "#fb9f3a"
             ],
             [
              0.8888888888888888,
              "#fdca26"
             ],
             [
              1,
              "#f0f921"
             ]
            ],
            "type": "contour"
           }
          ],
          "contourcarpet": [
           {
            "colorbar": {
             "outlinewidth": 0,
             "ticks": ""
            },
            "type": "contourcarpet"
           }
          ],
          "heatmap": [
           {
            "colorbar": {
             "outlinewidth": 0,
             "ticks": ""
            },
            "colorscale": [
             [
              0,
              "#0d0887"
             ],
             [
              0.1111111111111111,
              "#46039f"
             ],
             [
              0.2222222222222222,
              "#7201a8"
             ],
             [
              0.3333333333333333,
              "#9c179e"
             ],
             [
              0.4444444444444444,
              "#bd3786"
             ],
             [
              0.5555555555555556,
              "#d8576b"
             ],
             [
              0.6666666666666666,
              "#ed7953"
             ],
             [
              0.7777777777777778,
              "#fb9f3a"
             ],
             [
              0.8888888888888888,
              "#fdca26"
             ],
             [
              1,
              "#f0f921"
             ]
            ],
            "type": "heatmap"
           }
          ],
          "heatmapgl": [
           {
            "colorbar": {
             "outlinewidth": 0,
             "ticks": ""
            },
            "colorscale": [
             [
              0,
              "#0d0887"
             ],
             [
              0.1111111111111111,
              "#46039f"
             ],
             [
              0.2222222222222222,
              "#7201a8"
             ],
             [
              0.3333333333333333,
              "#9c179e"
             ],
             [
              0.4444444444444444,
              "#bd3786"
             ],
             [
              0.5555555555555556,
              "#d8576b"
             ],
             [
              0.6666666666666666,
              "#ed7953"
             ],
             [
              0.7777777777777778,
              "#fb9f3a"
             ],
             [
              0.8888888888888888,
              "#fdca26"
             ],
             [
              1,
              "#f0f921"
             ]
            ],
            "type": "heatmapgl"
           }
          ],
          "histogram": [
           {
            "marker": {
             "pattern": {
              "fillmode": "overlay",
              "size": 10,
              "solidity": 0.2
             }
            },
            "type": "histogram"
           }
          ],
          "histogram2d": [
           {
            "colorbar": {
             "outlinewidth": 0,
             "ticks": ""
            },
            "colorscale": [
             [
              0,
              "#0d0887"
             ],
             [
              0.1111111111111111,
              "#46039f"
             ],
             [
              0.2222222222222222,
              "#7201a8"
             ],
             [
              0.3333333333333333,
              "#9c179e"
             ],
             [
              0.4444444444444444,
              "#bd3786"
             ],
             [
              0.5555555555555556,
              "#d8576b"
             ],
             [
              0.6666666666666666,
              "#ed7953"
             ],
             [
              0.7777777777777778,
              "#fb9f3a"
             ],
             [
              0.8888888888888888,
              "#fdca26"
             ],
             [
              1,
              "#f0f921"
             ]
            ],
            "type": "histogram2d"
           }
          ],
          "histogram2dcontour": [
           {
            "colorbar": {
             "outlinewidth": 0,
             "ticks": ""
            },
            "colorscale": [
             [
              0,
              "#0d0887"
             ],
             [
              0.1111111111111111,
              "#46039f"
             ],
             [
              0.2222222222222222,
              "#7201a8"
             ],
             [
              0.3333333333333333,
              "#9c179e"
             ],
             [
              0.4444444444444444,
              "#bd3786"
             ],
             [
              0.5555555555555556,
              "#d8576b"
             ],
             [
              0.6666666666666666,
              "#ed7953"
             ],
             [
              0.7777777777777778,
              "#fb9f3a"
             ],
             [
              0.8888888888888888,
              "#fdca26"
             ],
             [
              1,
              "#f0f921"
             ]
            ],
            "type": "histogram2dcontour"
           }
          ],
          "mesh3d": [
           {
            "colorbar": {
             "outlinewidth": 0,
             "ticks": ""
            },
            "type": "mesh3d"
           }
          ],
          "parcoords": [
           {
            "line": {
             "colorbar": {
              "outlinewidth": 0,
              "ticks": ""
             }
            },
            "type": "parcoords"
           }
          ],
          "pie": [
           {
            "automargin": true,
            "type": "pie"
           }
          ],
          "scatter": [
           {
            "fillpattern": {
             "fillmode": "overlay",
             "size": 10,
             "solidity": 0.2
            },
            "type": "scatter"
           }
          ],
          "scatter3d": [
           {
            "line": {
             "colorbar": {
              "outlinewidth": 0,
              "ticks": ""
             }
            },
            "marker": {
             "colorbar": {
              "outlinewidth": 0,
              "ticks": ""
             }
            },
            "type": "scatter3d"
           }
          ],
          "scattercarpet": [
           {
            "marker": {
             "colorbar": {
              "outlinewidth": 0,
              "ticks": ""
             }
            },
            "type": "scattercarpet"
           }
          ],
          "scattergeo": [
           {
            "marker": {
             "colorbar": {
              "outlinewidth": 0,
              "ticks": ""
             }
            },
            "type": "scattergeo"
           }
          ],
          "scattergl": [
           {
            "marker": {
             "colorbar": {
              "outlinewidth": 0,
              "ticks": ""
             }
            },
            "type": "scattergl"
           }
          ],
          "scattermapbox": [
           {
            "marker": {
             "colorbar": {
              "outlinewidth": 0,
              "ticks": ""
             }
            },
            "type": "scattermapbox"
           }
          ],
          "scatterpolar": [
           {
            "marker": {
             "colorbar": {
              "outlinewidth": 0,
              "ticks": ""
             }
            },
            "type": "scatterpolar"
           }
          ],
          "scatterpolargl": [
           {
            "marker": {
             "colorbar": {
              "outlinewidth": 0,
              "ticks": ""
             }
            },
            "type": "scatterpolargl"
           }
          ],
          "scatterternary": [
           {
            "marker": {
             "colorbar": {
              "outlinewidth": 0,
              "ticks": ""
             }
            },
            "type": "scatterternary"
           }
          ],
          "surface": [
           {
            "colorbar": {
             "outlinewidth": 0,
             "ticks": ""
            },
            "colorscale": [
             [
              0,
              "#0d0887"
             ],
             [
              0.1111111111111111,
              "#46039f"
             ],
             [
              0.2222222222222222,
              "#7201a8"
             ],
             [
              0.3333333333333333,
              "#9c179e"
             ],
             [
              0.4444444444444444,
              "#bd3786"
             ],
             [
              0.5555555555555556,
              "#d8576b"
             ],
             [
              0.6666666666666666,
              "#ed7953"
             ],
             [
              0.7777777777777778,
              "#fb9f3a"
             ],
             [
              0.8888888888888888,
              "#fdca26"
             ],
             [
              1,
              "#f0f921"
             ]
            ],
            "type": "surface"
           }
          ],
          "table": [
           {
            "cells": {
             "fill": {
              "color": "#EBF0F8"
             },
             "line": {
              "color": "white"
             }
            },
            "header": {
             "fill": {
              "color": "#C8D4E3"
             },
             "line": {
              "color": "white"
             }
            },
            "type": "table"
           }
          ]
         },
         "layout": {
          "annotationdefaults": {
           "arrowcolor": "#2a3f5f",
           "arrowhead": 0,
           "arrowwidth": 1
          },
          "autotypenumbers": "strict",
          "coloraxis": {
           "colorbar": {
            "outlinewidth": 0,
            "ticks": ""
           }
          },
          "colorscale": {
           "diverging": [
            [
             0,
             "#8e0152"
            ],
            [
             0.1,
             "#c51b7d"
            ],
            [
             0.2,
             "#de77ae"
            ],
            [
             0.3,
             "#f1b6da"
            ],
            [
             0.4,
             "#fde0ef"
            ],
            [
             0.5,
             "#f7f7f7"
            ],
            [
             0.6,
             "#e6f5d0"
            ],
            [
             0.7,
             "#b8e186"
            ],
            [
             0.8,
             "#7fbc41"
            ],
            [
             0.9,
             "#4d9221"
            ],
            [
             1,
             "#276419"
            ]
           ],
           "sequential": [
            [
             0,
             "#0d0887"
            ],
            [
             0.1111111111111111,
             "#46039f"
            ],
            [
             0.2222222222222222,
             "#7201a8"
            ],
            [
             0.3333333333333333,
             "#9c179e"
            ],
            [
             0.4444444444444444,
             "#bd3786"
            ],
            [
             0.5555555555555556,
             "#d8576b"
            ],
            [
             0.6666666666666666,
             "#ed7953"
            ],
            [
             0.7777777777777778,
             "#fb9f3a"
            ],
            [
             0.8888888888888888,
             "#fdca26"
            ],
            [
             1,
             "#f0f921"
            ]
           ],
           "sequentialminus": [
            [
             0,
             "#0d0887"
            ],
            [
             0.1111111111111111,
             "#46039f"
            ],
            [
             0.2222222222222222,
             "#7201a8"
            ],
            [
             0.3333333333333333,
             "#9c179e"
            ],
            [
             0.4444444444444444,
             "#bd3786"
            ],
            [
             0.5555555555555556,
             "#d8576b"
            ],
            [
             0.6666666666666666,
             "#ed7953"
            ],
            [
             0.7777777777777778,
             "#fb9f3a"
            ],
            [
             0.8888888888888888,
             "#fdca26"
            ],
            [
             1,
             "#f0f921"
            ]
           ]
          },
          "colorway": [
           "#636efa",
           "#EF553B",
           "#00cc96",
           "#ab63fa",
           "#FFA15A",
           "#19d3f3",
           "#FF6692",
           "#B6E880",
           "#FF97FF",
           "#FECB52"
          ],
          "font": {
           "color": "#2a3f5f"
          },
          "geo": {
           "bgcolor": "white",
           "lakecolor": "white",
           "landcolor": "#E5ECF6",
           "showlakes": true,
           "showland": true,
           "subunitcolor": "white"
          },
          "hoverlabel": {
           "align": "left"
          },
          "hovermode": "closest",
          "mapbox": {
           "style": "light"
          },
          "paper_bgcolor": "white",
          "plot_bgcolor": "#E5ECF6",
          "polar": {
           "angularaxis": {
            "gridcolor": "white",
            "linecolor": "white",
            "ticks": ""
           },
           "bgcolor": "#E5ECF6",
           "radialaxis": {
            "gridcolor": "white",
            "linecolor": "white",
            "ticks": ""
           }
          },
          "scene": {
           "xaxis": {
            "backgroundcolor": "#E5ECF6",
            "gridcolor": "white",
            "gridwidth": 2,
            "linecolor": "white",
            "showbackground": true,
            "ticks": "",
            "zerolinecolor": "white"
           },
           "yaxis": {
            "backgroundcolor": "#E5ECF6",
            "gridcolor": "white",
            "gridwidth": 2,
            "linecolor": "white",
            "showbackground": true,
            "ticks": "",
            "zerolinecolor": "white"
           },
           "zaxis": {
            "backgroundcolor": "#E5ECF6",
            "gridcolor": "white",
            "gridwidth": 2,
            "linecolor": "white",
            "showbackground": true,
            "ticks": "",
            "zerolinecolor": "white"
           }
          },
          "shapedefaults": {
           "line": {
            "color": "#2a3f5f"
           }
          },
          "ternary": {
           "aaxis": {
            "gridcolor": "white",
            "linecolor": "white",
            "ticks": ""
           },
           "baxis": {
            "gridcolor": "white",
            "linecolor": "white",
            "ticks": ""
           },
           "bgcolor": "#E5ECF6",
           "caxis": {
            "gridcolor": "white",
            "linecolor": "white",
            "ticks": ""
           }
          },
          "title": {
           "x": 0.05
          },
          "xaxis": {
           "automargin": true,
           "gridcolor": "white",
           "linecolor": "white",
           "ticks": "",
           "title": {
            "standoff": 15
           },
           "zerolinecolor": "white",
           "zerolinewidth": 2
          },
          "yaxis": {
           "automargin": true,
           "gridcolor": "white",
           "linecolor": "white",
           "ticks": "",
           "title": {
            "standoff": 15
           },
           "zerolinecolor": "white",
           "zerolinewidth": 2
          }
         }
        }
       }
      },
      "text/html": [
       "<div>                            <div id=\"32349fcd-968a-4964-8b39-5d9729d0a749\" class=\"plotly-graph-div\" style=\"height:400px; width:100%;\"></div>            <script type=\"text/javascript\">                require([\"plotly\"], function(Plotly) {                    window.PLOTLYENV=window.PLOTLYENV || {};                                    if (document.getElementById(\"32349fcd-968a-4964-8b39-5d9729d0a749\")) {                    Plotly.newPlot(                        \"32349fcd-968a-4964-8b39-5d9729d0a749\",                        [{\"customdata\":[[0.0,1492.0,1441.0,51.0],[25.0,1517.0,1443.0,74.0],[50.0,1542.0,1440.0,102.0],[75.0,1567.0,1437.0,130.0],[100.0,1592.0,1434.0,158.0],[150.0,1642.0,1433.0,209.0],[200.0,1692.0,1426.0,266.0],[300.0,1792.0,1413.0,379.0],[400.0,1892.0,1393.0,499.0],[600.0,2092.0,1378.0,714.0],[1000.0,2492.0,1348.0,1144.0],[1500.0,2992.0,1336.0,1656.0],[2000.0,3492.0,1326.0,2166.0],[2500.0,3992.0,1328.0,2664.0]],\"hovertemplate\":\"<b>z above inst = %{customdata[0]:.0f}m </b><br><b>z above msl = %{customdata[1]:.0f}m </b><br><b>surface msl = %{customdata[2]:.0f}m </b><br><b>z above ground = %{customdata[3]:.0f}m </b><br>longitude: %{lon:.3f}<br>latitude: %{lat:.3f}<br>\",\"lat\":[40.76599999999999,40.76603271567257,40.76606542930559,40.76609814089903,40.766130850452896,40.76619626344188,40.76626166827249,40.7663924534585,40.76652320601067,40.76678461321231,40.76730703599719,40.767959330171,40.76861080841572,40.769261470696954],\"lon\":[-111.847,-111.84748514082811,-111.84797028213204,-111.84845542391173,-111.84894056616716,-111.84991085210511,-111.85088113994568,-111.85282172133374,-111.8547623103295,-111.8586435111368,-111.86640600396314,-111.87610929086678,-111.88581276741279,-111.89551643337187],\"marker\":{\"size\":10},\"mode\":\"markers+lines\",\"name\":\"2022-06-16 00:00:00 UTC\",\"type\":\"scattermapbox\"},{\"customdata\":[[0.0,1492.0,1441.0,51.0],[25.0,1517.0,1442.0,75.0],[50.0,1542.0,1437.0,105.0],[75.0,1567.0,1434.0,133.0],[100.0,1592.0,1432.0,160.0],[150.0,1642.0,1414.0,228.0],[200.0,1692.0,1399.0,293.0],[300.0,1792.0,1379.0,413.0],[400.0,1892.0,1374.0,518.0],[600.0,2092.0,1359.0,733.0],[1000.0,2492.0,1351.0,1141.0],[1500.0,2992.0,1320.0,1672.0],[2000.0,3492.0,1292.0,2200.0],[2500.0,3992.0,1276.0,2716.0]],\"hovertemplate\":\"<b>z above inst = %{customdata[0]:.0f}m </b><br><b>z above msl = %{customdata[1]:.0f}m </b><br><b>surface msl = %{customdata[2]:.0f}m </b><br><b>z above ground = %{customdata[3]:.0f}m </b><br>longitude: %{lon:.3f}<br>latitude: %{lat:.3f}<br>\",\"lat\":[40.766,40.7661485085051,40.766297011679846,40.766445509524196,40.7665940020381,40.76689097107433,40.767187918788146,40.76778175024689,40.76837549641104,40.769562732842466,40.77193618202623,40.774901073837604,40.77786383230256,40.780824457012365],\"lon\":[-111.847,-111.84778404172867,-111.84856808694795,-111.84935213565768,-111.85013618785781,-111.85170430272886,-111.85327243156037,-111.8564087311018,-111.85954508647625,-111.8658179647008,-111.8783643908886,-111.89404867890008,-111.90973436097934,-111.92542143639281],\"marker\":{\"size\":10},\"mode\":\"markers+lines\",\"name\":\"2022-06-16 01:00:00 UTC\",\"type\":\"scattermapbox\"},{\"customdata\":[[0.0,1492.0,1441.0,51.0],[25.0,1517.0,1438.0,79.0],[50.0,1542.0,1430.0,112.0],[75.0,1567.0,1410.0,157.0],[100.0,1592.0,1399.0,193.0],[150.0,1642.0,1389.0,253.0],[200.0,1692.0,1381.0,311.0],[300.0,1792.0,1375.0,417.0],[400.0,1892.0,1369.0,523.0],[600.0,2092.0,1382.0,710.0],[1000.0,2492.0,1279.0,1213.0],[1500.0,2992.0,1284.0,1708.0],[2000.0,3492.0,1286.0,2206.0],[2500.0,3992.0,1269.0,2723.0]],\"hovertemplate\":\"<b>z above inst = %{customdata[0]:.0f}m </b><br><b>z above msl = %{customdata[1]:.0f}m </b><br><b>surface msl = %{customdata[2]:.0f}m </b><br><b>z above ground = %{customdata[3]:.0f}m </b><br>longitude: %{lon:.3f}<br>latitude: %{lat:.3f}<br>\",\"lat\":[40.76599999999999,40.76652800806582,40.767055992597456,40.76758395359412,40.76811189105499,40.76916769536618,40.7702234055246,40.77233454335745,40.77444530450221,40.77866569652206,40.787101958045454,40.79763880099581,40.80816621134111,40.81868418266426],\"lon\":[-111.847,-111.84864632894303,-111.85029268394577,-111.85193906500794,-111.8535854721293,-111.85687836454848,-111.86017136120121,-111.86675766719891,-111.8733443901056,-111.88651908657842,-111.91287348168771,-111.94582585322651,-111.97878864237771,-112.01176184697862],\"marker\":{\"size\":10},\"mode\":\"markers+lines\",\"name\":\"2022-06-16 02:00:00 UTC\",\"type\":\"scattermapbox\"},{\"customdata\":[[0.0,1492.0,1441.0,51.0],[25.0,1517.0,1748.0,-231.0],[50.0,1542.0,1900.0,-358.0],[75.0,1567.0,2291.0,-724.0],[100.0,1592.0,2164.0,-572.0],[150.0,1642.0,2051.0,-409.0],[200.0,1692.0,2130.0,-438.0],[300.0,1792.0,1956.0,-164.0],[400.0,1892.0,2024.0,-132.0],[600.0,2092.0,2202.0,-110.0],[1000.0,2492.0,1988.0,504.0],[1500.0,2992.0,2061.0,931.0],[2000.0,3492.0,null,null],[2500.0,3992.0,null,null]],\"hovertemplate\":\"<b>z above inst = %{customdata[0]:.0f}m </b><br><b>z above msl = %{customdata[1]:.0f}m </b><br><b>surface msl = %{customdata[2]:.0f}m </b><br><b>z above ground = %{customdata[3]:.0f}m </b><br>longitude: %{lon:.3f}<br>latitude: %{lat:.3f}<br>\",\"lat\":[40.766,40.78362088768161,40.80122946793097,40.81882572677241,40.83640965022069,40.87154043494935,40.90662171004521,40.97663528229498,41.04644946737766,41.18547606571225,41.46109677069533,41.800986307085154,42.13561664836544,42.4648711330685],\"lon\":[-111.847,-111.80940635580976,-111.7717928421375,-111.73415944999188,-111.69650617041364,-111.62113991328339,-111.54569399971888,-111.39456292178566,-111.24311237888834,-110.93925071010504,-110.32767021666794,-109.55592101912498,-108.77603598627725,-107.98796323075668],\"marker\":{\"size\":10},\"mode\":\"markers+lines\",\"name\":\"2022-06-16 12:00:00 UTC\",\"type\":\"scattermapbox\"},{\"customdata\":[[0.0,1492.0,1441.0,51.0],[25.0,1517.0,1453.0,64.0],[50.0,1542.0,1456.0,86.0],[75.0,1567.0,1466.0,101.0],[100.0,1592.0,1472.0,120.0],[150.0,1642.0,1485.0,157.0],[200.0,1692.0,1517.0,175.0],[300.0,1792.0,1636.0,156.0],[400.0,1892.0,1611.0,281.0],[600.0,2092.0,1666.0,426.0],[1000.0,2492.0,1975.0,517.0],[1500.0,2992.0,2171.0,821.0],[2000.0,3492.0,2025.0,1467.0],[2500.0,3992.0,2105.0,1887.0]],\"hovertemplate\":\"<b>z above inst = %{customdata[0]:.0f}m </b><br><b>z above msl = %{customdata[1]:.0f}m </b><br><b>surface msl = %{customdata[2]:.0f}m </b><br><b>z above ground = %{customdata[3]:.0f}m </b><br>longitude: %{lon:.3f}<br>latitude: %{lat:.3f}<br>\",\"lat\":[40.766,40.766479429085415,40.766958837630966,40.767438225636,40.76791759309988,40.76887626640165,40.76983485753119,40.77175179325321,40.77366840022527,40.77750062775673,40.78516113602958,40.79472936778244,40.80428936857956,40.81384113333578],\"lon\":[-111.847,-111.8454618765986,-111.84392373109037,-111.84238556347552,-111.84084737375431,-111.83777092799386,-111.83469439381103,-111.8285410601865,-111.82238737289697,-111.81007893738841,-111.78545782311228,-111.75467347551493,-111.72388029123604,-111.69307827235973],\"marker\":{\"size\":10},\"mode\":\"markers+lines\",\"name\":\"2022-06-16 13:00:00 UTC\",\"type\":\"scattermapbox\"},{\"customdata\":[[0.0,1492.0,1441.0,51.0],[25.0,1517.0,1448.0,69.0],[50.0,1542.0,1453.0,89.0],[75.0,1567.0,1455.0,112.0],[100.0,1592.0,1458.0,134.0],[150.0,1642.0,1463.0,179.0],[200.0,1692.0,1471.0,221.0],[300.0,1792.0,1476.0,316.0],[400.0,1892.0,1496.0,396.0],[600.0,2092.0,1548.0,544.0],[1000.0,2492.0,1643.0,849.0],[1500.0,2992.0,2032.0,960.0],[2000.0,3492.0,2143.0,1349.0],[2500.0,3992.0,1918.0,2074.0]],\"hovertemplate\":\"<b>z above inst = %{customdata[0]:.0f}m </b><br><b>z above msl = %{customdata[1]:.0f}m </b><br><b>surface msl = %{customdata[2]:.0f}m </b><br><b>z above ground = %{customdata[3]:.0f}m </b><br>longitude: %{lon:.3f}<br>latitude: %{lat:.3f}<br>\",\"lat\":[40.766,40.76613723980374,40.76627447465322,40.76641170454842,40.766548929489275,40.7668233645078,40.76709777970844,40.7676465506547,40.76819524232523,40.769292387827846,40.77148572740062,40.774225617698846,40.776963525260655,40.77969944973503],\"lon\":[-111.847,-111.84624410222567,-111.84548820134142,-111.84473229734736,-111.84397639024354,-111.842464566707,-111.84095273073247,-111.83792902147219,-111.83490526246811,-111.82885759525016,-111.8167616641263,-111.80164063187776,-111.78651835765636,-111.77139484213903],\"marker\":{\"size\":10},\"mode\":\"markers+lines\",\"name\":\"2022-06-16 14:00:00 UTC\",\"type\":\"scattermapbox\"},{\"customdata\":[[0.0,1492.0,1441.0,51.0],[25.0,1517.0,1441.0,76.0],[50.0,1542.0,1448.0,94.0],[75.0,1567.0,1453.0,114.0],[100.0,1592.0,1454.0,138.0],[150.0,1642.0,1461.0,181.0],[200.0,1692.0,1460.0,232.0],[300.0,1792.0,1460.0,332.0],[400.0,1892.0,1466.0,426.0],[600.0,2092.0,1492.0,600.0],[1000.0,2492.0,1521.0,971.0],[1500.0,2992.0,1643.0,1349.0],[2000.0,3492.0,1866.0,1626.0],[2500.0,3992.0,2119.0,1873.0]],\"hovertemplate\":\"<b>z above inst = %{customdata[0]:.0f}m </b><br><b>z above msl = %{customdata[1]:.0f}m </b><br><b>surface msl = %{customdata[2]:.0f}m </b><br><b>z above ground = %{customdata[3]:.0f}m </b><br>longitude: %{lon:.3f}<br>latitude: %{lat:.3f}<br>\",\"lat\":[40.766,40.76602813295694,40.76605626398745,40.76608439309153,40.766112520269175,40.76616876884513,40.7662250097153,40.766337468338165,40.766449896137544,40.76667465926492,40.76712381562795,40.76768456751621,40.76824454875008,40.76880375930161],\"lon\":[-111.847,-111.8465285022995,-111.84605700420138,-111.84558550570564,-111.84511400681232,-111.84417100783301,-111.84322800726366,-111.84134200135573,-111.8394559890902,-111.83568394549313,-111.82813978208257,-111.81870943505346,-111.80927892959348,-111.79984826591473],\"marker\":{\"size\":10},\"mode\":\"markers+lines\",\"name\":\"2022-06-16 15:00:00 UTC\",\"type\":\"scattermapbox\"},{\"customdata\":[[0.0,1492.0,1441.0,51.0],[25.0,1517.0,1441.0,76.0],[50.0,1542.0,1443.0,99.0],[75.0,1567.0,1446.0,121.0],[100.0,1592.0,1448.0,144.0],[150.0,1642.0,1453.0,189.0],[200.0,1692.0,1455.0,237.0],[300.0,1792.0,1459.0,333.0],[400.0,1892.0,1460.0,432.0],[600.0,2092.0,1468.0,624.0],[1000.0,2492.0,1496.0,996.0],[1500.0,2992.0,1516.0,1476.0],[2000.0,3492.0,1558.0,1934.0],[2500.0,3992.0,1689.0,2303.0]],\"hovertemplate\":\"<b>z above inst = %{customdata[0]:.0f}m </b><br><b>z above msl = %{customdata[1]:.0f}m </b><br><b>surface msl = %{customdata[2]:.0f}m </b><br><b>z above ground = %{customdata[3]:.0f}m </b><br>longitude: %{lon:.3f}<br>latitude: %{lat:.3f}<br>\",\"lat\":[40.766,40.76597755575987,40.765955110676884,40.76593266475105,40.76591021798236,40.76586532191643,40.765820422479095,40.7657306134903,40.76564079101604,40.76546110561143,40.765101572980086,40.76465185378091,40.76420179746866,40.76375140405315],\"lon\":[-111.847,-111.84668813060297,-111.8463762614158,-111.84606439243848,-111.84575252367102,-111.8451287867657,-111.84450505069991,-111.84325758108713,-111.84201011483319,-111.83951519240374,-111.83452538787212,-111.8282882078612,-111.8220511119664,-111.81581410024825],\"marker\":{\"size\":10},\"mode\":\"markers+lines\",\"name\":\"2022-06-16 16:00:00 UTC\",\"type\":\"scattermapbox\"},{\"customdata\":[[0.0,1492.0,1441.0,51.0],[25.0,1517.0,1442.0,75.0],[50.0,1542.0,1442.0,100.0],[75.0,1567.0,1443.0,124.0],[100.0,1592.0,1446.0,146.0],[150.0,1642.0,1448.0,194.0],[200.0,1692.0,1452.0,240.0],[300.0,1792.0,1453.0,339.0],[400.0,1892.0,1448.0,444.0],[600.0,2092.0,1461.0,631.0],[1000.0,2492.0,1462.0,1030.0],[1500.0,2992.0,1481.0,1511.0],[2000.0,3492.0,1486.0,2006.0],[2500.0,3992.0,1506.0,2486.0]],\"hovertemplate\":\"<b>z above inst = %{customdata[0]:.0f}m </b><br><b>z above msl = %{customdata[1]:.0f}m </b><br><b>surface msl = %{customdata[2]:.0f}m </b><br><b>z above ground = %{customdata[3]:.0f}m </b><br>longitude: %{lon:.3f}<br>latitude: %{lat:.3f}<br>\",\"lat\":[40.766000000000005,40.76595073332955,40.76590146630848,40.76585219893679,40.765802931214516,40.76570439471815,40.76560585681938,40.765408776814645,40.765211691200406,40.76481750314366,40.76402905971914,40.7630433792362,40.762057558536824,40.76107159762994],\"lon\":[-111.847,-111.8467989667617,-111.84659793382032,-111.84639690117585,-111.8461958688283,-111.84579380502397,-111.84539174240732,-111.84458762073707,-111.84378350381769,-111.84217528423173,-111.83895890207316,-111.83493853128107,-111.8309182792822,-111.82689814608578],\"marker\":{\"size\":10},\"mode\":\"markers+lines\",\"name\":\"2022-06-16 17:00:00 UTC\",\"type\":\"scattermapbox\"},{\"customdata\":[[0.0,1492.0,1441.0,51.0],[25.0,1517.0,1440.0,77.0],[50.0,1542.0,1442.0,100.0],[75.0,1567.0,1442.0,125.0],[100.0,1592.0,1442.0,150.0],[150.0,1642.0,1448.0,194.0],[200.0,1692.0,1449.0,243.0],[300.0,1792.0,1455.0,337.0],[400.0,1892.0,1451.0,441.0],[600.0,2092.0,1450.0,642.0],[1000.0,2492.0,1457.0,1035.0],[1500.0,2992.0,1459.0,1533.0],[2000.0,3492.0,1478.0,2014.0],[2500.0,3992.0,1464.0,2528.0]],\"hovertemplate\":\"<b>z above inst = %{customdata[0]:.0f}m </b><br><b>z above msl = %{customdata[1]:.0f}m </b><br><b>surface msl = %{customdata[2]:.0f}m </b><br><b>z above ground = %{customdata[3]:.0f}m </b><br>longitude: %{lon:.3f}<br>latitude: %{lat:.3f}<br>\",\"lat\":[40.766,40.76593640241459,40.76587280471815,40.7658092069107,40.76574560899223,40.765618412822256,40.76549121620821,40.76523682164798,40.76498242531157,40.76447362731031,40.763456009994854,40.76218394839116,40.760911842391586,40.75963969199974],\"lon\":[-111.847,-111.84688716773024,-111.84677433567562,-111.84666150383612,-111.84654867221172,-111.8463230096083,-111.84609734786537,-111.84564602696089,-111.84519470949826,-111.84429208489843,-111.84248687699947,-111.84023044456188,-111.83797409816053,-111.83571783779128],\"marker\":{\"size\":10},\"mode\":\"markers+lines\",\"name\":\"2022-06-16 18:00:00 UTC\",\"type\":\"scattermapbox\"},{\"customdata\":[[0.0,1492.0,1441.0,51.0],[25.0,1517.0,1440.0,77.0],[50.0,1542.0,1440.0,102.0],[75.0,1567.0,1440.0,127.0],[100.0,1592.0,1440.0,152.0],[150.0,1642.0,1447.0,195.0],[200.0,1692.0,1447.0,245.0],[300.0,1792.0,1450.0,342.0],[400.0,1892.0,1448.0,444.0],[600.0,2092.0,1446.0,646.0],[1000.0,2492.0,1436.0,1056.0],[1500.0,2992.0,1447.0,1545.0],[2000.0,3492.0,1441.0,2051.0],[2500.0,3992.0,1441.0,2551.0]],\"hovertemplate\":\"<b>z above inst = %{customdata[0]:.0f}m </b><br><b>z above msl = %{customdata[1]:.0f}m </b><br><b>surface msl = %{customdata[2]:.0f}m </b><br><b>z above ground = %{customdata[3]:.0f}m </b><br>longitude: %{lon:.3f}<br>latitude: %{lat:.3f}<br>\",\"lat\":[40.766,40.765930146402745,40.76586029279399,40.76579043917372,40.765720585541956,40.765580878243895,40.76544117089982,40.765161756073596,40.764882341063284,40.764323510490414,40.763205847135794,40.761808763801106,40.76041167586519,40.75901458332846],\"lon\":[-111.847,-111.8469649289063,-111.84692985788605,-111.84689478693923,-111.84685971606586,-111.84678957453946,-111.8467194333068,-111.84657915172278,-111.8464388713138,-111.84615831402077,-111.84559721353409,-111.84489586436032,-111.84419454455589,-111.8434932541182],\"marker\":{\"size\":10},\"mode\":\"markers+lines\",\"name\":\"2022-06-16 19:00:00 UTC\",\"type\":\"scattermapbox\"},{\"customdata\":[[0.0,1492.0,1441.0,51.0],[25.0,1517.0,1440.0,77.0],[50.0,1542.0,1440.0,102.0],[75.0,1567.0,1441.0,126.0],[100.0,1592.0,1441.0,151.0],[150.0,1642.0,1443.0,199.0],[200.0,1692.0,1443.0,249.0],[300.0,1792.0,1441.0,351.0],[400.0,1892.0,1440.0,452.0],[600.0,2092.0,1432.0,660.0],[1000.0,2492.0,1433.0,1059.0],[1500.0,2992.0,1430.0,1562.0],[2000.0,3492.0,1415.0,2077.0],[2500.0,3992.0,1414.0,2578.0]],\"hovertemplate\":\"<b>z above inst = %{customdata[0]:.0f}m </b><br><b>z above msl = %{customdata[1]:.0f}m </b><br><b>surface msl = %{customdata[2]:.0f}m </b><br><b>z above ground = %{customdata[3]:.0f}m </b><br>longitude: %{lon:.3f}<br>latitude: %{lat:.3f}<br>\",\"lat\":[40.766000000000005,40.76593034462604,40.76586068923757,40.765791033834574,40.76572137841706,40.76558206753848,40.76544275660183,40.76516413455432,40.76488551227451,40.76432826701806,40.76321377371792,40.761820651867005,40.76042752421014,40.75903439074783],\"lon\":[-111.847,-111.84703972676684,-111.84707945345072,-111.84711918005164,-111.8471589065696,-111.8472383593567,-111.84731781181195,-111.84747671572704,-111.8476356183149,-111.84795341950903,-111.84858900597153,-111.84938345919082,-111.8501778792363,-111.85097226611086],\"marker\":{\"size\":10},\"mode\":\"markers+lines\",\"name\":\"2022-06-16 20:00:00 UTC\",\"type\":\"scattermapbox\"},{\"customdata\":[[0.0,1492.0,1441.0,51.0],[25.0,1517.0,1441.0,76.0],[50.0,1542.0,1441.0,101.0],[75.0,1567.0,1441.0,126.0],[100.0,1592.0,1443.0,149.0],[150.0,1642.0,1441.0,201.0],[200.0,1692.0,1442.0,250.0],[300.0,1792.0,1440.0,352.0],[400.0,1892.0,1432.0,460.0],[600.0,2092.0,1432.0,660.0],[1000.0,2492.0,1415.0,1077.0],[1500.0,2992.0,1391.0,1601.0],[2000.0,3492.0,1390.0,2102.0],[2500.0,3992.0,1380.0,2612.0]],\"hovertemplate\":\"<b>z above inst = %{customdata[0]:.0f}m </b><br><b>z above msl = %{customdata[1]:.0f}m </b><br><b>surface msl = %{customdata[2]:.0f}m </b><br><b>z above ground = %{customdata[3]:.0f}m </b><br>longitude: %{lon:.3f}<br>latitude: %{lat:.3f}<br>\",\"lat\":[40.766,40.765937044830586,40.76587408954007,40.76581113412845,40.76574817859572,40.76562226716696,40.765496355253816,40.765244529974304,40.76499270275722,40.76448904251047,40.76348169876753,40.7622224754987,40.76096320380006,40.759703883675506],\"lon\":[-111.847,-111.84711788501463,-111.84723576980679,-111.84735365437645,-111.84747153872364,-111.84770730675056,-111.84794307388755,-111.84841460549178,-111.84888613353635,-111.8498291789466,-111.85171522705255,-111.8540727070977,-111.85643009816064,-111.85878740024529],\"marker\":{\"size\":10},\"mode\":\"markers+lines\",\"name\":\"2022-06-16 21:00:00 UTC\",\"type\":\"scattermapbox\"},{\"customdata\":[[0.0,1492.0,1441.0,51.0],[25.0,1517.0,1441.0,76.0],[50.0,1542.0,1443.0,99.0],[75.0,1567.0,1443.0,124.0],[100.0,1592.0,1443.0,149.0],[150.0,1642.0,1437.0,205.0],[200.0,1692.0,1435.0,257.0],[300.0,1792.0,1426.0,366.0],[400.0,1892.0,1424.0,468.0],[600.0,2092.0,1414.0,678.0],[1000.0,2492.0,1394.0,1098.0],[1500.0,2992.0,1363.0,1629.0],[2000.0,3492.0,1344.0,2148.0],[2500.0,3992.0,1328.0,2664.0]],\"hovertemplate\":\"<b>z above inst = %{customdata[0]:.0f}m </b><br><b>z above msl = %{customdata[1]:.0f}m </b><br><b>surface msl = %{customdata[2]:.0f}m </b><br><b>z above ground = %{customdata[3]:.0f}m </b><br>longitude: %{lon:.3f}<br>latitude: %{lat:.3f}<br>\",\"lat\":[40.766,40.765951993225954,40.765903986080076,40.765855978562385,40.76580797067287,40.765711953778364,40.76561593539659,40.76542389417125,40.76523184699691,40.76484773480155,40.76407943902611,40.763118935466665,40.76215828320449,40.761197482248846],\"lon\":[-111.847,-111.84720703996538,-111.8474140796328,-111.84762111900224,-111.84782815807372,-111.84824223532276,-111.84865631137991,-111.84948445991849,-111.85031260368935,-111.8519688769276,-111.85528136618775,-111.85942187047502,-111.86356225554321,-111.86770252138143],\"marker\":{\"size\":10},\"mode\":\"markers+lines\",\"name\":\"2022-06-16 22:00:00 UTC\",\"type\":\"scattermapbox\"},{\"customdata\":[[0.0,1492.0,1441.0,51.0],[25.0,1517.0,1442.0,75.0],[50.0,1542.0,1443.0,99.0],[75.0,1567.0,1441.0,126.0],[100.0,1592.0,1437.0,155.0],[150.0,1642.0,1431.0,211.0],[200.0,1692.0,1431.0,261.0],[300.0,1792.0,1425.0,367.0],[400.0,1892.0,1413.0,479.0],[600.0,2092.0,1397.0,695.0],[1000.0,2492.0,1361.0,1131.0],[1500.0,2992.0,1343.0,1649.0],[2000.0,3492.0,1327.0,2165.0],[2500.0,3992.0,1313.0,2679.0]],\"hovertemplate\":\"<b>z above inst = %{customdata[0]:.0f}m </b><br><b>z above msl = %{customdata[1]:.0f}m </b><br><b>surface msl = %{customdata[2]:.0f}m </b><br><b>z above ground = %{customdata[3]:.0f}m </b><br>longitude: %{lon:.3f}<br>latitude: %{lat:.3f}<br>\",\"lat\":[40.766000000000005,40.765979862637266,40.76595972438789,40.7659395852519,40.76591944522929,40.765879162524215,40.765838876272646,40.76575829313017,40.76567769580191,40.76551645858838,40.76519381393529,40.76479018895126,40.76438620934513,40.76398187512616],\"lon\":[-111.847,-111.84731986832189,-111.84763973645067,-111.84795960438635,-111.8482794721289,-111.8489192070346,-111.84955894116773,-111.85083840711596,-111.85211786997304,-111.85467678641174,-111.85979458217234,-111.86619175723558,-111.87258885486226,-111.8789858749864],\"marker\":{\"size\":10},\"mode\":\"markers+lines\",\"name\":\"2022-06-16 23:00:00 UTC\",\"type\":\"scattermapbox\"},{\"customdata\":[[0.0,1492.0,1441.0,51.0],[25.0,1517.0,1443.0,74.0],[50.0,1542.0,1440.0,102.0],[75.0,1567.0,1437.0,130.0],[100.0,1592.0,1434.0,158.0],[150.0,1642.0,1433.0,209.0],[200.0,1692.0,1426.0,266.0],[300.0,1792.0,1413.0,379.0],[400.0,1892.0,1393.0,499.0],[600.0,2092.0,1378.0,714.0],[1000.0,2492.0,1348.0,1144.0],[1500.0,2992.0,1336.0,1656.0],[2000.0,3492.0,1326.0,2166.0],[2500.0,3992.0,1327.0,2665.0]],\"hovertemplate\":\"<b>z above inst = %{customdata[0]:.0f}m </b><br><b>z above msl = %{customdata[1]:.0f}m </b><br><b>surface msl = %{customdata[2]:.0f}m </b><br><b>z above ground = %{customdata[3]:.0f}m </b><br>longitude: %{lon:.3f}<br>latitude: %{lat:.3f}<br>\",\"lat\":[40.766,40.76603263604395,40.76606527005785,40.76609790204171,40.76613053199549,40.76619578581288,40.76626103150998,40.766391498543165,40.766521933094786,40.766782704752245,40.76730385827633,40.76795456930103,40.76860446820449,40.76925355495258],\"lon\":[-111.847,-111.84748400752889,-111.84796801553134,-111.84845202400726,-111.84893603295667,-111.84990405227579,-111.85087207348846,-111.85280812159353,-111.85474417727008,-111.85861631133028,-111.86636067022819,-111.87604128890816,-111.8857220963285,-111.89540309226152],\"marker\":{\"size\":10},\"mode\":\"markers+lines\",\"name\":\"2022-06-17 00:00:00 UTC\",\"type\":\"scattermapbox\"}],                        {\"template\":{\"data\":{\"histogram2dcontour\":[{\"type\":\"histogram2dcontour\",\"colorbar\":{\"outlinewidth\":0,\"ticks\":\"\"},\"colorscale\":[[0.0,\"#0d0887\"],[0.1111111111111111,\"#46039f\"],[0.2222222222222222,\"#7201a8\"],[0.3333333333333333,\"#9c179e\"],[0.4444444444444444,\"#bd3786\"],[0.5555555555555556,\"#d8576b\"],[0.6666666666666666,\"#ed7953\"],[0.7777777777777778,\"#fb9f3a\"],[0.8888888888888888,\"#fdca26\"],[1.0,\"#f0f921\"]]}],\"choropleth\":[{\"type\":\"choropleth\",\"colorbar\":{\"outlinewidth\":0,\"ticks\":\"\"}}],\"histogram2d\":[{\"type\":\"histogram2d\",\"colorbar\":{\"outlinewidth\":0,\"ticks\":\"\"},\"colorscale\":[[0.0,\"#0d0887\"],[0.1111111111111111,\"#46039f\"],[0.2222222222222222,\"#7201a8\"],[0.3333333333333333,\"#9c179e\"],[0.4444444444444444,\"#bd3786\"],[0.5555555555555556,\"#d8576b\"],[0.6666666666666666,\"#ed7953\"],[0.7777777777777778,\"#fb9f3a\"],[0.8888888888888888,\"#fdca26\"],[1.0,\"#f0f921\"]]}],\"heatmap\":[{\"type\":\"heatmap\",\"colorbar\":{\"outlinewidth\":0,\"ticks\":\"\"},\"colorscale\":[[0.0,\"#0d0887\"],[0.1111111111111111,\"#46039f\"],[0.2222222222222222,\"#7201a8\"],[0.3333333333333333,\"#9c179e\"],[0.4444444444444444,\"#bd3786\"],[0.5555555555555556,\"#d8576b\"],[0.6666666666666666,\"#ed7953\"],[0.7777777777777778,\"#fb9f3a\"],[0.8888888888888888,\"#fdca26\"],[1.0,\"#f0f921\"]]}],\"heatmapgl\":[{\"type\":\"heatmapgl\",\"colorbar\":{\"outlinewidth\":0,\"ticks\":\"\"},\"colorscale\":[[0.0,\"#0d0887\"],[0.1111111111111111,\"#46039f\"],[0.2222222222222222,\"#7201a8\"],[0.3333333333333333,\"#9c179e\"],[0.4444444444444444,\"#bd3786\"],[0.5555555555555556,\"#d8576b\"],[0.6666666666666666,\"#ed7953\"],[0.7777777777777778,\"#fb9f3a\"],[0.8888888888888888,\"#fdca26\"],[1.0,\"#f0f921\"]]}],\"contourcarpet\":[{\"type\":\"contourcarpet\",\"colorbar\":{\"outlinewidth\":0,\"ticks\":\"\"}}],\"contour\":[{\"type\":\"contour\",\"colorbar\":{\"outlinewidth\":0,\"ticks\":\"\"},\"colorscale\":[[0.0,\"#0d0887\"],[0.1111111111111111,\"#46039f\"],[0.2222222222222222,\"#7201a8\"],[0.3333333333333333,\"#9c179e\"],[0.4444444444444444,\"#bd3786\"],[0.5555555555555556,\"#d8576b\"],[0.6666666666666666,\"#ed7953\"],[0.7777777777777778,\"#fb9f3a\"],[0.8888888888888888,\"#fdca26\"],[1.0,\"#f0f921\"]]}],\"surface\":[{\"type\":\"surface\",\"colorbar\":{\"outlinewidth\":0,\"ticks\":\"\"},\"colorscale\":[[0.0,\"#0d0887\"],[0.1111111111111111,\"#46039f\"],[0.2222222222222222,\"#7201a8\"],[0.3333333333333333,\"#9c179e\"],[0.4444444444444444,\"#bd3786\"],[0.5555555555555556,\"#d8576b\"],[0.6666666666666666,\"#ed7953\"],[0.7777777777777778,\"#fb9f3a\"],[0.8888888888888888,\"#fdca26\"],[1.0,\"#f0f921\"]]}],\"mesh3d\":[{\"type\":\"mesh3d\",\"colorbar\":{\"outlinewidth\":0,\"ticks\":\"\"}}],\"scatter\":[{\"fillpattern\":{\"fillmode\":\"overlay\",\"size\":10,\"solidity\":0.2},\"type\":\"scatter\"}],\"parcoords\":[{\"type\":\"parcoords\",\"line\":{\"colorbar\":{\"outlinewidth\":0,\"ticks\":\"\"}}}],\"scatterpolargl\":[{\"type\":\"scatterpolargl\",\"marker\":{\"colorbar\":{\"outlinewidth\":0,\"ticks\":\"\"}}}],\"bar\":[{\"error_x\":{\"color\":\"#2a3f5f\"},\"error_y\":{\"color\":\"#2a3f5f\"},\"marker\":{\"line\":{\"color\":\"#E5ECF6\",\"width\":0.5},\"pattern\":{\"fillmode\":\"overlay\",\"size\":10,\"solidity\":0.2}},\"type\":\"bar\"}],\"scattergeo\":[{\"type\":\"scattergeo\",\"marker\":{\"colorbar\":{\"outlinewidth\":0,\"ticks\":\"\"}}}],\"scatterpolar\":[{\"type\":\"scatterpolar\",\"marker\":{\"colorbar\":{\"outlinewidth\":0,\"ticks\":\"\"}}}],\"histogram\":[{\"marker\":{\"pattern\":{\"fillmode\":\"overlay\",\"size\":10,\"solidity\":0.2}},\"type\":\"histogram\"}],\"scattergl\":[{\"type\":\"scattergl\",\"marker\":{\"colorbar\":{\"outlinewidth\":0,\"ticks\":\"\"}}}],\"scatter3d\":[{\"type\":\"scatter3d\",\"line\":{\"colorbar\":{\"outlinewidth\":0,\"ticks\":\"\"}},\"marker\":{\"colorbar\":{\"outlinewidth\":0,\"ticks\":\"\"}}}],\"scattermapbox\":[{\"type\":\"scattermapbox\",\"marker\":{\"colorbar\":{\"outlinewidth\":0,\"ticks\":\"\"}}}],\"scatterternary\":[{\"type\":\"scatterternary\",\"marker\":{\"colorbar\":{\"outlinewidth\":0,\"ticks\":\"\"}}}],\"scattercarpet\":[{\"type\":\"scattercarpet\",\"marker\":{\"colorbar\":{\"outlinewidth\":0,\"ticks\":\"\"}}}],\"carpet\":[{\"aaxis\":{\"endlinecolor\":\"#2a3f5f\",\"gridcolor\":\"white\",\"linecolor\":\"white\",\"minorgridcolor\":\"white\",\"startlinecolor\":\"#2a3f5f\"},\"baxis\":{\"endlinecolor\":\"#2a3f5f\",\"gridcolor\":\"white\",\"linecolor\":\"white\",\"minorgridcolor\":\"white\",\"startlinecolor\":\"#2a3f5f\"},\"type\":\"carpet\"}],\"table\":[{\"cells\":{\"fill\":{\"color\":\"#EBF0F8\"},\"line\":{\"color\":\"white\"}},\"header\":{\"fill\":{\"color\":\"#C8D4E3\"},\"line\":{\"color\":\"white\"}},\"type\":\"table\"}],\"barpolar\":[{\"marker\":{\"line\":{\"color\":\"#E5ECF6\",\"width\":0.5},\"pattern\":{\"fillmode\":\"overlay\",\"size\":10,\"solidity\":0.2}},\"type\":\"barpolar\"}],\"pie\":[{\"automargin\":true,\"type\":\"pie\"}]},\"layout\":{\"autotypenumbers\":\"strict\",\"colorway\":[\"#636efa\",\"#EF553B\",\"#00cc96\",\"#ab63fa\",\"#FFA15A\",\"#19d3f3\",\"#FF6692\",\"#B6E880\",\"#FF97FF\",\"#FECB52\"],\"font\":{\"color\":\"#2a3f5f\"},\"hovermode\":\"closest\",\"hoverlabel\":{\"align\":\"left\"},\"paper_bgcolor\":\"white\",\"plot_bgcolor\":\"#E5ECF6\",\"polar\":{\"bgcolor\":\"#E5ECF6\",\"angularaxis\":{\"gridcolor\":\"white\",\"linecolor\":\"white\",\"ticks\":\"\"},\"radialaxis\":{\"gridcolor\":\"white\",\"linecolor\":\"white\",\"ticks\":\"\"}},\"ternary\":{\"bgcolor\":\"#E5ECF6\",\"aaxis\":{\"gridcolor\":\"white\",\"linecolor\":\"white\",\"ticks\":\"\"},\"baxis\":{\"gridcolor\":\"white\",\"linecolor\":\"white\",\"ticks\":\"\"},\"caxis\":{\"gridcolor\":\"white\",\"linecolor\":\"white\",\"ticks\":\"\"}},\"coloraxis\":{\"colorbar\":{\"outlinewidth\":0,\"ticks\":\"\"}},\"colorscale\":{\"sequential\":[[0.0,\"#0d0887\"],[0.1111111111111111,\"#46039f\"],[0.2222222222222222,\"#7201a8\"],[0.3333333333333333,\"#9c179e\"],[0.4444444444444444,\"#bd3786\"],[0.5555555555555556,\"#d8576b\"],[0.6666666666666666,\"#ed7953\"],[0.7777777777777778,\"#fb9f3a\"],[0.8888888888888888,\"#fdca26\"],[1.0,\"#f0f921\"]],\"sequentialminus\":[[0.0,\"#0d0887\"],[0.1111111111111111,\"#46039f\"],[0.2222222222222222,\"#7201a8\"],[0.3333333333333333,\"#9c179e\"],[0.4444444444444444,\"#bd3786\"],[0.5555555555555556,\"#d8576b\"],[0.6666666666666666,\"#ed7953\"],[0.7777777777777778,\"#fb9f3a\"],[0.8888888888888888,\"#fdca26\"],[1.0,\"#f0f921\"]],\"diverging\":[[0,\"#8e0152\"],[0.1,\"#c51b7d\"],[0.2,\"#de77ae\"],[0.3,\"#f1b6da\"],[0.4,\"#fde0ef\"],[0.5,\"#f7f7f7\"],[0.6,\"#e6f5d0\"],[0.7,\"#b8e186\"],[0.8,\"#7fbc41\"],[0.9,\"#4d9221\"],[1,\"#276419\"]]},\"xaxis\":{\"gridcolor\":\"white\",\"linecolor\":\"white\",\"ticks\":\"\",\"title\":{\"standoff\":15},\"zerolinecolor\":\"white\",\"automargin\":true,\"zerolinewidth\":2},\"yaxis\":{\"gridcolor\":\"white\",\"linecolor\":\"white\",\"ticks\":\"\",\"title\":{\"standoff\":15},\"zerolinecolor\":\"white\",\"automargin\":true,\"zerolinewidth\":2},\"scene\":{\"xaxis\":{\"backgroundcolor\":\"#E5ECF6\",\"gridcolor\":\"white\",\"linecolor\":\"white\",\"showbackground\":true,\"ticks\":\"\",\"zerolinecolor\":\"white\",\"gridwidth\":2},\"yaxis\":{\"backgroundcolor\":\"#E5ECF6\",\"gridcolor\":\"white\",\"linecolor\":\"white\",\"showbackground\":true,\"ticks\":\"\",\"zerolinecolor\":\"white\",\"gridwidth\":2},\"zaxis\":{\"backgroundcolor\":\"#E5ECF6\",\"gridcolor\":\"white\",\"linecolor\":\"white\",\"showbackground\":true,\"ticks\":\"\",\"zerolinecolor\":\"white\",\"gridwidth\":2}},\"shapedefaults\":{\"line\":{\"color\":\"#2a3f5f\"}},\"annotationdefaults\":{\"arrowcolor\":\"#2a3f5f\",\"arrowhead\":0,\"arrowwidth\":1},\"geo\":{\"bgcolor\":\"white\",\"landcolor\":\"#E5ECF6\",\"subunitcolor\":\"white\",\"showland\":true,\"showlakes\":true,\"lakecolor\":\"white\"},\"title\":{\"x\":0.05},\"mapbox\":{\"style\":\"light\"}}},\"mapbox\":{\"style\":\"white-bg\",\"layers\":[{\"below\":\"traces\",\"source\":[\"https://basemap.nationalmap.gov/arcgis/rest/services/USGSImageryOnly/MapServer/tile/{z}/{y}/{x}\"],\"sourceattribution\":\"United States Geological Survey\",\"sourcetype\":\"raster\"},{\"source\":[\"https://geo.weather.gc.ca/geomet/?SERVICE=WMS&VERSION=1.3.0&REQUEST=GetMap&BBOX={bbox-epsg-3857}&CRS=EPSG:3857&WIDTH=1000&HEIGHT=1000&LAYERS=RADAR_1KM_RDBR&TILED=true&FORMAT=image/png\"],\"sourceattribution\":\"Government of Canada\",\"sourcetype\":\"raster\"}],\"bearing\":0,\"center\":{\"lat\":40.766,\"lon\":-111.847},\"pitch\":0,\"zoom\":8},\"margin\":{\"r\":0,\"t\":0,\"l\":0,\"b\":0},\"height\":400,\"showlegend\":true,\"hovermode\":\"closest\"},                        {\"responsive\": true}                    ).then(function(){\n",
       "                            \n",
       "var gd = document.getElementById('32349fcd-968a-4964-8b39-5d9729d0a749');\n",
       "var x = new MutationObserver(function (mutations, observer) {{\n",
       "        var display = window.getComputedStyle(gd).display;\n",
       "        if (!display || display === 'none') {{\n",
       "            console.log([gd, 'removed!']);\n",
       "            Plotly.purge(gd);\n",
       "            observer.disconnect();\n",
       "        }}\n",
       "}});\n",
       "\n",
       "// Listen for the removal of the full notebook cells\n",
       "var notebookContainer = gd.closest('#notebook-container');\n",
       "if (notebookContainer) {{\n",
       "    x.observe(notebookContainer, {childList: true});\n",
       "}}\n",
       "\n",
       "// Listen for the clearing of the current output cell\n",
       "var outputEl = gd.closest('.output');\n",
       "if (outputEl) {{\n",
       "    x.observe(outputEl, {childList: true});\n",
       "}}\n",
       "\n",
       "                        })                };                });            </script>        </div>"
      ]
     },
     "metadata": {},
     "output_type": "display_data"
    }
   ],
   "source": [
    "plotting.create_slant_plots(multi_df,inst_lat,inst_lon)"
   ]
  },
  {
   "cell_type": "code",
   "execution_count": 12,
   "id": "4b0c43d2",
   "metadata": {},
   "outputs": [
    {
     "name": "stdout",
     "output_type": "stream",
     "text": [
      "Adding receptor lat/lons along the slant column\n",
      "Adding surface height and receptor elevation above ground level\n",
      "adding surface and agl heights\n"
     ]
    }
   ],
   "source": [
    "#Define instrument parameters\n",
    "inst_lat = 40.766\n",
    "inst_lon = -111.847\n",
    "inst_zasl = 1492 #instrument elevation in meters above sea level\n",
    "\n",
    "#define datetime range and interval parameters\n",
    "dt1_str = '2022-06-16 00:00:00'#start datetime\n",
    "dt2_str = '2022-06-17 00:00:00' #end datetime\n",
    "interval = '1H' #interval at which we want our dataframe\n",
    "timezone = 'UTC' #this should nearly always be UTC, but can identify if your datetime strings above are in a different timezone\n",
    "\n",
    "#Define the heights above the instrument (in m) from which we would like to release particles\n",
    "z_ail_list = [0,25,50,75,100,150,200,300,400,600,1000,1500,2000,2500]\n",
    "\n",
    "#Now format the datetime and timezone into useful formats\n",
    "dt1 = ac.dtstr_to_dttz(dt1_str,timezone)\n",
    "dt2 = ac.dtstr_to_dttz(dt2_str,timezone)\n",
    "\n",
    "\n",
    "gsh = ac.ground_slant_handler(inst_lat,inst_lon,inst_zasl,z_ail_list)\n",
    "slant_df = gsh.run_slant_at_intervals(dt1,dt2,my_dem_handler,interval)"
   ]
  }
 ],
 "metadata": {
  "kernelspec": {
   "display_name": "atmos_column",
   "language": "python",
   "name": "atmos_column"
  },
  "language_info": {
   "codemirror_mode": {
    "name": "ipython",
    "version": 3
   },
   "file_extension": ".py",
   "mimetype": "text/x-python",
   "name": "python",
   "nbconvert_exporter": "python",
   "pygments_lexer": "ipython3",
   "version": "3.11.2"
  }
 },
 "nbformat": 4,
 "nbformat_minor": 5
}
