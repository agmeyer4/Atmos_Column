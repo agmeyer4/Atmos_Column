{
 "cells": [
  {
   "cell_type": "code",
   "execution_count": 1,
   "metadata": {},
   "outputs": [],
   "source": [
    "#Import Packages\n",
    "import pandas as pd\n",
    "import numpy as np\n",
    "import os\n",
    "import itertools\n",
    "import plotly.graph_objects as go\n",
    "import matplotlib.pyplot as plt\n",
    "import datetime\n",
    "import matplotlib\n",
    "from herbie import Herbie\n",
    "import pickle\n",
    "import cartopy.crs as ccrs\n",
    "import cartopy.io.img_tiles as cimgt\n",
    "import pysolar.solar as solar\n",
    "from geographiclib.geodesic import Geodesic\n",
    "import xarray as xr\n",
    "import pytz\n",
    "import sys\n",
    "sys.path.append('..')\n",
    "import funcs.ac_funcs as ac\n",
    "import funcs.plotting as plotting\n",
    "import simplekml\n",
    "\n",
    "pd.options.mode.chained_assignment = None\n",
    "\n",
    "\n",
    "#Autoreload changed local modules\n",
    "%load_ext autoreload\n",
    "%autoreload 2"
   ]
  },
  {
   "cell_type": "markdown",
   "metadata": {},
   "source": [
    "# Slant Columns: A Step By Step Description"
   ]
  },
  {
   "attachments": {},
   "cell_type": "markdown",
   "metadata": {},
   "source": [
    "Our goal is to create a list of receptor details (datetime, lat, lon, zagl) that can be used as an input to the STILT model for footprint analyses.\n",
    "\n",
    "The required input variables to accomplish this are the latitude, longitude, and elevation (m above sea level) of the solar spectrometer (EM27), the datetime of the measurment, and the vertical levels at which we want to release particles.\n",
    "\n",
    "The output should be a file formatted such that it can be read by STILT for particle releases. \n",
    "\n",
    "The following description is effectively a step by step of ac_funcs.ground_slant_handler.run_slant_at_intervals() for a single time (not a range, that is below). "
   ]
  },
  {
   "attachments": {},
   "cell_type": "markdown",
   "metadata": {},
   "source": [
    "1. First set up the paths and hrrr data we will need for building the slant columns:"
   ]
  },
  {
   "cell_type": "code",
   "execution_count": 2,
   "metadata": {},
   "outputs": [],
   "source": [
    "# hrrr_subset_path = '/uufs/chpc.utah.edu/common/home/u0890904/LAIR_1/Data/hrrr/subsets' #path with a hrrr folder included, or will be created\n",
    "hrrr_subset_path = '/Users/agmeyer4/LAIR_1/Data/hrrr/subsets' #path with a hrrr folder included, or will be created\n",
    "hrrr_subset_datestr = '2022-07-01 00:00' #this is the date that we want to take the surface information from. They should be all the same."
   ]
  },
  {
   "attachments": {},
   "cell_type": "markdown",
   "metadata": {},
   "source": [
    "2. Define our receptor location and datetime details"
   ]
  },
  {
   "cell_type": "code",
   "execution_count": 3,
   "metadata": {},
   "outputs": [],
   "source": [
    "#First define the instrument location and elevation\n",
    "inst_lat = 40.766\n",
    "inst_lon = -111.847\n",
    "inst_zasl = 1492 #instrument elevation in meters above sea level\n",
    "\n",
    "#Next define the datetime range\n",
    "dt1_str = dt2_str = '2022-06-16 18:00:00' #start datetime\n",
    "timezone = 'UTC' #this should nearly always be UTC, but can identify if your datetime strings above are in a different timezone\n",
    "\n",
    "#Now format the datetime and timezone into useful formats\n",
    "dt1 = ac.dtstr_to_dttz(dt1_str,timezone)\n",
    "dt2 = ac.dtstr_to_dttz(dt2_str,timezone)"
   ]
  },
  {
   "cell_type": "markdown",
   "metadata": {},
   "source": [
    "3. Next we define the vertical levels from which we wish to release particles. Starting point of level release heights (above the level of the instrument) for now is Taylor Jones' Indianapolis work (https://doi.org/10.5194/acp-21-13131-2021)"
   ]
  },
  {
   "cell_type": "code",
   "execution_count": 4,
   "metadata": {},
   "outputs": [],
   "source": [
    "#Define the heights above the instrument (in m) from which we would like to release particles\n",
    "z_ail_list = [0,25,50,75,100,150,200,300,400,600,1000,1500,2000,2500]"
   ]
  },
  {
   "cell_type": "markdown",
   "metadata": {},
   "source": [
    "Lets plot the particle release heights above the instrument"
   ]
  },
  {
   "cell_type": "code",
   "execution_count": 5,
   "metadata": {},
   "outputs": [
    {
     "data": {
      "image/png": "[encoded data removed]",
      "text/plain": [
       "<Figure size 200x500 with 2 Axes>"
      ]
     },
     "metadata": {},
     "output_type": "display_data"
    }
   ],
   "source": [
    "#Simple plot to show the particle release heights both above the instrument and above sea level\n",
    "\n",
    "# Create the list of particle release elevations above sea level -- this is done in ac.load_singletime_hgtdf (in a cell below), but show it manually for now:\n",
    "z_asl_list = [x+inst_zasl for x in z_ail_list]\n",
    "\n",
    "#Make the plot\n",
    "x = np.zeros_like(z_ail_list)\n",
    "fig,ax = plt.subplots(figsize = (2,5))\n",
    "ax.scatter(x,z_ail_list,s=4)\n",
    "ax.set_ylabel('Height above instrument (m)')\n",
    "ax.set_ylim([min(z_ail_list)-10,max(z_ail_list)+100])\n",
    "ax2 = ax.twinx()\n",
    "ax2.scatter(x,z_asl_list,s=4)\n",
    "ax2.set_ylabel('Height above sea level (m)')\n",
    "ax2.set_ylim([min(z_asl_list)-10,max(z_asl_list)+100])\n",
    "ax.hlines(0,-1,1,color='red')\n",
    "ax.tick_params(labelbottom = False, bottom = False)\n",
    "ax.text(-1,20,'Inst Level',color='red')\n",
    "plt.show()"
   ]
  },
  {
   "attachments": {},
   "cell_type": "markdown",
   "metadata": {},
   "source": [
    "4. With the above input parameters, we're ready to start building our dataframe of receptor locations. Because we are releasing particles at a vertical level above the instrument location *along the slanted column of the sun*, we need to find the lat/lon coordinates of each receptor point along that slanted column. \n",
    "\n",
    "    To do this, we use ac.ground_slant_handler() to build the dataframe. Our fist step is to use ac.ground_slant_handler.create_initial_slantdf(). This uses the ac.slant_lat_lon() function to get the new coordinates. We use basic geometry and an ellipsoid earth model to output lat/lon of the release points on the slant column given the datetime of the observation (for calculating what the slant column looks like). "
   ]
  },
  {
   "cell_type": "code",
   "execution_count": 6,
   "metadata": {},
   "outputs": [
    {
     "name": "stdout",
     "output_type": "stream",
     "text": [
      "Adding receptor lat/lons along the slant column\n"
     ]
    }
   ],
   "source": [
    "#Create the ground slant handler \n",
    "gsh = ac.ground_slant_handler(inst_lat,inst_lon,inst_zasl,z_ail_list,hrrr_subset_path,hrrr_subset_datestr=hrrr_subset_datestr)\n",
    "#Create the list of datetimes, in our case it will just be one datetime since the start and end are the same\n",
    "dt_list = ac.create_dt_list(dt1,dt2,'1H') #the interval doesn't matter here because it's only one time\n",
    "initial_slantdf = gsh.create_initial_slantdf(dt_list) #create the dataframe from the inputs"
   ]
  },
  {
   "cell_type": "markdown",
   "metadata": {},
   "source": [
    "Now we have a dataframe (slant_df) that has receptors at each of our input z release points, with the correct latitude longitude of those points along the slant column. We can visualize it below using a helping plotly function. "
   ]
  },
  {
   "cell_type": "code",
   "execution_count": 7,
   "metadata": {},
   "outputs": [
    {
     "data": {
      "application/vnd.plotly.v1+json": {
       "config": {
        "plotlyServerURL": "https://plot.ly"
       },
       "data": [
        {
         "customdata": [
          [
           0,
           1492
          ],
          [
           25,
           1517
          ],
          [
           50,
           1542
          ],
          [
           75,
           1567
          ],
          [
           100,
           1592
          ],
          [
           150,
           1642
          ],
          [
           200,
           1692
          ],
          [
           300,
           1792
          ],
          [
           400,
           1892
          ],
          [
           600,
           2092
          ],
          [
           1000,
           2492
          ],
          [
           1500,
           2992
          ],
          [
           2000,
           3492
          ],
          [
           2500,
           3992
          ]
         ],
         "hovertemplate": "<b>z above inst = %{customdata[0]:.0f}m </b><br><b>z above msl = %{customdata[1]:.0f}m </b><br>longitude: %{lon:.3f}<br>latitude: %{lat:.3f}<br>",
         "lat": [
          40.76600000000001,
          40.765936402414596,
          40.76587280471816,
          40.76580920691071,
          40.76574560899223,
          40.76561841282226,
          40.76549121620822,
          40.765236821647996,
          40.76498242531159,
          40.764473627310316,
          40.76345600999486,
          40.76218394839117,
          40.76091184239159,
          40.75963969199975
         ],
         "lon": [
          -111.847,
          -111.84688716773024,
          -111.84677433567562,
          -111.84666150383612,
          -111.84654867221172,
          -111.84632300960831,
          -111.84609734786538,
          -111.84564602696089,
          -111.84519470949826,
          -111.84429208489843,
          -111.84248687699947,
          -111.84023044456188,
          -111.83797409816053,
          -111.83571783779128
         ],
         "marker": {
          "size": 10
         },
         "mode": "markers+lines",
         "name": "2022-06-16 18:00:00 UTC",
         "type": "scattermapbox"
        }
       ],
       "layout": {
        "height": 400,
        "hovermode": "closest",
        "mapbox": {
         "bearing": 0,
         "center": {
          "lat": 40.766,
          "lon": -111.847
         },
         "layers": [
          {
           "below": "traces",
           "source": [
            "https://basemap.nationalmap.gov/arcgis/rest/services/USGSImageryOnly/MapServer/tile/{z}/{y}/{x}"
           ],
           "sourceattribution": "United States Geological Survey",
           "sourcetype": "raster"
          },
          {
           "source": [
            "https://geo.weather.gc.ca/geomet/?SERVICE=WMS&VERSION=1.3.0&REQUEST=GetMap&BBOX={bbox-epsg-3857}&CRS=EPSG:3857&WIDTH=1000&HEIGHT=1000&LAYERS=RADAR_1KM_RDBR&TILED=true&FORMAT=image/png"
           ],
           "sourceattribution": "Government of Canada",
           "sourcetype": "raster"
          }
         ],
         "pitch": 0,
         "style": "white-bg",
         "zoom": 8
        },
        "margin": {
         "b": 0,
         "l": 0,
         "r": 0,
         "t": 0
        },
        "showlegend": true,
        "template": {
         "data": {
          "bar": [
           {
            "error_x": {
             "color": "#2a3f5f"
            },
            "error_y": {
             "color": "#2a3f5f"
            },
            "marker": {
             "line": {
              "color": "#E5ECF6",
              "width": 0.5
             },
             "pattern": {
              "fillmode": "overlay",
              "size": 10,
              "solidity": 0.2
             }
            },
            "type": "bar"
           }
          ],
          "barpolar": [
           {
            "marker": {
             "line": {
              "color": "#E5ECF6",
              "width": 0.5
             },
             "pattern": {
              "fillmode": "overlay",
              "size": 10,
              "solidity": 0.2
             }
            },
            "type": "barpolar"
           }
          ],
          "carpet": [
           {
            "aaxis": {
             "endlinecolor": "#2a3f5f",
             "gridcolor": "white",
             "linecolor": "white",
             "minorgridcolor": "white",
             "startlinecolor": "#2a3f5f"
            },
            "baxis": {
             "endlinecolor": "#2a3f5f",
             "gridcolor": "white",
             "linecolor": "white",
             "minorgridcolor": "white",
             "startlinecolor": "#2a3f5f"
            },
            "type": "carpet"
           }
          ],
          "choropleth": [
           {
            "colorbar": {
             "outlinewidth": 0,
             "ticks": ""
            },
            "type": "choropleth"
           }
          ],
          "contour": [
           {
            "colorbar": {
             "outlinewidth": 0,
             "ticks": ""
            },
            "colorscale": [
             [
              0,
              "#0d0887"
             ],
             [
              0.1111111111111111,
              "#46039f"
             ],
             [
              0.2222222222222222,
              "#7201a8"
             ],
             [
              0.3333333333333333,
              "#9c179e"
             ],
             [
              0.4444444444444444,
              "#bd3786"
             ],
             [
              0.5555555555555556,
              "#d8576b"
             ],
             [
              0.6666666666666666,
              "#ed7953"
             ],
             [
              0.7777777777777778,
              "#fb9f3a"
             ],
             [
              0.8888888888888888,
              "#fdca26"
             ],
             [
              1,
              "#f0f921"
             ]
            ],
            "type": "contour"
           }
          ],
          "contourcarpet": [
           {
            "colorbar": {
             "outlinewidth": 0,
             "ticks": ""
            },
            "type": "contourcarpet"
           }
          ],
          "heatmap": [
           {
            "colorbar": {
             "outlinewidth": 0,
             "ticks": ""
            },
            "colorscale": [
             [
              0,
              "#0d0887"
             ],
             [
              0.1111111111111111,
              "#46039f"
             ],
             [
              0.2222222222222222,
              "#7201a8"
             ],
             [
              0.3333333333333333,
              "#9c179e"
             ],
             [
              0.4444444444444444,
              "#bd3786"
             ],
             [
              0.5555555555555556,
              "#d8576b"
             ],
             [
              0.6666666666666666,
              "#ed7953"
             ],
             [
              0.7777777777777778,
              "#fb9f3a"
             ],
             [
              0.8888888888888888,
              "#fdca26"
             ],
             [
              1,
              "#f0f921"
             ]
            ],
            "type": "heatmap"
           }
          ],
          "heatmapgl": [
           {
            "colorbar": {
             "outlinewidth": 0,
             "ticks": ""
            },
            "colorscale": [
             [
              0,
              "#0d0887"
             ],
             [
              0.1111111111111111,
              "#46039f"
             ],
             [
              0.2222222222222222,
              "#7201a8"
             ],
             [
              0.3333333333333333,
              "#9c179e"
             ],
             [
              0.4444444444444444,
              "#bd3786"
             ],
             [
              0.5555555555555556,
              "#d8576b"
             ],
             [
              0.6666666666666666,
              "#ed7953"
             ],
             [
              0.7777777777777778,
              "#fb9f3a"
             ],
             [
              0.8888888888888888,
              "#fdca26"
             ],
             [
              1,
              "#f0f921"
             ]
            ],
            "type": "heatmapgl"
           }
          ],
          "histogram": [
           {
            "marker": {
             "pattern": {
              "fillmode": "overlay",
              "size": 10,
              "solidity": 0.2
             }
            },
            "type": "histogram"
           }
          ],
          "histogram2d": [
           {
            "colorbar": {
             "outlinewidth": 0,
             "ticks": ""
            },
            "colorscale": [
             [
              0,
              "#0d0887"
             ],
             [
              0.1111111111111111,
              "#46039f"
             ],
             [
              0.2222222222222222,
              "#7201a8"
             ],
             [
              0.3333333333333333,
              "#9c179e"
             ],
             [
              0.4444444444444444,
              "#bd3786"
             ],
             [
              0.5555555555555556,
              "#d8576b"
             ],
             [
              0.6666666666666666,
              "#ed7953"
             ],
             [
              0.7777777777777778,
              "#fb9f3a"
             ],
             [
              0.8888888888888888,
              "#fdca26"
             ],
             [
              1,
              "#f0f921"
             ]
            ],
            "type": "histogram2d"
           }
          ],
          "histogram2dcontour": [
           {
            "colorbar": {
             "outlinewidth": 0,
             "ticks": ""
            },
            "colorscale": [
             [
              0,
              "#0d0887"
             ],
             [
              0.1111111111111111,
              "#46039f"
             ],
             [
              0.2222222222222222,
              "#7201a8"
             ],
             [
              0.3333333333333333,
              "#9c179e"
             ],
             [
              0.4444444444444444,
              "#bd3786"
             ],
             [
              0.5555555555555556,
              "#d8576b"
             ],
             [
              0.6666666666666666,
              "#ed7953"
             ],
             [
              0.7777777777777778,
              "#fb9f3a"
             ],
             [
              0.8888888888888888,
              "#fdca26"
             ],
             [
              1,
              "#f0f921"
             ]
            ],
            "type": "histogram2dcontour"
           }
          ],
          "mesh3d": [
           {
            "colorbar": {
             "outlinewidth": 0,
             "ticks": ""
            },
            "type": "mesh3d"
           }
          ],
          "parcoords": [
           {
            "line": {
             "colorbar": {
              "outlinewidth": 0,
              "ticks": ""
             }
            },
            "type": "parcoords"
           }
          ],
          "pie": [
           {
            "automargin": true,
            "type": "pie"
           }
          ],
          "scatter": [
           {
            "fillpattern": {
             "fillmode": "overlay",
             "size": 10,
             "solidity": 0.2
            },
            "type": "scatter"
           }
          ],
          "scatter3d": [
           {
            "line": {
             "colorbar": {
              "outlinewidth": 0,
              "ticks": ""
             }
            },
            "marker": {
             "colorbar": {
              "outlinewidth": 0,
              "ticks": ""
             }
            },
            "type": "scatter3d"
           }
          ],
          "scattercarpet": [
           {
            "marker": {
             "colorbar": {
              "outlinewidth": 0,
              "ticks": ""
             }
            },
            "type": "scattercarpet"
           }
          ],
          "scattergeo": [
           {
            "marker": {
             "colorbar": {
              "outlinewidth": 0,
              "ticks": ""
             }
            },
            "type": "scattergeo"
           }
          ],
          "scattergl": [
           {
            "marker": {
             "colorbar": {
              "outlinewidth": 0,
              "ticks": ""
             }
            },
            "type": "scattergl"
           }
          ],
          "scattermapbox": [
           {
            "marker": {
             "colorbar": {
              "outlinewidth": 0,
              "ticks": ""
             }
            },
            "type": "scattermapbox"
           }
          ],
          "scatterpolar": [
           {
            "marker": {
             "colorbar": {
              "outlinewidth": 0,
              "ticks": ""
             }
            },
            "type": "scatterpolar"
           }
          ],
          "scatterpolargl": [
           {
            "marker": {
             "colorbar": {
              "outlinewidth": 0,
              "ticks": ""
             }
            },
            "type": "scatterpolargl"
           }
          ],
          "scatterternary": [
           {
            "marker": {
             "colorbar": {
              "outlinewidth": 0,
              "ticks": ""
             }
            },
            "type": "scatterternary"
           }
          ],
          "surface": [
           {
            "colorbar": {
             "outlinewidth": 0,
             "ticks": ""
            },
            "colorscale": [
             [
              0,
              "#0d0887"
             ],
             [
              0.1111111111111111,
              "#46039f"
             ],
             [
              0.2222222222222222,
              "#7201a8"
             ],
             [
              0.3333333333333333,
              "#9c179e"
             ],
             [
              0.4444444444444444,
              "#bd3786"
             ],
             [
              0.5555555555555556,
              "#d8576b"
             ],
             [
              0.6666666666666666,
              "#ed7953"
             ],
             [
              0.7777777777777778,
              "#fb9f3a"
             ],
             [
              0.8888888888888888,
              "#fdca26"
             ],
             [
              1,
              "#f0f921"
             ]
            ],
            "type": "surface"
           }
          ],
          "table": [
           {
            "cells": {
             "fill": {
              "color": "#EBF0F8"
             },
             "line": {
              "color": "white"
             }
            },
            "header": {
             "fill": {
              "color": "#C8D4E3"
             },
             "line": {
              "color": "white"
             }
            },
            "type": "table"
           }
          ]
         },
         "layout": {
          "annotationdefaults": {
           "arrowcolor": "#2a3f5f",
           "arrowhead": 0,
           "arrowwidth": 1
          },
          "autotypenumbers": "strict",
          "coloraxis": {
           "colorbar": {
            "outlinewidth": 0,
            "ticks": ""
           }
          },
          "colorscale": {
           "diverging": [
            [
             0,
             "#8e0152"
            ],
            [
             0.1,
             "#c51b7d"
            ],
            [
             0.2,
             "#de77ae"
            ],
            [
             0.3,
             "#f1b6da"
            ],
            [
             0.4,
             "#fde0ef"
            ],
            [
             0.5,
             "#f7f7f7"
            ],
            [
             0.6,
             "#e6f5d0"
            ],
            [
             0.7,
             "#b8e186"
            ],
            [
             0.8,
             "#7fbc41"
            ],
            [
             0.9,
             "#4d9221"
            ],
            [
             1,
             "#276419"
            ]
           ],
           "sequential": [
            [
             0,
             "#0d0887"
            ],
            [
             0.1111111111111111,
             "#46039f"
            ],
            [
             0.2222222222222222,
             "#7201a8"
            ],
            [
             0.3333333333333333,
             "#9c179e"
            ],
            [
             0.4444444444444444,
             "#bd3786"
            ],
            [
             0.5555555555555556,
             "#d8576b"
            ],
            [
             0.6666666666666666,
             "#ed7953"
            ],
            [
             0.7777777777777778,
             "#fb9f3a"
            ],
            [
             0.8888888888888888,
             "#fdca26"
            ],
            [
             1,
             "#f0f921"
            ]
           ],
           "sequentialminus": [
            [
             0,
             "#0d0887"
            ],
            [
             0.1111111111111111,
             "#46039f"
            ],
            [
             0.2222222222222222,
             "#7201a8"
            ],
            [
             0.3333333333333333,
             "#9c179e"
            ],
            [
             0.4444444444444444,
             "#bd3786"
            ],
            [
             0.5555555555555556,
             "#d8576b"
            ],
            [
             0.6666666666666666,
             "#ed7953"
            ],
            [
             0.7777777777777778,
             "#fb9f3a"
            ],
            [
             0.8888888888888888,
             "#fdca26"
            ],
            [
             1,
             "#f0f921"
            ]
           ]
          },
          "colorway": [
           "#636efa",
           "#EF553B",
           "#00cc96",
           "#ab63fa",
           "#FFA15A",
           "#19d3f3",
           "#FF6692",
           "#B6E880",
           "#FF97FF",
           "#FECB52"
          ],
          "font": {
           "color": "#2a3f5f"
          },
          "geo": {
           "bgcolor": "white",
           "lakecolor": "white",
           "landcolor": "#E5ECF6",
           "showlakes": true,
           "showland": true,
           "subunitcolor": "white"
          },
          "hoverlabel": {
           "align": "left"
          },
          "hovermode": "closest",
          "mapbox": {
           "style": "light"
          },
          "paper_bgcolor": "white",
          "plot_bgcolor": "#E5ECF6",
          "polar": {
           "angularaxis": {
            "gridcolor": "white",
            "linecolor": "white",
            "ticks": ""
           },
           "bgcolor": "#E5ECF6",
           "radialaxis": {
            "gridcolor": "white",
            "linecolor": "white",
            "ticks": ""
           }
          },
          "scene": {
           "xaxis": {
            "backgroundcolor": "#E5ECF6",
            "gridcolor": "white",
            "gridwidth": 2,
            "linecolor": "white",
            "showbackground": true,
            "ticks": "",
            "zerolinecolor": "white"
           },
           "yaxis": {
            "backgroundcolor": "#E5ECF6",
            "gridcolor": "white",
            "gridwidth": 2,
            "linecolor": "white",
            "showbackground": true,
            "ticks": "",
            "zerolinecolor": "white"
           },
           "zaxis": {
            "backgroundcolor": "#E5ECF6",
            "gridcolor": "white",
            "gridwidth": 2,
            "linecolor": "white",
            "showbackground": true,
            "ticks": "",
            "zerolinecolor": "white"
           }
          },
          "shapedefaults": {
           "line": {
            "color": "#2a3f5f"
           }
          },
          "ternary": {
           "aaxis": {
            "gridcolor": "white",
            "linecolor": "white",
            "ticks": ""
           },
           "baxis": {
            "gridcolor": "white",
            "linecolor": "white",
            "ticks": ""
           },
           "bgcolor": "#E5ECF6",
           "caxis": {
            "gridcolor": "white",
            "linecolor": "white",
            "ticks": ""
           }
          },
          "title": {
           "x": 0.05
          },
          "xaxis": {
           "automargin": true,
           "gridcolor": "white",
           "linecolor": "white",
           "ticks": "",
           "title": {
            "standoff": 15
           },
           "zerolinecolor": "white",
           "zerolinewidth": 2
          },
          "yaxis": {
           "automargin": true,
           "gridcolor": "white",
           "linecolor": "white",
           "ticks": "",
           "title": {
            "standoff": 15
           },
           "zerolinecolor": "white",
           "zerolinewidth": 2
          }
         }
        }
       }
      }
     },
     "metadata": {},
     "output_type": "display_data"
    }
   ],
   "source": [
    "plotting.create_slant_plots(initial_slantdf,inst_lat,inst_lon)"
   ]
  },
  {
   "cell_type": "markdown",
   "metadata": {},
   "source": [
    "5. STILT uses receptor heights **above ground level** not above sea level, so we must account for this. To do so, we use surface height elevation from HRRR .grib2 files."
   ]
  },
  {
   "cell_type": "code",
   "execution_count": 8,
   "metadata": {},
   "outputs": [],
   "source": [
    "# Running this will load the xarray dataset and dataframe from a hrrr file. If it isn't downloaded already, it will be downloaded to the hrrr_subset path. \n",
    "hrrr_elev_xarr_ds,hrrr_elev_df = gsh.load_hrrr_surf_hgts()"
   ]
  },
  {
   "cell_type": "markdown",
   "metadata": {},
   "source": [
    "With the hrrr dataset loaded, we now need to find the surface height for each point in our receptor slant_df. Basically we take the lat/lon of the receptor and find the nearest grid cell in the hrrr dataset by setting a distance value for each centerpoint. From the minimum distance value, we grab the surface elevation. "
   ]
  },
  {
   "cell_type": "code",
   "execution_count": 9,
   "metadata": {},
   "outputs": [],
   "source": [
    "# This shows how we are getting the surface elevation for a point. In this case, we use the instrument location and extract the height. This is ac.get_nearest_from_grid()\n",
    "lat_name='gridlat_0'\n",
    "lon_name='gridlon_0'\n",
    "pt_lat = inst_lat\n",
    "pt_lon = inst_lon\n",
    "colname_to_extract='HGT_P0_L1_GLC0'\n",
    "df = hrrr_elev_df.loc[(hrrr_elev_df[lon_name]>=pt_lon-.1)&\n",
    "            (hrrr_elev_df[lon_name]<=pt_lon+.1)&\n",
    "            (hrrr_elev_df[lat_name]>=pt_lat-.1)&\n",
    "            (hrrr_elev_df[lat_name]<=pt_lat+.1)] #filter df to 0.1 degrees around the point to speed up processs\n",
    "df['dist'] = np.vectorize(ac.haversine)(df[lat_name],df[lon_name],pt_lat,pt_lon) #add a distance column for each subpoint using haversine\n",
    "idx = df['dist'].idxmin() #find the minimum distance\n",
    "nearest = df.loc[idx]\n",
    "surface_height = df.loc[idx][colname_to_extract] #return the value requested"
   ]
  },
  {
   "cell_type": "code",
   "execution_count": 10,
   "metadata": {},
   "outputs": [
    {
     "name": "stdout",
     "output_type": "stream",
     "text": [
      "<urlopen error [Errno 8] nodename nor servname provided, or not known><urlopen error [Errno 8] nodename nor servname provided, or not known>\n",
      "<urlopen error [Errno 8] nodename nor servname provided, or not known>\n",
      "<urlopen error [Errno 8] nodename nor servname provided, or not known>\n",
      "<urlopen error [Errno 8] nodename nor servname provided, or not known>\n",
      "<urlopen error [Errno 8] nodename nor servname provided, or not known>\n",
      "<urlopen error [Errno 8] nodename nor servname provided, or not known>\n",
      "<urlopen error [Errno 8] nodename nor servname provided, or not known>\n",
      "<urlopen error [Errno 8] nodename nor servname provided, or not known>\n",
      "<urlopen error [Errno 8] nodename nor servname provided, or not known>\n",
      "<urlopen error [Errno 8] nodename nor servname provided, or not known>\n",
      "\n",
      "<urlopen error [Errno 8] nodename nor servname provided, or not known>\n",
      "<urlopen error [Errno 8] nodename nor servname provided, or not known>\n",
      "<urlopen error [Errno 8] nodename nor servname provided, or not known>\n",
      "<urlopen error [Errno 8] nodename nor servname provided, or not known>\n",
      "<urlopen error [Errno 8] nodename nor servname provided, or not known>\n",
      "<urlopen error [Errno 8] nodename nor servname provided, or not known>\n",
      "<urlopen error [Errno 8] nodename nor servname provided, or not known>\n",
      "<urlopen error [Errno 8] nodename nor servname provided, or not known>\n",
      "<urlopen error [Errno 8] nodename nor servname provided, or not known>\n"
     ]
    },
    {
     "data": {
      "image/png": "[encoded data removed]",
      "text/plain": [
       "<Figure size 1000x1000 with 2 Axes>"
      ]
     },
     "metadata": {},
     "output_type": "display_data"
    }
   ],
   "source": [
    "center_pt = [inst_lat,inst_lon]\n",
    "zoom = 0.1\n",
    "extent = [center_pt[1]-(zoom*1.7),center_pt[1]+(zoom*1.7),center_pt[0]-zoom,center_pt[0]+zoom] # adjust to zoom\n",
    "proj = ccrs.PlateCarree()\n",
    "fig = plt.figure(figsize=(10,10))\n",
    "ax = plt.axes(projection = proj)\n",
    "ax.set_extent(extent,crs=proj)\n",
    "request = cimgt.QuadtreeTiles()\n",
    "scale = np.ceil(-np.sqrt(2)*np.log(np.divide(zoom,350.0))) # empirical solve for scale based on zoom\n",
    "ax.add_image(request,int(scale))\n",
    "ax.scatter(center_pt[1],center_pt[0],marker='x',color='red',s=100)\n",
    "map = hrrr_elev_xarr_ds.HGT_P0_L1_GLC0.plot.pcolormesh('gridlon_0','gridlat_0',ax = ax,alpha=0.5,vmin=0,vmax=4000,cmap='Reds',add_colorbar=False)\n",
    "plt.colorbar(map,fraction=0.02,label ='Geopotential height (m above sea level)')\n",
    "plt.scatter(hrrr_elev_xarr_ds.gridlon_0,hrrr_elev_xarr_ds.gridlat_0,s=3)\n",
    "plt.scatter(inst_lon,inst_lat,s=30,c='black')\n",
    "plt.text(inst_lon,inst_lat,'requested')\n",
    "plt.scatter(nearest['gridlon_0'],nearest['gridlat_0'],s=30,c='blue')\n",
    "plt.text(nearest['gridlon_0'],nearest['gridlat_0'],f'nearest = {round(surface_height,1)} MASL')\n",
    "plt.show()"
   ]
  },
  {
   "cell_type": "markdown",
   "metadata": {},
   "source": [
    "Using the above, we adapt the slant_df to have the surface elevations and the appropriate \"above ground level\" elevations for each receptor. We also add a column that indicates whether the receptor is actually above the ground level. In the case of a low sun angle over the mountains, the receptor points can be \"below ground level\" so we want to know which points this is true for. "
   ]
  },
  {
   "cell_type": "code",
   "execution_count": 11,
   "metadata": {},
   "outputs": [],
   "source": [
    "slant_df = ac.add_sh_and_agl(initial_slantdf,hrrr_elev_df)"
   ]
  },
  {
   "cell_type": "markdown",
   "metadata": {},
   "source": [
    "Now we can plot the slant column with the above ground level information."
   ]
  },
  {
   "cell_type": "code",
   "execution_count": 12,
   "metadata": {},
   "outputs": [
    {
     "data": {
      "application/vnd.plotly.v1+json": {
       "config": {
        "plotlyServerURL": "https://plot.ly"
       },
       "data": [
        {
         "customdata": [
          [
           0,
           1492,
           1485.138427734375,
           6.861572265625
          ],
          [
           25,
           1517,
           1485.138427734375,
           31.861572265625
          ],
          [
           50,
           1542,
           1485.138427734375,
           56.861572265625
          ],
          [
           75,
           1567,
           1485.138427734375,
           81.861572265625
          ],
          [
           100,
           1592,
           1485.138427734375,
           106.861572265625
          ],
          [
           150,
           1642,
           1485.138427734375,
           156.861572265625
          ],
          [
           200,
           1692,
           1485.138427734375,
           206.861572265625
          ],
          [
           300,
           1792,
           1485.138427734375,
           306.861572265625
          ],
          [
           400,
           1892,
           1485.138427734375,
           406.861572265625
          ],
          [
           600,
           2092,
           1485.138427734375,
           606.861572265625
          ],
          [
           1000,
           2492,
           1485.138427734375,
           1006.861572265625
          ],
          [
           1500,
           2992,
           1485.138427734375,
           1506.861572265625
          ],
          [
           2000,
           3492,
           1485.138427734375,
           2006.861572265625
          ],
          [
           2500,
           3992,
           1485.138427734375,
           2506.861572265625
          ]
         ],
         "hovertemplate": "<b>z above inst = %{customdata[0]:.0f}m </b><br><b>z above msl = %{customdata[1]:.0f}m </b><br><b>surface msl = %{customdata[2]:.0f}m </b><br><b>z above ground = %{customdata[3]:.0f}m </b><br>longitude: %{lon:.3f}<br>latitude: %{lat:.3f}<br>",
         "lat": [
          40.76600000000001,
          40.765936402414596,
          40.76587280471816,
          40.76580920691071,
          40.76574560899223,
          40.76561841282226,
          40.76549121620822,
          40.765236821647996,
          40.76498242531159,
          40.764473627310316,
          40.76345600999486,
          40.76218394839117,
          40.76091184239159,
          40.75963969199975
         ],
         "lon": [
          -111.847,
          -111.84688716773024,
          -111.84677433567562,
          -111.84666150383612,
          -111.84654867221172,
          -111.84632300960831,
          -111.84609734786538,
          -111.84564602696089,
          -111.84519470949826,
          -111.84429208489843,
          -111.84248687699947,
          -111.84023044456188,
          -111.83797409816053,
          -111.83571783779128
         ],
         "marker": {
          "size": 10
         },
         "mode": "markers+lines",
         "name": "2022-06-16 18:00:00 UTC",
         "type": "scattermapbox"
        }
       ],
       "layout": {
        "height": 400,
        "hovermode": "closest",
        "mapbox": {
         "bearing": 0,
         "center": {
          "lat": 40.766,
          "lon": -111.847
         },
         "layers": [
          {
           "below": "traces",
           "source": [
            "https://basemap.nationalmap.gov/arcgis/rest/services/USGSImageryOnly/MapServer/tile/{z}/{y}/{x}"
           ],
           "sourceattribution": "United States Geological Survey",
           "sourcetype": "raster"
          },
          {
           "source": [
            "https://geo.weather.gc.ca/geomet/?SERVICE=WMS&VERSION=1.3.0&REQUEST=GetMap&BBOX={bbox-epsg-3857}&CRS=EPSG:3857&WIDTH=1000&HEIGHT=1000&LAYERS=RADAR_1KM_RDBR&TILED=true&FORMAT=image/png"
           ],
           "sourceattribution": "Government of Canada",
           "sourcetype": "raster"
          }
         ],
         "pitch": 0,
         "style": "white-bg",
         "zoom": 8
        },
        "margin": {
         "b": 0,
         "l": 0,
         "r": 0,
         "t": 0
        },
        "showlegend": true,
        "template": {
         "data": {
          "bar": [
           {
            "error_x": {
             "color": "#2a3f5f"
            },
            "error_y": {
             "color": "#2a3f5f"
            },
            "marker": {
             "line": {
              "color": "#E5ECF6",
              "width": 0.5
             },
             "pattern": {
              "fillmode": "overlay",
              "size": 10,
              "solidity": 0.2
             }
            },
            "type": "bar"
           }
          ],
          "barpolar": [
           {
            "marker": {
             "line": {
              "color": "#E5ECF6",
              "width": 0.5
             },
             "pattern": {
              "fillmode": "overlay",
              "size": 10,
              "solidity": 0.2
             }
            },
            "type": "barpolar"
           }
          ],
          "carpet": [
           {
            "aaxis": {
             "endlinecolor": "#2a3f5f",
             "gridcolor": "white",
             "linecolor": "white",
             "minorgridcolor": "white",
             "startlinecolor": "#2a3f5f"
            },
            "baxis": {
             "endlinecolor": "#2a3f5f",
             "gridcolor": "white",
             "linecolor": "white",
             "minorgridcolor": "white",
             "startlinecolor": "#2a3f5f"
            },
            "type": "carpet"
           }
          ],
          "choropleth": [
           {
            "colorbar": {
             "outlinewidth": 0,
             "ticks": ""
            },
            "type": "choropleth"
           }
          ],
          "contour": [
           {
            "colorbar": {
             "outlinewidth": 0,
             "ticks": ""
            },
            "colorscale": [
             [
              0,
              "#0d0887"
             ],
             [
              0.1111111111111111,
              "#46039f"
             ],
             [
              0.2222222222222222,
              "#7201a8"
             ],
             [
              0.3333333333333333,
              "#9c179e"
             ],
             [
              0.4444444444444444,
              "#bd3786"
             ],
             [
              0.5555555555555556,
              "#d8576b"
             ],
             [
              0.6666666666666666,
              "#ed7953"
             ],
             [
              0.7777777777777778,
              "#fb9f3a"
             ],
             [
              0.8888888888888888,
              "#fdca26"
             ],
             [
              1,
              "#f0f921"
             ]
            ],
            "type": "contour"
           }
          ],
          "contourcarpet": [
           {
            "colorbar": {
             "outlinewidth": 0,
             "ticks": ""
            },
            "type": "contourcarpet"
           }
          ],
          "heatmap": [
           {
            "colorbar": {
             "outlinewidth": 0,
             "ticks": ""
            },
            "colorscale": [
             [
              0,
              "#0d0887"
             ],
             [
              0.1111111111111111,
              "#46039f"
             ],
             [
              0.2222222222222222,
              "#7201a8"
             ],
             [
              0.3333333333333333,
              "#9c179e"
             ],
             [
              0.4444444444444444,
              "#bd3786"
             ],
             [
              0.5555555555555556,
              "#d8576b"
             ],
             [
              0.6666666666666666,
              "#ed7953"
             ],
             [
              0.7777777777777778,
              "#fb9f3a"
             ],
             [
              0.8888888888888888,
              "#fdca26"
             ],
             [
              1,
              "#f0f921"
             ]
            ],
            "type": "heatmap"
           }
          ],
          "heatmapgl": [
           {
            "colorbar": {
             "outlinewidth": 0,
             "ticks": ""
            },
            "colorscale": [
             [
              0,
              "#0d0887"
             ],
             [
              0.1111111111111111,
              "#46039f"
             ],
             [
              0.2222222222222222,
              "#7201a8"
             ],
             [
              0.3333333333333333,
              "#9c179e"
             ],
             [
              0.4444444444444444,
              "#bd3786"
             ],
             [
              0.5555555555555556,
              "#d8576b"
             ],
             [
              0.6666666666666666,
              "#ed7953"
             ],
             [
              0.7777777777777778,
              "#fb9f3a"
             ],
             [
              0.8888888888888888,
              "#fdca26"
             ],
             [
              1,
              "#f0f921"
             ]
            ],
            "type": "heatmapgl"
           }
          ],
          "histogram": [
           {
            "marker": {
             "pattern": {
              "fillmode": "overlay",
              "size": 10,
              "solidity": 0.2
             }
            },
            "type": "histogram"
           }
          ],
          "histogram2d": [
           {
            "colorbar": {
             "outlinewidth": 0,
             "ticks": ""
            },
            "colorscale": [
             [
              0,
              "#0d0887"
             ],
             [
              0.1111111111111111,
              "#46039f"
             ],
             [
              0.2222222222222222,
              "#7201a8"
             ],
             [
              0.3333333333333333,
              "#9c179e"
             ],
             [
              0.4444444444444444,
              "#bd3786"
             ],
             [
              0.5555555555555556,
              "#d8576b"
             ],
             [
              0.6666666666666666,
              "#ed7953"
             ],
             [
              0.7777777777777778,
              "#fb9f3a"
             ],
             [
              0.8888888888888888,
              "#fdca26"
             ],
             [
              1,
              "#f0f921"
             ]
            ],
            "type": "histogram2d"
           }
          ],
          "histogram2dcontour": [
           {
            "colorbar": {
             "outlinewidth": 0,
             "ticks": ""
            },
            "colorscale": [
             [
              0,
              "#0d0887"
             ],
             [
              0.1111111111111111,
              "#46039f"
             ],
             [
              0.2222222222222222,
              "#7201a8"
             ],
             [
              0.3333333333333333,
              "#9c179e"
             ],
             [
              0.4444444444444444,
              "#bd3786"
             ],
             [
              0.5555555555555556,
              "#d8576b"
             ],
             [
              0.6666666666666666,
              "#ed7953"
             ],
             [
              0.7777777777777778,
              "#fb9f3a"
             ],
             [
              0.8888888888888888,
              "#fdca26"
             ],
             [
              1,
              "#f0f921"
             ]
            ],
            "type": "histogram2dcontour"
           }
          ],
          "mesh3d": [
           {
            "colorbar": {
             "outlinewidth": 0,
             "ticks": ""
            },
            "type": "mesh3d"
           }
          ],
          "parcoords": [
           {
            "line": {
             "colorbar": {
              "outlinewidth": 0,
              "ticks": ""
             }
            },
            "type": "parcoords"
           }
          ],
          "pie": [
           {
            "automargin": true,
            "type": "pie"
           }
          ],
          "scatter": [
           {
            "fillpattern": {
             "fillmode": "overlay",
             "size": 10,
             "solidity": 0.2
            },
            "type": "scatter"
           }
          ],
          "scatter3d": [
           {
            "line": {
             "colorbar": {
              "outlinewidth": 0,
              "ticks": ""
             }
            },
            "marker": {
             "colorbar": {
              "outlinewidth": 0,
              "ticks": ""
             }
            },
            "type": "scatter3d"
           }
          ],
          "scattercarpet": [
           {
            "marker": {
             "colorbar": {
              "outlinewidth": 0,
              "ticks": ""
             }
            },
            "type": "scattercarpet"
           }
          ],
          "scattergeo": [
           {
            "marker": {
             "colorbar": {
              "outlinewidth": 0,
              "ticks": ""
             }
            },
            "type": "scattergeo"
           }
          ],
          "scattergl": [
           {
            "marker": {
             "colorbar": {
              "outlinewidth": 0,
              "ticks": ""
             }
            },
            "type": "scattergl"
           }
          ],
          "scattermapbox": [
           {
            "marker": {
             "colorbar": {
              "outlinewidth": 0,
              "ticks": ""
             }
            },
            "type": "scattermapbox"
           }
          ],
          "scatterpolar": [
           {
            "marker": {
             "colorbar": {
              "outlinewidth": 0,
              "ticks": ""
             }
            },
            "type": "scatterpolar"
           }
          ],
          "scatterpolargl": [
           {
            "marker": {
             "colorbar": {
              "outlinewidth": 0,
              "ticks": ""
             }
            },
            "type": "scatterpolargl"
           }
          ],
          "scatterternary": [
           {
            "marker": {
             "colorbar": {
              "outlinewidth": 0,
              "ticks": ""
             }
            },
            "type": "scatterternary"
           }
          ],
          "surface": [
           {
            "colorbar": {
             "outlinewidth": 0,
             "ticks": ""
            },
            "colorscale": [
             [
              0,
              "#0d0887"
             ],
             [
              0.1111111111111111,
              "#46039f"
             ],
             [
              0.2222222222222222,
              "#7201a8"
             ],
             [
              0.3333333333333333,
              "#9c179e"
             ],
             [
              0.4444444444444444,
              "#bd3786"
             ],
             [
              0.5555555555555556,
              "#d8576b"
             ],
             [
              0.6666666666666666,
              "#ed7953"
             ],
             [
              0.7777777777777778,
              "#fb9f3a"
             ],
             [
              0.8888888888888888,
              "#fdca26"
             ],
             [
              1,
              "#f0f921"
             ]
            ],
            "type": "surface"
           }
          ],
          "table": [
           {
            "cells": {
             "fill": {
              "color": "#EBF0F8"
             },
             "line": {
              "color": "white"
             }
            },
            "header": {
             "fill": {
              "color": "#C8D4E3"
             },
             "line": {
              "color": "white"
             }
            },
            "type": "table"
           }
          ]
         },
         "layout": {
          "annotationdefaults": {
           "arrowcolor": "#2a3f5f",
           "arrowhead": 0,
           "arrowwidth": 1
          },
          "autotypenumbers": "strict",
          "coloraxis": {
           "colorbar": {
            "outlinewidth": 0,
            "ticks": ""
           }
          },
          "colorscale": {
           "diverging": [
            [
             0,
             "#8e0152"
            ],
            [
             0.1,
             "#c51b7d"
            ],
            [
             0.2,
             "#de77ae"
            ],
            [
             0.3,
             "#f1b6da"
            ],
            [
             0.4,
             "#fde0ef"
            ],
            [
             0.5,
             "#f7f7f7"
            ],
            [
             0.6,
             "#e6f5d0"
            ],
            [
             0.7,
             "#b8e186"
            ],
            [
             0.8,
             "#7fbc41"
            ],
            [
             0.9,
             "#4d9221"
            ],
            [
             1,
             "#276419"
            ]
           ],
           "sequential": [
            [
             0,
             "#0d0887"
            ],
            [
             0.1111111111111111,
             "#46039f"
            ],
            [
             0.2222222222222222,
             "#7201a8"
            ],
            [
             0.3333333333333333,
             "#9c179e"
            ],
            [
             0.4444444444444444,
             "#bd3786"
            ],
            [
             0.5555555555555556,
             "#d8576b"
            ],
            [
             0.6666666666666666,
             "#ed7953"
            ],
            [
             0.7777777777777778,
             "#fb9f3a"
            ],
            [
             0.8888888888888888,
             "#fdca26"
            ],
            [
             1,
             "#f0f921"
            ]
           ],
           "sequentialminus": [
            [
             0,
             "#0d0887"
            ],
            [
             0.1111111111111111,
             "#46039f"
            ],
            [
             0.2222222222222222,
             "#7201a8"
            ],
            [
             0.3333333333333333,
             "#9c179e"
            ],
            [
             0.4444444444444444,
             "#bd3786"
            ],
            [
             0.5555555555555556,
             "#d8576b"
            ],
            [
             0.6666666666666666,
             "#ed7953"
            ],
            [
             0.7777777777777778,
             "#fb9f3a"
            ],
            [
             0.8888888888888888,
             "#fdca26"
            ],
            [
             1,
             "#f0f921"
            ]
           ]
          },
          "colorway": [
           "#636efa",
           "#EF553B",
           "#00cc96",
           "#ab63fa",
           "#FFA15A",
           "#19d3f3",
           "#FF6692",
           "#B6E880",
           "#FF97FF",
           "#FECB52"
          ],
          "font": {
           "color": "#2a3f5f"
          },
          "geo": {
           "bgcolor": "white",
           "lakecolor": "white",
           "landcolor": "#E5ECF6",
           "showlakes": true,
           "showland": true,
           "subunitcolor": "white"
          },
          "hoverlabel": {
           "align": "left"
          },
          "hovermode": "closest",
          "mapbox": {
           "style": "light"
          },
          "paper_bgcolor": "white",
          "plot_bgcolor": "#E5ECF6",
          "polar": {
           "angularaxis": {
            "gridcolor": "white",
            "linecolor": "white",
            "ticks": ""
           },
           "bgcolor": "#E5ECF6",
           "radialaxis": {
            "gridcolor": "white",
            "linecolor": "white",
            "ticks": ""
           }
          },
          "scene": {
           "xaxis": {
            "backgroundcolor": "#E5ECF6",
            "gridcolor": "white",
            "gridwidth": 2,
            "linecolor": "white",
            "showbackground": true,
            "ticks": "",
            "zerolinecolor": "white"
           },
           "yaxis": {
            "backgroundcolor": "#E5ECF6",
            "gridcolor": "white",
            "gridwidth": 2,
            "linecolor": "white",
            "showbackground": true,
            "ticks": "",
            "zerolinecolor": "white"
           },
           "zaxis": {
            "backgroundcolor": "#E5ECF6",
            "gridcolor": "white",
            "gridwidth": 2,
            "linecolor": "white",
            "showbackground": true,
            "ticks": "",
            "zerolinecolor": "white"
           }
          },
          "shapedefaults": {
           "line": {
            "color": "#2a3f5f"
           }
          },
          "ternary": {
           "aaxis": {
            "gridcolor": "white",
            "linecolor": "white",
            "ticks": ""
           },
           "baxis": {
            "gridcolor": "white",
            "linecolor": "white",
            "ticks": ""
           },
           "bgcolor": "#E5ECF6",
           "caxis": {
            "gridcolor": "white",
            "linecolor": "white",
            "ticks": ""
           }
          },
          "title": {
           "x": 0.05
          },
          "xaxis": {
           "automargin": true,
           "gridcolor": "white",
           "linecolor": "white",
           "ticks": "",
           "title": {
            "standoff": 15
           },
           "zerolinecolor": "white",
           "zerolinewidth": 2
          },
          "yaxis": {
           "automargin": true,
           "gridcolor": "white",
           "linecolor": "white",
           "ticks": "",
           "title": {
            "standoff": 15
           },
           "zerolinecolor": "white",
           "zerolinewidth": 2
          }
         }
        }
       }
      }
     },
     "metadata": {},
     "output_type": "display_data"
    }
   ],
   "source": [
    "plotting.create_slant_plots(slant_df,inst_lat,inst_lon)"
   ]
  },
  {
   "attachments": {},
   "cell_type": "markdown",
   "metadata": {},
   "source": [
    "### The above shows the slant column creation from a single, manual instrument location and datetime. We also want to be able to create these for periods of time at specified intervals. This will allow us to get a receptor column for a full day/days."
   ]
  },
  {
   "attachments": {},
   "cell_type": "markdown",
   "metadata": {},
   "source": [
    "1. Setup things much like above, this time with a range for our datetimes and a specified interval. "
   ]
  },
  {
   "cell_type": "code",
   "execution_count": 17,
   "metadata": {},
   "outputs": [],
   "source": [
    "# hrrr_subset_path = '/uufs/chpc.utah.edu/common/home/u0890904/LAIR_1/Data/hrrr/subsets' #path with a hrrr folder included, or will be created\n",
    "hrrr_subset_path = '/Users/agmeyer4/LAIR_1/Data/hrrr/subsets' #path with a hrrr folder included, or will be created\n",
    "hrrr_subset_datestr = '2022-07-01 00:00' #this is the date that we want to take the surface information from. They should be all the same.\n",
    "\n",
    "#Define instrument parameters\n",
    "inst_lat = 40.766\n",
    "inst_lon = -111.847\n",
    "inst_zasl = 1492 #instrument elevation in meters above sea level\n",
    "\n",
    "#define datetime range and interval parameters\n",
    "dt1_str = '2022-06-16 00:00:00'#start datetime\n",
    "dt2_str = '2022-06-17 00:00:00' #end datetime\n",
    "interval = '1H' #interval at which we want our dataframe\n",
    "timezone = 'UTC' #this should nearly always be UTC, but can identify if your datetime strings above are in a different timezone\n",
    "\n",
    "#Define the heights above the instrument (in m) from which we would like to release particles\n",
    "z_ail_list = [0,25,50,75,100,150,200,300,400,600,1000,1500,2000,2500]\n",
    "\n",
    "#Now format the datetime and timezone into useful formats\n",
    "dt1 = ac.dtstr_to_dttz(dt1_str,timezone)\n",
    "dt2 = ac.dtstr_to_dttz(dt2_str,timezone)\n"
   ]
  },
  {
   "attachments": {},
   "cell_type": "markdown",
   "metadata": {},
   "source": [
    "2. Create the ground slant handler and use the run_slant_at_intervals function to get our correct multiindexed dataframe for all receptor levels. "
   ]
  },
  {
   "cell_type": "code",
   "execution_count": 18,
   "metadata": {},
   "outputs": [
    {
     "name": "stdout",
     "output_type": "stream",
     "text": [
      "Adding receptor lat/lons along the slant column\n",
      "Adding surface height and receptor elevation above ground level\n"
     ]
    }
   ],
   "source": [
    "gsh = ac.ground_slant_handler(inst_lat,inst_lon,inst_zasl,z_ail_list,hrrr_subset_path,hrrr_subset_datestr)\n",
    "slant_df = gsh.run_slant_at_intervals(dt1,dt2)"
   ]
  },
  {
   "attachments": {},
   "cell_type": "markdown",
   "metadata": {},
   "source": [
    "3. We can now plot this range of slant columns. "
   ]
  },
  {
   "cell_type": "code",
   "execution_count": 19,
   "metadata": {},
   "outputs": [
    {
     "data": {
      "application/vnd.plotly.v1+json": {
       "config": {
        "plotlyServerURL": "https://plot.ly"
       },
       "data": [
        {
         "customdata": [
          [
           0,
           1492,
           1485.138427734375,
           6.861572265625
          ],
          [
           25,
           1517,
           1485.138427734375,
           31.861572265625
          ],
          [
           50,
           1542,
           1485.138427734375,
           56.861572265625
          ],
          [
           75,
           1567,
           1485.138427734375,
           81.861572265625
          ],
          [
           100,
           1592,
           1485.138427734375,
           106.861572265625
          ],
          [
           150,
           1642,
           1485.138427734375,
           156.861572265625
          ],
          [
           200,
           1692,
           1485.138427734375,
           206.861572265625
          ],
          [
           300,
           1792,
           1704.419677734375,
           87.580322265625
          ],
          [
           400,
           1892,
           1704.419677734375,
           187.580322265625
          ],
          [
           600,
           2092,
           1434.794677734375,
           657.205322265625
          ],
          [
           1000,
           2492,
           1434.794677734375,
           1057.205322265625
          ],
          [
           1500,
           2992,
           1434.794677734375,
           1557.205322265625
          ],
          [
           2000,
           3492,
           1434.794677734375,
           2057.205322265625
          ],
          [
           2500,
           3992,
           1303.513427734375,
           2688.486572265625
          ]
         ],
         "hovertemplate": "<b>z above inst = %{customdata[0]:.0f}m </b><br><b>z above msl = %{customdata[1]:.0f}m </b><br><b>surface msl = %{customdata[2]:.0f}m </b><br><b>z above ground = %{customdata[3]:.0f}m </b><br>longitude: %{lon:.3f}<br>latitude: %{lat:.3f}<br>",
         "lat": [
          40.766,
          40.76603271567258,
          40.7660654293056,
          40.76609814089904,
          40.7661308504529,
          40.766196263441884,
          40.7662616682725,
          40.76639245345851,
          40.76652320601067,
          40.766784613212316,
          40.76730703599719,
          40.76795933017101,
          40.76861080841573,
          40.76926147069696
         ],
         "lon": [
          -111.847,
          -111.84748514082811,
          -111.84797028213204,
          -111.84845542391173,
          -111.84894056616716,
          -111.84991085210511,
          -111.85088113994568,
          -111.85282172133374,
          -111.8547623103295,
          -111.8586435111368,
          -111.86640600396314,
          -111.87610929086678,
          -111.88581276741279,
          -111.89551643337187
         ],
         "marker": {
          "size": 10
         },
         "mode": "markers+lines",
         "name": "2022-06-16 00:00:00 UTC",
         "type": "scattermapbox"
        },
        {
         "customdata": [
          [
           0,
           1492,
           1485.138427734375,
           6.861572265625
          ],
          [
           25,
           1517,
           1485.138427734375,
           31.861572265625
          ],
          [
           50,
           1542,
           1485.138427734375,
           56.861572265625
          ],
          [
           75,
           1567,
           1485.138427734375,
           81.861572265625
          ],
          [
           100,
           1592,
           1704.419677734375,
           -112.419677734375
          ],
          [
           150,
           1642,
           1704.419677734375,
           -62.419677734375
          ],
          [
           200,
           1692,
           1704.419677734375,
           -12.419677734375
          ],
          [
           300,
           1792,
           1434.794677734375,
           357.205322265625
          ],
          [
           400,
           1892,
           1434.794677734375,
           457.205322265625
          ],
          [
           600,
           2092,
           1434.794677734375,
           657.205322265625
          ],
          [
           1000,
           2492,
           1434.794677734375,
           1057.205322265625
          ],
          [
           1500,
           2992,
           1303.513427734375,
           1688.486572265625
          ],
          [
           2000,
           3492,
           1303.513427734375,
           2188.486572265625
          ],
          [
           2500,
           3992,
           1303.513427734375,
           2688.486572265625
          ]
         ],
         "hovertemplate": "<b>z above inst = %{customdata[0]:.0f}m </b><br><b>z above msl = %{customdata[1]:.0f}m </b><br><b>surface msl = %{customdata[2]:.0f}m </b><br><b>z above ground = %{customdata[3]:.0f}m </b><br>longitude: %{lon:.3f}<br>latitude: %{lat:.3f}<br>",
         "lat": [
          40.766000000000005,
          40.766148508505104,
          40.76629701167985,
          40.7664455095242,
          40.7665940020381,
          40.76689097107434,
          40.76718791878815,
          40.76778175024689,
          40.76837549641104,
          40.76956273284247,
          40.77193618202623,
          40.77490107383761,
          40.77786383230256,
          40.78082445701237
         ],
         "lon": [
          -111.847,
          -111.84778404172869,
          -111.84856808694795,
          -111.84935213565768,
          -111.85013618785781,
          -111.85170430272886,
          -111.85327243156037,
          -111.8564087311018,
          -111.85954508647625,
          -111.8658179647008,
          -111.87836439088862,
          -111.89404867890008,
          -111.90973436097934,
          -111.92542143639281
         ],
         "marker": {
          "size": 10
         },
         "mode": "markers+lines",
         "name": "2022-06-16 01:00:00 UTC",
         "type": "scattermapbox"
        },
        {
         "customdata": [
          [
           0,
           1492,
           1485.138427734375,
           6.861572265625
          ],
          [
           25,
           1517,
           1485.138427734375,
           31.861572265625
          ],
          [
           50,
           1542,
           1704.419677734375,
           -162.419677734375
          ],
          [
           75,
           1567,
           1704.419677734375,
           -137.419677734375
          ],
          [
           100,
           1592,
           1704.419677734375,
           -112.419677734375
          ],
          [
           150,
           1642,
           1434.794677734375,
           207.205322265625
          ],
          [
           200,
           1692,
           1434.794677734375,
           257.205322265625
          ],
          [
           300,
           1792,
           1434.794677734375,
           357.205322265625
          ],
          [
           400,
           1892,
           1434.794677734375,
           457.205322265625
          ],
          [
           600,
           2092,
           1434.794677734375,
           657.205322265625
          ],
          [
           1000,
           2492,
           1377.919677734375,
           1114.080322265625
          ],
          [
           1500,
           2992,
           1288.575927734375,
           1703.424072265625
          ],
          [
           2000,
           3492,
           1287.575927734375,
           2204.424072265625
          ],
          [
           2500,
           3992,
           1287.482177734375,
           2704.517822265625
          ]
         ],
         "hovertemplate": "<b>z above inst = %{customdata[0]:.0f}m </b><br><b>z above msl = %{customdata[1]:.0f}m </b><br><b>surface msl = %{customdata[2]:.0f}m </b><br><b>z above ground = %{customdata[3]:.0f}m </b><br>longitude: %{lon:.3f}<br>latitude: %{lat:.3f}<br>",
         "lat": [
          40.766000000000005,
          40.766528008065826,
          40.76705599259747,
          40.76758395359413,
          40.768111891055,
          40.76916769536619,
          40.77022340552461,
          40.77233454335746,
          40.77444530450222,
          40.778665696522076,
          40.78710195804546,
          40.79763880099583,
          40.808166211341124,
          40.81868418266427
         ],
         "lon": [
          -111.847,
          -111.84864632894303,
          -111.85029268394578,
          -111.85193906500795,
          -111.8535854721293,
          -111.85687836454848,
          -111.86017136120121,
          -111.86675766719893,
          -111.8733443901056,
          -111.88651908657842,
          -111.91287348168771,
          -111.94582585322651,
          -111.97878864237771,
          -112.01176184697862
         ],
         "marker": {
          "size": 10
         },
         "mode": "markers+lines",
         "name": "2022-06-16 02:00:00 UTC",
         "type": "scattermapbox"
        },
        {
         "customdata": [
          [
           0,
           1492,
           1485.138427734375,
           6.861572265625
          ],
          [
           25,
           1517,
           1907.138427734375,
           -390.138427734375
          ],
          [
           50,
           1542,
           2045.857177734375,
           -503.857177734375
          ],
          [
           75,
           1567,
           2322.450927734375,
           -755.450927734375
          ],
          [
           100,
           1592,
           2325.857177734375,
           -733.857177734375
          ],
          [
           150,
           1642,
           1935.419677734375,
           -293.419677734375
          ],
          [
           200,
           1692,
           2053.857177734375,
           -361.857177734375
          ],
          [
           300,
           1792,
           1842.388427734375,
           -50.388427734375
          ],
          [
           400,
           1892,
           2087.857177734375,
           -195.857177734375
          ],
          [
           600,
           2092,
           2215.075927734375,
           -123.075927734375
          ],
          [
           1000,
           2492,
           2024.575927734375,
           467.424072265625
          ],
          [
           1500,
           2992,
           2073.325927734375,
           918.674072265625
          ],
          [
           2000,
           3492,
           2159.138427734375,
           1332.861572265625
          ],
          [
           2500,
           3992,
           1991.513427734375,
           2000.486572265625
          ]
         ],
         "hovertemplate": "<b>z above inst = %{customdata[0]:.0f}m </b><br><b>z above msl = %{customdata[1]:.0f}m </b><br><b>surface msl = %{customdata[2]:.0f}m </b><br><b>z above ground = %{customdata[3]:.0f}m </b><br>longitude: %{lon:.3f}<br>latitude: %{lat:.3f}<br>",
         "lat": [
          40.766000000000005,
          40.78362088768161,
          40.80122946793097,
          40.81882572677241,
          40.83640965022069,
          40.87154043494935,
          40.90662171004521,
          40.97663528229498,
          41.046449467377656,
          41.18547606571224,
          41.461096770695306,
          41.80098630708512,
          42.1356166483654,
          42.46487113306845
         ],
         "lon": [
          -111.847,
          -111.80940635580977,
          -111.7717928421375,
          -111.73415944999188,
          -111.69650617041366,
          -111.6211399132834,
          -111.54569399971889,
          -111.39456292178568,
          -111.24311237888836,
          -110.93925071010507,
          -110.327670216668,
          -109.55592101912505,
          -108.77603598627735,
          -107.98796323075682
         ],
         "marker": {
          "size": 10
         },
         "mode": "markers+lines",
         "name": "2022-06-16 12:00:00 UTC",
         "type": "scattermapbox"
        },
        {
         "customdata": [
          [
           0,
           1492,
           1485.138427734375,
           6.861572265625
          ],
          [
           25,
           1517,
           1485.138427734375,
           31.861572265625
          ],
          [
           50,
           1542,
           1485.138427734375,
           56.861572265625
          ],
          [
           75,
           1567,
           1704.419677734375,
           -137.419677734375
          ],
          [
           100,
           1592,
           1704.419677734375,
           -112.419677734375
          ],
          [
           150,
           1642,
           1704.419677734375,
           -62.419677734375
          ],
          [
           200,
           1692,
           1704.419677734375,
           -12.419677734375
          ],
          [
           300,
           1792,
           1704.419677734375,
           87.580322265625
          ],
          [
           400,
           1892,
           1704.419677734375,
           187.580322265625
          ],
          [
           600,
           2092,
           1907.138427734375,
           184.861572265625
          ],
          [
           1000,
           2492,
           2045.857177734375,
           446.142822265625
          ],
          [
           1500,
           2992,
           2045.857177734375,
           946.142822265625
          ],
          [
           2000,
           3492,
           1959.763427734375,
           1532.236572265625
          ],
          [
           2500,
           3992,
           2325.857177734375,
           1666.142822265625
          ]
         ],
         "hovertemplate": "<b>z above inst = %{customdata[0]:.0f}m </b><br><b>z above msl = %{customdata[1]:.0f}m </b><br><b>surface msl = %{customdata[2]:.0f}m </b><br><b>z above ground = %{customdata[3]:.0f}m </b><br>longitude: %{lon:.3f}<br>latitude: %{lat:.3f}<br>",
         "lat": [
          40.766000000000005,
          40.76647942908542,
          40.76695883763097,
          40.767438225636006,
          40.76791759309989,
          40.76887626640165,
          40.76983485753119,
          40.77175179325321,
          40.773668400225276,
          40.77750062775674,
          40.785161136029586,
          40.79472936778244,
          40.80428936857956,
          40.81384113333578
         ],
         "lon": [
          -111.847,
          -111.8454618765986,
          -111.84392373109037,
          -111.84238556347552,
          -111.84084737375431,
          -111.83777092799386,
          -111.83469439381103,
          -111.8285410601865,
          -111.82238737289697,
          -111.81007893738841,
          -111.78545782311228,
          -111.75467347551493,
          -111.72388029123604,
          -111.69307827235973
         ],
         "marker": {
          "size": 10
         },
         "mode": "markers+lines",
         "name": "2022-06-16 13:00:00 UTC",
         "type": "scattermapbox"
        },
        {
         "customdata": [
          [
           0,
           1492,
           1485.138427734375,
           6.861572265625
          ],
          [
           25,
           1517,
           1485.138427734375,
           31.861572265625
          ],
          [
           50,
           1542,
           1485.138427734375,
           56.861572265625
          ],
          [
           75,
           1567,
           1485.138427734375,
           81.861572265625
          ],
          [
           100,
           1592,
           1485.138427734375,
           106.861572265625
          ],
          [
           150,
           1642,
           1485.138427734375,
           156.861572265625
          ],
          [
           200,
           1692,
           1485.138427734375,
           206.861572265625
          ],
          [
           300,
           1792,
           1485.138427734375,
           306.861572265625
          ],
          [
           400,
           1892,
           1485.138427734375,
           406.861572265625
          ],
          [
           600,
           2092,
           1704.419677734375,
           387.580322265625
          ],
          [
           1000,
           2492,
           1907.138427734375,
           584.861572265625
          ],
          [
           1500,
           2992,
           1907.138427734375,
           1084.861572265625
          ],
          [
           2000,
           3492,
           1907.138427734375,
           1584.861572265625
          ],
          [
           2500,
           3992,
           2045.857177734375,
           1946.142822265625
          ]
         ],
         "hovertemplate": "<b>z above inst = %{customdata[0]:.0f}m </b><br><b>z above msl = %{customdata[1]:.0f}m </b><br><b>surface msl = %{customdata[2]:.0f}m </b><br><b>z above ground = %{customdata[3]:.0f}m </b><br>longitude: %{lon:.3f}<br>latitude: %{lat:.3f}<br>",
         "lat": [
          40.766000000000005,
          40.76613723980375,
          40.76627447465322,
          40.76641170454842,
          40.76654892948928,
          40.7668233645078,
          40.76709777970845,
          40.7676465506547,
          40.76819524232523,
          40.769292387827846,
          40.77148572740063,
          40.77422561769885,
          40.77696352526066,
          40.779699449735034
         ],
         "lon": [
          -111.847,
          -111.84624410222567,
          -111.84548820134142,
          -111.84473229734735,
          -111.84397639024353,
          -111.842464566707,
          -111.84095273073247,
          -111.83792902147219,
          -111.83490526246811,
          -111.82885759525014,
          -111.8167616641263,
          -111.80164063187776,
          -111.78651835765636,
          -111.77139484213903
         ],
         "marker": {
          "size": 10
         },
         "mode": "markers+lines",
         "name": "2022-06-16 14:00:00 UTC",
         "type": "scattermapbox"
        },
        {
         "customdata": [
          [
           0,
           1492,
           1485.138427734375,
           6.861572265625
          ],
          [
           25,
           1517,
           1485.138427734375,
           31.861572265625
          ],
          [
           50,
           1542,
           1485.138427734375,
           56.861572265625
          ],
          [
           75,
           1567,
           1485.138427734375,
           81.861572265625
          ],
          [
           100,
           1592,
           1485.138427734375,
           106.861572265625
          ],
          [
           150,
           1642,
           1485.138427734375,
           156.861572265625
          ],
          [
           200,
           1692,
           1485.138427734375,
           206.861572265625
          ],
          [
           300,
           1792,
           1485.138427734375,
           306.861572265625
          ],
          [
           400,
           1892,
           1485.138427734375,
           406.861572265625
          ],
          [
           600,
           2092,
           1485.138427734375,
           606.861572265625
          ],
          [
           1000,
           2492,
           1485.138427734375,
           1006.861572265625
          ],
          [
           1500,
           2992,
           1778.294677734375,
           1213.705322265625
          ],
          [
           2000,
           3492,
           1778.294677734375,
           1713.705322265625
          ],
          [
           2500,
           3992,
           1778.294677734375,
           2213.705322265625
          ]
         ],
         "hovertemplate": "<b>z above inst = %{customdata[0]:.0f}m </b><br><b>z above msl = %{customdata[1]:.0f}m </b><br><b>surface msl = %{customdata[2]:.0f}m </b><br><b>z above ground = %{customdata[3]:.0f}m </b><br>longitude: %{lon:.3f}<br>latitude: %{lat:.3f}<br>",
         "lat": [
          40.766000000000005,
          40.76602813295694,
          40.76605626398746,
          40.76608439309153,
          40.766112520269175,
          40.766168768845134,
          40.766225009715306,
          40.76633746833817,
          40.766449896137544,
          40.76667465926493,
          40.76712381562795,
          40.76768456751622,
          40.76824454875009,
          40.76880375930162
         ],
         "lon": [
          -111.847,
          -111.8465285022995,
          -111.84605700420138,
          -111.84558550570564,
          -111.84511400681232,
          -111.84417100783301,
          -111.84322800726366,
          -111.84134200135573,
          -111.83945598909018,
          -111.83568394549313,
          -111.82813978208257,
          -111.81870943505346,
          -111.80927892959348,
          -111.79984826591473
         ],
         "marker": {
          "size": 10
         },
         "mode": "markers+lines",
         "name": "2022-06-16 15:00:00 UTC",
         "type": "scattermapbox"
        },
        {
         "customdata": [
          [
           0,
           1492,
           1485.138427734375,
           6.861572265625
          ],
          [
           25,
           1517,
           1485.138427734375,
           31.861572265625
          ],
          [
           50,
           1542,
           1485.138427734375,
           56.861572265625
          ],
          [
           75,
           1567,
           1485.138427734375,
           81.861572265625
          ],
          [
           100,
           1592,
           1485.138427734375,
           106.861572265625
          ],
          [
           150,
           1642,
           1485.138427734375,
           156.861572265625
          ],
          [
           200,
           1692,
           1485.138427734375,
           206.861572265625
          ],
          [
           300,
           1792,
           1485.138427734375,
           306.861572265625
          ],
          [
           400,
           1892,
           1485.138427734375,
           406.861572265625
          ],
          [
           600,
           2092,
           1485.138427734375,
           606.861572265625
          ],
          [
           1000,
           2492,
           1485.138427734375,
           1006.861572265625
          ],
          [
           1500,
           2992,
           1485.138427734375,
           1506.861572265625
          ],
          [
           2000,
           3492,
           1485.138427734375,
           2006.861572265625
          ],
          [
           2500,
           3992,
           1778.294677734375,
           2213.705322265625
          ]
         ],
         "hovertemplate": "<b>z above inst = %{customdata[0]:.0f}m </b><br><b>z above msl = %{customdata[1]:.0f}m </b><br><b>surface msl = %{customdata[2]:.0f}m </b><br><b>z above ground = %{customdata[3]:.0f}m </b><br>longitude: %{lon:.3f}<br>latitude: %{lat:.3f}<br>",
         "lat": [
          40.766000000000005,
          40.765977555759875,
          40.76595511067689,
          40.765932664751055,
          40.76591021798236,
          40.765865321916436,
          40.7658204224791,
          40.765730613490305,
          40.76564079101604,
          40.765461105611436,
          40.76510157298009,
          40.76465185378091,
          40.764201797468665,
          40.76375140405315
         ],
         "lon": [
          -111.847,
          -111.84668813060297,
          -111.8463762614158,
          -111.84606439243848,
          -111.84575252367102,
          -111.8451287867657,
          -111.84450505069991,
          -111.84325758108713,
          -111.84201011483319,
          -111.83951519240374,
          -111.83452538787212,
          -111.8282882078612,
          -111.8220511119664,
          -111.81581410024825
         ],
         "marker": {
          "size": 10
         },
         "mode": "markers+lines",
         "name": "2022-06-16 16:00:00 UTC",
         "type": "scattermapbox"
        },
        {
         "customdata": [
          [
           0,
           1492,
           1485.138427734375,
           6.861572265625
          ],
          [
           25,
           1517,
           1485.138427734375,
           31.861572265625
          ],
          [
           50,
           1542,
           1485.138427734375,
           56.861572265625
          ],
          [
           75,
           1567,
           1485.138427734375,
           81.861572265625
          ],
          [
           100,
           1592,
           1485.138427734375,
           106.861572265625
          ],
          [
           150,
           1642,
           1485.138427734375,
           156.861572265625
          ],
          [
           200,
           1692,
           1485.138427734375,
           206.861572265625
          ],
          [
           300,
           1792,
           1485.138427734375,
           306.861572265625
          ],
          [
           400,
           1892,
           1485.138427734375,
           406.861572265625
          ],
          [
           600,
           2092,
           1485.138427734375,
           606.861572265625
          ],
          [
           1000,
           2492,
           1485.138427734375,
           1006.861572265625
          ],
          [
           1500,
           2992,
           1485.138427734375,
           1506.861572265625
          ],
          [
           2000,
           3492,
           1485.138427734375,
           2006.861572265625
          ],
          [
           2500,
           3992,
           1485.138427734375,
           2506.861572265625
          ]
         ],
         "hovertemplate": "<b>z above inst = %{customdata[0]:.0f}m </b><br><b>z above msl = %{customdata[1]:.0f}m </b><br><b>surface msl = %{customdata[2]:.0f}m </b><br><b>z above ground = %{customdata[3]:.0f}m </b><br>longitude: %{lon:.3f}<br>latitude: %{lat:.3f}<br>",
         "lat": [
          40.766000000000005,
          40.76595073332954,
          40.76590146630848,
          40.765852198936805,
          40.765802931214516,
          40.765704394718156,
          40.76560585681938,
          40.76540877681465,
          40.765211691200406,
          40.76481750314367,
          40.76402905971914,
          40.7630433792362,
          40.762057558536824,
          40.76107159762995
         ],
         "lon": [
          -111.847,
          -111.8467989667617,
          -111.84659793382032,
          -111.84639690117585,
          -111.8461958688283,
          -111.84579380502396,
          -111.8453917424073,
          -111.84458762073707,
          -111.84378350381769,
          -111.84217528423173,
          -111.83895890207316,
          -111.83493853128107,
          -111.8309182792822,
          -111.82689814608577
         ],
         "marker": {
          "size": 10
         },
         "mode": "markers+lines",
         "name": "2022-06-16 17:00:00 UTC",
         "type": "scattermapbox"
        },
        {
         "customdata": [
          [
           0,
           1492,
           1485.138427734375,
           6.861572265625
          ],
          [
           25,
           1517,
           1485.138427734375,
           31.861572265625
          ],
          [
           50,
           1542,
           1485.138427734375,
           56.861572265625
          ],
          [
           75,
           1567,
           1485.138427734375,
           81.861572265625
          ],
          [
           100,
           1592,
           1485.138427734375,
           106.861572265625
          ],
          [
           150,
           1642,
           1485.138427734375,
           156.861572265625
          ],
          [
           200,
           1692,
           1485.138427734375,
           206.861572265625
          ],
          [
           300,
           1792,
           1485.138427734375,
           306.861572265625
          ],
          [
           400,
           1892,
           1485.138427734375,
           406.861572265625
          ],
          [
           600,
           2092,
           1485.138427734375,
           606.861572265625
          ],
          [
           1000,
           2492,
           1485.138427734375,
           1006.861572265625
          ],
          [
           1500,
           2992,
           1485.138427734375,
           1506.861572265625
          ],
          [
           2000,
           3492,
           1485.138427734375,
           2006.861572265625
          ],
          [
           2500,
           3992,
           1485.138427734375,
           2506.861572265625
          ]
         ],
         "hovertemplate": "<b>z above inst = %{customdata[0]:.0f}m </b><br><b>z above msl = %{customdata[1]:.0f}m </b><br><b>surface msl = %{customdata[2]:.0f}m </b><br><b>z above ground = %{customdata[3]:.0f}m </b><br>longitude: %{lon:.3f}<br>latitude: %{lat:.3f}<br>",
         "lat": [
          40.76600000000001,
          40.765936402414596,
          40.76587280471816,
          40.76580920691071,
          40.76574560899223,
          40.76561841282226,
          40.76549121620822,
          40.765236821647996,
          40.76498242531159,
          40.764473627310316,
          40.76345600999486,
          40.76218394839117,
          40.76091184239159,
          40.75963969199975
         ],
         "lon": [
          -111.847,
          -111.84688716773024,
          -111.84677433567562,
          -111.84666150383612,
          -111.84654867221172,
          -111.84632300960831,
          -111.84609734786538,
          -111.84564602696089,
          -111.84519470949826,
          -111.84429208489843,
          -111.84248687699947,
          -111.84023044456188,
          -111.83797409816053,
          -111.83571783779128
         ],
         "marker": {
          "size": 10
         },
         "mode": "markers+lines",
         "name": "2022-06-16 18:00:00 UTC",
         "type": "scattermapbox"
        },
        {
         "customdata": [
          [
           0,
           1492,
           1485.138427734375,
           6.861572265625
          ],
          [
           25,
           1517,
           1485.138427734375,
           31.861572265625
          ],
          [
           50,
           1542,
           1485.138427734375,
           56.861572265625
          ],
          [
           75,
           1567,
           1485.138427734375,
           81.861572265625
          ],
          [
           100,
           1592,
           1485.138427734375,
           106.861572265625
          ],
          [
           150,
           1642,
           1485.138427734375,
           156.861572265625
          ],
          [
           200,
           1692,
           1485.138427734375,
           206.861572265625
          ],
          [
           300,
           1792,
           1485.138427734375,
           306.861572265625
          ],
          [
           400,
           1892,
           1485.138427734375,
           406.861572265625
          ],
          [
           600,
           2092,
           1485.138427734375,
           606.861572265625
          ],
          [
           1000,
           2492,
           1485.138427734375,
           1006.861572265625
          ],
          [
           1500,
           2992,
           1485.138427734375,
           1506.861572265625
          ],
          [
           2000,
           3492,
           1485.138427734375,
           2006.861572265625
          ],
          [
           2500,
           3992,
           1485.138427734375,
           2506.861572265625
          ]
         ],
         "hovertemplate": "<b>z above inst = %{customdata[0]:.0f}m </b><br><b>z above msl = %{customdata[1]:.0f}m </b><br><b>surface msl = %{customdata[2]:.0f}m </b><br><b>z above ground = %{customdata[3]:.0f}m </b><br>longitude: %{lon:.3f}<br>latitude: %{lat:.3f}<br>",
         "lat": [
          40.766000000000005,
          40.765930146402745,
          40.765860292793995,
          40.765790439173735,
          40.76572058554196,
          40.7655808782439,
          40.76544117089983,
          40.7651617560736,
          40.76488234106329,
          40.764323510490414,
          40.7632058471358,
          40.761808763801106,
          40.7604116758652,
          40.759014583328465
         ],
         "lon": [
          -111.847,
          -111.8469649289063,
          -111.84692985788605,
          -111.84689478693925,
          -111.84685971606586,
          -111.84678957453946,
          -111.8467194333068,
          -111.84657915172279,
          -111.8464388713138,
          -111.84615831402077,
          -111.84559721353409,
          -111.84489586436032,
          -111.84419454455589,
          -111.8434932541182
         ],
         "marker": {
          "size": 10
         },
         "mode": "markers+lines",
         "name": "2022-06-16 19:00:00 UTC",
         "type": "scattermapbox"
        },
        {
         "customdata": [
          [
           0,
           1492,
           1485.138427734375,
           6.861572265625
          ],
          [
           25,
           1517,
           1485.138427734375,
           31.861572265625
          ],
          [
           50,
           1542,
           1485.138427734375,
           56.861572265625
          ],
          [
           75,
           1567,
           1485.138427734375,
           81.861572265625
          ],
          [
           100,
           1592,
           1485.138427734375,
           106.861572265625
          ],
          [
           150,
           1642,
           1485.138427734375,
           156.861572265625
          ],
          [
           200,
           1692,
           1485.138427734375,
           206.861572265625
          ],
          [
           300,
           1792,
           1485.138427734375,
           306.861572265625
          ],
          [
           400,
           1892,
           1485.138427734375,
           406.861572265625
          ],
          [
           600,
           2092,
           1485.138427734375,
           606.861572265625
          ],
          [
           1000,
           2492,
           1485.138427734375,
           1006.861572265625
          ],
          [
           1500,
           2992,
           1485.138427734375,
           1506.861572265625
          ],
          [
           2000,
           3492,
           1485.138427734375,
           2006.861572265625
          ],
          [
           2500,
           3992,
           1485.138427734375,
           2506.861572265625
          ]
         ],
         "hovertemplate": "<b>z above inst = %{customdata[0]:.0f}m </b><br><b>z above msl = %{customdata[1]:.0f}m </b><br><b>surface msl = %{customdata[2]:.0f}m </b><br><b>z above ground = %{customdata[3]:.0f}m </b><br>longitude: %{lon:.3f}<br>latitude: %{lat:.3f}<br>",
         "lat": [
          40.76600000000001,
          40.76593034462605,
          40.76586068923757,
          40.76579103383458,
          40.76572137841706,
          40.76558206753849,
          40.765442756601836,
          40.765164134554325,
          40.76488551227452,
          40.76432826701807,
          40.76321377371793,
          40.761820651867005,
          40.760427524210144,
          40.759034390747836
         ],
         "lon": [
          -111.847,
          -111.84703972676682,
          -111.84707945345072,
          -111.84711918005164,
          -111.8471589065696,
          -111.8472383593567,
          -111.84731781181195,
          -111.84747671572704,
          -111.8476356183149,
          -111.84795341950903,
          -111.84858900597153,
          -111.84938345919082,
          -111.8501778792363,
          -111.85097226611086
         ],
         "marker": {
          "size": 10
         },
         "mode": "markers+lines",
         "name": "2022-06-16 20:00:00 UTC",
         "type": "scattermapbox"
        },
        {
         "customdata": [
          [
           0,
           1492,
           1485.138427734375,
           6.861572265625
          ],
          [
           25,
           1517,
           1485.138427734375,
           31.861572265625
          ],
          [
           50,
           1542,
           1485.138427734375,
           56.861572265625
          ],
          [
           75,
           1567,
           1485.138427734375,
           81.861572265625
          ],
          [
           100,
           1592,
           1485.138427734375,
           106.861572265625
          ],
          [
           150,
           1642,
           1485.138427734375,
           156.861572265625
          ],
          [
           200,
           1692,
           1485.138427734375,
           206.861572265625
          ],
          [
           300,
           1792,
           1485.138427734375,
           306.861572265625
          ],
          [
           400,
           1892,
           1485.138427734375,
           406.861572265625
          ],
          [
           600,
           2092,
           1485.138427734375,
           606.861572265625
          ],
          [
           1000,
           2492,
           1485.138427734375,
           1006.861572265625
          ],
          [
           1500,
           2992,
           1337.919677734375,
           1654.080322265625
          ],
          [
           2000,
           3492,
           1337.919677734375,
           2154.080322265625
          ],
          [
           2500,
           3992,
           1337.919677734375,
           2654.080322265625
          ]
         ],
         "hovertemplate": "<b>z above inst = %{customdata[0]:.0f}m </b><br><b>z above msl = %{customdata[1]:.0f}m </b><br><b>surface msl = %{customdata[2]:.0f}m </b><br><b>z above ground = %{customdata[3]:.0f}m </b><br>longitude: %{lon:.3f}<br>latitude: %{lat:.3f}<br>",
         "lat": [
          40.766,
          40.76593704483059,
          40.76587408954006,
          40.765811134128455,
          40.765748178595715,
          40.76562226716696,
          40.765496355253816,
          40.765244529974304,
          40.76499270275722,
          40.764489042510476,
          40.76348169876753,
          40.7622224754987,
          40.76096320380006,
          40.759703883675506
         ],
         "lon": [
          -111.847,
          -111.84711788501463,
          -111.84723576980679,
          -111.84735365437645,
          -111.84747153872364,
          -111.84770730675056,
          -111.84794307388755,
          -111.84841460549178,
          -111.84888613353634,
          -111.8498291789466,
          -111.85171522705255,
          -111.8540727070977,
          -111.85643009816064,
          -111.85878740024529
         ],
         "marker": {
          "size": 10
         },
         "mode": "markers+lines",
         "name": "2022-06-16 21:00:00 UTC",
         "type": "scattermapbox"
        },
        {
         "customdata": [
          [
           0,
           1492,
           1485.138427734375,
           6.861572265625
          ],
          [
           25,
           1517,
           1485.138427734375,
           31.861572265625
          ],
          [
           50,
           1542,
           1485.138427734375,
           56.861572265625
          ],
          [
           75,
           1567,
           1485.138427734375,
           81.861572265625
          ],
          [
           100,
           1592,
           1485.138427734375,
           106.861572265625
          ],
          [
           150,
           1642,
           1485.138427734375,
           156.861572265625
          ],
          [
           200,
           1692,
           1485.138427734375,
           206.861572265625
          ],
          [
           300,
           1792,
           1485.138427734375,
           306.861572265625
          ],
          [
           400,
           1892,
           1485.138427734375,
           406.861572265625
          ],
          [
           600,
           2092,
           1485.138427734375,
           606.861572265625
          ],
          [
           1000,
           2492,
           1337.919677734375,
           1154.080322265625
          ],
          [
           1500,
           2992,
           1337.919677734375,
           1654.080322265625
          ],
          [
           2000,
           3492,
           1337.919677734375,
           2154.080322265625
          ],
          [
           2500,
           3992,
           1337.919677734375,
           2654.080322265625
          ]
         ],
         "hovertemplate": "<b>z above inst = %{customdata[0]:.0f}m </b><br><b>z above msl = %{customdata[1]:.0f}m </b><br><b>surface msl = %{customdata[2]:.0f}m </b><br><b>z above ground = %{customdata[3]:.0f}m </b><br>longitude: %{lon:.3f}<br>latitude: %{lat:.3f}<br>",
         "lat": [
          40.766000000000005,
          40.76595199322596,
          40.76590398608008,
          40.76585597856239,
          40.76580797067287,
          40.76571195377837,
          40.765615935396596,
          40.765423894171256,
          40.76523184699691,
          40.76484773480155,
          40.76407943902612,
          40.763118935466665,
          40.76215828320449,
          40.761197482248846
         ],
         "lon": [
          -111.847,
          -111.84720703996537,
          -111.8474140796328,
          -111.84762111900224,
          -111.84782815807371,
          -111.84824223532276,
          -111.84865631137991,
          -111.84948445991849,
          -111.85031260368935,
          -111.8519688769276,
          -111.85528136618774,
          -111.859421870475,
          -111.86356225554321,
          -111.86770252138143
         ],
         "marker": {
          "size": 10
         },
         "mode": "markers+lines",
         "name": "2022-06-16 22:00:00 UTC",
         "type": "scattermapbox"
        },
        {
         "customdata": [
          [
           0,
           1492,
           1485.138427734375,
           6.861572265625
          ],
          [
           25,
           1517,
           1485.138427734375,
           31.861572265625
          ],
          [
           50,
           1542,
           1485.138427734375,
           56.861572265625
          ],
          [
           75,
           1567,
           1485.138427734375,
           81.861572265625
          ],
          [
           100,
           1592,
           1485.138427734375,
           106.861572265625
          ],
          [
           150,
           1642,
           1485.138427734375,
           156.861572265625
          ],
          [
           200,
           1692,
           1485.138427734375,
           206.861572265625
          ],
          [
           300,
           1792,
           1485.138427734375,
           306.861572265625
          ],
          [
           400,
           1892,
           1485.138427734375,
           406.861572265625
          ],
          [
           600,
           2092,
           1485.138427734375,
           606.861572265625
          ],
          [
           1000,
           2492,
           1337.919677734375,
           1154.080322265625
          ],
          [
           1500,
           2992,
           1434.794677734375,
           1557.205322265625
          ],
          [
           2000,
           3492,
           1434.794677734375,
           2057.205322265625
          ],
          [
           2500,
           3992,
           1434.794677734375,
           2557.205322265625
          ]
         ],
         "hovertemplate": "<b>z above inst = %{customdata[0]:.0f}m </b><br><b>z above msl = %{customdata[1]:.0f}m </b><br><b>surface msl = %{customdata[2]:.0f}m </b><br><b>z above ground = %{customdata[3]:.0f}m </b><br>longitude: %{lon:.3f}<br>latitude: %{lat:.3f}<br>",
         "lat": [
          40.76600000000001,
          40.765979862637266,
          40.76595972438789,
          40.76593958525191,
          40.76591944522929,
          40.765879162524215,
          40.76583887627265,
          40.765758293130176,
          40.76567769580191,
          40.76551645858839,
          40.7651938139353,
          40.76479018895127,
          40.76438620934513,
          40.76398187512616
         ],
         "lon": [
          -111.847,
          -111.84731986832189,
          -111.84763973645067,
          -111.84795960438635,
          -111.8482794721289,
          -111.8489192070346,
          -111.84955894116773,
          -111.85083840711596,
          -111.85211786997304,
          -111.85467678641174,
          -111.85979458217234,
          -111.86619175723558,
          -111.87258885486226,
          -111.8789858749864
         ],
         "marker": {
          "size": 10
         },
         "mode": "markers+lines",
         "name": "2022-06-16 23:00:00 UTC",
         "type": "scattermapbox"
        },
        {
         "customdata": [
          [
           0,
           1492,
           1485.138427734375,
           6.861572265625
          ],
          [
           25,
           1517,
           1485.138427734375,
           31.861572265625
          ],
          [
           50,
           1542,
           1485.138427734375,
           56.861572265625
          ],
          [
           75,
           1567,
           1485.138427734375,
           81.861572265625
          ],
          [
           100,
           1592,
           1485.138427734375,
           106.861572265625
          ],
          [
           150,
           1642,
           1485.138427734375,
           156.861572265625
          ],
          [
           200,
           1692,
           1485.138427734375,
           206.861572265625
          ],
          [
           300,
           1792,
           1704.419677734375,
           87.580322265625
          ],
          [
           400,
           1892,
           1704.419677734375,
           187.580322265625
          ],
          [
           600,
           2092,
           1434.794677734375,
           657.205322265625
          ],
          [
           1000,
           2492,
           1434.794677734375,
           1057.205322265625
          ],
          [
           1500,
           2992,
           1434.794677734375,
           1557.205322265625
          ],
          [
           2000,
           3492,
           1434.794677734375,
           2057.205322265625
          ],
          [
           2500,
           3992,
           1303.513427734375,
           2688.486572265625
          ]
         ],
         "hovertemplate": "<b>z above inst = %{customdata[0]:.0f}m </b><br><b>z above msl = %{customdata[1]:.0f}m </b><br><b>surface msl = %{customdata[2]:.0f}m </b><br><b>z above ground = %{customdata[3]:.0f}m </b><br>longitude: %{lon:.3f}<br>latitude: %{lat:.3f}<br>",
         "lat": [
          40.766000000000005,
          40.76603263604395,
          40.76606527005786,
          40.766097902041714,
          40.7661305319955,
          40.76619578581288,
          40.76626103150998,
          40.766391498543165,
          40.766521933094786,
          40.76678270475225,
          40.76730385827633,
          40.76795456930103,
          40.768604468204494,
          40.76925355495258
         ],
         "lon": [
          -111.847,
          -111.84748400752889,
          -111.84796801553134,
          -111.84845202400726,
          -111.84893603295667,
          -111.84990405227579,
          -111.85087207348846,
          -111.85280812159353,
          -111.85474417727008,
          -111.85861631133028,
          -111.86636067022819,
          -111.87604128890816,
          -111.8857220963285,
          -111.89540309226152
         ],
         "marker": {
          "size": 10
         },
         "mode": "markers+lines",
         "name": "2022-06-17 00:00:00 UTC",
         "type": "scattermapbox"
        }
       ],
       "layout": {
        "height": 400,
        "hovermode": "closest",
        "mapbox": {
         "bearing": 0,
         "center": {
          "lat": 40.766,
          "lon": -111.847
         },
         "layers": [
          {
           "below": "traces",
           "source": [
            "https://basemap.nationalmap.gov/arcgis/rest/services/USGSImageryOnly/MapServer/tile/{z}/{y}/{x}"
           ],
           "sourceattribution": "United States Geological Survey",
           "sourcetype": "raster"
          },
          {
           "source": [
            "https://geo.weather.gc.ca/geomet/?SERVICE=WMS&VERSION=1.3.0&REQUEST=GetMap&BBOX={bbox-epsg-3857}&CRS=EPSG:3857&WIDTH=1000&HEIGHT=1000&LAYERS=RADAR_1KM_RDBR&TILED=true&FORMAT=image/png"
           ],
           "sourceattribution": "Government of Canada",
           "sourcetype": "raster"
          }
         ],
         "pitch": 0,
         "style": "white-bg",
         "zoom": 8
        },
        "margin": {
         "b": 0,
         "l": 0,
         "r": 0,
         "t": 0
        },
        "showlegend": true,
        "template": {
         "data": {
          "bar": [
           {
            "error_x": {
             "color": "#2a3f5f"
            },
            "error_y": {
             "color": "#2a3f5f"
            },
            "marker": {
             "line": {
              "color": "#E5ECF6",
              "width": 0.5
             },
             "pattern": {
              "fillmode": "overlay",
              "size": 10,
              "solidity": 0.2
             }
            },
            "type": "bar"
           }
          ],
          "barpolar": [
           {
            "marker": {
             "line": {
              "color": "#E5ECF6",
              "width": 0.5
             },
             "pattern": {
              "fillmode": "overlay",
              "size": 10,
              "solidity": 0.2
             }
            },
            "type": "barpolar"
           }
          ],
          "carpet": [
           {
            "aaxis": {
             "endlinecolor": "#2a3f5f",
             "gridcolor": "white",
             "linecolor": "white",
             "minorgridcolor": "white",
             "startlinecolor": "#2a3f5f"
            },
            "baxis": {
             "endlinecolor": "#2a3f5f",
             "gridcolor": "white",
             "linecolor": "white",
             "minorgridcolor": "white",
             "startlinecolor": "#2a3f5f"
            },
            "type": "carpet"
           }
          ],
          "choropleth": [
           {
            "colorbar": {
             "outlinewidth": 0,
             "ticks": ""
            },
            "type": "choropleth"
           }
          ],
          "contour": [
           {
            "colorbar": {
             "outlinewidth": 0,
             "ticks": ""
            },
            "colorscale": [
             [
              0,
              "#0d0887"
             ],
             [
              0.1111111111111111,
              "#46039f"
             ],
             [
              0.2222222222222222,
              "#7201a8"
             ],
             [
              0.3333333333333333,
              "#9c179e"
             ],
             [
              0.4444444444444444,
              "#bd3786"
             ],
             [
              0.5555555555555556,
              "#d8576b"
             ],
             [
              0.6666666666666666,
              "#ed7953"
             ],
             [
              0.7777777777777778,
              "#fb9f3a"
             ],
             [
              0.8888888888888888,
              "#fdca26"
             ],
             [
              1,
              "#f0f921"
             ]
            ],
            "type": "contour"
           }
          ],
          "contourcarpet": [
           {
            "colorbar": {
             "outlinewidth": 0,
             "ticks": ""
            },
            "type": "contourcarpet"
           }
          ],
          "heatmap": [
           {
            "colorbar": {
             "outlinewidth": 0,
             "ticks": ""
            },
            "colorscale": [
             [
              0,
              "#0d0887"
             ],
             [
              0.1111111111111111,
              "#46039f"
             ],
             [
              0.2222222222222222,
              "#7201a8"
             ],
             [
              0.3333333333333333,
              "#9c179e"
             ],
             [
              0.4444444444444444,
              "#bd3786"
             ],
             [
              0.5555555555555556,
              "#d8576b"
             ],
             [
              0.6666666666666666,
              "#ed7953"
             ],
             [
              0.7777777777777778,
              "#fb9f3a"
             ],
             [
              0.8888888888888888,
              "#fdca26"
             ],
             [
              1,
              "#f0f921"
             ]
            ],
            "type": "heatmap"
           }
          ],
          "heatmapgl": [
           {
            "colorbar": {
             "outlinewidth": 0,
             "ticks": ""
            },
            "colorscale": [
             [
              0,
              "#0d0887"
             ],
             [
              0.1111111111111111,
              "#46039f"
             ],
             [
              0.2222222222222222,
              "#7201a8"
             ],
             [
              0.3333333333333333,
              "#9c179e"
             ],
             [
              0.4444444444444444,
              "#bd3786"
             ],
             [
              0.5555555555555556,
              "#d8576b"
             ],
             [
              0.6666666666666666,
              "#ed7953"
             ],
             [
              0.7777777777777778,
              "#fb9f3a"
             ],
             [
              0.8888888888888888,
              "#fdca26"
             ],
             [
              1,
              "#f0f921"
             ]
            ],
            "type": "heatmapgl"
           }
          ],
          "histogram": [
           {
            "marker": {
             "pattern": {
              "fillmode": "overlay",
              "size": 10,
              "solidity": 0.2
             }
            },
            "type": "histogram"
           }
          ],
          "histogram2d": [
           {
            "colorbar": {
             "outlinewidth": 0,
             "ticks": ""
            },
            "colorscale": [
             [
              0,
              "#0d0887"
             ],
             [
              0.1111111111111111,
              "#46039f"
             ],
             [
              0.2222222222222222,
              "#7201a8"
             ],
             [
              0.3333333333333333,
              "#9c179e"
             ],
             [
              0.4444444444444444,
              "#bd3786"
             ],
             [
              0.5555555555555556,
              "#d8576b"
             ],
             [
              0.6666666666666666,
              "#ed7953"
             ],
             [
              0.7777777777777778,
              "#fb9f3a"
             ],
             [
              0.8888888888888888,
              "#fdca26"
             ],
             [
              1,
              "#f0f921"
             ]
            ],
            "type": "histogram2d"
           }
          ],
          "histogram2dcontour": [
           {
            "colorbar": {
             "outlinewidth": 0,
             "ticks": ""
            },
            "colorscale": [
             [
              0,
              "#0d0887"
             ],
             [
              0.1111111111111111,
              "#46039f"
             ],
             [
              0.2222222222222222,
              "#7201a8"
             ],
             [
              0.3333333333333333,
              "#9c179e"
             ],
             [
              0.4444444444444444,
              "#bd3786"
             ],
             [
              0.5555555555555556,
              "#d8576b"
             ],
             [
              0.6666666666666666,
              "#ed7953"
             ],
             [
              0.7777777777777778,
              "#fb9f3a"
             ],
             [
              0.8888888888888888,
              "#fdca26"
             ],
             [
              1,
              "#f0f921"
             ]
            ],
            "type": "histogram2dcontour"
           }
          ],
          "mesh3d": [
           {
            "colorbar": {
             "outlinewidth": 0,
             "ticks": ""
            },
            "type": "mesh3d"
           }
          ],
          "parcoords": [
           {
            "line": {
             "colorbar": {
              "outlinewidth": 0,
              "ticks": ""
             }
            },
            "type": "parcoords"
           }
          ],
          "pie": [
           {
            "automargin": true,
            "type": "pie"
           }
          ],
          "scatter": [
           {
            "fillpattern": {
             "fillmode": "overlay",
             "size": 10,
             "solidity": 0.2
            },
            "type": "scatter"
           }
          ],
          "scatter3d": [
           {
            "line": {
             "colorbar": {
              "outlinewidth": 0,
              "ticks": ""
             }
            },
            "marker": {
             "colorbar": {
              "outlinewidth": 0,
              "ticks": ""
             }
            },
            "type": "scatter3d"
           }
          ],
          "scattercarpet": [
           {
            "marker": {
             "colorbar": {
              "outlinewidth": 0,
              "ticks": ""
             }
            },
            "type": "scattercarpet"
           }
          ],
          "scattergeo": [
           {
            "marker": {
             "colorbar": {
              "outlinewidth": 0,
              "ticks": ""
             }
            },
            "type": "scattergeo"
           }
          ],
          "scattergl": [
           {
            "marker": {
             "colorbar": {
              "outlinewidth": 0,
              "ticks": ""
             }
            },
            "type": "scattergl"
           }
          ],
          "scattermapbox": [
           {
            "marker": {
             "colorbar": {
              "outlinewidth": 0,
              "ticks": ""
             }
            },
            "type": "scattermapbox"
           }
          ],
          "scatterpolar": [
           {
            "marker": {
             "colorbar": {
              "outlinewidth": 0,
              "ticks": ""
             }
            },
            "type": "scatterpolar"
           }
          ],
          "scatterpolargl": [
           {
            "marker": {
             "colorbar": {
              "outlinewidth": 0,
              "ticks": ""
             }
            },
            "type": "scatterpolargl"
           }
          ],
          "scatterternary": [
           {
            "marker": {
             "colorbar": {
              "outlinewidth": 0,
              "ticks": ""
             }
            },
            "type": "scatterternary"
           }
          ],
          "surface": [
           {
            "colorbar": {
             "outlinewidth": 0,
             "ticks": ""
            },
            "colorscale": [
             [
              0,
              "#0d0887"
             ],
             [
              0.1111111111111111,
              "#46039f"
             ],
             [
              0.2222222222222222,
              "#7201a8"
             ],
             [
              0.3333333333333333,
              "#9c179e"
             ],
             [
              0.4444444444444444,
              "#bd3786"
             ],
             [
              0.5555555555555556,
              "#d8576b"
             ],
             [
              0.6666666666666666,
              "#ed7953"
             ],
             [
              0.7777777777777778,
              "#fb9f3a"
             ],
             [
              0.8888888888888888,
              "#fdca26"
             ],
             [
              1,
              "#f0f921"
             ]
            ],
            "type": "surface"
           }
          ],
          "table": [
           {
            "cells": {
             "fill": {
              "color": "#EBF0F8"
             },
             "line": {
              "color": "white"
             }
            },
            "header": {
             "fill": {
              "color": "#C8D4E3"
             },
             "line": {
              "color": "white"
             }
            },
            "type": "table"
           }
          ]
         },
         "layout": {
          "annotationdefaults": {
           "arrowcolor": "#2a3f5f",
           "arrowhead": 0,
           "arrowwidth": 1
          },
          "autotypenumbers": "strict",
          "coloraxis": {
           "colorbar": {
            "outlinewidth": 0,
            "ticks": ""
           }
          },
          "colorscale": {
           "diverging": [
            [
             0,
             "#8e0152"
            ],
            [
             0.1,
             "#c51b7d"
            ],
            [
             0.2,
             "#de77ae"
            ],
            [
             0.3,
             "#f1b6da"
            ],
            [
             0.4,
             "#fde0ef"
            ],
            [
             0.5,
             "#f7f7f7"
            ],
            [
             0.6,
             "#e6f5d0"
            ],
            [
             0.7,
             "#b8e186"
            ],
            [
             0.8,
             "#7fbc41"
            ],
            [
             0.9,
             "#4d9221"
            ],
            [
             1,
             "#276419"
            ]
           ],
           "sequential": [
            [
             0,
             "#0d0887"
            ],
            [
             0.1111111111111111,
             "#46039f"
            ],
            [
             0.2222222222222222,
             "#7201a8"
            ],
            [
             0.3333333333333333,
             "#9c179e"
            ],
            [
             0.4444444444444444,
             "#bd3786"
            ],
            [
             0.5555555555555556,
             "#d8576b"
            ],
            [
             0.6666666666666666,
             "#ed7953"
            ],
            [
             0.7777777777777778,
             "#fb9f3a"
            ],
            [
             0.8888888888888888,
             "#fdca26"
            ],
            [
             1,
             "#f0f921"
            ]
           ],
           "sequentialminus": [
            [
             0,
             "#0d0887"
            ],
            [
             0.1111111111111111,
             "#46039f"
            ],
            [
             0.2222222222222222,
             "#7201a8"
            ],
            [
             0.3333333333333333,
             "#9c179e"
            ],
            [
             0.4444444444444444,
             "#bd3786"
            ],
            [
             0.5555555555555556,
             "#d8576b"
            ],
            [
             0.6666666666666666,
             "#ed7953"
            ],
            [
             0.7777777777777778,
             "#fb9f3a"
            ],
            [
             0.8888888888888888,
             "#fdca26"
            ],
            [
             1,
             "#f0f921"
            ]
           ]
          },
          "colorway": [
           "#636efa",
           "#EF553B",
           "#00cc96",
           "#ab63fa",
           "#FFA15A",
           "#19d3f3",
           "#FF6692",
           "#B6E880",
           "#FF97FF",
           "#FECB52"
          ],
          "font": {
           "color": "#2a3f5f"
          },
          "geo": {
           "bgcolor": "white",
           "lakecolor": "white",
           "landcolor": "#E5ECF6",
           "showlakes": true,
           "showland": true,
           "subunitcolor": "white"
          },
          "hoverlabel": {
           "align": "left"
          },
          "hovermode": "closest",
          "mapbox": {
           "style": "light"
          },
          "paper_bgcolor": "white",
          "plot_bgcolor": "#E5ECF6",
          "polar": {
           "angularaxis": {
            "gridcolor": "white",
            "linecolor": "white",
            "ticks": ""
           },
           "bgcolor": "#E5ECF6",
           "radialaxis": {
            "gridcolor": "white",
            "linecolor": "white",
            "ticks": ""
           }
          },
          "scene": {
           "xaxis": {
            "backgroundcolor": "#E5ECF6",
            "gridcolor": "white",
            "gridwidth": 2,
            "linecolor": "white",
            "showbackground": true,
            "ticks": "",
            "zerolinecolor": "white"
           },
           "yaxis": {
            "backgroundcolor": "#E5ECF6",
            "gridcolor": "white",
            "gridwidth": 2,
            "linecolor": "white",
            "showbackground": true,
            "ticks": "",
            "zerolinecolor": "white"
           },
           "zaxis": {
            "backgroundcolor": "#E5ECF6",
            "gridcolor": "white",
            "gridwidth": 2,
            "linecolor": "white",
            "showbackground": true,
            "ticks": "",
            "zerolinecolor": "white"
           }
          },
          "shapedefaults": {
           "line": {
            "color": "#2a3f5f"
           }
          },
          "ternary": {
           "aaxis": {
            "gridcolor": "white",
            "linecolor": "white",
            "ticks": ""
           },
           "baxis": {
            "gridcolor": "white",
            "linecolor": "white",
            "ticks": ""
           },
           "bgcolor": "#E5ECF6",
           "caxis": {
            "gridcolor": "white",
            "linecolor": "white",
            "ticks": ""
           }
          },
          "title": {
           "x": 0.05
          },
          "xaxis": {
           "automargin": true,
           "gridcolor": "white",
           "linecolor": "white",
           "ticks": "",
           "title": {
            "standoff": 15
           },
           "zerolinecolor": "white",
           "zerolinewidth": 2
          },
          "yaxis": {
           "automargin": true,
           "gridcolor": "white",
           "linecolor": "white",
           "ticks": "",
           "title": {
            "standoff": 15
           },
           "zerolinecolor": "white",
           "zerolinewidth": 2
          }
         }
        }
       }
      }
     },
     "metadata": {},
     "output_type": "display_data"
    }
   ],
   "source": [
    "plotting.create_slant_plots(slant_df,inst_lat,inst_lon)"
   ]
  },
  {
   "attachments": {},
   "cell_type": "markdown",
   "metadata": {},
   "source": [
    "### We now want to integrate the EM27 data to our building of the slant receptor columns"
   ]
  },
  {
   "attachments": {},
   "cell_type": "markdown",
   "metadata": {},
   "source": [
    "Now we want to be able to use information from EM27 oof files. The main goal here is twofold: pull the instrument lat/lon from the oof files, and filter the receptor times to times that are included in the oof files, so we don't have to run models on times when we don't have EM27 data to compare to. \n",
    "\n",
    "For now, I am doing this on a \"daily\" basis, where each day of the range is split and the slant_df for each day is created such that the models can be run on that day. This prevents us from having to load a bunch of oof files/slant dfs in a single shot. \n",
    "\n",
    "There are some edge cases I haven't quite dealt with yet. The major one is the case where the EM27 is moved to a different lat long within the datetime range that was specified. "
   ]
  },
  {
   "attachments": {},
   "cell_type": "markdown",
   "metadata": {},
   "source": [
    "1. Setup the run like above, except this time don't define the inst_lat, inst_lon, inst_zasl. We will pull this from the oof file. "
   ]
  },
  {
   "cell_type": "code",
   "execution_count": 20,
   "metadata": {},
   "outputs": [],
   "source": [
    "# hrrr_subset_path = '/uufs/chpc.utah.edu/common/home/u0890904/LAIR_1/Data/hrrr/subsets' #path with a hrrr folder included, or will be created\n",
    "# oof_data_folder = '/uufs/chpc.utah.edu/common/home/u0890904/LAIR/Data/SLC_EM27_ha_2022_oof_v2/'#this is where the EM27 data is \n",
    "hrrr_subset_path = '/Users/agmeyer4/LAIR_1/Data/hrrr/subsets' #path with a hrrr folder included, or will be created\n",
    "oof_data_folder = '/Users/agmeyer4/Google Drive/My Drive/Documents/LAIR/Data/SLC_EM27_ha_2022_oof_v2/' #this is where the EM27 data is \n",
    "hrrr_subset_datestr = '2022-07-01 00:00' #this is the date that we want to take the surface information from. They should be all the same.\n",
    "\n",
    "#define datetime range and interval parameters\n",
    "dt1_str = '2022-06-16 00:00:00'#start datetime\n",
    "dt2_str = '2022-06-17 00:00:00' #end datetime\n",
    "interval = '1H' #interval at which we want our dataframe\n",
    "timezone = 'UTC' #this should nearly always be UTC, but can identify if your datetime strings above are in a different timezone\n",
    "\n",
    "#Define the heights above the instrument (in m) from which we would like to release particles\n",
    "z_ail_list = [0,25,50,75,100,150,200,300,400,600,1000,1500,2000,2500]\n",
    "\n",
    "#Now format the datetime and timezone into useful formats\n",
    "dt1 = ac.dtstr_to_dttz(dt1_str,timezone)\n",
    "dt2 = ac.dtstr_to_dttz(dt2_str,timezone)"
   ]
  },
  {
   "attachments": {},
   "cell_type": "markdown",
   "metadata": {},
   "source": [
    "2. Use my_oof_manager to load the oof dataframe for the day in question, so that we can get the applicable information. "
   ]
  },
  {
   "cell_type": "code",
   "execution_count": 17,
   "metadata": {},
   "outputs": [],
   "source": [
    "my_oof_manager = ac.oof_manager(oof_data_folder,timezone)\n",
    "oof_df = my_oof_manager.load_oof_df_inrange(dt1,dt2)"
   ]
  },
  {
   "attachments": {},
   "cell_type": "markdown",
   "metadata": {},
   "source": [
    "3. Here is where we would check to make sure that there is em27 data for the datetime range. If there isn't, we don't need to create a slant df and associated receptors and should skip to the next time period"
   ]
  },
  {
   "cell_type": "code",
   "execution_count": 18,
   "metadata": {},
   "outputs": [
    {
     "name": "stdout",
     "output_type": "stream",
     "text": [
      "Found oof data for 2022-06-16 00:00:00+00:00 to 2022-06-17 00:00:00+00:00\n"
     ]
    }
   ],
   "source": [
    "if len(oof_df) == 0:\n",
    "    print(f'No oof data for {dt1} to {dt2}')\n",
    "else:\n",
    "    print(f'Found oof data for {dt1} to {dt2}')"
   ]
  },
  {
   "attachments": {},
   "cell_type": "markdown",
   "metadata": {},
   "source": [
    "4. Assuming there was data, here's the edge case we would need to handle later. For now, we just check to makes sure the lat/lon/zasl is the same for the entire oof df. "
   ]
  },
  {
   "cell_type": "code",
   "execution_count": 19,
   "metadata": {},
   "outputs": [],
   "source": [
    "cols_to_check = ['inst_lat','inst_lon','inst_zasl']\n",
    "for col in cols_to_check:\n",
    "    if not ac.pdcol_is_equal(oof_df[col]):\n",
    "        raise Exception('{col} is not the same for the entire oof_df. This is an edge case.')\n",
    "#If we make it through the above, we can pull the values from the dataframe at the 0th index because they are all the same\n",
    "inst_lat = oof_df.iloc[0]['inst_lat']\n",
    "inst_lon = oof_df.iloc[0]['inst_lon']\n",
    "inst_zasl = oof_df.iloc[0]['inst_zasl']"
   ]
  },
  {
   "attachments": {},
   "cell_type": "markdown",
   "metadata": {},
   "source": [
    "5. Now we get a new dt range from the oof file. We go to the interval before the start of the df for the initial dt and the interval after the end for the last dt. "
   ]
  },
  {
   "cell_type": "code",
   "execution_count": 20,
   "metadata": {},
   "outputs": [],
   "source": [
    "dt1_oof = oof_df.index[0].floor(interval)\n",
    "dt2_oof = oof_df.index[-1].ceil(interval)"
   ]
  },
  {
   "attachments": {},
   "cell_type": "markdown",
   "metadata": {},
   "source": [
    "6. Finally, we can use the gleaned oof data to create the slant df at the interval required"
   ]
  },
  {
   "cell_type": "code",
   "execution_count": 21,
   "metadata": {},
   "outputs": [
    {
     "name": "stdout",
     "output_type": "stream",
     "text": [
      "Adding receptor lat/lons along the slant column\n",
      "Adding surface height and receptor elevation above ground level\n"
     ]
    }
   ],
   "source": [
    "gsh = ac.ground_slant_handler(inst_lat,inst_lon,inst_zasl,z_ail_list,hrrr_subset_path,hrrr_subset_datestr)\n",
    "slant_df = gsh.run_slant_at_intervals(dt1_oof,dt2_oof)"
   ]
  },
  {
   "cell_type": "markdown",
   "metadata": {},
   "source": [
    "Here we can plot and show the multi df. Since there are many rows, we just plot those \"on the hour\" to show the change throughout the day. "
   ]
  },
  {
   "cell_type": "code",
   "execution_count": 22,
   "metadata": {},
   "outputs": [
    {
     "data": {
      "application/vnd.plotly.v1+json": {
       "config": {
        "plotlyServerURL": "https://plot.ly"
       },
       "data": [
        {
         "customdata": [
          [
           0,
           1470,
           1485.138427734375,
           -15.138427734375
          ],
          [
           25,
           1495,
           1485.138427734375,
           9.861572265625
          ],
          [
           50,
           1520,
           1485.138427734375,
           34.861572265625
          ],
          [
           75,
           1545,
           1704.419677734375,
           -159.419677734375
          ],
          [
           100,
           1570,
           1704.419677734375,
           -134.419677734375
          ],
          [
           150,
           1620,
           1704.419677734375,
           -84.419677734375
          ],
          [
           200,
           1670,
           1704.419677734375,
           -34.419677734375
          ],
          [
           300,
           1770,
           1704.419677734375,
           65.580322265625
          ],
          [
           400,
           1870,
           1704.419677734375,
           165.580322265625
          ],
          [
           600,
           2070,
           1907.138427734375,
           162.861572265625
          ],
          [
           1000,
           2470,
           2045.857177734375,
           424.142822265625
          ],
          [
           1500,
           2970,
           2045.857177734375,
           924.142822265625
          ],
          [
           2000,
           3470,
           1959.763427734375,
           1510.236572265625
          ],
          [
           2500,
           3970,
           2325.857177734375,
           1644.142822265625
          ]
         ],
         "hovertemplate": "<b>z above inst = %{customdata[0]:.0f}m </b><br><b>z above msl = %{customdata[1]:.0f}m </b><br><b>surface msl = %{customdata[2]:.0f}m </b><br><b>z above ground = %{customdata[3]:.0f}m </b><br>longitude: %{lon:.3f}<br>latitude: %{lat:.3f}<br>",
         "lat": [
          40.766000000000005,
          40.76647942908542,
          40.76695883763097,
          40.767438225636006,
          40.76791759309989,
          40.76887626640165,
          40.76983485753119,
          40.77175179325321,
          40.773668400225276,
          40.77750062775674,
          40.785161136029586,
          40.79472936778244,
          40.80428936857956,
          40.81384113333578
         ],
         "lon": [
          -111.847,
          -111.8454618765986,
          -111.84392373109037,
          -111.84238556347552,
          -111.84084737375431,
          -111.83777092799386,
          -111.83469439381103,
          -111.8285410601865,
          -111.82238737289697,
          -111.81007893738841,
          -111.78545782311228,
          -111.75467347551493,
          -111.72388029123604,
          -111.69307827235973
         ],
         "marker": {
          "size": 10
         },
         "mode": "markers+lines",
         "name": "2022-06-16 13:00:00 UTC",
         "type": "scattermapbox"
        },
        {
         "customdata": [
          [
           0,
           1470,
           1485.138427734375,
           -15.138427734375
          ],
          [
           25,
           1495,
           1485.138427734375,
           9.861572265625
          ],
          [
           50,
           1520,
           1485.138427734375,
           34.861572265625
          ],
          [
           75,
           1545,
           1485.138427734375,
           59.861572265625
          ],
          [
           100,
           1570,
           1485.138427734375,
           84.861572265625
          ],
          [
           150,
           1620,
           1485.138427734375,
           134.861572265625
          ],
          [
           200,
           1670,
           1485.138427734375,
           184.861572265625
          ],
          [
           300,
           1770,
           1485.138427734375,
           284.861572265625
          ],
          [
           400,
           1870,
           1485.138427734375,
           384.861572265625
          ],
          [
           600,
           2070,
           1704.419677734375,
           365.580322265625
          ],
          [
           1000,
           2470,
           1907.138427734375,
           562.861572265625
          ],
          [
           1500,
           2970,
           1907.138427734375,
           1062.861572265625
          ],
          [
           2000,
           3470,
           1907.138427734375,
           1562.861572265625
          ],
          [
           2500,
           3970,
           2045.857177734375,
           1924.142822265625
          ]
         ],
         "hovertemplate": "<b>z above inst = %{customdata[0]:.0f}m </b><br><b>z above msl = %{customdata[1]:.0f}m </b><br><b>surface msl = %{customdata[2]:.0f}m </b><br><b>z above ground = %{customdata[3]:.0f}m </b><br>longitude: %{lon:.3f}<br>latitude: %{lat:.3f}<br>",
         "lat": [
          40.766000000000005,
          40.76613723980375,
          40.76627447465322,
          40.76641170454842,
          40.76654892948928,
          40.7668233645078,
          40.76709777970845,
          40.7676465506547,
          40.76819524232523,
          40.769292387827846,
          40.77148572740063,
          40.77422561769885,
          40.77696352526066,
          40.779699449735034
         ],
         "lon": [
          -111.847,
          -111.84624410222567,
          -111.84548820134142,
          -111.84473229734735,
          -111.84397639024353,
          -111.842464566707,
          -111.84095273073247,
          -111.83792902147219,
          -111.83490526246811,
          -111.82885759525014,
          -111.8167616641263,
          -111.80164063187776,
          -111.78651835765636,
          -111.77139484213903
         ],
         "marker": {
          "size": 10
         },
         "mode": "markers+lines",
         "name": "2022-06-16 14:00:00 UTC",
         "type": "scattermapbox"
        },
        {
         "customdata": [
          [
           0,
           1470,
           1485.138427734375,
           -15.138427734375
          ],
          [
           25,
           1495,
           1485.138427734375,
           9.861572265625
          ],
          [
           50,
           1520,
           1485.138427734375,
           34.861572265625
          ],
          [
           75,
           1545,
           1485.138427734375,
           59.861572265625
          ],
          [
           100,
           1570,
           1485.138427734375,
           84.861572265625
          ],
          [
           150,
           1620,
           1485.138427734375,
           134.861572265625
          ],
          [
           200,
           1670,
           1485.138427734375,
           184.861572265625
          ],
          [
           300,
           1770,
           1485.138427734375,
           284.861572265625
          ],
          [
           400,
           1870,
           1485.138427734375,
           384.861572265625
          ],
          [
           600,
           2070,
           1485.138427734375,
           584.861572265625
          ],
          [
           1000,
           2470,
           1485.138427734375,
           984.861572265625
          ],
          [
           1500,
           2970,
           1778.294677734375,
           1191.705322265625
          ],
          [
           2000,
           3470,
           1778.294677734375,
           1691.705322265625
          ],
          [
           2500,
           3970,
           1778.294677734375,
           2191.705322265625
          ]
         ],
         "hovertemplate": "<b>z above inst = %{customdata[0]:.0f}m </b><br><b>z above msl = %{customdata[1]:.0f}m </b><br><b>surface msl = %{customdata[2]:.0f}m </b><br><b>z above ground = %{customdata[3]:.0f}m </b><br>longitude: %{lon:.3f}<br>latitude: %{lat:.3f}<br>",
         "lat": [
          40.766000000000005,
          40.76602813295694,
          40.76605626398746,
          40.76608439309153,
          40.766112520269175,
          40.766168768845134,
          40.766225009715306,
          40.76633746833817,
          40.766449896137544,
          40.76667465926493,
          40.76712381562795,
          40.76768456751622,
          40.76824454875009,
          40.76880375930162
         ],
         "lon": [
          -111.847,
          -111.8465285022995,
          -111.84605700420138,
          -111.84558550570564,
          -111.84511400681232,
          -111.84417100783301,
          -111.84322800726366,
          -111.84134200135573,
          -111.83945598909018,
          -111.83568394549313,
          -111.82813978208257,
          -111.81870943505346,
          -111.80927892959348,
          -111.79984826591473
         ],
         "marker": {
          "size": 10
         },
         "mode": "markers+lines",
         "name": "2022-06-16 15:00:00 UTC",
         "type": "scattermapbox"
        },
        {
         "customdata": [
          [
           0,
           1470,
           1485.138427734375,
           -15.138427734375
          ],
          [
           25,
           1495,
           1485.138427734375,
           9.861572265625
          ],
          [
           50,
           1520,
           1485.138427734375,
           34.861572265625
          ],
          [
           75,
           1545,
           1485.138427734375,
           59.861572265625
          ],
          [
           100,
           1570,
           1485.138427734375,
           84.861572265625
          ],
          [
           150,
           1620,
           1485.138427734375,
           134.861572265625
          ],
          [
           200,
           1670,
           1485.138427734375,
           184.861572265625
          ],
          [
           300,
           1770,
           1485.138427734375,
           284.861572265625
          ],
          [
           400,
           1870,
           1485.138427734375,
           384.861572265625
          ],
          [
           600,
           2070,
           1485.138427734375,
           584.861572265625
          ],
          [
           1000,
           2470,
           1485.138427734375,
           984.861572265625
          ],
          [
           1500,
           2970,
           1485.138427734375,
           1484.861572265625
          ],
          [
           2000,
           3470,
           1485.138427734375,
           1984.861572265625
          ],
          [
           2500,
           3970,
           1778.294677734375,
           2191.705322265625
          ]
         ],
         "hovertemplate": "<b>z above inst = %{customdata[0]:.0f}m </b><br><b>z above msl = %{customdata[1]:.0f}m </b><br><b>surface msl = %{customdata[2]:.0f}m </b><br><b>z above ground = %{customdata[3]:.0f}m </b><br>longitude: %{lon:.3f}<br>latitude: %{lat:.3f}<br>",
         "lat": [
          40.766000000000005,
          40.765977555759875,
          40.76595511067689,
          40.765932664751055,
          40.76591021798236,
          40.765865321916436,
          40.7658204224791,
          40.765730613490305,
          40.76564079101604,
          40.765461105611436,
          40.76510157298009,
          40.76465185378091,
          40.764201797468665,
          40.76375140405315
         ],
         "lon": [
          -111.847,
          -111.84668813060297,
          -111.8463762614158,
          -111.84606439243848,
          -111.84575252367102,
          -111.8451287867657,
          -111.84450505069991,
          -111.84325758108713,
          -111.84201011483319,
          -111.83951519240374,
          -111.83452538787212,
          -111.8282882078612,
          -111.8220511119664,
          -111.81581410024825
         ],
         "marker": {
          "size": 10
         },
         "mode": "markers+lines",
         "name": "2022-06-16 16:00:00 UTC",
         "type": "scattermapbox"
        },
        {
         "customdata": [
          [
           0,
           1470,
           1485.138427734375,
           -15.138427734375
          ],
          [
           25,
           1495,
           1485.138427734375,
           9.861572265625
          ],
          [
           50,
           1520,
           1485.138427734375,
           34.861572265625
          ],
          [
           75,
           1545,
           1485.138427734375,
           59.861572265625
          ],
          [
           100,
           1570,
           1485.138427734375,
           84.861572265625
          ],
          [
           150,
           1620,
           1485.138427734375,
           134.861572265625
          ],
          [
           200,
           1670,
           1485.138427734375,
           184.861572265625
          ],
          [
           300,
           1770,
           1485.138427734375,
           284.861572265625
          ],
          [
           400,
           1870,
           1485.138427734375,
           384.861572265625
          ],
          [
           600,
           2070,
           1485.138427734375,
           584.861572265625
          ],
          [
           1000,
           2470,
           1485.138427734375,
           984.861572265625
          ],
          [
           1500,
           2970,
           1485.138427734375,
           1484.861572265625
          ],
          [
           2000,
           3470,
           1485.138427734375,
           1984.861572265625
          ],
          [
           2500,
           3970,
           1485.138427734375,
           2484.861572265625
          ]
         ],
         "hovertemplate": "<b>z above inst = %{customdata[0]:.0f}m </b><br><b>z above msl = %{customdata[1]:.0f}m </b><br><b>surface msl = %{customdata[2]:.0f}m </b><br><b>z above ground = %{customdata[3]:.0f}m </b><br>longitude: %{lon:.3f}<br>latitude: %{lat:.3f}<br>",
         "lat": [
          40.766000000000005,
          40.76595073332954,
          40.76590146630848,
          40.765852198936805,
          40.765802931214516,
          40.765704394718156,
          40.76560585681938,
          40.76540877681465,
          40.765211691200406,
          40.76481750314367,
          40.76402905971914,
          40.7630433792362,
          40.762057558536824,
          40.76107159762995
         ],
         "lon": [
          -111.847,
          -111.8467989667617,
          -111.84659793382032,
          -111.84639690117585,
          -111.8461958688283,
          -111.84579380502396,
          -111.8453917424073,
          -111.84458762073707,
          -111.84378350381769,
          -111.84217528423173,
          -111.83895890207316,
          -111.83493853128107,
          -111.8309182792822,
          -111.82689814608577
         ],
         "marker": {
          "size": 10
         },
         "mode": "markers+lines",
         "name": "2022-06-16 17:00:00 UTC",
         "type": "scattermapbox"
        },
        {
         "customdata": [
          [
           0,
           1470,
           1485.138427734375,
           -15.138427734375
          ],
          [
           25,
           1495,
           1485.138427734375,
           9.861572265625
          ],
          [
           50,
           1520,
           1485.138427734375,
           34.861572265625
          ],
          [
           75,
           1545,
           1485.138427734375,
           59.861572265625
          ],
          [
           100,
           1570,
           1485.138427734375,
           84.861572265625
          ],
          [
           150,
           1620,
           1485.138427734375,
           134.861572265625
          ],
          [
           200,
           1670,
           1485.138427734375,
           184.861572265625
          ],
          [
           300,
           1770,
           1485.138427734375,
           284.861572265625
          ],
          [
           400,
           1870,
           1485.138427734375,
           384.861572265625
          ],
          [
           600,
           2070,
           1485.138427734375,
           584.861572265625
          ],
          [
           1000,
           2470,
           1485.138427734375,
           984.861572265625
          ],
          [
           1500,
           2970,
           1485.138427734375,
           1484.861572265625
          ],
          [
           2000,
           3470,
           1485.138427734375,
           1984.861572265625
          ],
          [
           2500,
           3970,
           1485.138427734375,
           2484.861572265625
          ]
         ],
         "hovertemplate": "<b>z above inst = %{customdata[0]:.0f}m </b><br><b>z above msl = %{customdata[1]:.0f}m </b><br><b>surface msl = %{customdata[2]:.0f}m </b><br><b>z above ground = %{customdata[3]:.0f}m </b><br>longitude: %{lon:.3f}<br>latitude: %{lat:.3f}<br>",
         "lat": [
          40.76600000000001,
          40.765936402414596,
          40.76587280471816,
          40.76580920691071,
          40.76574560899223,
          40.76561841282226,
          40.76549121620822,
          40.765236821647996,
          40.76498242531159,
          40.764473627310316,
          40.76345600999486,
          40.76218394839117,
          40.76091184239159,
          40.75963969199975
         ],
         "lon": [
          -111.847,
          -111.84688716773024,
          -111.84677433567562,
          -111.84666150383612,
          -111.84654867221172,
          -111.84632300960831,
          -111.84609734786538,
          -111.84564602696089,
          -111.84519470949826,
          -111.84429208489843,
          -111.84248687699947,
          -111.84023044456188,
          -111.83797409816053,
          -111.83571783779128
         ],
         "marker": {
          "size": 10
         },
         "mode": "markers+lines",
         "name": "2022-06-16 18:00:00 UTC",
         "type": "scattermapbox"
        },
        {
         "customdata": [
          [
           0,
           1470,
           1485.138427734375,
           -15.138427734375
          ],
          [
           25,
           1495,
           1485.138427734375,
           9.861572265625
          ],
          [
           50,
           1520,
           1485.138427734375,
           34.861572265625
          ],
          [
           75,
           1545,
           1485.138427734375,
           59.861572265625
          ],
          [
           100,
           1570,
           1485.138427734375,
           84.861572265625
          ],
          [
           150,
           1620,
           1485.138427734375,
           134.861572265625
          ],
          [
           200,
           1670,
           1485.138427734375,
           184.861572265625
          ],
          [
           300,
           1770,
           1485.138427734375,
           284.861572265625
          ],
          [
           400,
           1870,
           1485.138427734375,
           384.861572265625
          ],
          [
           600,
           2070,
           1485.138427734375,
           584.861572265625
          ],
          [
           1000,
           2470,
           1485.138427734375,
           984.861572265625
          ],
          [
           1500,
           2970,
           1485.138427734375,
           1484.861572265625
          ],
          [
           2000,
           3470,
           1485.138427734375,
           1984.861572265625
          ],
          [
           2500,
           3970,
           1485.138427734375,
           2484.861572265625
          ]
         ],
         "hovertemplate": "<b>z above inst = %{customdata[0]:.0f}m </b><br><b>z above msl = %{customdata[1]:.0f}m </b><br><b>surface msl = %{customdata[2]:.0f}m </b><br><b>z above ground = %{customdata[3]:.0f}m </b><br>longitude: %{lon:.3f}<br>latitude: %{lat:.3f}<br>",
         "lat": [
          40.766000000000005,
          40.765930146402745,
          40.765860292793995,
          40.765790439173735,
          40.76572058554196,
          40.7655808782439,
          40.76544117089983,
          40.7651617560736,
          40.76488234106329,
          40.764323510490414,
          40.7632058471358,
          40.761808763801106,
          40.7604116758652,
          40.759014583328465
         ],
         "lon": [
          -111.847,
          -111.8469649289063,
          -111.84692985788605,
          -111.84689478693925,
          -111.84685971606586,
          -111.84678957453946,
          -111.8467194333068,
          -111.84657915172279,
          -111.8464388713138,
          -111.84615831402077,
          -111.84559721353409,
          -111.84489586436032,
          -111.84419454455589,
          -111.8434932541182
         ],
         "marker": {
          "size": 10
         },
         "mode": "markers+lines",
         "name": "2022-06-16 19:00:00 UTC",
         "type": "scattermapbox"
        },
        {
         "customdata": [
          [
           0,
           1470,
           1485.138427734375,
           -15.138427734375
          ],
          [
           25,
           1495,
           1485.138427734375,
           9.861572265625
          ],
          [
           50,
           1520,
           1485.138427734375,
           34.861572265625
          ],
          [
           75,
           1545,
           1485.138427734375,
           59.861572265625
          ],
          [
           100,
           1570,
           1485.138427734375,
           84.861572265625
          ],
          [
           150,
           1620,
           1485.138427734375,
           134.861572265625
          ],
          [
           200,
           1670,
           1485.138427734375,
           184.861572265625
          ],
          [
           300,
           1770,
           1485.138427734375,
           284.861572265625
          ],
          [
           400,
           1870,
           1485.138427734375,
           384.861572265625
          ],
          [
           600,
           2070,
           1485.138427734375,
           584.861572265625
          ],
          [
           1000,
           2470,
           1485.138427734375,
           984.861572265625
          ],
          [
           1500,
           2970,
           1485.138427734375,
           1484.861572265625
          ],
          [
           2000,
           3470,
           1485.138427734375,
           1984.861572265625
          ],
          [
           2500,
           3970,
           1485.138427734375,
           2484.861572265625
          ]
         ],
         "hovertemplate": "<b>z above inst = %{customdata[0]:.0f}m </b><br><b>z above msl = %{customdata[1]:.0f}m </b><br><b>surface msl = %{customdata[2]:.0f}m </b><br><b>z above ground = %{customdata[3]:.0f}m </b><br>longitude: %{lon:.3f}<br>latitude: %{lat:.3f}<br>",
         "lat": [
          40.76600000000001,
          40.76593034462605,
          40.76586068923757,
          40.76579103383458,
          40.76572137841706,
          40.76558206753849,
          40.765442756601836,
          40.765164134554325,
          40.76488551227452,
          40.76432826701807,
          40.76321377371793,
          40.761820651867005,
          40.760427524210144,
          40.759034390747836
         ],
         "lon": [
          -111.847,
          -111.84703972676682,
          -111.84707945345072,
          -111.84711918005164,
          -111.8471589065696,
          -111.8472383593567,
          -111.84731781181195,
          -111.84747671572704,
          -111.8476356183149,
          -111.84795341950903,
          -111.84858900597153,
          -111.84938345919082,
          -111.8501778792363,
          -111.85097226611086
         ],
         "marker": {
          "size": 10
         },
         "mode": "markers+lines",
         "name": "2022-06-16 20:00:00 UTC",
         "type": "scattermapbox"
        },
        {
         "customdata": [
          [
           0,
           1470,
           1485.138427734375,
           -15.138427734375
          ],
          [
           25,
           1495,
           1485.138427734375,
           9.861572265625
          ],
          [
           50,
           1520,
           1485.138427734375,
           34.861572265625
          ],
          [
           75,
           1545,
           1485.138427734375,
           59.861572265625
          ],
          [
           100,
           1570,
           1485.138427734375,
           84.861572265625
          ],
          [
           150,
           1620,
           1485.138427734375,
           134.861572265625
          ],
          [
           200,
           1670,
           1485.138427734375,
           184.861572265625
          ],
          [
           300,
           1770,
           1485.138427734375,
           284.861572265625
          ],
          [
           400,
           1870,
           1485.138427734375,
           384.861572265625
          ],
          [
           600,
           2070,
           1485.138427734375,
           584.861572265625
          ],
          [
           1000,
           2470,
           1485.138427734375,
           984.861572265625
          ],
          [
           1500,
           2970,
           1337.919677734375,
           1632.080322265625
          ],
          [
           2000,
           3470,
           1337.919677734375,
           2132.080322265625
          ],
          [
           2500,
           3970,
           1337.919677734375,
           2632.080322265625
          ]
         ],
         "hovertemplate": "<b>z above inst = %{customdata[0]:.0f}m </b><br><b>z above msl = %{customdata[1]:.0f}m </b><br><b>surface msl = %{customdata[2]:.0f}m </b><br><b>z above ground = %{customdata[3]:.0f}m </b><br>longitude: %{lon:.3f}<br>latitude: %{lat:.3f}<br>",
         "lat": [
          40.766,
          40.76593704483059,
          40.76587408954006,
          40.765811134128455,
          40.765748178595715,
          40.76562226716696,
          40.765496355253816,
          40.765244529974304,
          40.76499270275722,
          40.764489042510476,
          40.76348169876753,
          40.7622224754987,
          40.76096320380006,
          40.759703883675506
         ],
         "lon": [
          -111.847,
          -111.84711788501463,
          -111.84723576980679,
          -111.84735365437645,
          -111.84747153872364,
          -111.84770730675056,
          -111.84794307388755,
          -111.84841460549178,
          -111.84888613353634,
          -111.8498291789466,
          -111.85171522705255,
          -111.8540727070977,
          -111.85643009816064,
          -111.85878740024529
         ],
         "marker": {
          "size": 10
         },
         "mode": "markers+lines",
         "name": "2022-06-16 21:00:00 UTC",
         "type": "scattermapbox"
        },
        {
         "customdata": [
          [
           0,
           1470,
           1485.138427734375,
           -15.138427734375
          ],
          [
           25,
           1495,
           1485.138427734375,
           9.861572265625
          ],
          [
           50,
           1520,
           1485.138427734375,
           34.861572265625
          ],
          [
           75,
           1545,
           1485.138427734375,
           59.861572265625
          ],
          [
           100,
           1570,
           1485.138427734375,
           84.861572265625
          ],
          [
           150,
           1620,
           1485.138427734375,
           134.861572265625
          ],
          [
           200,
           1670,
           1485.138427734375,
           184.861572265625
          ],
          [
           300,
           1770,
           1485.138427734375,
           284.861572265625
          ],
          [
           400,
           1870,
           1485.138427734375,
           384.861572265625
          ],
          [
           600,
           2070,
           1485.138427734375,
           584.861572265625
          ],
          [
           1000,
           2470,
           1337.919677734375,
           1132.080322265625
          ],
          [
           1500,
           2970,
           1337.919677734375,
           1632.080322265625
          ],
          [
           2000,
           3470,
           1337.919677734375,
           2132.080322265625
          ],
          [
           2500,
           3970,
           1337.919677734375,
           2632.080322265625
          ]
         ],
         "hovertemplate": "<b>z above inst = %{customdata[0]:.0f}m </b><br><b>z above msl = %{customdata[1]:.0f}m </b><br><b>surface msl = %{customdata[2]:.0f}m </b><br><b>z above ground = %{customdata[3]:.0f}m </b><br>longitude: %{lon:.3f}<br>latitude: %{lat:.3f}<br>",
         "lat": [
          40.766000000000005,
          40.76595199322596,
          40.76590398608008,
          40.76585597856239,
          40.76580797067287,
          40.76571195377837,
          40.765615935396596,
          40.765423894171256,
          40.76523184699691,
          40.76484773480155,
          40.76407943902612,
          40.763118935466665,
          40.76215828320449,
          40.761197482248846
         ],
         "lon": [
          -111.847,
          -111.84720703996537,
          -111.8474140796328,
          -111.84762111900224,
          -111.84782815807371,
          -111.84824223532276,
          -111.84865631137991,
          -111.84948445991849,
          -111.85031260368935,
          -111.8519688769276,
          -111.85528136618774,
          -111.859421870475,
          -111.86356225554321,
          -111.86770252138143
         ],
         "marker": {
          "size": 10
         },
         "mode": "markers+lines",
         "name": "2022-06-16 22:00:00 UTC",
         "type": "scattermapbox"
        },
        {
         "customdata": [
          [
           0,
           1470,
           1485.138427734375,
           -15.138427734375
          ],
          [
           25,
           1495,
           1485.138427734375,
           9.861572265625
          ],
          [
           50,
           1520,
           1485.138427734375,
           34.861572265625
          ],
          [
           75,
           1545,
           1485.138427734375,
           59.861572265625
          ],
          [
           100,
           1570,
           1485.138427734375,
           84.861572265625
          ],
          [
           150,
           1620,
           1485.138427734375,
           134.861572265625
          ],
          [
           200,
           1670,
           1485.138427734375,
           184.861572265625
          ],
          [
           300,
           1770,
           1485.138427734375,
           284.861572265625
          ],
          [
           400,
           1870,
           1485.138427734375,
           384.861572265625
          ],
          [
           600,
           2070,
           1485.138427734375,
           584.861572265625
          ],
          [
           1000,
           2470,
           1337.919677734375,
           1132.080322265625
          ],
          [
           1500,
           2970,
           1434.794677734375,
           1535.205322265625
          ],
          [
           2000,
           3470,
           1434.794677734375,
           2035.205322265625
          ],
          [
           2500,
           3970,
           1434.794677734375,
           2535.205322265625
          ]
         ],
         "hovertemplate": "<b>z above inst = %{customdata[0]:.0f}m </b><br><b>z above msl = %{customdata[1]:.0f}m </b><br><b>surface msl = %{customdata[2]:.0f}m </b><br><b>z above ground = %{customdata[3]:.0f}m </b><br>longitude: %{lon:.3f}<br>latitude: %{lat:.3f}<br>",
         "lat": [
          40.76600000000001,
          40.765979862637266,
          40.76595972438789,
          40.76593958525191,
          40.76591944522929,
          40.765879162524215,
          40.76583887627265,
          40.765758293130176,
          40.76567769580191,
          40.76551645858839,
          40.7651938139353,
          40.76479018895127,
          40.76438620934513,
          40.76398187512616
         ],
         "lon": [
          -111.847,
          -111.84731986832189,
          -111.84763973645067,
          -111.84795960438635,
          -111.8482794721289,
          -111.8489192070346,
          -111.84955894116773,
          -111.85083840711596,
          -111.85211786997304,
          -111.85467678641174,
          -111.85979458217234,
          -111.86619175723558,
          -111.87258885486226,
          -111.8789858749864
         ],
         "marker": {
          "size": 10
         },
         "mode": "markers+lines",
         "name": "2022-06-16 23:00:00 UTC",
         "type": "scattermapbox"
        },
        {
         "customdata": [
          [
           0,
           1470,
           1485.138427734375,
           -15.138427734375
          ],
          [
           25,
           1495,
           1485.138427734375,
           9.861572265625
          ],
          [
           50,
           1520,
           1485.138427734375,
           34.861572265625
          ],
          [
           75,
           1545,
           1485.138427734375,
           59.861572265625
          ],
          [
           100,
           1570,
           1485.138427734375,
           84.861572265625
          ],
          [
           150,
           1620,
           1485.138427734375,
           134.861572265625
          ],
          [
           200,
           1670,
           1485.138427734375,
           184.861572265625
          ],
          [
           300,
           1770,
           1704.419677734375,
           65.580322265625
          ],
          [
           400,
           1870,
           1704.419677734375,
           165.580322265625
          ],
          [
           600,
           2070,
           1434.794677734375,
           635.205322265625
          ],
          [
           1000,
           2470,
           1434.794677734375,
           1035.205322265625
          ],
          [
           1500,
           2970,
           1434.794677734375,
           1535.205322265625
          ],
          [
           2000,
           3470,
           1434.794677734375,
           2035.205322265625
          ],
          [
           2500,
           3970,
           1303.513427734375,
           2666.486572265625
          ]
         ],
         "hovertemplate": "<b>z above inst = %{customdata[0]:.0f}m </b><br><b>z above msl = %{customdata[1]:.0f}m </b><br><b>surface msl = %{customdata[2]:.0f}m </b><br><b>z above ground = %{customdata[3]:.0f}m </b><br>longitude: %{lon:.3f}<br>latitude: %{lat:.3f}<br>",
         "lat": [
          40.766000000000005,
          40.76603263604395,
          40.76606527005786,
          40.766097902041714,
          40.7661305319955,
          40.76619578581288,
          40.76626103150998,
          40.766391498543165,
          40.766521933094786,
          40.76678270475225,
          40.76730385827633,
          40.76795456930103,
          40.768604468204494,
          40.76925355495258
         ],
         "lon": [
          -111.847,
          -111.84748400752889,
          -111.84796801553134,
          -111.84845202400726,
          -111.84893603295667,
          -111.84990405227579,
          -111.85087207348846,
          -111.85280812159353,
          -111.85474417727008,
          -111.85861631133028,
          -111.86636067022819,
          -111.87604128890816,
          -111.8857220963285,
          -111.89540309226152
         ],
         "marker": {
          "size": 10
         },
         "mode": "markers+lines",
         "name": "2022-06-17 00:00:00 UTC",
         "type": "scattermapbox"
        }
       ],
       "layout": {
        "height": 400,
        "hovermode": "closest",
        "mapbox": {
         "bearing": 0,
         "center": {
          "lat": 40.766,
          "lon": -111.847
         },
         "layers": [
          {
           "below": "traces",
           "source": [
            "https://basemap.nationalmap.gov/arcgis/rest/services/USGSImageryOnly/MapServer/tile/{z}/{y}/{x}"
           ],
           "sourceattribution": "United States Geological Survey",
           "sourcetype": "raster"
          },
          {
           "source": [
            "https://geo.weather.gc.ca/geomet/?SERVICE=WMS&VERSION=1.3.0&REQUEST=GetMap&BBOX={bbox-epsg-3857}&CRS=EPSG:3857&WIDTH=1000&HEIGHT=1000&LAYERS=RADAR_1KM_RDBR&TILED=true&FORMAT=image/png"
           ],
           "sourceattribution": "Government of Canada",
           "sourcetype": "raster"
          }
         ],
         "pitch": 0,
         "style": "white-bg",
         "zoom": 8
        },
        "margin": {
         "b": 0,
         "l": 0,
         "r": 0,
         "t": 0
        },
        "showlegend": true,
        "template": {
         "data": {
          "bar": [
           {
            "error_x": {
             "color": "#2a3f5f"
            },
            "error_y": {
             "color": "#2a3f5f"
            },
            "marker": {
             "line": {
              "color": "#E5ECF6",
              "width": 0.5
             },
             "pattern": {
              "fillmode": "overlay",
              "size": 10,
              "solidity": 0.2
             }
            },
            "type": "bar"
           }
          ],
          "barpolar": [
           {
            "marker": {
             "line": {
              "color": "#E5ECF6",
              "width": 0.5
             },
             "pattern": {
              "fillmode": "overlay",
              "size": 10,
              "solidity": 0.2
             }
            },
            "type": "barpolar"
           }
          ],
          "carpet": [
           {
            "aaxis": {
             "endlinecolor": "#2a3f5f",
             "gridcolor": "white",
             "linecolor": "white",
             "minorgridcolor": "white",
             "startlinecolor": "#2a3f5f"
            },
            "baxis": {
             "endlinecolor": "#2a3f5f",
             "gridcolor": "white",
             "linecolor": "white",
             "minorgridcolor": "white",
             "startlinecolor": "#2a3f5f"
            },
            "type": "carpet"
           }
          ],
          "choropleth": [
           {
            "colorbar": {
             "outlinewidth": 0,
             "ticks": ""
            },
            "type": "choropleth"
           }
          ],
          "contour": [
           {
            "colorbar": {
             "outlinewidth": 0,
             "ticks": ""
            },
            "colorscale": [
             [
              0,
              "#0d0887"
             ],
             [
              0.1111111111111111,
              "#46039f"
             ],
             [
              0.2222222222222222,
              "#7201a8"
             ],
             [
              0.3333333333333333,
              "#9c179e"
             ],
             [
              0.4444444444444444,
              "#bd3786"
             ],
             [
              0.5555555555555556,
              "#d8576b"
             ],
             [
              0.6666666666666666,
              "#ed7953"
             ],
             [
              0.7777777777777778,
              "#fb9f3a"
             ],
             [
              0.8888888888888888,
              "#fdca26"
             ],
             [
              1,
              "#f0f921"
             ]
            ],
            "type": "contour"
           }
          ],
          "contourcarpet": [
           {
            "colorbar": {
             "outlinewidth": 0,
             "ticks": ""
            },
            "type": "contourcarpet"
           }
          ],
          "heatmap": [
           {
            "colorbar": {
             "outlinewidth": 0,
             "ticks": ""
            },
            "colorscale": [
             [
              0,
              "#0d0887"
             ],
             [
              0.1111111111111111,
              "#46039f"
             ],
             [
              0.2222222222222222,
              "#7201a8"
             ],
             [
              0.3333333333333333,
              "#9c179e"
             ],
             [
              0.4444444444444444,
              "#bd3786"
             ],
             [
              0.5555555555555556,
              "#d8576b"
             ],
             [
              0.6666666666666666,
              "#ed7953"
             ],
             [
              0.7777777777777778,
              "#fb9f3a"
             ],
             [
              0.8888888888888888,
              "#fdca26"
             ],
             [
              1,
              "#f0f921"
             ]
            ],
            "type": "heatmap"
           }
          ],
          "heatmapgl": [
           {
            "colorbar": {
             "outlinewidth": 0,
             "ticks": ""
            },
            "colorscale": [
             [
              0,
              "#0d0887"
             ],
             [
              0.1111111111111111,
              "#46039f"
             ],
             [
              0.2222222222222222,
              "#7201a8"
             ],
             [
              0.3333333333333333,
              "#9c179e"
             ],
             [
              0.4444444444444444,
              "#bd3786"
             ],
             [
              0.5555555555555556,
              "#d8576b"
             ],
             [
              0.6666666666666666,
              "#ed7953"
             ],
             [
              0.7777777777777778,
              "#fb9f3a"
             ],
             [
              0.8888888888888888,
              "#fdca26"
             ],
             [
              1,
              "#f0f921"
             ]
            ],
            "type": "heatmapgl"
           }
          ],
          "histogram": [
           {
            "marker": {
             "pattern": {
              "fillmode": "overlay",
              "size": 10,
              "solidity": 0.2
             }
            },
            "type": "histogram"
           }
          ],
          "histogram2d": [
           {
            "colorbar": {
             "outlinewidth": 0,
             "ticks": ""
            },
            "colorscale": [
             [
              0,
              "#0d0887"
             ],
             [
              0.1111111111111111,
              "#46039f"
             ],
             [
              0.2222222222222222,
              "#7201a8"
             ],
             [
              0.3333333333333333,
              "#9c179e"
             ],
             [
              0.4444444444444444,
              "#bd3786"
             ],
             [
              0.5555555555555556,
              "#d8576b"
             ],
             [
              0.6666666666666666,
              "#ed7953"
             ],
             [
              0.7777777777777778,
              "#fb9f3a"
             ],
             [
              0.8888888888888888,
              "#fdca26"
             ],
             [
              1,
              "#f0f921"
             ]
            ],
            "type": "histogram2d"
           }
          ],
          "histogram2dcontour": [
           {
            "colorbar": {
             "outlinewidth": 0,
             "ticks": ""
            },
            "colorscale": [
             [
              0,
              "#0d0887"
             ],
             [
              0.1111111111111111,
              "#46039f"
             ],
             [
              0.2222222222222222,
              "#7201a8"
             ],
             [
              0.3333333333333333,
              "#9c179e"
             ],
             [
              0.4444444444444444,
              "#bd3786"
             ],
             [
              0.5555555555555556,
              "#d8576b"
             ],
             [
              0.6666666666666666,
              "#ed7953"
             ],
             [
              0.7777777777777778,
              "#fb9f3a"
             ],
             [
              0.8888888888888888,
              "#fdca26"
             ],
             [
              1,
              "#f0f921"
             ]
            ],
            "type": "histogram2dcontour"
           }
          ],
          "mesh3d": [
           {
            "colorbar": {
             "outlinewidth": 0,
             "ticks": ""
            },
            "type": "mesh3d"
           }
          ],
          "parcoords": [
           {
            "line": {
             "colorbar": {
              "outlinewidth": 0,
              "ticks": ""
             }
            },
            "type": "parcoords"
           }
          ],
          "pie": [
           {
            "automargin": true,
            "type": "pie"
           }
          ],
          "scatter": [
           {
            "fillpattern": {
             "fillmode": "overlay",
             "size": 10,
             "solidity": 0.2
            },
            "type": "scatter"
           }
          ],
          "scatter3d": [
           {
            "line": {
             "colorbar": {
              "outlinewidth": 0,
              "ticks": ""
             }
            },
            "marker": {
             "colorbar": {
              "outlinewidth": 0,
              "ticks": ""
             }
            },
            "type": "scatter3d"
           }
          ],
          "scattercarpet": [
           {
            "marker": {
             "colorbar": {
              "outlinewidth": 0,
              "ticks": ""
             }
            },
            "type": "scattercarpet"
           }
          ],
          "scattergeo": [
           {
            "marker": {
             "colorbar": {
              "outlinewidth": 0,
              "ticks": ""
             }
            },
            "type": "scattergeo"
           }
          ],
          "scattergl": [
           {
            "marker": {
             "colorbar": {
              "outlinewidth": 0,
              "ticks": ""
             }
            },
            "type": "scattergl"
           }
          ],
          "scattermapbox": [
           {
            "marker": {
             "colorbar": {
              "outlinewidth": 0,
              "ticks": ""
             }
            },
            "type": "scattermapbox"
           }
          ],
          "scatterpolar": [
           {
            "marker": {
             "colorbar": {
              "outlinewidth": 0,
              "ticks": ""
             }
            },
            "type": "scatterpolar"
           }
          ],
          "scatterpolargl": [
           {
            "marker": {
             "colorbar": {
              "outlinewidth": 0,
              "ticks": ""
             }
            },
            "type": "scatterpolargl"
           }
          ],
          "scatterternary": [
           {
            "marker": {
             "colorbar": {
              "outlinewidth": 0,
              "ticks": ""
             }
            },
            "type": "scatterternary"
           }
          ],
          "surface": [
           {
            "colorbar": {
             "outlinewidth": 0,
             "ticks": ""
            },
            "colorscale": [
             [
              0,
              "#0d0887"
             ],
             [
              0.1111111111111111,
              "#46039f"
             ],
             [
              0.2222222222222222,
              "#7201a8"
             ],
             [
              0.3333333333333333,
              "#9c179e"
             ],
             [
              0.4444444444444444,
              "#bd3786"
             ],
             [
              0.5555555555555556,
              "#d8576b"
             ],
             [
              0.6666666666666666,
              "#ed7953"
             ],
             [
              0.7777777777777778,
              "#fb9f3a"
             ],
             [
              0.8888888888888888,
              "#fdca26"
             ],
             [
              1,
              "#f0f921"
             ]
            ],
            "type": "surface"
           }
          ],
          "table": [
           {
            "cells": {
             "fill": {
              "color": "#EBF0F8"
             },
             "line": {
              "color": "white"
             }
            },
            "header": {
             "fill": {
              "color": "#C8D4E3"
             },
             "line": {
              "color": "white"
             }
            },
            "type": "table"
           }
          ]
         },
         "layout": {
          "annotationdefaults": {
           "arrowcolor": "#2a3f5f",
           "arrowhead": 0,
           "arrowwidth": 1
          },
          "autotypenumbers": "strict",
          "coloraxis": {
           "colorbar": {
            "outlinewidth": 0,
            "ticks": ""
           }
          },
          "colorscale": {
           "diverging": [
            [
             0,
             "#8e0152"
            ],
            [
             0.1,
             "#c51b7d"
            ],
            [
             0.2,
             "#de77ae"
            ],
            [
             0.3,
             "#f1b6da"
            ],
            [
             0.4,
             "#fde0ef"
            ],
            [
             0.5,
             "#f7f7f7"
            ],
            [
             0.6,
             "#e6f5d0"
            ],
            [
             0.7,
             "#b8e186"
            ],
            [
             0.8,
             "#7fbc41"
            ],
            [
             0.9,
             "#4d9221"
            ],
            [
             1,
             "#276419"
            ]
           ],
           "sequential": [
            [
             0,
             "#0d0887"
            ],
            [
             0.1111111111111111,
             "#46039f"
            ],
            [
             0.2222222222222222,
             "#7201a8"
            ],
            [
             0.3333333333333333,
             "#9c179e"
            ],
            [
             0.4444444444444444,
             "#bd3786"
            ],
            [
             0.5555555555555556,
             "#d8576b"
            ],
            [
             0.6666666666666666,
             "#ed7953"
            ],
            [
             0.7777777777777778,
             "#fb9f3a"
            ],
            [
             0.8888888888888888,
             "#fdca26"
            ],
            [
             1,
             "#f0f921"
            ]
           ],
           "sequentialminus": [
            [
             0,
             "#0d0887"
            ],
            [
             0.1111111111111111,
             "#46039f"
            ],
            [
             0.2222222222222222,
             "#7201a8"
            ],
            [
             0.3333333333333333,
             "#9c179e"
            ],
            [
             0.4444444444444444,
             "#bd3786"
            ],
            [
             0.5555555555555556,
             "#d8576b"
            ],
            [
             0.6666666666666666,
             "#ed7953"
            ],
            [
             0.7777777777777778,
             "#fb9f3a"
            ],
            [
             0.8888888888888888,
             "#fdca26"
            ],
            [
             1,
             "#f0f921"
            ]
           ]
          },
          "colorway": [
           "#636efa",
           "#EF553B",
           "#00cc96",
           "#ab63fa",
           "#FFA15A",
           "#19d3f3",
           "#FF6692",
           "#B6E880",
           "#FF97FF",
           "#FECB52"
          ],
          "font": {
           "color": "#2a3f5f"
          },
          "geo": {
           "bgcolor": "white",
           "lakecolor": "white",
           "landcolor": "#E5ECF6",
           "showlakes": true,
           "showland": true,
           "subunitcolor": "white"
          },
          "hoverlabel": {
           "align": "left"
          },
          "hovermode": "closest",
          "mapbox": {
           "style": "light"
          },
          "paper_bgcolor": "white",
          "plot_bgcolor": "#E5ECF6",
          "polar": {
           "angularaxis": {
            "gridcolor": "white",
            "linecolor": "white",
            "ticks": ""
           },
           "bgcolor": "#E5ECF6",
           "radialaxis": {
            "gridcolor": "white",
            "linecolor": "white",
            "ticks": ""
           }
          },
          "scene": {
           "xaxis": {
            "backgroundcolor": "#E5ECF6",
            "gridcolor": "white",
            "gridwidth": 2,
            "linecolor": "white",
            "showbackground": true,
            "ticks": "",
            "zerolinecolor": "white"
           },
           "yaxis": {
            "backgroundcolor": "#E5ECF6",
            "gridcolor": "white",
            "gridwidth": 2,
            "linecolor": "white",
            "showbackground": true,
            "ticks": "",
            "zerolinecolor": "white"
           },
           "zaxis": {
            "backgroundcolor": "#E5ECF6",
            "gridcolor": "white",
            "gridwidth": 2,
            "linecolor": "white",
            "showbackground": true,
            "ticks": "",
            "zerolinecolor": "white"
           }
          },
          "shapedefaults": {
           "line": {
            "color": "#2a3f5f"
           }
          },
          "ternary": {
           "aaxis": {
            "gridcolor": "white",
            "linecolor": "white",
            "ticks": ""
           },
           "baxis": {
            "gridcolor": "white",
            "linecolor": "white",
            "ticks": ""
           },
           "bgcolor": "#E5ECF6",
           "caxis": {
            "gridcolor": "white",
            "linecolor": "white",
            "ticks": ""
           }
          },
          "title": {
           "x": 0.05
          },
          "xaxis": {
           "automargin": true,
           "gridcolor": "white",
           "linecolor": "white",
           "ticks": "",
           "title": {
            "standoff": 15
           },
           "zerolinecolor": "white",
           "zerolinewidth": 2
          },
          "yaxis": {
           "automargin": true,
           "gridcolor": "white",
           "linecolor": "white",
           "ticks": "",
           "title": {
            "standoff": 15
           },
           "zerolinecolor": "white",
           "zerolinewidth": 2
          }
         }
        }
       }
      }
     },
     "metadata": {},
     "output_type": "display_data"
    }
   ],
   "source": [
    "plotting.create_slant_plots(slant_df,inst_lat,inst_lon)"
   ]
  },
  {
   "attachments": {},
   "cell_type": "markdown",
   "metadata": {},
   "source": [
    "# KML Creator for Google Earth Visualization"
   ]
  },
  {
   "attachments": {},
   "cell_type": "markdown",
   "metadata": {},
   "source": [
    " The following illustrates how we can use google earth for visuzlizing total columns. This is especially helpful because Google Earth's 3d rendering engine is the best option I've found for visualizing 3d data on the earth. The idea here is to use data produced in python to write KML files that can be read by Google Earth Pro. "
   ]
  },
  {
   "cell_type": "code",
   "execution_count": 2,
   "metadata": {},
   "outputs": [
    {
     "name": "stdout",
     "output_type": "stream",
     "text": [
      "Adding receptor lat/lons along the slant column\n"
     ]
    },
    {
     "name": "stderr",
     "output_type": "stream",
     "text": [
      "/Users/agmeyer4/opt/anaconda3/envs/atmos_column/lib/python3.11/site-packages/pysolar/solartime.py:111: UserWarning: I don't know about leap seconds after 2021\n",
      "  warnings.warn \\\n"
     ]
    },
    {
     "name": "stdout",
     "output_type": "stream",
     "text": [
      "Adding surface height and receptor elevation above ground level\n"
     ]
    }
   ],
   "source": [
    "#Setup the slant columns\n",
    "hrrr_subset_path = '/Users/agmeyer4/LAIR_1/Data/hrrr/subsets' #path with a hrrr folder included, or will be created\n",
    "hrrr_subset_datestr = '2022-07-01 00:00' #this is the date that we want to take the surface information from. They should be all the same.\n",
    "\n",
    "#First define the instrument location and elevation\n",
    "inst_lat = 40.766\n",
    "inst_lon = -111.847\n",
    "inst_zasl = 1492 #instrument elevation in meters above sea level\n",
    "\n",
    "#Next define the datetime range\n",
    "dt1_str = '2022-11-16 00:00:00'\n",
    "dt2_str = '2022-11-17 00:00:00' #start datetime\n",
    "timezone = 'US/Mountain' #this should nearly always be UTC, but can identify if your datetime strings above are in a different timezone\n",
    "\n",
    "#Now format the datetime and timezone into useful formats\n",
    "dt1 = ac.dtstr_to_dttz(dt1_str,timezone)\n",
    "dt2 = ac.dtstr_to_dttz(dt2_str,timezone)\n",
    "\n",
    "#Define the heights above the instrument (in m) from which we would like to release particles\n",
    "z_ail_list = [0,25,50,75,100,150,200,300,400,600,1000,1500,2000,2500]\n",
    "\n",
    "gsh = ac.ground_slant_handler(inst_lat,inst_lon,inst_zasl,z_ail_list,hrrr_subset_path,hrrr_subset_datestr)\n",
    "slant_df = gsh.run_slant_at_intervals(dt1,dt2)\n",
    "slant_df = slant_df.dropna()"
   ]
  },
  {
   "cell_type": "code",
   "execution_count": 3,
   "metadata": {},
   "outputs": [],
   "source": [
    "landfills = {'slv_landfill':[40.746,-112.042],\n",
    "             'jordan_landfill':[40.55862,-112.053],\n",
    "             'davis_landfill':[41.114,-111.931],\n",
    "             'weber_landfill':[41.218,-111.99]}\n",
    "\n",
    "ww_plants = {'central_valley_wwtp':[40.7036613,-111.9141398],\n",
    "             'big_cottonwood_wwtp':[40.6187424,-111.7824328],\n",
    "             'se_regional_wwtp':[40.5411975,-111.8191652],\n",
    "             'south_valley_wwtp':[40.5033357,-111.9187493],\n",
    "             'slc_wwtp':[40.8030915,-111.9295899],\n",
    "             }"
   ]
  },
  {
   "cell_type": "code",
   "execution_count": 4,
   "metadata": {},
   "outputs": [],
   "source": [
    "#This is the KML creator based on a slant column, loaded in the cell above. \n",
    "\n",
    "kml_folder = '/Users/agmeyer4/LAIR_1/Data/KML' #storage\n",
    "kml_fname = f'{dt1.strftime(\"%Y%m%d\")}.kml' #and naming\n",
    "\n",
    "kml_cmap = plotting.kml_color_list_generator(len(slant_df.groupby(level=0)),cmap_name='viridis') #generate the color list\n",
    "icon_size = 0.3 #how big we want the receptor points to be \n",
    "\n",
    "kml = simplekml.Kml() #initialize the kml file\n",
    "\n",
    "#Add landfills\n",
    "fol = kml.newfolder(name='landfills')\n",
    "for name,loc in landfills.items():\n",
    "    pnt = fol.newpoint(name=name, coords=[(loc[1],loc[0])])\n",
    "    pnt.style.iconstyle.color = simplekml.Color.cyan\n",
    "    pnt.style.iconstyle.icon.href = 'https://maps.google.com/mapfiles/kml/pal2/icon18.png'\n",
    "    pnt.style.iconstyle.scale = 0.5\n",
    "    pnt.style.labelstyle.scale = 0.4\n",
    "\n",
    "#Add landfills\n",
    "fol = kml.newfolder(name='wwtps')\n",
    "for name,loc in ww_plants.items():\n",
    "    pnt = fol.newpoint(name=name, coords=[(loc[1],loc[0])])\n",
    "    pnt.style.iconstyle.color = simplekml.Color.orange\n",
    "    pnt.style.iconstyle.icon.href = 'https://maps.google.com/mapfiles/kml/pal2/icon18.png'\n",
    "    pnt.style.iconstyle.scale = 0.5\n",
    "    pnt.style.labelstyle.scale = 0.4\n",
    "\n",
    "#Add the slant columns\n",
    "color_idx = 0 #to loop through the colors\n",
    "for dt,newdf in slant_df.groupby(level=0): #groupby the first index -- datetime\n",
    "    time_str = dt.strftime('%H:%M %Z') #grab the datetime string for labeling\n",
    "    plotdf = newdf.droplevel(0).reset_index() #get the new dataframe at that datetime level and reset the index so z_asl is a column not an index\n",
    "\n",
    "    slant_id = time_str #the slant ID is best associated with the time string \n",
    "    fol = kml.newfolder(name=slant_id) #create a new folder to store the points for a specific datetime column receptor\n",
    "    \n",
    "    #the linestring is just a path between the first and last points of the column receptor, to visualize the column\n",
    "    ls = fol.newlinestring(name=f'{slant_id}_ls',coords=[(plotdf.iloc[0]['receptor_lon'],plotdf.iloc[0]['receptor_lat'],plotdf.iloc[0]['receptor_zasl'])\n",
    "                                                         ,(plotdf.iloc[-1]['receptor_lon'],plotdf.iloc[-1]['receptor_lat'],plotdf.iloc[-1]['receptor_zasl'])],\n",
    "                                                         altitudemode='absolute')\n",
    "    for i in range(0,len(plotdf)): #loop through each row in the plotdf\n",
    "        lat = plotdf.iloc[i]['receptor_lat']\n",
    "        lon = plotdf.iloc[i]['receptor_lon']\n",
    "        z_asl = plotdf.iloc[i]['receptor_zasl']\n",
    "        if i == len(plotdf)-1: #we want to name and lable the very top level with the time, but not every one or it gets cluttered\n",
    "            name = slant_id\n",
    "            label_size = 1\n",
    "        else: #the rest of the points we can label with the z above instrument level \n",
    "            name = f\"{plotdf.iloc[i]['z_ail']}m\"\n",
    "            label_size = 0.5\n",
    "        pnt = fol.newpoint(name=name, coords=[(lon,lat,z_asl)], altitudemode='absolute')\n",
    "        if not plotdf.iloc[i]['receptor_z_is_agl']:\n",
    "            pnt.style.iconstyle.color = simplekml.Color.red\n",
    "        else:\n",
    "            pnt.style.iconstyle.color = kml_cmap[color_idx]\n",
    "        pnt.style.iconstyle.icon.href = 'https://maps.google.com/mapfiles/kml/pal2/icon18.png'\n",
    "        pnt.style.iconstyle.scale = icon_size\n",
    "        pnt.style.labelstyle.scale = label_size\n",
    "    color_idx+=1\n",
    "\n",
    "kml.save(os.path.join(kml_folder,kml_fname))"
   ]
  },
  {
   "attachments": {},
   "cell_type": "markdown",
   "metadata": {},
   "source": [
    "# Writing to CSV for analyis in R Openair"
   ]
  },
  {
   "cell_type": "code",
   "execution_count": null,
   "metadata": {},
   "outputs": [],
   "source": [
    "csv = flag0_df[['solzen(deg)','azim(deg)','tout(C)','pout(hPa)','hout(%RH)','wspd(m/s)','wdir(deg)','xco(ppb)','xco(ppb)_error', 'xn2o(ppb)', 'xn2o(ppb)_error',\n",
    "       'xch4(ppm)', 'xch4(ppm)_error', 'xlco2(ppm)', 'xlco2(ppm)_error','xwco2(ppm)', 'xwco2(ppm)_error', 'xco2(ppm)', 'xco2(ppm)_error', 'xo2','xo2_error']].reset_index()\n",
    "csv.rename(columns={'wspd(m/s)':'ws','wdir(deg)':'wd'},inplace=True)\n",
    "csv.to_csv('/Users/agmeyer4/Google Drive/My Drive/Documents/LAIR/Data/flag0_20220524_20230202.csv')"
   ]
  },
  {
   "cell_type": "code",
   "execution_count": null,
   "metadata": {},
   "outputs": [],
   "source": [
    "minicsv = pd.DataFrame()\n",
    "for k in interesting_dates.keys():\n",
    "    minicsv = pd.concat([minicsv,date_separated[k]])\n",
    "minicsv = minicsv[['solzen(deg)','azim(deg)','tout(C)','pout(hPa)','hout(%RH)','wspd(m/s)','wdir(deg)','xco(ppb)','xco(ppb)_error', 'xn2o(ppb)', 'xn2o(ppb)_error',\n",
    "       'xch4(ppm)', 'xch4(ppm)_error', 'xlco2(ppm)', 'xlco2(ppm)_error','xwco2(ppm)', 'xwco2(ppm)_error', 'xco2(ppm)', 'xco2(ppm)_error', 'xo2','xo2_error']].reset_index()\n",
    "minicsv.rename(columns={'wspd(m/s)':'ws','wdir(deg)':'wd'},inplace=True)\n",
    "\n",
    "minicsv.to_csv('/Users/agmeyer4/Google Drive/My Drive/Documents/LAIR/Data/flag0_interesting.csv')"
   ]
  }
 ],
 "metadata": {
  "kernelspec": {
   "display_name": "atmos_column",
   "language": "python",
   "name": "python3"
  },
  "language_info": {
   "codemirror_mode": {
    "name": "ipython",
    "version": 3
   },
   "file_extension": ".py",
   "mimetype": "text/x-python",
   "name": "python",
   "nbconvert_exporter": "python",
   "pygments_lexer": "ipython3",
   "version": "3.11.1"
  }
 },
 "nbformat": 4,
 "nbformat_minor": 4
}
