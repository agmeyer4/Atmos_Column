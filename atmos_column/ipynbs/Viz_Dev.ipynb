{
 "cells": [
  {
   "cell_type": "code",
   "execution_count": 1,
   "metadata": {},
   "outputs": [],
   "source": [
    "#Import Packages\n",
    "import pandas as pd\n",
    "import numpy as np\n",
    "import os\n",
    "import itertools\n",
    "import plotly.graph_objects as go\n",
    "import matplotlib.pyplot as plt\n",
    "import datetime\n",
    "import matplotlib\n",
    "from herbie import Herbie\n",
    "import pickle\n",
    "import cartopy.crs as ccrs\n",
    "import cartopy.io.img_tiles as cimgt\n",
    "import pysolar.solar as solar\n",
    "from geographiclib.geodesic import Geodesic\n",
    "import xarray as xr\n",
    "import pytz\n",
    "import simplekml\n",
    "import cartopy\n",
    "import sys\n",
    "sys.path.append('..')\n",
    "import funcs.ac_funcs as ac\n",
    "import funcs.plotting as plotting\n",
    "\n",
    "\n",
    "pd.options.mode.chained_assignment = None\n",
    "\n",
    "\n",
    "#Autoreload changed local modules\n",
    "%load_ext autoreload\n",
    "%autoreload 2"
   ]
  },
  {
   "cell_type": "code",
   "execution_count": 2,
   "metadata": {},
   "outputs": [],
   "source": [
    "base_project_dir = '/uufs/chpc.utah.edu/common/home/u0890904/LAIR_1/'\n",
    "#base_project_dir = '/Users/agmeyer4/LAIR_1/'\n",
    "\n",
    "\n",
    "#SLC SOURCES\n",
    "slc_sources = dict(\n",
    "    landfill = {'salt_lake_valley':{'lat':40.746,'lon':-112.042},\n",
    "                 'trans_jordan':{'lat':40.55862,'lon':-112.053},\n",
    "                 'davis':{'lat':41.114,'lon':-111.931},\n",
    "                 'weber':{'lat':41.218,'lon':-111.99},\n",
    "                 'bountiful':{'lat':40.911,'lon':-111.917}},\n",
    "    ww_plant = {'central_valley':{'lat':40.7036613,'lon':-111.9141398},\n",
    "                 'big_cottonwood':{'lat':40.6187424,'lon':-111.7824328},\n",
    "                 'se_regional':{'lat':40.5411975,'lon':-111.8191652},\n",
    "                 'south_valley':{'lat':40.5033357,'lon':-111.9187493},\n",
    "                 'slc':{'lat':40.8030915,'lon':-111.9295899},\n",
    "                 },\n",
    "    refinery = {'Chevron':        {'lat':40.825,'lon':-111.924},\n",
    "                  'Big West Oil':   {'lat':40.838,'lon':-111.920},\n",
    "                  'Marathon':       {'lat':40.794,'lon':-111.909},\n",
    "                  'Holly Refining': {'lat':40.887,'lon':-111.904},\n",
    "                  'Silver Eagle':   {'lat':40.868,'lon':-111.910}}\n",
    "    )\n",
    "\n",
    "source_df = pd.DataFrame()\n",
    "for sourcetype in slc_sources.keys():\n",
    "    df = pd.DataFrame(slc_sources[sourcetype]).transpose()\n",
    "    df['type'] = sourcetype\n",
    "    source_df = pd.concat([source_df,df])"
   ]
  },
  {
   "cell_type": "markdown",
   "metadata": {},
   "source": [
    "# Slant Columns: A Step By Step Description"
   ]
  },
  {
   "cell_type": "markdown",
   "metadata": {},
   "source": [
    "Our goal is to create a list of receptor details (datetime, lat, lon, zagl) that can be used as an input to the STILT model for footprint analyses.\n",
    "\n",
    "The required input variables to accomplish this are the latitude, longitude, and elevation (m above sea level) of the solar spectrometer (EM27), the datetime of the measurment, and the vertical levels at which we want to release particles.\n",
    "\n",
    "The output should be a file formatted such that it can be read by STILT for particle releases. \n",
    "\n",
    "The following description is effectively a step by step of ac_funcs.ground_slant_handler.run_slant_at_intervals() for a single time (not a range, that is below). "
   ]
  },
  {
   "cell_type": "markdown",
   "metadata": {},
   "source": [
    "1. Define our receptor location and datetime details"
   ]
  },
  {
   "cell_type": "code",
   "execution_count": 3,
   "metadata": {},
   "outputs": [],
   "source": [
    "#First define the instrument location and elevation\n",
    "inst_lat = 40.766\n",
    "inst_lon = -111.847\n",
    "inst_zasl = 1492 #instrument elevation in meters above sea level\n",
    "\n",
    "#Next define the datetime range\n",
    "dt1_str = dt2_str = '2022-06-16 18:00:00' #start datetime\n",
    "timezone = 'UTC' #this should nearly always be UTC, but can identify if your datetime strings above are in a different timezone\n",
    "\n",
    "#Now format the datetime and timezone into useful formats\n",
    "dt1 = ac.dtstr_to_dttz(dt1_str,timezone)\n",
    "dt2 = ac.dtstr_to_dttz(dt2_str,timezone)"
   ]
  },
  {
   "cell_type": "markdown",
   "metadata": {},
   "source": [
    "3. Next we define the vertical levels from which we wish to release particles. Starting point of level release heights (above the level of the instrument) for now is Taylor Jones' Indianapolis work (https://doi.org/10.5194/acp-21-13131-2021)"
   ]
  },
  {
   "cell_type": "code",
   "execution_count": 4,
   "metadata": {},
   "outputs": [],
   "source": [
    "#Define the heights above the instrument (in m) from which we would like to release particles\n",
    "z_ail_list = [0,25,50,75,100,150,200,300,400,600,1000,1500,2000,2500]"
   ]
  },
  {
   "cell_type": "markdown",
   "metadata": {},
   "source": [
    "Lets plot the particle release heights above the instrument"
   ]
  },
  {
   "cell_type": "code",
   "execution_count": 5,
   "metadata": {},
   "outputs": [
    {
     "data": {
      "image/png": "[encoded data removed]",
      "text/plain": [
       "<Figure size 200x500 with 2 Axes>"
      ]
     },
     "metadata": {},
     "output_type": "display_data"
    }
   ],
   "source": [
    "#Simple plot to show the particle release heights both above the instrument and above sea level\n",
    "\n",
    "# Create the list of particle release elevations above sea level -- this is done in ac.load_singletime_hgtdf (in a cell below), but show it manually for now:\n",
    "z_asl_list = [x+inst_zasl for x in z_ail_list]\n",
    "\n",
    "#Make the plot\n",
    "x = np.zeros_like(z_ail_list)\n",
    "fig,ax = plt.subplots(figsize = (2,5))\n",
    "ax.scatter(x,z_ail_list,s=4)\n",
    "ax.set_ylabel('Height above instrument (m)')\n",
    "ax.set_ylim([min(z_ail_list)-10,max(z_ail_list)+100])\n",
    "ax2 = ax.twinx()\n",
    "ax2.scatter(x,z_asl_list,s=4)\n",
    "ax2.set_ylabel('Height above sea level (m)')\n",
    "ax2.set_ylim([min(z_asl_list)-10,max(z_asl_list)+100])\n",
    "ax.hlines(0,-1,1,color='red')\n",
    "ax.tick_params(labelbottom = False, bottom = False)\n",
    "ax.text(-1,20,'Inst Level',color='red')\n",
    "plt.show()"
   ]
  },
  {
   "cell_type": "markdown",
   "metadata": {},
   "source": [
    "4. With the above input parameters, we're ready to start building our dataframe of receptor locations. Because we are releasing particles at a vertical level above the instrument location *along the slanted column of the sun*, we need to find the lat/lon coordinates of each receptor point along that slanted column. \n",
    "\n",
    "    To do this, we use ac.ground_slant_handler() to build the dataframe. Our fist step is to use ac.ground_slant_handler.create_initial_slantdf(). This uses the ac.slant_lat_lon() function to get the new coordinates. We use basic geometry and an ellipsoid earth model to output lat/lon of the release points on the slant column given the datetime of the observation (for calculating what the slant column looks like). "
   ]
  },
  {
   "cell_type": "code",
   "execution_count": 6,
   "metadata": {},
   "outputs": [
    {
     "name": "stdout",
     "output_type": "stream",
     "text": [
      "Adding receptor lat/lons along the slant column\n"
     ]
    },
    {
     "name": "stderr",
     "output_type": "stream",
     "text": [
      "/uufs/chpc.utah.edu/common/home/u0890904/LAIR_1/Atmos_Column/atmos_column/ipynbs/../funcs/ac_funcs.py:336: FutureWarning: 'H' is deprecated and will be removed in a future version, please use 'h' instead.\n",
      "  dt_index = pd.date_range(dt1,dt2,freq=interval)\n"
     ]
    }
   ],
   "source": [
    "#Create the ground slant handler \n",
    "gsh = ac.ground_slant_handler(inst_lat,inst_lon,inst_zasl,z_ail_list)\n",
    "#Create the list of datetimes, in our case it will just be one datetime since the start and end are the same\n",
    "dt_list = ac.create_dt_list(dt1,dt2,'1H') #the interval doesn't matter here because it's only one time\n",
    "initial_slantdf = gsh.create_initial_slantdf(dt_list) #create the dataframe from the inputs"
   ]
  },
  {
   "cell_type": "markdown",
   "metadata": {},
   "source": [
    "Now we have a dataframe (slant_df) that has receptors at each of our input z release points, with the correct latitude longitude of those points along the slant column. We can visualize it below using a helping plotly function. "
   ]
  },
  {
   "cell_type": "code",
   "execution_count": 8,
   "metadata": {},
   "outputs": [
    {
     "data": {
      "application/vnd.plotly.v1+json": {
       "config": {
        "plotlyServerURL": "https://plot.ly"
       },
       "data": [
        {
         "customdata": [
          [
           0,
           1492
          ],
          [
           25,
           1517
          ],
          [
           50,
           1542
          ],
          [
           75,
           1567
          ],
          [
           100,
           1592
          ],
          [
           150,
           1642
          ],
          [
           200,
           1692
          ],
          [
           300,
           1792
          ],
          [
           400,
           1892
          ],
          [
           600,
           2092
          ],
          [
           1000,
           2492
          ],
          [
           1500,
           2992
          ],
          [
           2000,
           3492
          ],
          [
           2500,
           3992
          ]
         ],
         "hovertemplate": "<b>z above inst = %{customdata[0]:.0f}m </b><br><b>z above msl = %{customdata[1]:.0f}m </b><br>longitude: %{lon:.3f}<br>latitude: %{lat:.3f}<br>",
         "lat": [
          40.766,
          40.76593640241459,
          40.76587280471815,
          40.7658092069107,
          40.76574560899223,
          40.765618412822256,
          40.76549121620821,
          40.76523682164798,
          40.76498242531157,
          40.76447362731031,
          40.763456009994854,
          40.76218394839116,
          40.760911842391586,
          40.75963969199974
         ],
         "lon": [
          -111.847,
          -111.84688716773024,
          -111.84677433567562,
          -111.84666150383612,
          -111.84654867221172,
          -111.8463230096083,
          -111.84609734786537,
          -111.84564602696089,
          -111.84519470949826,
          -111.84429208489843,
          -111.84248687699947,
          -111.84023044456188,
          -111.83797409816053,
          -111.83571783779128
         ],
         "marker": {
          "size": 10
         },
         "mode": "markers+lines",
         "name": "2022-06-16 18:00:00 UTC",
         "type": "scattermapbox",
         "visible": true
        }
       ],
       "layout": {
        "height": 400,
        "hovermode": "closest",
        "mapbox": {
         "bearing": 0,
         "center": {
          "lat": 40.76113426385902,
          "lon": -111.84774049248796
         },
         "layers": [
          {
           "below": "traces",
           "source": [
            "https://basemap.nationalmap.gov/arcgis/rest/services/USGSImageryOnly/MapServer/tile/{z}/{y}/{x}"
           ],
           "sourceattribution": "United States Geological Survey",
           "sourcetype": "raster"
          },
          {
           "source": [
            "https://geo.weather.gc.ca/geomet/?SERVICE=WMS&VERSION=1.3.0&REQUEST=GetMap&BBOX={bbox-epsg-3857}&CRS=EPSG:3857&WIDTH=1000&HEIGHT=1000&LAYERS=RADAR_1KM_RDBR&TILED=true&FORMAT=image/png"
           ],
           "sourceattribution": "Government of Canada",
           "sourcetype": "raster"
          }
         ],
         "pitch": 0,
         "style": "white-bg",
         "zoom": 13.488857331194637
        },
        "margin": {
         "b": 0,
         "l": 0,
         "r": 0,
         "t": 0
        },
        "showlegend": true,
        "template": {
         "data": {
          "bar": [
           {
            "error_x": {
             "color": "#2a3f5f"
            },
            "error_y": {
             "color": "#2a3f5f"
            },
            "marker": {
             "line": {
              "color": "#E5ECF6",
              "width": 0.5
             },
             "pattern": {
              "fillmode": "overlay",
              "size": 10,
              "solidity": 0.2
             }
            },
            "type": "bar"
           }
          ],
          "barpolar": [
           {
            "marker": {
             "line": {
              "color": "#E5ECF6",
              "width": 0.5
             },
             "pattern": {
              "fillmode": "overlay",
              "size": 10,
              "solidity": 0.2
             }
            },
            "type": "barpolar"
           }
          ],
          "carpet": [
           {
            "aaxis": {
             "endlinecolor": "#2a3f5f",
             "gridcolor": "white",
             "linecolor": "white",
             "minorgridcolor": "white",
             "startlinecolor": "#2a3f5f"
            },
            "baxis": {
             "endlinecolor": "#2a3f5f",
             "gridcolor": "white",
             "linecolor": "white",
             "minorgridcolor": "white",
             "startlinecolor": "#2a3f5f"
            },
            "type": "carpet"
           }
          ],
          "choropleth": [
           {
            "colorbar": {
             "outlinewidth": 0,
             "ticks": ""
            },
            "type": "choropleth"
           }
          ],
          "contour": [
           {
            "colorbar": {
             "outlinewidth": 0,
             "ticks": ""
            },
            "colorscale": [
             [
              0,
              "#0d0887"
             ],
             [
              0.1111111111111111,
              "#46039f"
             ],
             [
              0.2222222222222222,
              "#7201a8"
             ],
             [
              0.3333333333333333,
              "#9c179e"
             ],
             [
              0.4444444444444444,
              "#bd3786"
             ],
             [
              0.5555555555555556,
              "#d8576b"
             ],
             [
              0.6666666666666666,
              "#ed7953"
             ],
             [
              0.7777777777777778,
              "#fb9f3a"
             ],
             [
              0.8888888888888888,
              "#fdca26"
             ],
             [
              1,
              "#f0f921"
             ]
            ],
            "type": "contour"
           }
          ],
          "contourcarpet": [
           {
            "colorbar": {
             "outlinewidth": 0,
             "ticks": ""
            },
            "type": "contourcarpet"
           }
          ],
          "heatmap": [
           {
            "colorbar": {
             "outlinewidth": 0,
             "ticks": ""
            },
            "colorscale": [
             [
              0,
              "#0d0887"
             ],
             [
              0.1111111111111111,
              "#46039f"
             ],
             [
              0.2222222222222222,
              "#7201a8"
             ],
             [
              0.3333333333333333,
              "#9c179e"
             ],
             [
              0.4444444444444444,
              "#bd3786"
             ],
             [
              0.5555555555555556,
              "#d8576b"
             ],
             [
              0.6666666666666666,
              "#ed7953"
             ],
             [
              0.7777777777777778,
              "#fb9f3a"
             ],
             [
              0.8888888888888888,
              "#fdca26"
             ],
             [
              1,
              "#f0f921"
             ]
            ],
            "type": "heatmap"
           }
          ],
          "heatmapgl": [
           {
            "colorbar": {
             "outlinewidth": 0,
             "ticks": ""
            },
            "colorscale": [
             [
              0,
              "#0d0887"
             ],
             [
              0.1111111111111111,
              "#46039f"
             ],
             [
              0.2222222222222222,
              "#7201a8"
             ],
             [
              0.3333333333333333,
              "#9c179e"
             ],
             [
              0.4444444444444444,
              "#bd3786"
             ],
             [
              0.5555555555555556,
              "#d8576b"
             ],
             [
              0.6666666666666666,
              "#ed7953"
             ],
             [
              0.7777777777777778,
              "#fb9f3a"
             ],
             [
              0.8888888888888888,
              "#fdca26"
             ],
             [
              1,
              "#f0f921"
             ]
            ],
            "type": "heatmapgl"
           }
          ],
          "histogram": [
           {
            "marker": {
             "pattern": {
              "fillmode": "overlay",
              "size": 10,
              "solidity": 0.2
             }
            },
            "type": "histogram"
           }
          ],
          "histogram2d": [
           {
            "colorbar": {
             "outlinewidth": 0,
             "ticks": ""
            },
            "colorscale": [
             [
              0,
              "#0d0887"
             ],
             [
              0.1111111111111111,
              "#46039f"
             ],
             [
              0.2222222222222222,
              "#7201a8"
             ],
             [
              0.3333333333333333,
              "#9c179e"
             ],
             [
              0.4444444444444444,
              "#bd3786"
             ],
             [
              0.5555555555555556,
              "#d8576b"
             ],
             [
              0.6666666666666666,
              "#ed7953"
             ],
             [
              0.7777777777777778,
              "#fb9f3a"
             ],
             [
              0.8888888888888888,
              "#fdca26"
             ],
             [
              1,
              "#f0f921"
             ]
            ],
            "type": "histogram2d"
           }
          ],
          "histogram2dcontour": [
           {
            "colorbar": {
             "outlinewidth": 0,
             "ticks": ""
            },
            "colorscale": [
             [
              0,
              "#0d0887"
             ],
             [
              0.1111111111111111,
              "#46039f"
             ],
             [
              0.2222222222222222,
              "#7201a8"
             ],
             [
              0.3333333333333333,
              "#9c179e"
             ],
             [
              0.4444444444444444,
              "#bd3786"
             ],
             [
              0.5555555555555556,
              "#d8576b"
             ],
             [
              0.6666666666666666,
              "#ed7953"
             ],
             [
              0.7777777777777778,
              "#fb9f3a"
             ],
             [
              0.8888888888888888,
              "#fdca26"
             ],
             [
              1,
              "#f0f921"
             ]
            ],
            "type": "histogram2dcontour"
           }
          ],
          "mesh3d": [
           {
            "colorbar": {
             "outlinewidth": 0,
             "ticks": ""
            },
            "type": "mesh3d"
           }
          ],
          "parcoords": [
           {
            "line": {
             "colorbar": {
              "outlinewidth": 0,
              "ticks": ""
             }
            },
            "type": "parcoords"
           }
          ],
          "pie": [
           {
            "automargin": true,
            "type": "pie"
           }
          ],
          "scatter": [
           {
            "fillpattern": {
             "fillmode": "overlay",
             "size": 10,
             "solidity": 0.2
            },
            "type": "scatter"
           }
          ],
          "scatter3d": [
           {
            "line": {
             "colorbar": {
              "outlinewidth": 0,
              "ticks": ""
             }
            },
            "marker": {
             "colorbar": {
              "outlinewidth": 0,
              "ticks": ""
             }
            },
            "type": "scatter3d"
           }
          ],
          "scattercarpet": [
           {
            "marker": {
             "colorbar": {
              "outlinewidth": 0,
              "ticks": ""
             }
            },
            "type": "scattercarpet"
           }
          ],
          "scattergeo": [
           {
            "marker": {
             "colorbar": {
              "outlinewidth": 0,
              "ticks": ""
             }
            },
            "type": "scattergeo"
           }
          ],
          "scattergl": [
           {
            "marker": {
             "colorbar": {
              "outlinewidth": 0,
              "ticks": ""
             }
            },
            "type": "scattergl"
           }
          ],
          "scattermapbox": [
           {
            "marker": {
             "colorbar": {
              "outlinewidth": 0,
              "ticks": ""
             }
            },
            "type": "scattermapbox"
           }
          ],
          "scatterpolar": [
           {
            "marker": {
             "colorbar": {
              "outlinewidth": 0,
              "ticks": ""
             }
            },
            "type": "scatterpolar"
           }
          ],
          "scatterpolargl": [
           {
            "marker": {
             "colorbar": {
              "outlinewidth": 0,
              "ticks": ""
             }
            },
            "type": "scatterpolargl"
           }
          ],
          "scatterternary": [
           {
            "marker": {
             "colorbar": {
              "outlinewidth": 0,
              "ticks": ""
             }
            },
            "type": "scatterternary"
           }
          ],
          "surface": [
           {
            "colorbar": {
             "outlinewidth": 0,
             "ticks": ""
            },
            "colorscale": [
             [
              0,
              "#0d0887"
             ],
             [
              0.1111111111111111,
              "#46039f"
             ],
             [
              0.2222222222222222,
              "#7201a8"
             ],
             [
              0.3333333333333333,
              "#9c179e"
             ],
             [
              0.4444444444444444,
              "#bd3786"
             ],
             [
              0.5555555555555556,
              "#d8576b"
             ],
             [
              0.6666666666666666,
              "#ed7953"
             ],
             [
              0.7777777777777778,
              "#fb9f3a"
             ],
             [
              0.8888888888888888,
              "#fdca26"
             ],
             [
              1,
              "#f0f921"
             ]
            ],
            "type": "surface"
           }
          ],
          "table": [
           {
            "cells": {
             "fill": {
              "color": "#EBF0F8"
             },
             "line": {
              "color": "white"
             }
            },
            "header": {
             "fill": {
              "color": "#C8D4E3"
             },
             "line": {
              "color": "white"
             }
            },
            "type": "table"
           }
          ]
         },
         "layout": {
          "annotationdefaults": {
           "arrowcolor": "#2a3f5f",
           "arrowhead": 0,
           "arrowwidth": 1
          },
          "autotypenumbers": "strict",
          "coloraxis": {
           "colorbar": {
            "outlinewidth": 0,
            "ticks": ""
           }
          },
          "colorscale": {
           "diverging": [
            [
             0,
             "#8e0152"
            ],
            [
             0.1,
             "#c51b7d"
            ],
            [
             0.2,
             "#de77ae"
            ],
            [
             0.3,
             "#f1b6da"
            ],
            [
             0.4,
             "#fde0ef"
            ],
            [
             0.5,
             "#f7f7f7"
            ],
            [
             0.6,
             "#e6f5d0"
            ],
            [
             0.7,
             "#b8e186"
            ],
            [
             0.8,
             "#7fbc41"
            ],
            [
             0.9,
             "#4d9221"
            ],
            [
             1,
             "#276419"
            ]
           ],
           "sequential": [
            [
             0,
             "#0d0887"
            ],
            [
             0.1111111111111111,
             "#46039f"
            ],
            [
             0.2222222222222222,
             "#7201a8"
            ],
            [
             0.3333333333333333,
             "#9c179e"
            ],
            [
             0.4444444444444444,
             "#bd3786"
            ],
            [
             0.5555555555555556,
             "#d8576b"
            ],
            [
             0.6666666666666666,
             "#ed7953"
            ],
            [
             0.7777777777777778,
             "#fb9f3a"
            ],
            [
             0.8888888888888888,
             "#fdca26"
            ],
            [
             1,
             "#f0f921"
            ]
           ],
           "sequentialminus": [
            [
             0,
             "#0d0887"
            ],
            [
             0.1111111111111111,
             "#46039f"
            ],
            [
             0.2222222222222222,
             "#7201a8"
            ],
            [
             0.3333333333333333,
             "#9c179e"
            ],
            [
             0.4444444444444444,
             "#bd3786"
            ],
            [
             0.5555555555555556,
             "#d8576b"
            ],
            [
             0.6666666666666666,
             "#ed7953"
            ],
            [
             0.7777777777777778,
             "#fb9f3a"
            ],
            [
             0.8888888888888888,
             "#fdca26"
            ],
            [
             1,
             "#f0f921"
            ]
           ]
          },
          "colorway": [
           "#636efa",
           "#EF553B",
           "#00cc96",
           "#ab63fa",
           "#FFA15A",
           "#19d3f3",
           "#FF6692",
           "#B6E880",
           "#FF97FF",
           "#FECB52"
          ],
          "font": {
           "color": "#2a3f5f"
          },
          "geo": {
           "bgcolor": "white",
           "lakecolor": "white",
           "landcolor": "#E5ECF6",
           "showlakes": true,
           "showland": true,
           "subunitcolor": "white"
          },
          "hoverlabel": {
           "align": "left"
          },
          "hovermode": "closest",
          "mapbox": {
           "style": "light"
          },
          "paper_bgcolor": "white",
          "plot_bgcolor": "#E5ECF6",
          "polar": {
           "angularaxis": {
            "gridcolor": "white",
            "linecolor": "white",
            "ticks": ""
           },
           "bgcolor": "#E5ECF6",
           "radialaxis": {
            "gridcolor": "white",
            "linecolor": "white",
            "ticks": ""
           }
          },
          "scene": {
           "xaxis": {
            "backgroundcolor": "#E5ECF6",
            "gridcolor": "white",
            "gridwidth": 2,
            "linecolor": "white",
            "showbackground": true,
            "ticks": "",
            "zerolinecolor": "white"
           },
           "yaxis": {
            "backgroundcolor": "#E5ECF6",
            "gridcolor": "white",
            "gridwidth": 2,
            "linecolor": "white",
            "showbackground": true,
            "ticks": "",
            "zerolinecolor": "white"
           },
           "zaxis": {
            "backgroundcolor": "#E5ECF6",
            "gridcolor": "white",
            "gridwidth": 2,
            "linecolor": "white",
            "showbackground": true,
            "ticks": "",
            "zerolinecolor": "white"
           }
          },
          "shapedefaults": {
           "line": {
            "color": "#2a3f5f"
           }
          },
          "ternary": {
           "aaxis": {
            "gridcolor": "white",
            "linecolor": "white",
            "ticks": ""
           },
           "baxis": {
            "gridcolor": "white",
            "linecolor": "white",
            "ticks": ""
           },
           "bgcolor": "#E5ECF6",
           "caxis": {
            "gridcolor": "white",
            "linecolor": "white",
            "ticks": ""
           }
          },
          "title": {
           "x": 0.05
          },
          "xaxis": {
           "automargin": true,
           "gridcolor": "white",
           "linecolor": "white",
           "ticks": "",
           "title": {
            "standoff": 15
           },
           "zerolinecolor": "white",
           "zerolinewidth": 2
          },
          "yaxis": {
           "automargin": true,
           "gridcolor": "white",
           "linecolor": "white",
           "ticks": "",
           "title": {
            "standoff": 15
           },
           "zerolinecolor": "white",
           "zerolinewidth": 2
          }
         }
        }
       }
      },
      "text/html": [
       "<div>                            <div id=\"0dffa4a4-39f0-4149-b8b1-676991c809df\" class=\"plotly-graph-div\" style=\"height:400px; width:100%;\"></div>            <script type=\"text/javascript\">                require([\"plotly\"], function(Plotly) {                    window.PLOTLYENV=window.PLOTLYENV || {};                                    if (document.getElementById(\"0dffa4a4-39f0-4149-b8b1-676991c809df\")) {                    Plotly.newPlot(                        \"0dffa4a4-39f0-4149-b8b1-676991c809df\",                        [{\"customdata\":[[0,1492],[25,1517],[50,1542],[75,1567],[100,1592],[150,1642],[200,1692],[300,1792],[400,1892],[600,2092],[1000,2492],[1500,2992],[2000,3492],[2500,3992]],\"hovertemplate\":\"\\u003cb\\u003ez above inst = %{customdata[0]:.0f}m \\u003c\\u002fb\\u003e\\u003cbr\\u003e\\u003cb\\u003ez above msl = %{customdata[1]:.0f}m \\u003c\\u002fb\\u003e\\u003cbr\\u003elongitude: %{lon:.3f}\\u003cbr\\u003elatitude: %{lat:.3f}\\u003cbr\\u003e\",\"lat\":[40.766,40.76593640241459,40.76587280471815,40.7658092069107,40.76574560899223,40.765618412822256,40.76549121620821,40.76523682164798,40.76498242531157,40.76447362731031,40.763456009994854,40.76218394839116,40.760911842391586,40.75963969199974],\"lon\":[-111.847,-111.84688716773024,-111.84677433567562,-111.84666150383612,-111.84654867221172,-111.8463230096083,-111.84609734786537,-111.84564602696089,-111.84519470949826,-111.84429208489843,-111.84248687699947,-111.84023044456188,-111.83797409816053,-111.83571783779128],\"marker\":{\"size\":10},\"mode\":\"markers+lines\",\"name\":\"2022-06-16 18:00:00 UTC\",\"type\":\"scattermapbox\"}],                        {\"template\":{\"data\":{\"histogram2dcontour\":[{\"type\":\"histogram2dcontour\",\"colorbar\":{\"outlinewidth\":0,\"ticks\":\"\"},\"colorscale\":[[0.0,\"#0d0887\"],[0.1111111111111111,\"#46039f\"],[0.2222222222222222,\"#7201a8\"],[0.3333333333333333,\"#9c179e\"],[0.4444444444444444,\"#bd3786\"],[0.5555555555555556,\"#d8576b\"],[0.6666666666666666,\"#ed7953\"],[0.7777777777777778,\"#fb9f3a\"],[0.8888888888888888,\"#fdca26\"],[1.0,\"#f0f921\"]]}],\"choropleth\":[{\"type\":\"choropleth\",\"colorbar\":{\"outlinewidth\":0,\"ticks\":\"\"}}],\"histogram2d\":[{\"type\":\"histogram2d\",\"colorbar\":{\"outlinewidth\":0,\"ticks\":\"\"},\"colorscale\":[[0.0,\"#0d0887\"],[0.1111111111111111,\"#46039f\"],[0.2222222222222222,\"#7201a8\"],[0.3333333333333333,\"#9c179e\"],[0.4444444444444444,\"#bd3786\"],[0.5555555555555556,\"#d8576b\"],[0.6666666666666666,\"#ed7953\"],[0.7777777777777778,\"#fb9f3a\"],[0.8888888888888888,\"#fdca26\"],[1.0,\"#f0f921\"]]}],\"heatmap\":[{\"type\":\"heatmap\",\"colorbar\":{\"outlinewidth\":0,\"ticks\":\"\"},\"colorscale\":[[0.0,\"#0d0887\"],[0.1111111111111111,\"#46039f\"],[0.2222222222222222,\"#7201a8\"],[0.3333333333333333,\"#9c179e\"],[0.4444444444444444,\"#bd3786\"],[0.5555555555555556,\"#d8576b\"],[0.6666666666666666,\"#ed7953\"],[0.7777777777777778,\"#fb9f3a\"],[0.8888888888888888,\"#fdca26\"],[1.0,\"#f0f921\"]]}],\"heatmapgl\":[{\"type\":\"heatmapgl\",\"colorbar\":{\"outlinewidth\":0,\"ticks\":\"\"},\"colorscale\":[[0.0,\"#0d0887\"],[0.1111111111111111,\"#46039f\"],[0.2222222222222222,\"#7201a8\"],[0.3333333333333333,\"#9c179e\"],[0.4444444444444444,\"#bd3786\"],[0.5555555555555556,\"#d8576b\"],[0.6666666666666666,\"#ed7953\"],[0.7777777777777778,\"#fb9f3a\"],[0.8888888888888888,\"#fdca26\"],[1.0,\"#f0f921\"]]}],\"contourcarpet\":[{\"type\":\"contourcarpet\",\"colorbar\":{\"outlinewidth\":0,\"ticks\":\"\"}}],\"contour\":[{\"type\":\"contour\",\"colorbar\":{\"outlinewidth\":0,\"ticks\":\"\"},\"colorscale\":[[0.0,\"#0d0887\"],[0.1111111111111111,\"#46039f\"],[0.2222222222222222,\"#7201a8\"],[0.3333333333333333,\"#9c179e\"],[0.4444444444444444,\"#bd3786\"],[0.5555555555555556,\"#d8576b\"],[0.6666666666666666,\"#ed7953\"],[0.7777777777777778,\"#fb9f3a\"],[0.8888888888888888,\"#fdca26\"],[1.0,\"#f0f921\"]]}],\"surface\":[{\"type\":\"surface\",\"colorbar\":{\"outlinewidth\":0,\"ticks\":\"\"},\"colorscale\":[[0.0,\"#0d0887\"],[0.1111111111111111,\"#46039f\"],[0.2222222222222222,\"#7201a8\"],[0.3333333333333333,\"#9c179e\"],[0.4444444444444444,\"#bd3786\"],[0.5555555555555556,\"#d8576b\"],[0.6666666666666666,\"#ed7953\"],[0.7777777777777778,\"#fb9f3a\"],[0.8888888888888888,\"#fdca26\"],[1.0,\"#f0f921\"]]}],\"mesh3d\":[{\"type\":\"mesh3d\",\"colorbar\":{\"outlinewidth\":0,\"ticks\":\"\"}}],\"scatter\":[{\"fillpattern\":{\"fillmode\":\"overlay\",\"size\":10,\"solidity\":0.2},\"type\":\"scatter\"}],\"parcoords\":[{\"type\":\"parcoords\",\"line\":{\"colorbar\":{\"outlinewidth\":0,\"ticks\":\"\"}}}],\"scatterpolargl\":[{\"type\":\"scatterpolargl\",\"marker\":{\"colorbar\":{\"outlinewidth\":0,\"ticks\":\"\"}}}],\"bar\":[{\"error_x\":{\"color\":\"#2a3f5f\"},\"error_y\":{\"color\":\"#2a3f5f\"},\"marker\":{\"line\":{\"color\":\"#E5ECF6\",\"width\":0.5},\"pattern\":{\"fillmode\":\"overlay\",\"size\":10,\"solidity\":0.2}},\"type\":\"bar\"}],\"scattergeo\":[{\"type\":\"scattergeo\",\"marker\":{\"colorbar\":{\"outlinewidth\":0,\"ticks\":\"\"}}}],\"scatterpolar\":[{\"type\":\"scatterpolar\",\"marker\":{\"colorbar\":{\"outlinewidth\":0,\"ticks\":\"\"}}}],\"histogram\":[{\"marker\":{\"pattern\":{\"fillmode\":\"overlay\",\"size\":10,\"solidity\":0.2}},\"type\":\"histogram\"}],\"scattergl\":[{\"type\":\"scattergl\",\"marker\":{\"colorbar\":{\"outlinewidth\":0,\"ticks\":\"\"}}}],\"scatter3d\":[{\"type\":\"scatter3d\",\"line\":{\"colorbar\":{\"outlinewidth\":0,\"ticks\":\"\"}},\"marker\":{\"colorbar\":{\"outlinewidth\":0,\"ticks\":\"\"}}}],\"scattermapbox\":[{\"type\":\"scattermapbox\",\"marker\":{\"colorbar\":{\"outlinewidth\":0,\"ticks\":\"\"}}}],\"scatterternary\":[{\"type\":\"scatterternary\",\"marker\":{\"colorbar\":{\"outlinewidth\":0,\"ticks\":\"\"}}}],\"scattercarpet\":[{\"type\":\"scattercarpet\",\"marker\":{\"colorbar\":{\"outlinewidth\":0,\"ticks\":\"\"}}}],\"carpet\":[{\"aaxis\":{\"endlinecolor\":\"#2a3f5f\",\"gridcolor\":\"white\",\"linecolor\":\"white\",\"minorgridcolor\":\"white\",\"startlinecolor\":\"#2a3f5f\"},\"baxis\":{\"endlinecolor\":\"#2a3f5f\",\"gridcolor\":\"white\",\"linecolor\":\"white\",\"minorgridcolor\":\"white\",\"startlinecolor\":\"#2a3f5f\"},\"type\":\"carpet\"}],\"table\":[{\"cells\":{\"fill\":{\"color\":\"#EBF0F8\"},\"line\":{\"color\":\"white\"}},\"header\":{\"fill\":{\"color\":\"#C8D4E3\"},\"line\":{\"color\":\"white\"}},\"type\":\"table\"}],\"barpolar\":[{\"marker\":{\"line\":{\"color\":\"#E5ECF6\",\"width\":0.5},\"pattern\":{\"fillmode\":\"overlay\",\"size\":10,\"solidity\":0.2}},\"type\":\"barpolar\"}],\"pie\":[{\"automargin\":true,\"type\":\"pie\"}]},\"layout\":{\"autotypenumbers\":\"strict\",\"colorway\":[\"#636efa\",\"#EF553B\",\"#00cc96\",\"#ab63fa\",\"#FFA15A\",\"#19d3f3\",\"#FF6692\",\"#B6E880\",\"#FF97FF\",\"#FECB52\"],\"font\":{\"color\":\"#2a3f5f\"},\"hovermode\":\"closest\",\"hoverlabel\":{\"align\":\"left\"},\"paper_bgcolor\":\"white\",\"plot_bgcolor\":\"#E5ECF6\",\"polar\":{\"bgcolor\":\"#E5ECF6\",\"angularaxis\":{\"gridcolor\":\"white\",\"linecolor\":\"white\",\"ticks\":\"\"},\"radialaxis\":{\"gridcolor\":\"white\",\"linecolor\":\"white\",\"ticks\":\"\"}},\"ternary\":{\"bgcolor\":\"#E5ECF6\",\"aaxis\":{\"gridcolor\":\"white\",\"linecolor\":\"white\",\"ticks\":\"\"},\"baxis\":{\"gridcolor\":\"white\",\"linecolor\":\"white\",\"ticks\":\"\"},\"caxis\":{\"gridcolor\":\"white\",\"linecolor\":\"white\",\"ticks\":\"\"}},\"coloraxis\":{\"colorbar\":{\"outlinewidth\":0,\"ticks\":\"\"}},\"colorscale\":{\"sequential\":[[0.0,\"#0d0887\"],[0.1111111111111111,\"#46039f\"],[0.2222222222222222,\"#7201a8\"],[0.3333333333333333,\"#9c179e\"],[0.4444444444444444,\"#bd3786\"],[0.5555555555555556,\"#d8576b\"],[0.6666666666666666,\"#ed7953\"],[0.7777777777777778,\"#fb9f3a\"],[0.8888888888888888,\"#fdca26\"],[1.0,\"#f0f921\"]],\"sequentialminus\":[[0.0,\"#0d0887\"],[0.1111111111111111,\"#46039f\"],[0.2222222222222222,\"#7201a8\"],[0.3333333333333333,\"#9c179e\"],[0.4444444444444444,\"#bd3786\"],[0.5555555555555556,\"#d8576b\"],[0.6666666666666666,\"#ed7953\"],[0.7777777777777778,\"#fb9f3a\"],[0.8888888888888888,\"#fdca26\"],[1.0,\"#f0f921\"]],\"diverging\":[[0,\"#8e0152\"],[0.1,\"#c51b7d\"],[0.2,\"#de77ae\"],[0.3,\"#f1b6da\"],[0.4,\"#fde0ef\"],[0.5,\"#f7f7f7\"],[0.6,\"#e6f5d0\"],[0.7,\"#b8e186\"],[0.8,\"#7fbc41\"],[0.9,\"#4d9221\"],[1,\"#276419\"]]},\"xaxis\":{\"gridcolor\":\"white\",\"linecolor\":\"white\",\"ticks\":\"\",\"title\":{\"standoff\":15},\"zerolinecolor\":\"white\",\"automargin\":true,\"zerolinewidth\":2},\"yaxis\":{\"gridcolor\":\"white\",\"linecolor\":\"white\",\"ticks\":\"\",\"title\":{\"standoff\":15},\"zerolinecolor\":\"white\",\"automargin\":true,\"zerolinewidth\":2},\"scene\":{\"xaxis\":{\"backgroundcolor\":\"#E5ECF6\",\"gridcolor\":\"white\",\"linecolor\":\"white\",\"showbackground\":true,\"ticks\":\"\",\"zerolinecolor\":\"white\",\"gridwidth\":2},\"yaxis\":{\"backgroundcolor\":\"#E5ECF6\",\"gridcolor\":\"white\",\"linecolor\":\"white\",\"showbackground\":true,\"ticks\":\"\",\"zerolinecolor\":\"white\",\"gridwidth\":2},\"zaxis\":{\"backgroundcolor\":\"#E5ECF6\",\"gridcolor\":\"white\",\"linecolor\":\"white\",\"showbackground\":true,\"ticks\":\"\",\"zerolinecolor\":\"white\",\"gridwidth\":2}},\"shapedefaults\":{\"line\":{\"color\":\"#2a3f5f\"}},\"annotationdefaults\":{\"arrowcolor\":\"#2a3f5f\",\"arrowhead\":0,\"arrowwidth\":1},\"geo\":{\"bgcolor\":\"white\",\"landcolor\":\"#E5ECF6\",\"subunitcolor\":\"white\",\"showland\":true,\"showlakes\":true,\"lakecolor\":\"white\"},\"title\":{\"x\":0.05},\"mapbox\":{\"style\":\"light\"}}},\"mapbox\":{\"style\":\"white-bg\",\"layers\":[{\"below\":\"traces\",\"source\":[\"https:\\u002f\\u002fbasemap.nationalmap.gov\\u002farcgis\\u002frest\\u002fservices\\u002fUSGSImageryOnly\\u002fMapServer\\u002ftile\\u002f{z}\\u002f{y}\\u002f{x}\"],\"sourceattribution\":\"United States Geological Survey\",\"sourcetype\":\"raster\"},{\"source\":[\"https:\\u002f\\u002fgeo.weather.gc.ca\\u002fgeomet\\u002f?SERVICE=WMS&VERSION=1.3.0&REQUEST=GetMap&BBOX={bbox-epsg-3857}&CRS=EPSG:3857&WIDTH=1000&HEIGHT=1000&LAYERS=RADAR_1KM_RDBR&TILED=true&FORMAT=image\\u002fpng\"],\"sourceattribution\":\"Government of Canada\",\"sourcetype\":\"raster\"}],\"bearing\":0,\"center\":{\"lat\":40.766,\"lon\":-111.847},\"pitch\":0,\"zoom\":8},\"margin\":{\"r\":0,\"t\":0,\"l\":0,\"b\":0},\"height\":400,\"showlegend\":true,\"hovermode\":\"closest\"},                        {\"responsive\": true}                    ).then(function(){\n",
       "                            \n",
       "var gd = document.getElementById('0dffa4a4-39f0-4149-b8b1-676991c809df');\n",
       "var x = new MutationObserver(function (mutations, observer) {{\n",
       "        var display = window.getComputedStyle(gd).display;\n",
       "        if (!display || display === 'none') {{\n",
       "            console.log([gd, 'removed!']);\n",
       "            Plotly.purge(gd);\n",
       "            observer.disconnect();\n",
       "        }}\n",
       "}});\n",
       "\n",
       "// Listen for the removal of the full notebook cells\n",
       "var notebookContainer = gd.closest('#notebook-container');\n",
       "if (notebookContainer) {{\n",
       "    x.observe(notebookContainer, {childList: true});\n",
       "}}\n",
       "\n",
       "// Listen for the clearing of the current output cell\n",
       "var outputEl = gd.closest('.output');\n",
       "if (outputEl) {{\n",
       "    x.observe(outputEl, {childList: true});\n",
       "}}\n",
       "\n",
       "                        })                };                });            </script>        </div>"
      ]
     },
     "metadata": {},
     "output_type": "display_data"
    }
   ],
   "source": [
    "plotting.create_slant_plots(initial_slantdf,inst_lat,inst_lon)"
   ]
  },
  {
   "cell_type": "markdown",
   "metadata": {},
   "source": [
    "5. STILT uses receptor heights **above ground level** not above sea level, so we must account for this. To do so, we use surface height elevation from DEM files. More info in dem_dev.ipynb. For now I am using ASTER dems for everything, a change from using HRRR .grib2 files. Some dangling code regarding hrrr"
   ]
  },
  {
   "cell_type": "code",
   "execution_count": null,
   "metadata": {},
   "outputs": [],
   "source": [
    "# Running this will load create the DEM handler \n",
    "dem_folder = os.path.join(base_project_dir,'Data/DEM/')\n",
    "dem_fname = 'ASTGTM_NC.003_30m_aid0001_slcbig.nc'\n",
    "dem_typeid = 'aster'"
   ]
  },
  {
   "cell_type": "markdown",
   "metadata": {},
   "source": [
    "With the DEM defined, we now need to find the surface height for each point in our receptor slant_df. Basically we take the lat/lon of the receptor and find the nearest grid cell in the DEM dataset by setting a distance value for each centerpoint. From the minimum distance value, we grab the surface elevation. This is done using my_dem_handler"
   ]
  },
  {
   "cell_type": "code",
   "execution_count": null,
   "metadata": {},
   "outputs": [],
   "source": [
    "# This shows how we are getting the surface elevation for a point. In this case, we use the instrument location and extract the height. This is dem_handler.get_nearest_elev\n",
    "my_dem_handler = ac.DEM_handler(dem_folder,dem_fname,dem_typeid) #define the handler\n",
    "pt_lat = 40.768#inst_lat\n",
    "pt_lon = -111.854#inst_lon\n",
    "\n",
    "dem_df = my_dem_handler.get_sub_dem_df(pt_lat,pt_lon)\n",
    "dem_df['dist'] = np.vectorize(ac.haversine)(dem_df[my_dem_handler.dem_latname],dem_df[my_dem_handler.dem_lonname],pt_lat,pt_lon) #add a distance column for each subpoint using haversine\n",
    "idx = dem_df['dist'].idxmin() #find the minimum distance\n",
    "nearest = dem_df.loc[idx]\n",
    "surface_height = dem_df.loc[idx][my_dem_handler.dem_dataname] #return the value requested"
   ]
  },
  {
   "cell_type": "code",
   "execution_count": null,
   "metadata": {},
   "outputs": [],
   "source": [
    "dem_xarr_plot = dem_df.set_index([my_dem_handler.dem_latname,my_dem_handler.dem_lonname]).to_xarray()\n",
    "\n",
    "center_pt = [pt_lat,pt_lon]\n",
    "zoom = 0.001\n",
    "extent = [center_pt[1]-(zoom),center_pt[1]+(zoom),center_pt[0]-zoom,center_pt[0]+zoom] # adjust to zoom\n",
    "proj = ccrs.PlateCarree()\n",
    "fig = plt.figure(figsize=(10,10))\n",
    "ax = plt.axes(projection = proj)\n",
    "ax.set_extent(extent,crs=proj)\n",
    "request = cimgt.QuadtreeTiles()\n",
    "scale = np.ceil(-np.sqrt(2)*np.log(np.divide(zoom,350.0))) # empirical solve for scale based on zoom\n",
    "ax.add_image(request,int(scale))\n",
    "dem_plot = dem_xarr_plot[my_dem_handler.dem_dataname].plot.pcolormesh(ax = ax,alpha=0.5,cmap='Reds',add_colorbar=False,edgecolor = 'k',linewidth=0.005)\n",
    "plt.colorbar(dem_plot,fraction=0.02,label ='Geopotential height (m above sea level)')\n",
    "plt.scatter(pt_lon,pt_lat,s=30,c='black')\n",
    "plt.text(pt_lon,pt_lat,'requested')\n",
    "plt.scatter(nearest[my_dem_handler.dem_lonname],nearest[my_dem_handler.dem_latname],s=30,c='blue')\n",
    "plt.text(nearest[my_dem_handler.dem_lonname],nearest[my_dem_handler.dem_latname],f'nearest = {round(surface_height,1)} MASL')\n",
    "plt.show()"
   ]
  },
  {
   "cell_type": "markdown",
   "metadata": {},
   "source": [
    "Using the above, we adapt the slant_df to have the surface elevations and the appropriate \"above ground level\" elevations for each receptor. We also add a column that indicates whether the receptor is actually above the ground level. In the case of a low sun angle over the mountains, the receptor points can be \"below ground level\" so we want to know which points this is true for. "
   ]
  },
  {
   "cell_type": "code",
   "execution_count": null,
   "metadata": {},
   "outputs": [],
   "source": [
    "slant_df = ac.add_sh_and_agl(initial_slantdf,my_dem_handler)"
   ]
  },
  {
   "cell_type": "markdown",
   "metadata": {},
   "source": [
    "Now we can plot the slant column with the above ground level information."
   ]
  },
  {
   "cell_type": "code",
   "execution_count": null,
   "metadata": {},
   "outputs": [],
   "source": [
    "plotting.create_slant_plots(slant_df,inst_lat,inst_lon)"
   ]
  },
  {
   "cell_type": "markdown",
   "metadata": {},
   "source": [
    "### The above shows the slant column creation from a single, manual instrument location and datetime. We also want to be able to create these for periods of time at specified intervals. This will allow us to get a receptor column for a full day/days."
   ]
  },
  {
   "cell_type": "markdown",
   "metadata": {},
   "source": [
    "1. Setup things much like above, this time with a range for our datetimes and a specified interval. "
   ]
  },
  {
   "cell_type": "code",
   "execution_count": null,
   "metadata": {},
   "outputs": [],
   "source": [
    "#Define instrument parameters\n",
    "inst_lat = 40.766\n",
    "inst_lon = -111.847\n",
    "inst_zasl = 1492 #instrument elevation in meters above sea level\n",
    "\n",
    "#define datetime range and interval parameters\n",
    "dt1_str = '2022-06-16 00:00:00'#start datetime\n",
    "dt2_str = '2022-06-17 00:00:00' #end datetime\n",
    "interval = '1H' #interval at which we want our dataframe\n",
    "timezone = 'UTC' #this should nearly always be UTC, but can identify if your datetime strings above are in a different timezone\n",
    "\n",
    "#Define the heights above the instrument (in m) from which we would like to release particles\n",
    "z_ail_list = [0,25,50,75,100,150,200,300,400,600,1000,1500,2000,2500]\n",
    "\n",
    "#Now format the datetime and timezone into useful formats\n",
    "dt1 = ac.dtstr_to_dttz(dt1_str,timezone)\n",
    "dt2 = ac.dtstr_to_dttz(dt2_str,timezone)\n",
    "\n",
    "# Running this will load create the DEM handler \n",
    "dem_folder = os.path.join(base_project_dir,'Data/DEM/')\n",
    "dem_fname = 'ASTGTM_NC.003_30m_aid0001_slcbig.nc'\n",
    "dem_typeid = 'aster'\n",
    "my_dem_handler = ac.DEM_handler(dem_folder,dem_fname,dem_typeid) #define the handler"
   ]
  },
  {
   "cell_type": "markdown",
   "metadata": {},
   "source": [
    "2. Create the ground slant handler and use the run_slant_at_intervals function to get our correct multiindexed dataframe for all receptor levels. "
   ]
  },
  {
   "cell_type": "code",
   "execution_count": null,
   "metadata": {},
   "outputs": [],
   "source": [
    "gsh = ac.ground_slant_handler(inst_lat,inst_lon,inst_zasl,z_ail_list)\n",
    "slant_df = gsh.run_slant_at_intervals(dt1,dt2,my_dem_handler)"
   ]
  },
  {
   "cell_type": "markdown",
   "metadata": {},
   "source": [
    "3. We can now plot this range of slant columns. "
   ]
  },
  {
   "cell_type": "code",
   "execution_count": null,
   "metadata": {},
   "outputs": [],
   "source": [
    "plotting.create_slant_plots(slant_df,inst_lat,inst_lon)"
   ]
  },
  {
   "cell_type": "markdown",
   "metadata": {},
   "source": [
    "### We now want to integrate the EM27 data to our building of the slant receptor columns"
   ]
  },
  {
   "cell_type": "markdown",
   "metadata": {},
   "source": [
    "Now we want to be able to use information from EM27 oof files. The main goal here is twofold: pull the instrument lat/lon from the oof files, and filter the receptor times to times that are included in the oof files, so we don't have to run models on times when we don't have EM27 data to compare to. \n",
    "\n",
    "For now, I am doing this on a \"daily\" basis, where each day of the range is split and the slant_df for each day is created such that the models can be run on that day. This prevents us from having to load a bunch of oof files/slant dfs in a single shot. \n",
    "\n",
    "There are some edge cases I haven't quite dealt with yet. The major one is the case where the EM27 is moved to a different lat long within the datetime range that was specified. "
   ]
  },
  {
   "cell_type": "markdown",
   "metadata": {},
   "source": [
    "1. Setup the run like above, except this time don't define the inst_lat, inst_lon, inst_zasl. We will pull this from the oof file. "
   ]
  },
  {
   "cell_type": "code",
   "execution_count": null,
   "metadata": {},
   "outputs": [],
   "source": [
    "#oof_data_folder = '/uufs/chpc.utah.edu/common/home/u0890904/LAIR_1/Data/EM27_oof/SLC_EM27_ha_2022_2023_oof_v2_nasrin_correct'#this is where the EM27 data is \n",
    "oof_data_folder = os.path.join(base_project_dir,'Data/EM27_oof/SLC_EM27_ha_2022_2023_oof_v2_nasrin_correct') #this is where the EM27 data is \n",
    "\n",
    "#Define the heights above the instrument (in m) from which we would like to release particles\n",
    "z_ail_list = [0,25,50,75,100,150,200,300,400,600,1000,1500,2000,2500]\n",
    "\n",
    "# Running this will load create the DEM handler \n",
    "dem_folder = os.path.join(base_project_dir,'Data/DEM/')\n",
    "dem_fname = 'ASTGTM_NC.003_30m_aid0001_slcbig.nc'\n",
    "dem_typeid = 'aster'\n",
    "my_dem_handler = ac.DEM_handler(dem_folder,dem_fname,dem_typeid) #define the handler"
   ]
  },
  {
   "cell_type": "code",
   "execution_count": null,
   "metadata": {},
   "outputs": [],
   "source": [
    "#define datetime range and interval parameters\n",
    "dt1_str = '2022-10-19 13:00:00'#start datetime\n",
    "dt2_str = '2022-10-20 03:00:00' #end datetime\n",
    "timezone = 'UTC' #this should nearly always be UTC, but can identify if your datetime strings above are in a different timezone\n",
    "dt1 = ac.dtstr_to_dttz(dt1_str,timezone)\n",
    "dt2 = ac.dtstr_to_dttz(dt2_str,timezone)\n",
    "my_oof_manager = ac.oof_manager(oof_data_folder,timezone)\n",
    "oof_df = my_oof_manager.load_oof_df_inrange(dt1,dt2)"
   ]
  },
  {
   "cell_type": "markdown",
   "metadata": {},
   "source": [
    "2. Use my_oof_manager to load the oof dataframe for the day in question, so that we can get the applicable information. "
   ]
  },
  {
   "cell_type": "code",
   "execution_count": null,
   "metadata": {},
   "outputs": [],
   "source": [
    "my_oof_manager = ac.oof_manager(oof_data_folder,timezone)\n",
    "oof_df = my_oof_manager.load_oof_df_inrange(dt1,dt2)"
   ]
  },
  {
   "cell_type": "markdown",
   "metadata": {},
   "source": [
    "3. Here is where we would check to make sure that there is em27 data for the datetime range. If there isn't, we don't need to create a slant df and associated receptors and should skip to the next time period"
   ]
  },
  {
   "cell_type": "code",
   "execution_count": null,
   "metadata": {},
   "outputs": [],
   "source": [
    "if len(oof_df) == 0:\n",
    "    print(f'No oof data for {dt1} to {dt2}')\n",
    "else:\n",
    "    print(f'Found oof data for {dt1} to {dt2}')"
   ]
  },
  {
   "cell_type": "markdown",
   "metadata": {},
   "source": [
    "4. Assuming there was data, here's the edge case we would need to handle later. For now, we just check to makes sure the lat/lon/zasl is the same for the entire oof df. "
   ]
  },
  {
   "cell_type": "code",
   "execution_count": null,
   "metadata": {},
   "outputs": [],
   "source": [
    "cols_to_check = ['inst_lat','inst_lon','inst_zasl']\n",
    "for col in cols_to_check:\n",
    "    if not ac.pdcol_is_equal(oof_df[col]):\n",
    "        raise Exception('{col} is not the same for the entire oof_df. This is an edge case.')\n",
    "#If we make it through the above, we can pull the values from the dataframe at the 0th index because they are all the same\n",
    "inst_lat = oof_df.iloc[0]['inst_lat']\n",
    "inst_lon = oof_df.iloc[0]['inst_lon']\n",
    "inst_zasl = oof_df.iloc[0]['inst_zasl']"
   ]
  },
  {
   "cell_type": "markdown",
   "metadata": {},
   "source": [
    "5. Now we get a new dt range from the oof file. We go to the interval before the start of the df for the initial dt and the interval after the end for the last dt. "
   ]
  },
  {
   "cell_type": "code",
   "execution_count": null,
   "metadata": {},
   "outputs": [],
   "source": [
    "dt1_oof = oof_df.index[0].floor(interval)\n",
    "dt2_oof = oof_df.index[-1].ceil(interval)"
   ]
  },
  {
   "cell_type": "markdown",
   "metadata": {},
   "source": [
    "6. Finally, we can use the gleaned oof data to create the slant df at the interval required"
   ]
  },
  {
   "cell_type": "code",
   "execution_count": null,
   "metadata": {},
   "outputs": [],
   "source": [
    "gsh = ac.ground_slant_handler(inst_lat,inst_lon,inst_zasl,z_ail_list)\n",
    "slant_df = gsh.run_slant_at_intervals(dt1_oof,dt2_oof,my_dem_handler)"
   ]
  },
  {
   "cell_type": "markdown",
   "metadata": {},
   "source": [
    "Here we can plot and show the multi df. Since there are many rows, we just plot those \"on the hour\" to show the change throughout the day. "
   ]
  },
  {
   "cell_type": "code",
   "execution_count": null,
   "metadata": {},
   "outputs": [],
   "source": [
    "plotting.create_slant_plots(slant_df,inst_lat,inst_lon)"
   ]
  }
 ],
 "metadata": {
  "kernelspec": {
   "display_name": "atmos_column1",
   "language": "python",
   "name": "atmos_column1"
  },
  "language_info": {
   "codemirror_mode": {
    "name": "ipython",
    "version": 3
   },
   "file_extension": ".py",
   "mimetype": "text/x-python",
   "name": "python",
   "nbconvert_exporter": "python",
   "pygments_lexer": "ipython3",
   "version": "3.11.6"
  }
 },
 "nbformat": 4,
 "nbformat_minor": 4
}
