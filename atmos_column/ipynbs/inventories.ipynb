{
 "cells": [
  {
   "cell_type": "markdown",
   "metadata": {},
   "source": [
    "# Inventories\n",
    "This notebook contains useful code for working with emissions inventories. Lots of work in progress stuff. "
   ]
  },
  {
   "cell_type": "code",
   "execution_count": 1,
   "metadata": {},
   "outputs": [],
   "source": [
    "#Import Packages\n",
    "import sys\n",
    "import pickle\n",
    "import os\n",
    "import pytz\n",
    "import datetime\n",
    "import string\n",
    "import re\n",
    "import pandas as pd\n",
    "import numpy as np\n",
    "import calendar\n",
    "import plotly.graph_objects as go\n",
    "from plotly.subplots import make_subplots\n",
    "import matplotlib\n",
    "import matplotlib.pyplot as plt\n",
    "import matplotlib.dates as mdates\n",
    "import matplotlib.gridspec as gridspec\n",
    "from matplotlib.colors import Normalize\n",
    "import cartopy.crs as ccrs\n",
    "import cartopy.io.img_tiles as cimgt\n",
    "from windrose import WindroseAxes\n",
    "import xarray as xr\n",
    "from pylr2 import regress2\n",
    "sys.path.append('..')\n",
    "import funcs.ac_funcs as ac\n",
    "pd.options.mode.chained_assignment = None\n",
    "#Autoreload changed local modules\n",
    "%load_ext autoreload\n",
    "%autoreload 2\n",
    "\n",
    "import warnings\n",
    "warnings.filterwarnings(\"ignore\")\n"
   ]
  },
  {
   "cell_type": "code",
   "execution_count": 2,
   "metadata": {},
   "outputs": [],
   "source": [
    "#Define a function to trim an xarray dataset to an extent\n",
    "def trim_ds(ds,extent_dict):\n",
    "    sub_ds =  ds.sel(lat=slice(extent_dict['lat_low'],\n",
    "                               extent_dict['lat_high']),\n",
    "                     lon=slice(extent_dict['lon_low'],\n",
    "                               extent_dict['lon_high']))\n",
    "    return sub_ds"
   ]
  },
  {
   "cell_type": "markdown",
   "metadata": {},
   "source": [
    "# Inventories"
   ]
  },
  {
   "cell_type": "code",
   "execution_count": 3,
   "metadata": {},
   "outputs": [],
   "source": [
    "#Set the extent to which we want to clip the dataset\n",
    "dataset_extent = {'lon_low':-112.1,\n",
    "                  'lon_high':-111.7,\n",
    "                  'lat_low':40.4,\n",
    "                  'lat_high':41.0} \n"
   ]
  },
  {
   "cell_type": "markdown",
   "metadata": {},
   "source": [
    "## EDGAR"
   ]
  },
  {
   "cell_type": "code",
   "execution_count": null,
   "metadata": {},
   "outputs": [],
   "source": [
    "def load_edgar_nc(edgar_path,spec,emi_or_flx,year):\n",
    "    if spec in ['CH4','CO2']:\n",
    "        nc_folder_name = f'v8.0_FT2022_GHG_{spec}_{year}_TOTALS_{emi_or_flx}_nc'\n",
    "        nc_file_name = '_'.join(nc_folder_name.split('_')[:-1]) + '.nc'\n",
    "    elif spec == 'CO':\n",
    "        nc_folder_name = f'EDGARv6.1_{spec}_{year}_TOTALS.0.1x0.1'\n",
    "        nc_file_name = (nc_folder_name) + '.nc'\n",
    "\n",
    "    nc_fullpath = os.path.join(edgar_path,spec,emi_or_flx,nc_folder_name,nc_file_name)\n",
    "    try:    \n",
    "        ds = xr.open_dataset(nc_fullpath)\n",
    "    except FileNotFoundError as f:\n",
    "        print(f)\n",
    "        raise FileNotFoundError(f'There doesnt seem to be data for this configuration:{spec},{emi_or_flx},{year}')\n",
    "    if spec == 'CO':\n",
    "        ds = coord_change_360_180(ds)\n",
    "        ds = ds.rename({'emi_co':'fluxes'})\n",
    "        ds['fluxes'].attrs['substance'] = 'CO'\n",
    "\n",
    "    gca_fname = nc_file_name.split('.nc')[0] + '_gca' + '.nc'\n",
    "    try:\n",
    "        gca_fullpath = os.path.join(edgar_path,spec,emi_or_flx,nc_folder_name,gca_fname)\n",
    "        gca_ds = xr.open_dataset(gca_fullpath)\n",
    "        if spec == 'CO':\n",
    "            gca_ds = coord_change_360_180(gca_ds)\n",
    "        ds = add_gca_to_ds(ds,gca_ds)\n",
    "    except FileNotFoundError:\n",
    "        print(f'No grid cell area file {gca_fullpath} found. Create with cdo to use. Returning ds without gca')\n",
    "        return ds\n",
    "\n",
    "    return ds\n",
    "\n",
    "def coord_change_360_180(ds):\n",
    "    return ds.assign_coords(lon=(((ds.lon + 180) % 360) - 180)).sortby('lon')\n",
    "\n",
    "def add_gca_to_ds(orig_ds,gca_ds):\n",
    "    orig_ds['grid_cell_area'] = gca_ds['cell_area']\n",
    "    return orig_ds\n"
   ]
  },
  {
   "cell_type": "code",
   "execution_count": null,
   "metadata": {},
   "outputs": [],
   "source": [
    "#Load Edgar inventories\n",
    "edgar_path = '/uufs/chpc.utah.edu/common/home/lin-group15/agm/inventories/EDGAR/'\n",
    "\n",
    "spec = 'CH4'\n",
    "year= 2022\n",
    "emi_or_flx = 'flx'\n",
    "\n",
    "full_ds = load_edgar_nc(edgar_path,spec,emi_or_flx,year)\n",
    "sub_ds = trim_ds(full_ds,dataset_extent)\n",
    "if emi_or_flx == 'flx':\n",
    "    sub_ds['emissions'] = (sub_ds['grid_cell_area'] * sub_ds['fluxes']) * 86400 * 365 * 1E-3 # [m2] * [kg/m2/s] * [86400s/d] *[365d/y] *[1E-3tonne/kg] = [tonne/yr]\n",
    "    sub_ds['emissions'].attrs = {'substance':spec,'units':'Tonne'}"
   ]
  },
  {
   "cell_type": "code",
   "execution_count": null,
   "metadata": {},
   "outputs": [],
   "source": [
    "map_extent={'lon_low':-112.25,\n",
    "            'lon_high':-111.55,\n",
    "            'lat_low':40.3,\n",
    "            'lat_high':41.1} \n",
    "\n",
    "labsize = 12\n",
    "proj = ccrs.PlateCarree()\n",
    "fig = plt.figure()\n",
    "ax = plt.axes(projection = proj)\n",
    "ax.set_extent([map_extent['lon_low'],map_extent['lon_high'],map_extent['lat_low'],map_extent['lat_high']],crs=proj)\n",
    "request = cimgt.GoogleTiles(style='satellite')\n",
    "scale = 10.0 # prob have to adjust this\n",
    "ax.add_image(request,int(scale))\n",
    "map = sub_ds['emissions'].plot.pcolormesh('lon','lat',ax = ax,alpha=0.7,cmap='viridis',add_colorbar=False)\n",
    "plt.colorbar(map,fraction=0.03,label = f\"{spec} emissions ({sub_ds['emissions'].attrs['units']})\")\n",
    "\n",
    "emissions_sum = float(sub_ds['emissions'].sum())\n",
    "text = f\"{spec}_sum={emissions_sum:.2e}\\n{sub_ds['emissions'].attrs['units']}\"\n",
    "t1 = fig.text(0.45,0.77,text,fontsize = labsize)\n",
    "t1.set_bbox(dict(facecolor = 'white'))\n",
    "plt.title(f\"EDGAR {year} {spec}\")\n",
    "plt.show()"
   ]
  },
  {
   "cell_type": "markdown",
   "metadata": {},
   "source": [
    "## Maasakkers EPA"
   ]
  },
  {
   "cell_type": "markdown",
   "metadata": {},
   "source": [
    "Paper: https://pubs.acs.org/doi/10.1021/acs.est.3c05138  \n",
    "Data: https://doi.org/10.5281/zenodo.8367082   \n",
    "Code: https://github.com/USEPA/GEPA   "
   ]
  },
  {
   "cell_type": "markdown",
   "metadata": {},
   "source": [
    "Flux values in original nc files are $Flux_{ch4}$ in $[{molec_{CH4}}/{cm^2s}]$. \n",
    "\n",
    "Convert flux values to emissions values by $Emission_{ch4} = Flux_{ch4} * grid cell area$  \n",
    "Where $Emission_{ch4}$ in $[molec_{ch4}/s]$\n",
    "\n",
    "**CONVERSION to g/yr**   \n",
    "\n",
    "$Emissions_{ch4} [g/year] = Emissions_{ch4} [molec_{ch4}/s] * Conversion factor $\n",
    "\n",
    "$Conversion factor = 1/6.022x10^23 [mole/molec_{ch4}] * 16.04 [g_{ch4}/mole] * 86400 [s/day] * y [days/year] $\n",
    "\n",
    "The number of days per year (y) depends on whether the given year is a leap year. \n"
   ]
  },
  {
   "cell_type": "code",
   "execution_count": null,
   "metadata": {},
   "outputs": [],
   "source": [
    "def load_epa_nc(path,year):\n",
    "    fname = f'Express_Extension_Gridded_GHGI_Methane_v2_{year}.nc'\n",
    "    ds = xr.open_dataset(os.path.join(path,fname))\n",
    "    name_map = {k: k.replace('emi','flx') for k in ds} #in the nc file, the data variables are names \"emi...\" which is confusing as they are fluxes. so rename to flx...\n",
    "    ds = ds.rename(name_map)\n",
    "    return ds"
   ]
  },
  {
   "cell_type": "code",
   "execution_count": null,
   "metadata": {},
   "outputs": [],
   "source": [
    "#Load the Maasakkers data\n",
    "epa_path = '/uufs/chpc.utah.edu/common/home/lin-group15/agm/inventories/Maasakkers'\n",
    "year = 2020\n",
    "\n",
    "epa_full = load_epa_nc(epa_path,year)\n",
    "epa_subset = trim_ds(epa_full,dataset_extent).sum(dim=\"time\",keep_attrs = True)"
   ]
  },
  {
   "cell_type": "code",
   "execution_count": null,
   "metadata": {},
   "outputs": [],
   "source": [
    "#Sum variables\n",
    "data_variables = list(epa_subset.keys()) #all of the vars in the nc file\n",
    "emi_variables = [var for var in data_variables if var != 'grid_cell_area'] #drop the grid cell area from the variables list so we can sum\n",
    "og_units = epa_subset[emi_variables[0]].attrs['units']\n",
    "for emi_var in emi_variables: #check to make sure the units are the same on all of the emissions variables\n",
    "    if epa_subset[emi_var].attrs['units'] != og_units:\n",
    "        raise ValueError(f'The units are different in {emi_var}, so you shouldnt sum')\n",
    "epa_subset['flx_ch4_sum'] = epa_subset[emi_variables].to_array().sum('variable') #sum along the emissions variables\n",
    "epa_subset['flx_ch4_sum'].attrs = {'units':og_units} #add the units\n",
    "\n",
    "#convert flux units to emissions units\n",
    "# emissions[tonne/yr] = grid_cell_area[cm2] * flx_ch4[molec/cm2/s] * (1/6.022E23)[mol/molec] * 16.04[gch4/mol] * 86400[s/d] * 365[d/y] * 1E-6[tonne/g]\n",
    "epa_subset['emissions'] = (epa_subset['grid_cell_area']*epa_subset['flx_ch4_sum'])*(1/6.022E23)*16.04*86400*365*1E-6  #multiply the sums by the grid cell area\n",
    "epa_subset['emissions'].attrs['units'] = 'Tonnes'\n"
   ]
  },
  {
   "cell_type": "code",
   "execution_count": null,
   "metadata": {},
   "outputs": [],
   "source": [
    "labsize = 12\n",
    "proj = ccrs.PlateCarree()\n",
    "fig = plt.figure()\n",
    "ax = plt.axes(projection = proj)\n",
    "ax.set_extent([map_extent['lon_low'],map_extent['lon_high'],map_extent['lat_low'],map_extent['lat_high']],crs=proj)\n",
    "request = cimgt.GoogleTiles(style='satellite')\n",
    "scale = 10.0 # prob have to adjust this\n",
    "ax.add_image(request,int(scale))\n",
    "\n",
    "map = epa_subset['emissions'].plot.pcolormesh('lon','lat',ax = ax,alpha=0.7,cmap='viridis',add_colorbar=False)\n",
    "plt.colorbar(map,fraction=0.03,label = f'CH4 Emissions (Tonnes)')\n",
    "\n",
    "tot_emissions_ch4_tonne = epa_subset['emissions'].sum()\n",
    "text = f'CH4_sum={tot_emissions_ch4_tonne:.2e} tonnes'\n",
    "t1 = fig.text(0.45,0.81,text,fontsize = labsize)\n",
    "t1.set_bbox(dict(facecolor = 'white'))\n",
    "\n",
    "plt.title(f\"Maasakkers {year} CH4\")\n",
    "plt.show()"
   ]
  },
  {
   "cell_type": "markdown",
   "metadata": {},
   "source": [
    "## NOAA CSL"
   ]
  },
  {
   "cell_type": "code",
   "execution_count": null,
   "metadata": {},
   "outputs": [],
   "source": [
    "def get_satsunwkd(year,month):\n",
    "    '''Gets the number of saturdays, sundays and weekdays in a given month+year\n",
    "    \n",
    "    Args:\n",
    "    year (int) : the year\n",
    "    month (int) : the month, as an integer\n",
    "    \n",
    "    Returns:\n",
    "    sat_count (int) : number of saturdays\n",
    "    sun_count (int) : number of sundays\n",
    "    wkd_count (int) : number of weekdays\n",
    "    '''\n",
    "\n",
    "    num_days_in_month = calendar.monthrange(year,month)[1]\n",
    "    month_str = f'{month:02d}'\n",
    "\n",
    "    dow_ints = list(pd.date_range(start=f'{year}-{month_str}-01',end=f'{year}-{month_str}-{num_days_in_month}').weekday)\n",
    "    sat_count = len([ dow for dow in dow_ints if dow == 5 ])\n",
    "    sun_count = len([ dow for dow in dow_ints if dow == 6 ])\n",
    "    wkd_count = len([ dow for dow in dow_ints if dow < 5 ])\n",
    "    return sat_count,sun_count,wkd_count"
   ]
  },
  {
   "cell_type": "code",
   "execution_count": null,
   "metadata": {},
   "outputs": [],
   "source": [
    "csl_path = '/uufs/chpc.utah.edu/common/home/lin-group15/agm/inventories/NOAA_CSL'\n",
    "year = 2019\n",
    "month = 1\n",
    "month_str = f'{month:02d}'\n",
    "\n",
    "day_type = 'WKD'\n",
    "full_fname = os.path.join(csl_path,f'{day_type}_nc',f'CO2_{day_type}_{year}_{month_str}_NOAA_CSL_SLV_lon.lat.nc')\n",
    "csl_xr = xr.open_dataset(full_fname)\n",
    "csl_xr = trim_ds(csl_xr,dataset_extent)\n",
    "csl_xr = csl_xr * 3600\n",
    "csl_xr = csl_xr.sum(dim='hour_UTC')\n"
   ]
  },
  {
   "cell_type": "code",
   "execution_count": null,
   "metadata": {},
   "outputs": [],
   "source": [
    "csl_xr['co2_sum'] = csl_xr[list(csl_xr.keys())].to_array().sum('variable') #sum along the emissions variables"
   ]
  },
  {
   "cell_type": "code",
   "execution_count": null,
   "metadata": {},
   "outputs": [],
   "source": [
    "#co2 sum is in umol/m2/d. therefore:\n",
    "# [tonne/yr] = [umol/m2/d] * 1E-6 [mol/umol] * 365 [d/y] * 44 [g/mol] * 1E-6 [tonne/g] * 2259838224 [m2]\n",
    "(csl_xr['co2_sum']* 2252456065.6/(40*60) * 1E-6 * 365 * 44 * 1E-6).sum()"
   ]
  },
  {
   "cell_type": "code",
   "execution_count": null,
   "metadata": {},
   "outputs": [],
   "source": [
    "csl_xr['co2_sum'].mean() / 1E6 * 365 * 16 /1E6 * 2259838224"
   ]
  },
  {
   "cell_type": "code",
   "execution_count": null,
   "metadata": {},
   "outputs": [],
   "source": [
    "csl_path = '/uufs/chpc.utah.edu/common/home/lin-group15/agm/inventories/NOAA_CSL'\n",
    "year = 2019\n",
    "month = 1\n",
    "month_str = f'{month:02d}'\n",
    "\n",
    "day_type = 'WKD'\n",
    "full_fname = os.path.join(csl_path,f'{day_type}_nc',f'CO2_{day_type}_{year}_{month_str}_NOAA_CSL_SLV_lon.lat.nc')\n",
    "csl_xr = xr.open_dataset(full_fname)\n",
    "csl_xr = trim_ds(csl_xr,dataset_extent)\n",
    "csl_xr = csl_xr * 60 * 60\n",
    "csl_xr = csl_xr.sum(dim='hour_UTC')\n",
    "#csl_xr = csl_xr *86400\n",
    "# summed_csl = xr.full_like(csl_xr['CO2_EGU_point'],0)\n",
    "# for data_var in list(csl_xr.data_vars):\n",
    "#     summed_csl = summed_csl + csl_xr[data_var]\n",
    "\n",
    "# summed_csl.mean() #* 86400 / 1E6 * 365 * 16 /1E6 * 2259838224 #/ 1E6 * 365 * 16 /1E6 * 2259838224"
   ]
  },
  {
   "cell_type": "code",
   "execution_count": null,
   "metadata": {},
   "outputs": [],
   "source": [
    "csl_xr.sum()"
   ]
  },
  {
   "cell_type": "code",
   "execution_count": null,
   "metadata": {},
   "outputs": [],
   "source": [
    "# Load CO2 csl for weekday in jan\n",
    "co2_wkd_csl = xr.open_dataset('/uufs/chpc.utah.edu/common/home/lin-group10/HKH/CLS_NOAA_Emissions/Emission_Eval/NCDF_Grid_SLV/WKD_nc/CO2_WKD_2019_01_NOAA_CSL_SLV_lon.lat.nc')\n",
    "co2_wkd_csl = trim_ds(co2_wkd_csl,dataset_extent)\n",
    "co2_wkd_csl_hour = co2_wkd_csl*3600\n",
    "co2_csl_timesum = co2_wkd_csl_hour.sum(dim='hour_UTC')\n",
    "summed_csl_da = xr.full_like(co2_csl_timesum['CO2_EGU_point'],0)\n",
    "for data_var in list(co2_csl_timesum.data_vars):\n",
    "    summed_csl_da = summed_csl_da + co2_csl_timesum[data_var]"
   ]
  },
  {
   "cell_type": "code",
   "execution_count": null,
   "metadata": {},
   "outputs": [],
   "source": [
    "co2_csl_timemean = co2_wkd_csl.mean(dim='hour_UTC')\n",
    "summed_csl_da = xr.full_like(co2_csl_timemean['CO2_EGU_point'],0)\n",
    "for data_var in list(co2_csl_timemean.data_vars):\n",
    "    summed_csl_da = summed_csl_da + co2_csl_timemean[data_var]"
   ]
  },
  {
   "cell_type": "code",
   "execution_count": null,
   "metadata": {},
   "outputs": [],
   "source": [
    "summed_csl_da.mean() "
   ]
  },
  {
   "cell_type": "code",
   "execution_count": null,
   "metadata": {},
   "outputs": [],
   "source": [
    "x = 0\n",
    "for data_var in list(co2_csl_timemean.data_vars):\n",
    "    x+= float(co2_csl_timemean[data_var].mean())\n",
    "x * 86400 / 1E6 * 365 * 16 /1E6 * 2259838224\n"
   ]
  },
  {
   "cell_type": "code",
   "execution_count": null,
   "metadata": {},
   "outputs": [],
   "source": [
    "x"
   ]
  },
  {
   "cell_type": "code",
   "execution_count": null,
   "metadata": {},
   "outputs": [],
   "source": [
    "summed_csl_da.mean()"
   ]
  },
  {
   "cell_type": "code",
   "execution_count": null,
   "metadata": {},
   "outputs": [],
   "source": [
    "#Plot it\n",
    "labsize = 12\n",
    "proj = ccrs.PlateCarree()\n",
    "fig = plt.figure(figsize=(10,8))\n",
    "ax = plt.axes(projection = proj)\n",
    "ax.set_extent([map_extent['lon_low'],map_extent['lon_high'],map_extent['lat_low'],map_extent['lat_high']],crs=proj)\n",
    "request = cimgt.GoogleTiles(style='satellite')\n",
    "scale = 9.0 # prob have to adjust this\n",
    "ax.add_image(request,int(scale))\n",
    "\n",
    "map = summed_csl_da.plot.pcolormesh('lon','lat',ax = ax,alpha=0.7,cmap='viridis',add_colorbar=False,vmax = 2000000)\n",
    "plt.colorbar(map,fraction=0.03,label ='CO2 Flux umol/s/m2')\n",
    "plt.show()"
   ]
  }
 ],
 "metadata": {
  "kernelspec": {
   "display_name": "atmos_column",
   "language": "python",
   "name": "python3"
  },
  "language_info": {
   "codemirror_mode": {
    "name": "ipython",
    "version": 3
   },
   "file_extension": ".py",
   "mimetype": "text/x-python",
   "name": "python",
   "nbconvert_exporter": "python",
   "pygments_lexer": "ipython3",
   "version": "3.11.6"
  }
 },
 "nbformat": 4,
 "nbformat_minor": 2
}
