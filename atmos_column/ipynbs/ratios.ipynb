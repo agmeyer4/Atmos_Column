{
 "cells": [
  {
   "cell_type": "code",
   "execution_count": 151,
   "metadata": {},
   "outputs": [
    {
     "name": "stdout",
     "output_type": "stream",
     "text": [
      "The autoreload extension is already loaded. To reload it, use:\n",
      "  %reload_ext autoreload\n"
     ]
    }
   ],
   "source": [
    "#Import Packages\n",
    "import pandas as pd\n",
    "import numpy as np\n",
    "import os\n",
    "import itertools\n",
    "import plotly.graph_objects as go\n",
    "from plotly.subplots import make_subplots\n",
    "import matplotlib.pyplot as plt\n",
    "import matplotlib.dates as mdates\n",
    "import datetime\n",
    "import matplotlib\n",
    "from textwrap import fill\n",
    "from herbie import Herbie\n",
    "import pickle\n",
    "import cartopy.crs as ccrs\n",
    "import cartopy.io.img_tiles as cimgt\n",
    "import pysolar.solar as solar\n",
    "from geographiclib.geodesic import Geodesic\n",
    "import xarray as xr\n",
    "import pytz\n",
    "from pylr2 import regress2\n",
    "\n",
    "import sys\n",
    "sys.path.append('..')\n",
    "import funcs.ac_funcs as ac\n",
    "import funcs.plotting as plotting\n",
    "from config import run_config\n",
    "\n",
    "import simplekml\n",
    "\n",
    "pd.options.mode.chained_assignment = None\n",
    "\n",
    "#Autoreload changed local modules\n",
    "%load_ext autoreload\n",
    "%autoreload 2"
   ]
  },
  {
   "cell_type": "code",
   "execution_count": 107,
   "metadata": {},
   "outputs": [],
   "source": [
    "#Loading the full dataset can take a while\n",
    "# em27_data_folder = \"/uufs/chpc.utah.edu/common/home/u0890904/LAIR_1/Data/EM27_oof/SLC_EM27_ha_2022_2023_oof_v2_nasrin_correct/\"\n",
    "# dt1_str = '2022-05-01 00:00:00'\n",
    "# dt2_str =  '2024-01-01 00:00:00'\n",
    "# tz = 'US/Mountain'\n",
    "# oof_manage = ac.oof_manager(em27_data_folder,tz)\n",
    "# flag0_em27_df = oof_manage.load_oof_df_inrange(dt1_str,dt2_str,True)\n",
    "flag0_em27_df = pd.read_pickle('../../../Data/Pickled_files/flag0_em27_df.pkl')\n",
    "flag0_em27_df['xco(ppm)'] = flag0_em27_df['xco(ppb)']/1000\n",
    "flag0_em27_df['xco(ppm)_errir'] = flag0_em27_df['xco(ppb)_error']/1000"
   ]
  },
  {
   "cell_type": "code",
   "execution_count": 108,
   "metadata": {},
   "outputs": [],
   "source": [
    "em27_resample_interval = None#'5T' #resample at this interval\n",
    "if em27_resample_interval == None: #if no resample, just copy it \n",
    "    em27_resampled = flag0_em27_df.copy()\n",
    "else:\n",
    "    em27_resampled = flag0_em27_df.resample(em27_resample_interval).mean(numeric_only=True).dropna() #resample if not none\n",
    "em27_resampled = em27_resampled.sort_index() #make sure the index is sorted\n",
    "daily_dfs = [part for _, part in em27_resampled.groupby(pd.Grouper(freq='1D')) if not part.empty] #parse into a list of daily dataframes\n",
    "for df in daily_dfs: #for each daily dataframe\n",
    "    min_sza_idx = df['solzen(deg)'].idxmin() #find the sun's peak (min sza)\n",
    "    df['rise_set'] = ['rise' if idx <= min_sza_idx else 'set' for idx in df.index] #add a column indicating if the sun is rising or setting (before or after peak)\n",
    "daily_dict = {df.index[0].strftime('%Y-%m-%d'): df for df in daily_dfs} #make a dictionary of the daily dfs so we can refer to it by date instead of just list index\n"
   ]
  },
  {
   "cell_type": "code",
   "execution_count": 109,
   "metadata": {},
   "outputs": [
    {
     "name": "stdout",
     "output_type": "stream",
     "text": [
      "           date  good_rows         min_time         max_time  rise_sza_max  set_sza_max\n",
      "0    2022-05-24       1661  10:46:37.200000  15:53:20.400000         38.81        37.26\n",
      "1    2022-05-25       4506         08:16:48  17:47:02.400000         66.76        58.26\n",
      "2    2022-05-26        780  10:10:22.800000  12:24:14.400000         45.27          NaN\n",
      "3    2022-06-02       2636         08:50:24  15:09:07.200000         59.92        28.62\n",
      "4    2022-06-05       1013  07:35:27.600000  09:52:51.600000         73.75          NaN\n",
      "5    2022-06-06        381  13:03:50.400000  13:58:22.800000         18.66        19.29\n",
      "6    2022-06-07       1994  09:52:01.200000  14:03:43.200000         48.12        19.61\n",
      "7    2022-06-09        406  09:11:56.400000  14:07:04.800000         55.68        19.71\n",
      "8    2022-06-14       3963  07:31:40.800000  18:17:45.600000         74.33        62.13\n",
      "9    2022-06-15       5514  08:14:09.600000  19:51:14.400000         66.56        79.15\n",
      "10   2022-06-16       5808  07:26:02.400000  19:43:22.800000         75.37        77.70\n",
      "11   2022-06-17       2856  10:33:43.200000         16:35:42         40.35        42.70\n",
      "12   2022-06-20       3817  11:41:09.600000  19:52:55.200000         28.47        79.19\n",
      "13   2022-06-21       5396  07:40:33.600000  19:04:26.400000         72.90        70.43\n",
      "14   2022-06-22       1498         07:46:48  11:17:49.200000         71.80          NaN\n",
      "15   2022-06-23       3144  07:59:49.200000  15:11:34.800000         69.47        27.51\n",
      "16   2022-06-24       4102  08:20:20.400000         18:56:24         65.73        68.87\n",
      "17   2022-06-25       5514  07:58:26.400000         19:53:42         69.83        79.18\n",
      "18   2022-06-27       4486         07:48:00  17:18:32.400000         71.86        50.42\n",
      "19   2022-06-28        867  07:30:43.200000  10:46:40.800000         75.06          NaN\n",
      "20   2022-07-01       1889  09:06:43.200000         13:22:12         57.47        17.81\n",
      "21   2022-07-05       5338  08:28:44.400000  19:52:40.800000         64.95        79.08\n",
      "22   2022-07-06       5746  07:36:32.400000  19:52:26.400000         74.65        79.08\n",
      "23   2022-07-07       4637  08:52:51.600000  18:54:46.800000         60.60        68.65\n",
      "24   2022-07-08       5435  08:16:22.800000         19:51:18         67.52        78.97\n",
      "25   2022-07-09        642  08:37:19.200000  09:58:33.600000         63.71          NaN\n",
      "26   2022-07-11       2211  08:34:33.600000         13:15:18         64.43          NaN\n",
      "27   2022-07-12       1022  08:11:45.600000  11:27:46.800000         68.79          NaN\n",
      "28   2022-07-18       1448  08:22:15.600000  12:31:44.400000         67.52          NaN\n",
      "29   2022-07-19        444  07:44:20.400000  10:53:45.600000         74.67          NaN\n",
      "30   2022-07-20       2741  08:39:03.600000  14:28:40.800000         64.61        23.36\n",
      "31   2022-07-26       4327  08:29:49.200000         17:48:36         67.12        57.82\n",
      "32   2022-07-27       1613         08:36:18  12:58:40.800000         66.03          NaN\n",
      "33   2022-07-28       2012  07:46:08.400000  12:04:33.600000         75.54          NaN\n",
      "34   2022-07-29       3132         09:11:24  16:04:37.200000         59.67        39.08\n",
      "35   2022-07-31       3641  09:13:22.800000  17:02:31.200000         59.57        49.91\n",
      "36   2022-08-03       4253         07:40:48  16:47:20.400000         77.40        47.63\n",
      "37   2022-08-08       2302  08:31:40.800000         13:26:42         68.62          NaN\n",
      "38   2022-08-09       3304  08:24:32.400000  15:28:40.800000         70.13        35.48\n",
      "39   2022-08-16       1892  09:15:07.200000  13:23:34.800000         61.66          NaN\n",
      "40   2022-08-17       3208         07:39:18         16:49:48         79.89        51.19\n",
      "41   2022-08-22       2359  07:48:50.400000  12:51:39.600000         78.93          NaN\n",
      "42   2022-08-23       3091  09:28:01.200000  16:57:10.800000         60.41        54.13\n",
      "43   2022-08-24        505  08:49:44.400000  10:06:28.800000         67.76          NaN\n",
      "44   2022-08-25       3023         08:37:30         15:11:06         70.24        37.65\n",
      "45   2022-08-26       2830  08:51:03.600000  14:59:38.400000         67.85        36.54\n",
      "46   2022-08-29       3252  07:58:01.200000  14:56:49.200000         78.39        37.23\n",
      "47   2022-08-30       1858  09:02:16.800000  13:01:19.200000         66.44          NaN\n",
      "48   2022-08-31       1445  09:20:56.400000  12:26:56.400000         63.15          NaN\n",
      "49   2022-09-01       1650         08:41:06         17:02:42         70.77        57.77\n",
      "50   2022-09-07       1674  08:19:55.200000  11:54:43.200000         75.82          NaN\n",
      "51   2022-09-08       1748  09:22:01.200000  16:20:38.400000         64.45        52.79\n",
      "52   2022-09-09       2470  09:10:01.200000  14:28:08.400000         66.84        38.42\n",
      "53   2022-09-10       4726         08:29:24  18:38:27.600000         74.58        78.32\n",
      "54   2022-09-11       3396  11:18:46.800000         18:36:36         45.96        78.29\n",
      "55   2022-09-12       3344         08:03:18  15:14:38.400000         79.86        44.50\n",
      "56   2022-09-21       1719  08:15:57.600000  11:59:52.800000         79.15          NaN\n",
      "57   2022-09-22       4220  08:56:09.600000  18:18:43.200000         71.93        78.46\n",
      "58   2022-09-23        770  08:54:03.600000  10:32:34.800000         72.51          NaN\n",
      "59   2022-09-26       4018  08:23:34.800000  17:01:55.200000         78.71        65.93\n",
      "60   2022-09-27       4234  08:51:57.600000  17:59:16.800000         73.72        76.50\n",
      "61   2022-10-03       3990  08:53:56.400000  17:29:13.200000         74.63        73.04\n",
      "62   2022-10-04       3755  08:57:10.800000         17:02:42         74.26        68.79\n",
      "63   2022-10-05       3627  08:38:49.200000  16:27:43.200000         77.76        63.40\n",
      "64   2022-10-06       3940  08:35:34.800000  17:04:51.600000         78.56        69.82\n",
      "65   2022-10-07       3772  09:46:04.800000  17:54:21.600000         66.62        78.82\n",
      "66   2022-10-10       3860  08:42:21.600000  17:02:45.600000         78.20        70.76\n",
      "67   2022-10-11       2260  09:00:10.800000  16:12:39.600000         75.28        63.15\n",
      "68   2022-10-12       3896  09:20:49.200000  17:46:26.400000         71.99        78.95\n",
      "69   2022-10-17       3672  08:38:27.600000  16:34:51.600000         80.40        68.49\n",
      "70   2022-10-18       3862  08:42:46.800000  17:04:22.800000         79.87        73.53\n",
      "71   2022-10-19       3601         08:58:30         16:51:36         77.38        71.75\n",
      "72   2022-10-20       3870  09:06:25.200000         17:30:18         76.26        78.49\n",
      "73   2022-10-21       2528         09:00:36         16:16:30         77.48        66.97\n",
      "74   2022-10-27         97  09:56:13.200000  10:37:58.800000         70.08          NaN\n",
      "75   2022-10-28       2840         09:14:06         15:20:42         76.87        61.85\n",
      "76   2022-11-04        399  09:53:52.800000  12:19:26.400000         72.44          NaN\n",
      "77   2022-11-11       2032  11:14:16.800000  15:36:21.600000         59.82        75.26\n",
      "78   2022-11-14       2500  09:33:25.200000  15:27:25.200000         69.60        74.56\n",
      "79   2022-11-15       2854  09:15:25.200000  15:24:50.400000         72.12        74.37\n",
      "80   2022-11-16       2108  10:49:15.600000         15:21:54         62.66        74.15\n",
      "81   2022-11-17       2350  10:15:03.600000         15:18:54         65.78        73.91\n",
      "82   2022-11-22       2797  09:01:26.400000         15:54:00         75.54        79.62\n",
      "83   2022-11-30       1863  11:03:07.200000  15:43:08.400000         64.75        78.84\n",
      "84   2022-12-08       2830  09:27:10.800000  15:36:32.400000         75.06        78.31\n",
      "85   2023-01-12       1163  09:19:51.600000  15:35:13.200000         77.17        74.98\n",
      "86   2023-01-20        256  12:33:10.800000         13:11:42         60.83        61.30\n",
      "87   2023-01-23       2915  09:03:21.600000  15:46:04.800000         78.26        74.11\n",
      "88   2023-01-30       2620  09:22:33.600000         16:38:24         74.27        80.17\n",
      "89   2023-01-31       3383  09:02:16.800000         16:39:36         77.06        80.12\n",
      "90   2023-02-01       2623  09:50:02.400000  15:57:03.600000         70.08        73.47\n",
      "91   2023-02-02       2951  09:37:33.600000         16:27:36         71.53        77.77\n",
      "92   2023-02-03       1282  09:24:43.200000  12:46:08.400000         73.12        57.20\n",
      "93   2023-02-07       2879  09:01:08.400000  16:29:56.400000         75.73        76.92\n",
      "94   2023-02-08        247  11:51:28.800000  12:50:52.800000         56.86        55.69\n",
      "95   2023-02-10       2700  10:05:34.800000         16:21:54         65.83        74.92\n",
      "96   2023-02-13       2928  09:27:39.600000  16:12:25.200000         70.21        72.69\n",
      "97   2023-02-16       3159  09:17:13.200000  16:37:22.800000         70.94        75.89\n",
      "98   2023-02-17       2763  09:44:38.400000  16:24:32.400000         66.63        73.57\n",
      "99   2023-02-23        155  10:48:43.200000  12:03:14.400000         56.72          NaN\n",
      "100  2023-02-24       1009  11:19:15.600000         14:41:24         53.52        57.30\n",
      "101  2023-03-02         40  11:51:14.400000  12:20:13.200000         49.12          NaN\n",
      "102  2023-03-07        681  10:24:03.600000  17:00:03.600000         55.29        75.18\n",
      "103  2023-03-09       1591  12:17:16.800000  16:02:16.800000         45.38        64.85\n",
      "104  2023-03-13         15  13:39:39.600000  13:41:38.400000         43.56        43.57\n",
      "105  2023-03-14        122  11:16:44.400000  11:33:10.800000         53.67          NaN\n",
      "106  2023-03-16       2892  09:49:01.200000  16:32:20.400000         66.67        58.27\n",
      "107  2023-03-17       3511  08:52:22.800000  17:05:38.400000         76.48        63.40\n",
      "108  2023-03-19         36  14:32:34.800000  14:39:32.400000         43.20        43.70\n",
      "109  2023-03-21       1012  09:11:34.800000  12:28:55.200000         71.67          NaN\n",
      "110  2023-03-28       2741  08:57:28.800000  16:41:02.400000         72.02        56.62\n",
      "111  2023-04-06       3406         09:04:48  17:02:16.800000         67.85        58.21\n",
      "112  2023-04-07       1842         09:01:48  15:03:46.800000         68.11        39.80\n",
      "113  2023-04-08       3046  11:20:49.200000         18:04:30         44.00        69.19\n",
      "114  2023-04-10       3438  10:31:44.400000  18:01:08.400000         51.06        68.18\n",
      "115  2023-04-11       3061  09:50:16.800000  16:29:56.400000         58.01        51.51\n",
      "116  2023-04-14       1049  09:01:22.800000  11:30:14.400000         66.15          NaN\n",
      "117  2023-04-16       4507         09:08:06  19:00:46.800000         64.34        78.32\n",
      "118  2023-04-17       2074         09:24:54  14:03:46.800000         60.94        31.24\n",
      "119  2023-04-20         68  11:05:34.800000  11:39:21.600000         42.47          NaN\n",
      "120  2023-04-26       3372         09:10:48  16:40:01.200000         61.28        50.22\n",
      "121  2023-04-27       2385         08:27:00  15:49:01.200000         69.34        41.22\n",
      "122  2023-04-28       4854  08:28:01.200000  19:04:44.400000         68.92        76.95\n",
      "123  2023-04-29       4434         08:18:36  17:59:52.800000         70.48        64.53\n",
      "124  2023-04-30       2399         08:30:00  14:08:38.400000         68.11        27.60\n",
      "125  2023-05-01       2765  08:54:46.800000  17:09:32.400000         63.19        54.75\n",
      "126  2023-05-02       1843  09:14:13.200000  17:13:44.400000         59.31        55.36\n",
      "127  2023-05-03       2545  08:44:56.400000  17:34:37.200000         64.65        59.11\n",
      "128  2023-05-08       1780         09:11:06  13:52:55.200000         58.75        24.40\n",
      "129  2023-05-09       3339  08:50:31.200000         17:21:00         62.48        55.59\n",
      "130  2023-05-11       1791  09:34:58.800000  13:47:56.400000         53.75        23.38\n",
      "131  2023-05-12       1251  10:29:20.400000         14:23:42         43.55        25.96\n",
      "132  2023-05-15       2582         09:04:48  15:44:56.400000         58.85        37.18\n",
      "133  2023-05-17       1068  08:40:01.200000  11:24:10.800000         63.27          NaN\n",
      "134  2023-05-18       3474  08:45:43.200000         17:09:18         62.07        52.08\n",
      "135  2023-05-19       3340  08:36:03.600000  17:03:46.800000         63.77        50.90\n",
      "136  2023-05-21       2010  09:26:16.800000         14:16:48         54.05        23.39\n",
      "137  2023-05-22       2395  08:59:20.400000  14:42:07.200000         59.04        26.22\n",
      "138  2023-05-23       1942  09:59:38.400000  14:34:40.800000         47.57        25.08\n",
      "139  2023-05-24        915  09:16:15.600000  11:37:44.400000         55.65          NaN\n",
      "140  2023-05-30       2620         08:36:18  14:44:34.800000         62.75        25.33\n",
      "141  2023-05-31       1834  09:07:01.200000  14:20:13.200000         56.90        22.11\n",
      "142  2023-06-01       1311  08:40:15.600000  11:45:50.400000         61.90          NaN\n",
      "143  2023-06-03       1229  08:32:27.600000  11:25:22.800000         63.28          NaN\n",
      "144  2023-06-05       1064         08:45:36  16:23:56.400000         60.73        41.45\n",
      "145  2023-06-07        823  10:07:08.400000  12:50:31.200000         45.28          NaN\n",
      "146  2023-06-09       1337  10:08:38.400000         16:23:24         44.96        40.98\n",
      "147  2023-06-12        956  09:16:26.400000  11:41:09.600000         54.81          NaN\n",
      "148  2023-06-15        242  13:18:07.200000         13:57:36         17.57        18.52\n",
      "149  2023-06-16       4630  08:55:40.800000  18:43:22.800000         58.79        66.80\n",
      "150  2023-06-20       3167  13:05:49.200000  19:52:15.600000         18.00        79.08\n",
      "151  2023-06-21       4308  09:33:28.800000         18:39:54         51.80        65.91\n",
      "152  2023-06-22       2018  09:46:40.800000         18:16:48         49.35        61.55\n",
      "153  2023-06-23       2342  09:19:55.200000  14:36:10.800000         54.46        22.26\n",
      "154  2023-06-24       3294         10:20:24         17:41:06         43.10        54.76\n",
      "155  2023-06-25       4591  08:33:46.800000  18:15:32.400000         63.26        61.23\n",
      "156  2023-06-26       3367  08:55:58.800000  16:02:45.600000         59.14        36.31\n",
      "157  2023-06-27       1686  09:12:14.400000  12:50:02.400000         56.14          NaN\n",
      "158  2023-06-29         97  09:04:33.600000  09:16:44.400000         57.72          NaN\n",
      "159  2023-06-30       3871  08:58:15.600000  17:16:55.200000         58.97        50.10\n",
      "160  2023-07-03       1826  08:42:46.800000  12:55:08.400000         62.12          NaN\n",
      "161  2023-07-05       4792  08:40:04.800000  18:51:10.800000         62.79        67.90\n",
      "162  2023-07-07        811  10:08:45.600000         12:28:48         46.24          NaN\n",
      "163  2023-07-08        789  10:40:26.400000  12:40:55.200000         40.43          NaN\n",
      "164  2023-07-09       3775  08:17:38.400000  16:19:37.200000         67.36        39.59\n",
      "165  2023-07-10       5505  07:52:22.800000  19:46:01.200000         72.13        78.12\n",
      "166  2023-07-11       4879  08:35:38.400000         19:06:18         64.20        70.95\n",
      "167  2023-07-12       5479         07:16:12  19:19:08.400000         78.90        73.38\n",
      "168  2023-07-13        602  10:08:56.400000         11:27:00         46.81          NaN\n",
      "169  2023-07-14       3321         07:49:48  15:49:58.800000         73.04        34.60\n",
      "170  2023-07-15       1934  09:59:49.200000  14:06:10.800000         48.74        20.52\n",
      "171  2023-07-16       3020  07:06:10.800000         13:26:42         81.14        19.52\n",
      "172  2023-07-18        262  13:28:55.200000  14:48:14.400000         19.83        25.36\n",
      "173  2023-07-19        904  10:23:52.800000  12:22:44.400000         44.72          NaN\n",
      "174  2023-07-20       5226  07:42:28.800000  19:09:50.400000         75.10        72.36\n",
      "175  2023-07-21       4913  07:28:22.800000         18:15:18         77.80        62.24\n",
      "176  2023-07-23       1452  08:56:20.400000         12:03:36         61.69          NaN\n",
      "177  2023-07-25       2634  08:03:57.600000  15:56:27.600000         71.80        37.00\n",
      "178  2023-07-26        243  10:39:43.200000         13:20:24         42.74          NaN\n",
      "179  2023-07-27       1434  10:49:22.800000  14:31:44.400000         41.15        24.93\n",
      "180  2023-07-28       4760         07:27:18  19:28:15.600000         78.97        76.79\n",
      "181  2023-07-29       3088  07:21:46.800000  14:01:51.600000         80.12        22.91\n",
      "182  2023-08-01        282  14:55:37.200000  15:30:21.600000         28.85        33.89\n",
      "183  2023-08-03         57  14:03:25.200000         14:24:00         24.23        25.77\n",
      "184  2023-08-04       5470  07:42:10.800000  19:18:21.600000         77.25        76.15\n",
      "185  2023-08-05       5426         07:54:36  19:24:25.200000         75.10        77.46\n",
      "186  2023-08-06       4110  09:57:46.800000  19:08:34.800000         52.07        74.71\n",
      "187  2023-08-07       2733  08:57:10.800000  14:47:38.400000         63.60        29.29\n",
      "188  2023-08-08       3257  10:32:16.800000  17:26:38.400000         46.08        55.86\n",
      "189  2023-08-09       3313  08:36:28.800000         15:48:18         67.82        38.52\n",
      "190  2023-08-10       4759  09:11:45.600000  19:23:13.200000         61.30        78.26\n",
      "191  2023-08-11       2360  08:07:37.200000  13:47:56.400000         73.58        25.82\n",
      "192  2023-08-13       4537  08:43:44.400000  19:14:16.800000         67.06        77.26\n",
      "193  2023-08-14       4156  08:50:27.600000  18:54:43.200000         65.95        73.80\n",
      "194  2023-08-16       3485  09:39:39.600000  17:20:38.400000         57.03        56.53\n",
      "195  2023-08-17       2661  09:17:20.400000  14:58:15.600000         61.37        33.39\n",
      "196  2023-08-18        328  11:14:52.800000         12:48:18         40.70          NaN\n",
      "197  2023-08-23       1432         08:42:36  11:59:13.200000         68.90          NaN\n",
      "198  2023-08-25       3005         09:33:54  15:55:40.800000         59.64        44.10\n",
      "199  2023-08-26        211  14:03:57.600000  14:50:49.200000         31.44        35.42\n",
      "200  2023-08-28       2491  11:40:44.400000         16:58:30         39.23        55.73\n",
      "201  2023-08-29       4602  08:32:27.600000         18:16:48         71.83        70.53\n",
      "202  2023-08-30       3788         08:54:00  16:58:08.400000         67.94        56.27\n",
      "203  2023-08-31       4279  09:28:44.400000  18:46:04.800000         61.66        76.66\n",
      "204  2023-09-02        502         13:58:12  15:08:56.400000         33.71        40.03\n",
      "205  2023-09-05       1080         12:18:54  14:36:57.600000         37.22        37.60\n",
      "206  2023-09-06       3640  09:45:46.800000  17:56:16.800000         59.72        69.07\n",
      "207  2023-09-07       3986  09:10:40.800000         17:41:06         66.29        66.56\n",
      "208  2023-09-08       3518         11:09:18  18:41:13.200000         46.44        78.14\n",
      "209  2023-09-11       2639         10:20:06  15:57:39.600000         54.85        50.09\n",
      "210  2023-09-14       3337  10:31:51.600000         17:30:00         53.64        66.79\n",
      "211  2023-09-15       3992  09:02:49.200000  17:33:50.400000         69.27        67.82\n",
      "212  2023-09-19        935  10:36:50.400000  12:53:49.200000         54.09          NaN\n",
      "213  2023-09-23       3342         10:43:12  17:51:43.200000         54.16        73.72\n",
      "214  2023-09-25       4305  08:54:21.600000  18:07:55.200000         72.82        77.36\n",
      "215  2023-09-26       3967  09:43:37.200000  18:11:13.200000         64.38        78.29\n",
      "216  2023-09-27       4025         09:29:06  18:01:33.600000         67.09        76.83\n",
      "217  2023-09-28       1825         09:00:36         12:54:36         72.32        43.24\n",
      "218  2023-09-29       3455  10:41:09.600000  18:06:03.600000         56.05        78.31\n",
      "219  2023-10-05       3057  09:47:02.400000  16:19:33.600000         65.92        62.04\n",
      "220  2023-10-06       4224  08:52:01.200000  17:54:57.600000         75.56        78.54\n",
      "221  2023-10-09       2696         09:24:36  15:11:31.200000         70.59        54.28\n",
      "222  2023-10-13        609  12:29:34.800000  13:50:52.800000         49.69        49.42\n",
      "223  2023-10-17       1202  10:48:10.800000  13:26:56.400000         60.15        50.25\n",
      "224  2023-10-18       3146  10:12:25.200000  16:55:37.200000         65.31        72.03\n",
      "225  2023-10-19       3574  09:53:56.400000  17:34:44.400000         68.33        78.89\n",
      "226  2023-10-20       3584  09:50:02.400000  17:33:14.400000         69.17        78.92\n",
      "227  2023-10-22       1792  10:31:04.800000         16:34:30         63.79        69.88\n",
      "228  2023-10-23       2123  09:38:38.400000         14:14:24         71.69        54.27\n",
      "229  2023-10-24        918         11:09:36  13:23:31.200000         59.68        52.70\n",
      "230  2023-10-27       3393  09:57:32.400000         17:16:12         69.83        77.95\n",
      "231  2023-10-29       2160  12:39:28.800000         17:21:18         54.81        79.30\n",
      "232  2023-10-31       2804  10:35:38.400000  16:40:55.200000         65.67        73.37\n",
      "233  2023-11-09       3463  08:29:09.600000  16:01:26.400000         77.26        78.60\n",
      "234  2023-11-10       1108  11:24:50.400000  14:22:04.800000         58.98        65.48\n",
      "235  2023-11-12       2422  10:44:49.200000         15:57:54         61.89        78.62\n",
      "236  2023-11-14       3399  08:40:33.600000         16:03:00         76.69        79.77\n",
      "237  2023-11-15       1628  10:37:19.200000  14:49:19.200000         63.26        69.69\n",
      "238  2023-11-17       2433         10:21:54  15:58:26.400000         65.07        79.56\n",
      "239  2023-11-21       3276  08:43:26.400000  15:50:09.600000         77.81        78.90\n",
      "240  2023-11-22       2871  09:35:49.200000  15:48:46.800000         71.10        78.82\n",
      "241  2023-11-27       3006  09:15:25.200000  15:42:14.400000         74.65        78.44\n",
      "242  2023-11-28       3134  08:57:10.800000         15:41:06         77.28        78.37\n",
      "243  2023-11-29        860         10:10:12         15:39:00         68.77        78.16\n"
     ]
    }
   ],
   "source": [
    "summary_dicts = [] #place to store the summary values to create the dataframe\n",
    "for df in daily_dfs: #loop through all of the daily dataframes\n",
    "    date = df.index[0].date() #the dates should all be the same (it's a daily dataframe after all) so just choose the first one\n",
    "    good_rows = len(df) #how many good rows there are\n",
    "    min_time = df.index.min().time() #the time of first good row\n",
    "    max_time = df.index.max().time() #the time of the last good row\n",
    "    try: #try to get the first sza during rise\n",
    "        rise_sza_max = df.loc[df['rise_set']=='rise']['solzen(deg)'].max()\n",
    "    except: #if not (no rise, started after peak) just make it nan\n",
    "        rise_sza_max = np.nan\n",
    "    try: #try to get the last sza during set\n",
    "        set_sza_max = df.loc[df['rise_set']=='set']['solzen(deg)'].max()\n",
    "    except: #if not (no set, ended before peak) just make it nan\n",
    "        set_sza_max = np.nan\n",
    "    summary_dicts.append(dict(date = date,\n",
    "                              good_rows = good_rows,\n",
    "                              min_time = min_time,\n",
    "                              max_time = max_time,\n",
    "                              rise_sza_max = rise_sza_max,\n",
    "                              set_sza_max = set_sza_max)) #append all the summary variables\n",
    "summary_df = pd.DataFrame(summary_dicts) #make the list of dicts into a dataframe\n",
    "print(summary_df.to_string())"
   ]
  },
  {
   "cell_type": "markdown",
   "metadata": {},
   "source": [
    "# Wunch 2009 Method: Daily Anomolies using SZA Bins"
   ]
  },
  {
   "cell_type": "code",
   "execution_count": 177,
   "metadata": {},
   "outputs": [],
   "source": [
    "def create_binned_summary(df,sza_bin_size,spec_names):\n",
    "    '''Creates a summary dataframe for binning values on sza for rising and setting sun. Used for getting \"daily anomolies\" per Wunch 2009\n",
    "    \n",
    "    Args:\n",
    "    df (pd.DataFrame): pandas dataframe containing EM27 data\n",
    "    sza_bin_size (int, float): size (in degrees) to make the solar zenith angle bins\n",
    "    spec_names (list): list of strings corresponding to the species wanted. takes the mean of each species for the corresponding \"rise\" or \"set for the sza bin\n",
    "    \n",
    "    Returns:\n",
    "    binned_summary_df (pd.DataFrame): dataframe containing information about the sza binned data'''\n",
    "    bins = np.arange(0,90,sza_bin_size) #create the bins\n",
    "    df['sza_bin'] = pd.cut(df['solzen(deg)'],bins) #create a column in the dataframe indicating the bin that row belongs to\n",
    "    grouped = df.groupby(['sza_bin','rise_set']) #group by the bin as well as rise_set so that they are two separate entities\n",
    "    binned_summary = [] #initialize a list to store summary data\n",
    "    for name, group in grouped:\n",
    "        bin_dict = {} #initialize the binned group's data dict\n",
    "        bin_dict['tstart'] = group.index[0] #start time of the bin\n",
    "        bin_dict['tend'] = group.index[-1] #end time of the bin\n",
    "        bin_dict['tmid'] = bin_dict['tstart']+(bin_dict['tend']-bin_dict['tstart'])/2 #middle time of the bin (can be used for plotting)\n",
    "        bin_dict['sza_bin'] = name[0] #the sza bin itself\n",
    "        bin_dict['nobs'] = len(group) #how many observations in that bin\n",
    "        spec_bin_means = group.mean(numeric_only=True)[spec_names] #get the means of the species we want\n",
    "        bin_dict.update({col:spec_bin_means[col] for col in spec_names}) #add the means to the bin_dict\n",
    "        bin_dict['rise_set'] = name[1] #whether it is 'rise' or 'set'\n",
    "        binned_summary.append(bin_dict) #append that group's info to the summary list\n",
    "    binned_summary_df = pd.DataFrame(binned_summary)  #make the dataframe from the list of dicts\n",
    "    return binned_summary_df\n",
    "\n",
    "def daily_anomaly_creator(binned_summary_df,spec_names):\n",
    "    '''Create the daily anomoly\n",
    "    \n",
    "    Args:\n",
    "    binned_summary_df (pd.DataFrame): created using create_binned_summary, contains daily summary information\n",
    "    spec_names (list): list of the species names to use\n",
    "    \n",
    "    Returns:\n",
    "    anom_df (pd.DataFrame): dataframe of the daily anomolies\n",
    "    skipped_df (pd.DataFrame): dataframe containing information about bins that were skipped and why\n",
    "    '''\n",
    "\n",
    "    bin_grouped = binned_summary_df.groupby('sza_bin') #group by sza bin\n",
    "    #initialize the data lists\n",
    "    anom_list = []\n",
    "    skipped_list = []\n",
    "    for name,group in bin_grouped:\n",
    "        if len(group)>2: #make sure there's not more than two rows -- should just be one rise and one set for that sza bin\n",
    "            raise Exception('grouped df greater than 2 -- investigate') \n",
    "        if not all(item in group['rise_set'].values for item in ['rise', 'set']): #check that exactly one rise and one set rows exist in the df\n",
    "            skipped_list.append(dict(skipmode = 'no_match_sza', #document if so\n",
    "                                        sza_bin = name,\n",
    "                                        rise_set = group['rise_set'].unique()))\n",
    "            continue #if there aren't a rise and set, we can't do the anomoly, so just go to the next grouping\n",
    "        if (group['nobs'].max()>(2*group['nobs'].min())): #check that there aren't more that 2x the number of observations for \"rise\" compared to set (or vice versa)\n",
    "            skipped_list.append(dict(skipmode = 'nobs',\n",
    "                                        sza_bin = name)) #ifso, document and continue\n",
    "            continue\n",
    "        rise_row = group.loc[group['rise_set']=='rise'].squeeze() #get the rise data (squeeze gets the value)\n",
    "        set_row = group.loc[group['rise_set']=='set'].squeeze() #same with set\n",
    "        anom_dict = {f'{col}_anom':(set_row[col] - rise_row[col]) for col in spec_names} #subtract rise from set for that sza, for each species in the list\n",
    "        anom_dict.update({'sza_bin':name}) #update the dict with the sza bin\n",
    "        anom_list.append(anom_dict) #append it to the list\n",
    "        \n",
    "    anom_df = pd.DataFrame(anom_list) #create the dataframe for the anomolies\n",
    "    skipped_df = pd.DataFrame(skipped_list) #create the dataframe for why some sza's may have been skipped\n",
    "    return anom_df, skipped_df\n",
    "\n",
    "def get_regression(df,x_spec,y_spec):\n",
    "    regression = regress2(df[x_spec],df[y_spec])\n",
    "    x_regr_line = np.linspace(df[x_spec].min(),df[x_spec].max(),10)\n",
    "    y_regr_line = x_regr_line * regression['slope'] + regression['intercept'] \n",
    "    reg_details = dict(lm = regression,\n",
    "               x_regr_line = x_regr_line,\n",
    "               y_regr_line = y_regr_line,\n",
    "               slope = regression['slope'],\n",
    "               yint = regression['intercept'],\n",
    "               r2 = regression['r']**2)\n",
    "    return reg_details\n",
    "\n",
    "def plot_reg_on_ax(ax,reg_details,labsize = 10):\n",
    "    annotation = f\"R2={round(reg_details['r2'],2)}\\nslope={round(reg_details['slope'],3)}\\ny_interc={round(reg_details['yint'],3)}\"\n",
    "    ax.plot(reg_details['x_regr_line'],reg_details['y_regr_line'],label = annotation,c = 'grey')\n",
    "    ax.legend(fontsize = labsize)\n",
    "    return ax"
   ]
  },
  {
   "cell_type": "markdown",
   "metadata": {},
   "source": [
    "### Illustration: Single Day"
   ]
  },
  {
   "cell_type": "code",
   "execution_count": 202,
   "metadata": {},
   "outputs": [],
   "source": [
    "sza_bin_size = 1\n",
    "spec_names = ['xco2(ppm)','xch4(ppm)','xco(ppm)']\n",
    "df = daily_dict['2022-10-19'].copy() \n",
    "binned_summary_df = create_binned_summary(df,sza_bin_size,spec_names)\n",
    "anom_df, skipped_df = daily_anomaly_creator(binned_summary_df,spec_names)"
   ]
  },
  {
   "cell_type": "code",
   "execution_count": 203,
   "metadata": {},
   "outputs": [
    {
     "data": {
      "image/png": "[encoded data removed]",
      "text/plain": [
       "<Figure size 2000x900 with 4 Axes>"
      ]
     },
     "metadata": {},
     "output_type": "display_data"
    }
   ],
   "source": [
    "rise_grp = binned_summary_df.loc[binned_summary_df['rise_set'] == 'rise']\n",
    "set_grp = binned_summary_df.loc[binned_summary_df['rise_set'] == 'set']\n",
    "\n",
    "fig,axs = plt.subplots(4,1,figsize=(20,9))\n",
    "labsize = 18\n",
    "fig.suptitle('EM27 Daily Anomaly Illustration',fontsize = 24)\n",
    "\n",
    "for row in range(0,3):\n",
    "    spec = spec_names[row]\n",
    "    axs[row].scatter(\n",
    "        df.index,\n",
    "        df[spec],\n",
    "        s = 3,\n",
    "        c = 'k',\n",
    "        label = 'Collected Data'\n",
    "    )\n",
    "    axs[row].scatter(\n",
    "        rise_grp['tmid'],\n",
    "        rise_grp[spec],\n",
    "        s = 50,\n",
    "        c = 'orange',\n",
    "        label = f'Sun rising, {sza_bin_size}deg bins'\n",
    "    )\n",
    "    axs[row].scatter(\n",
    "        set_grp['tmid'],\n",
    "        set_grp[spec],\n",
    "        s = 50,\n",
    "        c = 'red',\n",
    "        label = f'Sun setting, {sza_bin_size}deg bins'\n",
    "    )\n",
    "    axs[row].tick_params(labelsize = labsize)\n",
    "    axs[row].set_ylabel(spec,size = labsize)\n",
    "    axs[row].spines['top'].set_visible(False)\n",
    "    axs[row].spines['right'].set_visible(False)\n",
    "\n",
    "row = 3\n",
    "rise = df.loc[df['rise_set'] == 'rise']\n",
    "set = df.loc[df['rise_set'] == 'set']\n",
    "axs[row].scatter(\n",
    "    rise.index,\n",
    "    rise['solzen(deg)'],\n",
    "    c = 'orange',\n",
    "    s = 50\n",
    ")\n",
    "axs[row].scatter(\n",
    "    set.index,\n",
    "    set['solzen(deg)'],\n",
    "    c = 'red',\n",
    "    s = 50\n",
    ")\n",
    "axs[row].tick_params(labelsize = labsize)\n",
    "axs[row].set_ylabel('SZA ($^\\circ$)',size = labsize)\n",
    "axs[row].spines['top'].set_visible(False)\n",
    "axs[row].spines['right'].set_visible(False)\n",
    "axs[row].xaxis.set_major_formatter(mdates.DateFormatter('%H:%M', tz = df.index.tz))\n",
    "axs[row].set_xlabel(datetime.datetime.strftime(df.index[0],'%Y-%m-%d %Z'),size = labsize)\n",
    "plt.subplots_adjust(hspace=0.1)\n",
    "plt.gcf().autofmt_xdate()\n",
    "plt.show()\n",
    "\n"
   ]
  },
  {
   "cell_type": "code",
   "execution_count": 204,
   "metadata": {},
   "outputs": [
    {
     "data": {
      "image/png": "[encoded data removed]",
      "text/plain": [
       "<Figure size 800x800 with 4 Axes>"
      ]
     },
     "metadata": {},
     "output_type": "display_data"
    }
   ],
   "source": [
    "fig,axs = plt.subplots(2,2,figsize = (8,8))\n",
    "labsize = 10\n",
    "fig.suptitle('Single Day Anomaly Compairsons',fontsize = 16)\n",
    "\n",
    "ax = axs[0,0]\n",
    "x_spec = 'xco2(ppm)_anom'\n",
    "y_spec = 'xco(ppm)_anom'\n",
    "ax.scatter(anom_df[x_spec],anom_df[y_spec],c='k')\n",
    "reg_details = get_regression(anom_df,x_spec,y_spec)\n",
    "plot_reg_on_ax(ax,reg_details,labsize)\n",
    "ax.set_xlabel(x_spec,size = labsize)\n",
    "ax.set_ylabel(y_spec,size = labsize)\n",
    "ax.tick_params(labelsize = labsize)\n",
    "\n",
    "ax = axs[0,1]\n",
    "x_spec = 'xco2(ppm)_anom'\n",
    "y_spec = 'xch4(ppm)_anom'\n",
    "ax.scatter(anom_df[x_spec],anom_df[y_spec],c='k')\n",
    "reg_details = get_regression(anom_df,x_spec,y_spec)\n",
    "plot_reg_on_ax(ax,reg_details,labsize)\n",
    "ax.set_xlabel(x_spec,size = labsize)\n",
    "ax.set_ylabel(y_spec,size = labsize)\n",
    "ax.tick_params(labelsize = labsize)\n",
    "\n",
    "ax = axs[1,1]\n",
    "x_spec = 'xco(ppm)_anom'\n",
    "y_spec = 'xch4(ppm)_anom'\n",
    "ax.scatter(anom_df[x_spec],anom_df[y_spec],c='k')\n",
    "reg_details = get_regression(anom_df,x_spec,y_spec)\n",
    "plot_reg_on_ax(ax,reg_details,labsize)\n",
    "ax.set_xlabel(x_spec,size = labsize)\n",
    "ax.set_ylabel(y_spec,size = labsize)\n",
    "ax.tick_params(labelsize = labsize)\n",
    "\n",
    "axs[1,0].axis('off')\n",
    "text = f\"DETAILS:\\n\\\n",
    "Date: {datetime.datetime.strftime(df.index[0],'%Y-%m-%d')}\\n\\\n",
    "SZA Bin: {sza_bin_size}$^\\circ$\\n\\\n",
    "Good Anomalies: {len(anom_df)}\\n\\\n",
    "No matching SZA: {len(skipped_df.loc[skipped_df['skipmode']=='no_match_sza'])}\\n\\\n",
    "Not enough obs: {len(skipped_df.loc[skipped_df['skipmode']=='nobs'])}\"\n",
    "axs[1,0].text(0.02,0.995,text,ha='left',va='top',fontsize = labsize*1.2)\n",
    "\n",
    "\n",
    "plt.subplots_adjust(hspace=0.4,wspace = 0.4)\n",
    "plt.show()\n"
   ]
  },
  {
   "cell_type": "markdown",
   "metadata": {},
   "source": [
    "## All days"
   ]
  },
  {
   "cell_type": "code",
   "execution_count": 205,
   "metadata": {},
   "outputs": [],
   "source": [
    "sza_bin_size = 1\n",
    "spec_names = ['xco2(ppm)','xch4(ppm)','xco(ppm)']\n",
    "\n",
    "anom_df = pd.DataFrame()\n",
    "skipped_df = pd.DataFrame()\n",
    "for date_str, df in daily_dict.items():\n",
    "    binned_summary_df = create_binned_summary(df,sza_bin_size,spec_names)\n",
    "    day_anom_df, day_skipped_df = daily_anomaly_creator(binned_summary_df,spec_names)\n",
    "    date = datetime.datetime.strptime(date_str,'%Y-%m-%d').date()\n",
    "    day_anom_df['date'] = date\n",
    "    day_skipped_df['date'] = date\n",
    "    anom_df = pd.concat([anom_df,day_anom_df])\n",
    "    skipped_df = pd.concat([skipped_df,day_skipped_df])\n",
    "\n",
    "anom_df = anom_df.reset_index(drop=True)\n",
    "skipped_df = skipped_df.reset_index(drop = True)"
   ]
  },
  {
   "cell_type": "code",
   "execution_count": 209,
   "metadata": {},
   "outputs": [],
   "source": [
    "anom_df = anom_df.loc[anom_df['xch4(ppm)_anom']>-0.04]"
   ]
  },
  {
   "cell_type": "code",
   "execution_count": 215,
   "metadata": {},
   "outputs": [
    {
     "data": {
      "image/png": "[encoded data removed]",
      "text/plain": [
       "<Figure size 800x800 with 4 Axes>"
      ]
     },
     "metadata": {},
     "output_type": "display_data"
    }
   ],
   "source": [
    "fig,axs = plt.subplots(2,2,figsize = (8,8))\n",
    "labsize = 10\n",
    "markersize = 5\n",
    "fig.suptitle('All Anomaly Compairsons',fontsize = 16)\n",
    "\n",
    "ax = axs[0,0]\n",
    "x_spec = 'xco2(ppm)_anom'\n",
    "y_spec = 'xco(ppm)_anom'\n",
    "ax.scatter(anom_df[x_spec],anom_df[y_spec],c='k',s = markersize)\n",
    "reg_details = get_regression(anom_df,x_spec,y_spec)\n",
    "plot_reg_on_ax(ax,reg_details,labsize)\n",
    "ax.set_xlabel(x_spec,size = labsize)\n",
    "ax.set_ylabel(y_spec,size = labsize)\n",
    "ax.tick_params(labelsize = labsize)\n",
    "\n",
    "ax = axs[0,1]\n",
    "x_spec = 'xco2(ppm)_anom'\n",
    "y_spec = 'xch4(ppm)_anom'\n",
    "ax.scatter(anom_df[x_spec],anom_df[y_spec],c='k',s = markersize)\n",
    "reg_details = get_regression(anom_df,x_spec,y_spec)\n",
    "plot_reg_on_ax(ax,reg_details,labsize)\n",
    "ax.set_xlabel(x_spec,size = labsize)\n",
    "ax.set_ylabel(y_spec,size = labsize)\n",
    "ax.tick_params(labelsize = labsize)\n",
    "\n",
    "ax = axs[1,1]\n",
    "x_spec = 'xco(ppm)_anom'\n",
    "y_spec = 'xch4(ppm)_anom'\n",
    "ax.scatter(anom_df[x_spec],anom_df[y_spec],c='k')\n",
    "reg_details = get_regression(anom_df,x_spec,y_spec)\n",
    "plot_reg_on_ax(ax,reg_details,labsize)\n",
    "ax.set_xlabel(x_spec,size = labsize)\n",
    "ax.set_ylabel(y_spec,size = labsize)\n",
    "ax.tick_params(labelsize = labsize)\n",
    "\n",
    "\n",
    "axs[1,0].axis('off')\n",
    "text = f\"DETAILS:\\n\\\n",
    "SZA Bin: {sza_bin_size}$^\\circ$\\n\\\n",
    "Good Anomalies: {len(anom_df)}\\n\\\n",
    "No matching SZA: {len(skipped_df.loc[skipped_df['skipmode']=='no_match_sza'])}\\n\\\n",
    "Not enough obs: {len(skipped_df.loc[skipped_df['skipmode']=='nobs'])}\"\n",
    "axs[1,0].text(0.02,0.995,text,ha='left',va='top',fontsize = labsize*1.2)\n",
    "\n",
    "\n",
    "plt.subplots_adjust(hspace=0.4,wspace = 0.4)\n",
    "plt.show()\n"
   ]
  },
  {
   "cell_type": "markdown",
   "metadata": {},
   "source": [
    "## Day By Day"
   ]
  },
  {
   "cell_type": "code",
   "execution_count": 221,
   "metadata": {},
   "outputs": [
    {
     "data": {
      "text/html": [
       "<div>\n",
       "<style scoped>\n",
       "    .dataframe tbody tr th:only-of-type {\n",
       "        vertical-align: middle;\n",
       "    }\n",
       "\n",
       "    .dataframe tbody tr th {\n",
       "        vertical-align: top;\n",
       "    }\n",
       "\n",
       "    .dataframe thead th {\n",
       "        text-align: right;\n",
       "    }\n",
       "</style>\n",
       "<table border=\"1\" class=\"dataframe\">\n",
       "  <thead>\n",
       "    <tr style=\"text-align: right;\">\n",
       "      <th></th>\n",
       "      <th>date</th>\n",
       "      <th>good_anoms</th>\n",
       "      <th>xco_xco2_slope</th>\n",
       "      <th>xco_xco2_yint</th>\n",
       "      <th>xco_xco2_r2</th>\n",
       "      <th>xch4_xco2_slope</th>\n",
       "      <th>xch4_xco2_yint</th>\n",
       "      <th>xch4_xco2_r2</th>\n",
       "      <th>xch4_xco_slope</th>\n",
       "      <th>xch4_xco_yint</th>\n",
       "      <th>xch4_xco_r2</th>\n",
       "    </tr>\n",
       "  </thead>\n",
       "  <tbody>\n",
       "    <tr>\n",
       "      <th>0</th>\n",
       "      <td>2022-05-24</td>\n",
       "      <td>9</td>\n",
       "      <td>160.867866</td>\n",
       "      <td>0.322754</td>\n",
       "      <td>0.861344</td>\n",
       "      <td>274.149249</td>\n",
       "      <td>0.297349</td>\n",
       "      <td>0.930015</td>\n",
       "      <td>1.704189</td>\n",
       "      <td>-0.000158</td>\n",
       "      <td>0.820663</td>\n",
       "    </tr>\n",
       "    <tr>\n",
       "      <th>1</th>\n",
       "      <td>2022-05-25</td>\n",
       "      <td>39</td>\n",
       "      <td>-118.401603</td>\n",
       "      <td>-0.490966</td>\n",
       "      <td>0.016957</td>\n",
       "      <td>138.519710</td>\n",
       "      <td>0.718976</td>\n",
       "      <td>0.011604</td>\n",
       "      <td>1.169914</td>\n",
       "      <td>-0.000341</td>\n",
       "      <td>0.692491</td>\n",
       "    </tr>\n",
       "    <tr>\n",
       "      <th>2</th>\n",
       "      <td>2022-06-02</td>\n",
       "      <td>8</td>\n",
       "      <td>191.363288</td>\n",
       "      <td>-0.009524</td>\n",
       "      <td>0.817125</td>\n",
       "      <td>333.024392</td>\n",
       "      <td>-0.669173</td>\n",
       "      <td>0.334662</td>\n",
       "      <td>1.740273</td>\n",
       "      <td>-0.003447</td>\n",
       "      <td>0.061296</td>\n",
       "    </tr>\n",
       "    <tr>\n",
       "      <th>3</th>\n",
       "      <td>2022-06-14</td>\n",
       "      <td>33</td>\n",
       "      <td>207.295633</td>\n",
       "      <td>-0.755128</td>\n",
       "      <td>0.548803</td>\n",
       "      <td>217.470449</td>\n",
       "      <td>-1.168127</td>\n",
       "      <td>0.025939</td>\n",
       "      <td>1.049084</td>\n",
       "      <td>-0.001992</td>\n",
       "      <td>0.003731</td>\n",
       "    </tr>\n",
       "    <tr>\n",
       "      <th>4</th>\n",
       "      <td>2022-06-15</td>\n",
       "      <td>50</td>\n",
       "      <td>168.231413</td>\n",
       "      <td>-0.107227</td>\n",
       "      <td>0.211661</td>\n",
       "      <td>262.472577</td>\n",
       "      <td>0.044749</td>\n",
       "      <td>0.238846</td>\n",
       "      <td>1.560188</td>\n",
       "      <td>0.000903</td>\n",
       "      <td>0.072438</td>\n",
       "    </tr>\n",
       "    <tr>\n",
       "      <th>...</th>\n",
       "      <td>...</td>\n",
       "      <td>...</td>\n",
       "      <td>...</td>\n",
       "      <td>...</td>\n",
       "      <td>...</td>\n",
       "      <td>...</td>\n",
       "      <td>...</td>\n",
       "      <td>...</td>\n",
       "      <td>...</td>\n",
       "      <td>...</td>\n",
       "      <td>...</td>\n",
       "    </tr>\n",
       "    <tr>\n",
       "      <th>141</th>\n",
       "      <td>2023-11-17</td>\n",
       "      <td>5</td>\n",
       "      <td>279.101159</td>\n",
       "      <td>0.069241</td>\n",
       "      <td>0.967127</td>\n",
       "      <td>444.655944</td>\n",
       "      <td>-0.069616</td>\n",
       "      <td>0.878654</td>\n",
       "      <td>1.593171</td>\n",
       "      <td>-0.000498</td>\n",
       "      <td>0.774660</td>\n",
       "    </tr>\n",
       "    <tr>\n",
       "      <th>142</th>\n",
       "      <td>2023-11-21</td>\n",
       "      <td>18</td>\n",
       "      <td>284.000903</td>\n",
       "      <td>-0.132339</td>\n",
       "      <td>0.917597</td>\n",
       "      <td>307.158264</td>\n",
       "      <td>-0.113016</td>\n",
       "      <td>0.924511</td>\n",
       "      <td>1.081540</td>\n",
       "      <td>0.000068</td>\n",
       "      <td>0.866131</td>\n",
       "    </tr>\n",
       "    <tr>\n",
       "      <th>143</th>\n",
       "      <td>2023-11-22</td>\n",
       "      <td>11</td>\n",
       "      <td>268.167680</td>\n",
       "      <td>-0.203298</td>\n",
       "      <td>0.573797</td>\n",
       "      <td>107.108382</td>\n",
       "      <td>-0.556593</td>\n",
       "      <td>0.022706</td>\n",
       "      <td>0.399408</td>\n",
       "      <td>-0.001317</td>\n",
       "      <td>0.243305</td>\n",
       "    </tr>\n",
       "    <tr>\n",
       "      <th>144</th>\n",
       "      <td>2023-11-27</td>\n",
       "      <td>14</td>\n",
       "      <td>428.669340</td>\n",
       "      <td>-0.817716</td>\n",
       "      <td>0.616193</td>\n",
       "      <td>299.845707</td>\n",
       "      <td>-0.585510</td>\n",
       "      <td>0.146757</td>\n",
       "      <td>0.699480</td>\n",
       "      <td>0.000542</td>\n",
       "      <td>0.289874</td>\n",
       "    </tr>\n",
       "    <tr>\n",
       "      <th>145</th>\n",
       "      <td>2023-11-28</td>\n",
       "      <td>15</td>\n",
       "      <td>223.986128</td>\n",
       "      <td>-0.541467</td>\n",
       "      <td>0.797762</td>\n",
       "      <td>162.475986</td>\n",
       "      <td>-0.993456</td>\n",
       "      <td>0.671437</td>\n",
       "      <td>0.725384</td>\n",
       "      <td>-0.002018</td>\n",
       "      <td>0.813539</td>\n",
       "    </tr>\n",
       "  </tbody>\n",
       "</table>\n",
       "<p>146 rows × 11 columns</p>\n",
       "</div>"
      ],
      "text/plain": [
       "           date  good_anoms  xco_xco2_slope  xco_xco2_yint  xco_xco2_r2  \\\n",
       "0    2022-05-24           9      160.867866       0.322754     0.861344   \n",
       "1    2022-05-25          39     -118.401603      -0.490966     0.016957   \n",
       "2    2022-06-02           8      191.363288      -0.009524     0.817125   \n",
       "3    2022-06-14          33      207.295633      -0.755128     0.548803   \n",
       "4    2022-06-15          50      168.231413      -0.107227     0.211661   \n",
       "..          ...         ...             ...            ...          ...   \n",
       "141  2023-11-17           5      279.101159       0.069241     0.967127   \n",
       "142  2023-11-21          18      284.000903      -0.132339     0.917597   \n",
       "143  2023-11-22          11      268.167680      -0.203298     0.573797   \n",
       "144  2023-11-27          14      428.669340      -0.817716     0.616193   \n",
       "145  2023-11-28          15      223.986128      -0.541467     0.797762   \n",
       "\n",
       "     xch4_xco2_slope  xch4_xco2_yint  xch4_xco2_r2  xch4_xco_slope  \\\n",
       "0         274.149249        0.297349      0.930015        1.704189   \n",
       "1         138.519710        0.718976      0.011604        1.169914   \n",
       "2         333.024392       -0.669173      0.334662        1.740273   \n",
       "3         217.470449       -1.168127      0.025939        1.049084   \n",
       "4         262.472577        0.044749      0.238846        1.560188   \n",
       "..               ...             ...           ...             ...   \n",
       "141       444.655944       -0.069616      0.878654        1.593171   \n",
       "142       307.158264       -0.113016      0.924511        1.081540   \n",
       "143       107.108382       -0.556593      0.022706        0.399408   \n",
       "144       299.845707       -0.585510      0.146757        0.699480   \n",
       "145       162.475986       -0.993456      0.671437        0.725384   \n",
       "\n",
       "     xch4_xco_yint  xch4_xco_r2  \n",
       "0        -0.000158     0.820663  \n",
       "1        -0.000341     0.692491  \n",
       "2        -0.003447     0.061296  \n",
       "3        -0.001992     0.003731  \n",
       "4         0.000903     0.072438  \n",
       "..             ...          ...  \n",
       "141      -0.000498     0.774660  \n",
       "142       0.000068     0.866131  \n",
       "143      -0.001317     0.243305  \n",
       "144       0.000542     0.289874  \n",
       "145      -0.002018     0.813539  \n",
       "\n",
       "[146 rows x 11 columns]"
      ]
     },
     "execution_count": 221,
     "metadata": {},
     "output_type": "execute_result"
    }
   ],
   "source": [
    "daily_anom_summary_list = []\n",
    "for date, day_anom_df in anom_df.groupby('date'):\n",
    "    if len(day_anom_df)<5:\n",
    "        continue\n",
    "    daily_anom_summary_dict = dict(date = date,\n",
    "                                   good_anoms = len(day_anom_df))\n",
    "    \n",
    "    reg_details = get_regression(day_anom_df,'xco(ppm)_anom','xco2(ppm)_anom')\n",
    "    daily_anom_summary_dict.update(dict(xco_xco2_slope = reg_details['slope'],\n",
    "                                        xco_xco2_yint = reg_details['yint'],\n",
    "                                        xco_xco2_r2 = reg_details['r2']))\n",
    "    \n",
    "    reg_details = get_regression(day_anom_df,'xch4(ppm)_anom','xco2(ppm)_anom')\n",
    "    daily_anom_summary_dict.update(dict(xch4_xco2_slope = reg_details['slope'],\n",
    "                                        xch4_xco2_yint = reg_details['yint'],\n",
    "                                        xch4_xco2_r2 = reg_details['r2']))\n",
    "    \n",
    "    reg_details = get_regression(day_anom_df,'xch4(ppm)_anom','xco(ppm)_anom')\n",
    "    daily_anom_summary_dict.update(dict(xch4_xco_slope = reg_details['slope'],\n",
    "                                        xch4_xco_yint = reg_details['yint'],\n",
    "                                        xch4_xco_r2 = reg_details['r2']))\n",
    "    \n",
    "    daily_anom_summary_list.append(daily_anom_summary_dict)\n",
    "    \n",
    "daily_anom_summary_df = pd.DataFrame(daily_anom_summary_list)\n",
    "daily_anom_summary_df"
   ]
  },
  {
   "cell_type": "code",
   "execution_count": 239,
   "metadata": {},
   "outputs": [
    {
     "data": {
      "application/vnd.plotly.v1+json": {
       "config": {
        "plotlyServerURL": "https://plot.ly"
       },
       "data": [
        {
         "customdata": [
          [
           9,
           0.8613435386350079
          ],
          [
           39,
           0.016956544225859245
          ],
          [
           8,
           0.8171245354876306
          ],
          [
           33,
           0.5488032651832966
          ],
          [
           50,
           0.2116614985595954
          ],
          [
           58,
           0.0400759297310165
          ],
          [
           23,
           0.014942532003746692
          ],
          [
           10,
           0.2366817777619431
          ],
          [
           53,
           0.006387595717575494
          ],
          [
           7,
           0.04642023188176254
          ],
          [
           35,
           0.014075751219997497
          ],
          [
           53,
           0.044232026526870964
          ],
          [
           33,
           0.28443676447708005
          ],
          [
           47,
           0.21667627722283261
          ],
          [
           57,
           0.1024215167102175
          ],
          [
           42,
           0.1834747968593991
          ],
          [
           50,
           0.0319269915578362
          ],
          [
           37,
           0.822235246323783
          ],
          [
           15,
           0.02634002841969733
          ],
          [
           28,
           0.015875636828525715
          ],
          [
           25,
           0.07366268919510106
          ],
          [
           10,
           0.6278851073396561
          ],
          [
           17,
           0.667730521844656
          ],
          [
           22,
           0.5354938042864313
          ],
          [
           8,
           0.6484247344526688
          ],
          [
           7,
           0.6904060144846901
          ],
          [
           6,
           0.4691656302938992
          ],
          [
           7,
           0.08128865361173256
          ],
          [
           39,
           0.5567331910593408
          ],
          [
           10,
           0.002825355695612018
          ],
          [
           9,
           0.5630765800228378
          ],
          [
           31,
           0.31694508304420893
          ],
          [
           24,
           0.29416493252441234
          ],
          [
           32,
           0.9087132610581555
          ],
          [
           28,
           0.7834103156860988
          ],
          [
           24,
           0.8227758420034769
          ],
          [
           18,
           0.8856021884380054
          ],
          [
           24,
           0.8868249785338265
          ],
          [
           21,
           0.7534520815077252
          ],
          [
           24,
           0.8201215498157243
          ],
          [
           8,
           0.01318889571835412
          ],
          [
           24,
           0.1014653400038368
          ],
          [
           18,
           0.18531354812337406
          ],
          [
           24,
           0.40924716550435525
          ],
          [
           20,
           0.7748411119343014
          ],
          [
           25,
           0.1206791711914064
          ],
          [
           11,
           0.14920265424461615
          ],
          [
           8,
           0.23442359072214794
          ],
          [
           10,
           0.7393003120531705
          ],
          [
           13,
           0.5959561940213705
          ],
          [
           7,
           0.9807154544807046
          ],
          [
           14,
           0.19472556728392773
          ],
          [
           12,
           0.8993105169211788
          ],
          [
           14,
           0.5086313703792184
          ],
          [
           13,
           0.918826864810798
          ],
          [
           19,
           0.4320640970369509
          ],
          [
           13,
           0.8086726532717876
          ],
          [
           14,
           0.9546219371688804
          ],
          [
           20,
           0.13041846861741688
          ],
          [
           11,
           0.6881773072101358
          ],
          [
           16,
           0.9556618183395517
          ],
          [
           19,
           0.572169689309063
          ],
          [
           15,
           0.8096819444644603
          ],
          [
           16,
           0.9467769542038106
          ],
          [
           22,
           0.3468039003627881
          ],
          [
           13,
           0.9171321943871029
          ],
          [
           24,
           0.824822088480015
          ],
          [
           11,
           0.9246968840593446
          ],
          [
           19,
           0.9558268192325454
          ],
          [
           20,
           0.12181314386236118
          ],
          [
           34,
           0.000382833417782581
          ],
          [
           23,
           0.03383958142945016
          ],
          [
           8,
           0.3533766408828593
          ],
          [
           43,
           0.2631012527535107
          ],
          [
           39,
           0.8887644719181557
          ],
          [
           25,
           0.1981374804798338
          ],
          [
           11,
           0.23948851124657977
          ],
          [
           16,
           0.10032899608504749
          ],
          [
           28,
           0.2691388817754652
          ],
          [
           15,
           0.022947022094697875
          ],
          [
           30,
           0.00008939663014808
          ],
          [
           28,
           0.4683982009222146
          ],
          [
           6,
           0.014553924862687962
          ],
          [
           5,
           0.16938019998777196
          ],
          [
           7,
           0.29138206941788886
          ],
          [
           13,
           0.11943647063284167
          ],
          [
           42,
           0.10516505031569481
          ],
          [
           35,
           0.7122762611653594
          ],
          [
           12,
           0.5014815701387354
          ],
          [
           25,
           0.007266122416348042
          ],
          [
           44,
           0.031089666326355864
          ],
          [
           19,
           0.032074171193237945
          ],
          [
           33,
           0.015422366338461816
          ],
          [
           45,
           0.419292142898214
          ],
          [
           22,
           0.011352722036141398
          ],
          [
           54,
           0.12652887095329107
          ],
          [
           46,
           0.5901483079617864
          ],
          [
           53,
           0.6015181540216756
          ],
          [
           16,
           0.0007032997182065766
          ],
          [
           49,
           0.24957519823606822
          ],
          [
           39,
           0.4651095546935846
          ],
          [
           14,
           0.5713941462917097
          ],
          [
           43,
           0.9362112468343736
          ],
          [
           53,
           0.10217447077647154
          ],
          [
           52,
           0.027174819485438997
          ],
          [
           26,
           0.4587909472643511
          ],
          [
           5,
           0.5379565949506043
          ],
          [
           21,
           0.82276649047395
          ],
          [
           12,
           0.3473129854198302
          ],
          [
           36,
           0.6110312445919955
          ],
          [
           34,
           0.3660965692542192
          ],
          [
           35,
           0.7034286611531725
          ],
          [
           28,
           0.4482550274016991
          ],
          [
           6,
           0.7592957671070207
          ],
          [
           14,
           0.4503744516156727
          ],
          [
           8,
           0.5645581876227104
          ],
          [
           40,
           0.32357059327280213
          ],
          [
           25,
           0.3252657821587654
          ],
          [
           30,
           0.022332976177638113
          ],
          [
           24,
           0.814779799305566
          ],
          [
           33,
           0.3072044703779752
          ],
          [
           11,
           0.20560818964839428
          ],
          [
           14,
           0.9100576455011001
          ],
          [
           17,
           0.637712958243222
          ],
          [
           31,
           0.0293786967561631
          ],
          [
           13,
           0.00013435808087350806
          ],
          [
           32,
           0.01185535639616419
          ],
          [
           22,
           0.3565786407492163
          ],
          [
           25,
           0.5581140961124649
          ],
          [
           13,
           0.6889194269725796
          ],
          [
           17,
           0.9450422670373143
          ],
          [
           30,
           0.7734325949900221
          ],
          [
           7,
           0.6206884791019557
          ],
          [
           15,
           0.9205645734854
          ],
          [
           18,
           0.835817615961226
          ],
          [
           18,
           0.7962267921171124
          ],
          [
           7,
           0.6917788941683468
          ],
          [
           17,
           0.7733567336105006
          ],
          [
           12,
           0.9265932476654606
          ],
          [
           19,
           0.9381619252126627
          ],
          [
           18,
           0.5298479704002517
          ],
          [
           5,
           0.967127365788704
          ],
          [
           18,
           0.9175972586074936
          ],
          [
           11,
           0.573797412686008
          ],
          [
           14,
           0.6161931570605499
          ],
          [
           15,
           0.7977618847157931
          ]
         ],
         "hovertemplate": "<b>num anoms = %{customdata[0]} </b><br><b>r2 = %{customdata[1]:.2f} </b><br>",
         "marker": {
          "color": [
           0.8613435386350079,
           0.016956544225859245,
           0.8171245354876306,
           0.5488032651832966,
           0.2116614985595954,
           0.0400759297310165,
           0.014942532003746692,
           0.2366817777619431,
           0.006387595717575494,
           0.04642023188176254,
           0.014075751219997497,
           0.044232026526870964,
           0.28443676447708005,
           0.21667627722283261,
           0.1024215167102175,
           0.1834747968593991,
           0.0319269915578362,
           0.822235246323783,
           0.02634002841969733,
           0.015875636828525715,
           0.07366268919510106,
           0.6278851073396561,
           0.667730521844656,
           0.5354938042864313,
           0.6484247344526688,
           0.6904060144846901,
           0.4691656302938992,
           0.08128865361173256,
           0.5567331910593408,
           0.002825355695612018,
           0.5630765800228378,
           0.31694508304420893,
           0.29416493252441234,
           0.9087132610581555,
           0.7834103156860988,
           0.8227758420034769,
           0.8856021884380054,
           0.8868249785338265,
           0.7534520815077252,
           0.8201215498157243,
           0.01318889571835412,
           0.1014653400038368,
           0.18531354812337406,
           0.40924716550435525,
           0.7748411119343014,
           0.1206791711914064,
           0.14920265424461615,
           0.23442359072214794,
           0.7393003120531705,
           0.5959561940213705,
           0.9807154544807046,
           0.19472556728392773,
           0.8993105169211788,
           0.5086313703792184,
           0.918826864810798,
           0.4320640970369509,
           0.8086726532717876,
           0.9546219371688804,
           0.13041846861741688,
           0.6881773072101358,
           0.9556618183395517,
           0.572169689309063,
           0.8096819444644603,
           0.9467769542038106,
           0.3468039003627881,
           0.9171321943871029,
           0.824822088480015,
           0.9246968840593446,
           0.9558268192325454,
           0.12181314386236118,
           0.000382833417782581,
           0.03383958142945016,
           0.3533766408828593,
           0.2631012527535107,
           0.8887644719181557,
           0.1981374804798338,
           0.23948851124657977,
           0.10032899608504749,
           0.2691388817754652,
           0.022947022094697875,
           0.00008939663014808,
           0.4683982009222146,
           0.014553924862687962,
           0.16938019998777196,
           0.29138206941788886,
           0.11943647063284167,
           0.10516505031569481,
           0.7122762611653594,
           0.5014815701387354,
           0.007266122416348042,
           0.031089666326355864,
           0.032074171193237945,
           0.015422366338461816,
           0.419292142898214,
           0.011352722036141398,
           0.12652887095329107,
           0.5901483079617864,
           0.6015181540216756,
           0.0007032997182065766,
           0.24957519823606822,
           0.4651095546935846,
           0.5713941462917097,
           0.9362112468343736,
           0.10217447077647154,
           0.027174819485438997,
           0.4587909472643511,
           0.5379565949506043,
           0.82276649047395,
           0.3473129854198302,
           0.6110312445919955,
           0.3660965692542192,
           0.7034286611531725,
           0.4482550274016991,
           0.7592957671070207,
           0.4503744516156727,
           0.5645581876227104,
           0.32357059327280213,
           0.3252657821587654,
           0.022332976177638113,
           0.814779799305566,
           0.3072044703779752,
           0.20560818964839428,
           0.9100576455011001,
           0.637712958243222,
           0.0293786967561631,
           0.00013435808087350806,
           0.01185535639616419,
           0.3565786407492163,
           0.5581140961124649,
           0.6889194269725796,
           0.9450422670373143,
           0.7734325949900221,
           0.6206884791019557,
           0.9205645734854,
           0.835817615961226,
           0.7962267921171124,
           0.6917788941683468,
           0.7733567336105006,
           0.9265932476654606,
           0.9381619252126627,
           0.5298479704002517,
           0.967127365788704,
           0.9175972586074936,
           0.573797412686008,
           0.6161931570605499,
           0.7977618847157931
          ]
         },
         "mode": "markers",
         "type": "scatter",
         "x": [
          "2022-05-24",
          "2022-05-25",
          "2022-06-02",
          "2022-06-14",
          "2022-06-15",
          "2022-06-16",
          "2022-06-17",
          "2022-06-20",
          "2022-06-21",
          "2022-06-23",
          "2022-06-24",
          "2022-06-25",
          "2022-06-27",
          "2022-07-05",
          "2022-07-06",
          "2022-07-07",
          "2022-07-08",
          "2022-07-26",
          "2022-07-29",
          "2022-07-31",
          "2022-08-03",
          "2022-08-09",
          "2022-08-17",
          "2022-08-23",
          "2022-08-25",
          "2022-08-26",
          "2022-08-29",
          "2022-09-08",
          "2022-09-10",
          "2022-09-11",
          "2022-09-12",
          "2022-09-22",
          "2022-09-26",
          "2022-09-27",
          "2022-10-03",
          "2022-10-04",
          "2022-10-05",
          "2022-10-06",
          "2022-10-07",
          "2022-10-10",
          "2022-10-11",
          "2022-10-12",
          "2022-10-17",
          "2022-10-18",
          "2022-10-19",
          "2022-10-20",
          "2022-10-21",
          "2022-10-28",
          "2022-11-14",
          "2022-11-15",
          "2022-11-17",
          "2022-11-22",
          "2022-12-08",
          "2023-01-23",
          "2023-01-30",
          "2023-01-31",
          "2023-02-01",
          "2023-02-02",
          "2023-02-07",
          "2023-02-10",
          "2023-02-13",
          "2023-02-16",
          "2023-02-17",
          "2023-03-16",
          "2023-03-17",
          "2023-03-28",
          "2023-04-06",
          "2023-04-08",
          "2023-04-10",
          "2023-04-11",
          "2023-04-16",
          "2023-04-26",
          "2023-04-27",
          "2023-04-28",
          "2023-04-29",
          "2023-05-01",
          "2023-05-02",
          "2023-05-03",
          "2023-05-09",
          "2023-05-15",
          "2023-05-18",
          "2023-05-19",
          "2023-05-22",
          "2023-05-23",
          "2023-05-30",
          "2023-06-09",
          "2023-06-16",
          "2023-06-21",
          "2023-06-22",
          "2023-06-24",
          "2023-06-25",
          "2023-06-26",
          "2023-06-30",
          "2023-07-05",
          "2023-07-09",
          "2023-07-10",
          "2023-07-11",
          "2023-07-12",
          "2023-07-14",
          "2023-07-20",
          "2023-07-21",
          "2023-07-25",
          "2023-07-28",
          "2023-08-04",
          "2023-08-05",
          "2023-08-06",
          "2023-08-07",
          "2023-08-08",
          "2023-08-09",
          "2023-08-10",
          "2023-08-13",
          "2023-08-14",
          "2023-08-16",
          "2023-08-17",
          "2023-08-25",
          "2023-08-28",
          "2023-08-29",
          "2023-08-30",
          "2023-08-31",
          "2023-09-06",
          "2023-09-07",
          "2023-09-08",
          "2023-09-11",
          "2023-09-14",
          "2023-09-15",
          "2023-09-23",
          "2023-09-25",
          "2023-09-26",
          "2023-09-27",
          "2023-09-29",
          "2023-10-05",
          "2023-10-06",
          "2023-10-09",
          "2023-10-18",
          "2023-10-19",
          "2023-10-20",
          "2023-10-22",
          "2023-10-27",
          "2023-10-31",
          "2023-11-09",
          "2023-11-14",
          "2023-11-17",
          "2023-11-21",
          "2023-11-22",
          "2023-11-27",
          "2023-11-28"
         ],
         "xaxis": "x",
         "y": [
          160.8678657291674,
          -118.40160315389697,
          191.36328763924055,
          207.29563288059379,
          168.23141315535565,
          51.96975858032147,
          207.42241870409902,
          72.46754329001813,
          138.6884366864724,
          -69.5451817634332,
          -185.83277392601036,
          524.2519450217654,
          85.81033095619198,
          175.89125105506494,
          264.738776076177,
          -351.78645322033657,
          77.08138155665111,
          225.16584066458321,
          157.24149836235662,
          38.969417433381764,
          132.46013533256126,
          171.47908212989412,
          158.455938530698,
          160.59930595401264,
          225.8489267577454,
          107.0083262240236,
          124.8874990451713,
          251.01671235510813,
          -47.593849955098605,
          165.7348811346949,
          125.85783049444818,
          271.33336435325776,
          201.16490594538735,
          185.98433970449747,
          145.98809132743182,
          245.19226227131148,
          226.29533069422274,
          174.6883179402449,
          309.6240395558307,
          241.00300032853866,
          162.09183029351536,
          190.61230104643587,
          207.0300141835146,
          250.98928100040717,
          496.89826341464544,
          245.61988226615287,
          194.67023362717498,
          194.1283840897751,
          103.87513066442433,
          75.69951942558247,
          246.9826526592556,
          301.7114332531635,
          309.844532748221,
          74.64153646510596,
          146.33257906513728,
          410.61122394420795,
          520.651479781735,
          242.33173975099,
          313.7175661486035,
          160.2680380916889,
          159.33852380535706,
          413.8923665907629,
          308.4605668786408,
          199.6288455496309,
          328.16592269503604,
          153.95387395431732,
          180.56096088790892,
          190.1102820222841,
          150.7175578394796,
          184.5950309878007,
          125.69696330495897,
          214.30551148211964,
          157.52273046146743,
          65.56551375443655,
          105.28396484949019,
          138.2546857105825,
          145.8698509440305,
          181.36522682318628,
          273.0035991002214,
          141.43046237034764,
          -72.8487136408289,
          66.64986457320452,
          -36.273338435184215,
          137.87582834650928,
          173.8146450445733,
          -186.7197522666826,
          58.41393837836937,
          509.3099867109254,
          298.3249572236346,
          79.98087081077014,
          -75.55540664712503,
          -269.4689925980704,
          152.20713518198187,
          214.51751145521862,
          171.9327545629185,
          -428.2445140305707,
          87.00053096861754,
          255.18436456169817,
          50.82759535718913,
          -636.0765848143741,
          113.14082460694542,
          134.06980777823745,
          193.69300628830325,
          136.12309702500752,
          190.36895685031382,
          387.0541196176932,
          440.75005798594844,
          287.9406835775543,
          37.22276732190693,
          130.66927977645057,
          107.44807953397208,
          161.77915048744325,
          252.84296582631927,
          268.09471359485593,
          316.29626740620404,
          155.74769419977406,
          93.75544098325767,
          207.82871379052855,
          -76.70638189629423,
          227.55483560027636,
          129.71093389809113,
          -140.06329044528312,
          120.97164913873397,
          283.3429516427556,
          116.90406039443019,
          81.99545148514098,
          -99.59223022163818,
          188.05281281062278,
          201.53740625759983,
          119.97330121468094,
          201.63388540458357,
          206.9877380733123,
          177.61465728009287,
          242.52229274349452,
          271.311253694746,
          226.09660543330264,
          147.0045275255572,
          248.34273784095384,
          299.06645046342425,
          219.0311734122106,
          141.8238910567296,
          279.1011588933573,
          284.0009032017,
          268.16767970707156,
          428.66933976000126,
          223.98612844250354
         ],
         "yaxis": "y"
        },
        {
         "customdata": [
          [
           9,
           0.930015241388022
          ],
          [
           39,
           0.011603588451803986
          ],
          [
           8,
           0.3346617257945968
          ],
          [
           33,
           0.025939174337951156
          ],
          [
           50,
           0.23884614067816415
          ],
          [
           58,
           0.0075759722874518395
          ],
          [
           23,
           0.8242659480938979
          ],
          [
           10,
           0.1657004144403735
          ],
          [
           53,
           0.06632786676980165
          ],
          [
           7,
           0.02089285321483623
          ],
          [
           35,
           0.12376909218691226
          ],
          [
           53,
           0.21360110627350745
          ],
          [
           33,
           0.45783720711773107
          ],
          [
           47,
           0.025818220517323735
          ],
          [
           57,
           0.26356604934990696
          ],
          [
           42,
           0.46550307286744497
          ],
          [
           50,
           0.03694779962628862
          ],
          [
           37,
           0.18395586787365556
          ],
          [
           15,
           0.025939289406000134
          ],
          [
           28,
           0.37448118450539364
          ],
          [
           25,
           0.43525890386727795
          ],
          [
           10,
           0.10206258009154873
          ],
          [
           17,
           0.5257343262751148
          ],
          [
           22,
           0.31331797243863996
          ],
          [
           8,
           0.703990158768482
          ],
          [
           7,
           0.8440270705926074
          ],
          [
           6,
           0.9917836758922824
          ],
          [
           7,
           0.1799836988749146
          ],
          [
           39,
           0.28561115175784124
          ],
          [
           10,
           0.7823874817632211
          ],
          [
           9,
           0.22893619506938354
          ],
          [
           31,
           0.34267611537319426
          ],
          [
           24,
           0.5937725696396252
          ],
          [
           32,
           0.024336528460444335
          ],
          [
           28,
           0.21490185610984683
          ],
          [
           24,
           0.662336883856214
          ],
          [
           18,
           0.02661652897110679
          ],
          [
           24,
           0.01171864554693178
          ],
          [
           21,
           0.6576557121071338
          ],
          [
           24,
           0.8930751480349798
          ],
          [
           8,
           0.05248574563612297
          ],
          [
           24,
           0.09023058333709333
          ],
          [
           18,
           0.8728013883179357
          ],
          [
           24,
           0.3756769046485854
          ],
          [
           20,
           0.7927692228228737
          ],
          [
           25,
           0.6531742243027554
          ],
          [
           11,
           0.8909532888099599
          ],
          [
           8,
           0.4751479565402832
          ],
          [
           10,
           0.2694770024625722
          ],
          [
           13,
           0.6380786658207849
          ],
          [
           7,
           0.2298526111397529
          ],
          [
           14,
           0.14730946025284747
          ],
          [
           12,
           0.7357019293982535
          ],
          [
           14,
           0.8745358355977394
          ],
          [
           13,
           0.9430884063873776
          ],
          [
           19,
           0.8224613843933551
          ],
          [
           13,
           0.8501035834856148
          ],
          [
           14,
           0.9808113006135571
          ],
          [
           20,
           0.10506221452942165
          ],
          [
           11,
           0.31954406571953436
          ],
          [
           16,
           0.8816927971249024
          ],
          [
           19,
           0.9376970684715992
          ],
          [
           15,
           0.8050657591645852
          ],
          [
           16,
           0.5314570320256248
          ],
          [
           22,
           0.9566323057998405
          ],
          [
           13,
           0.05034382610499086
          ],
          [
           24,
           0.5628098930010639
          ],
          [
           11,
           0.9130140561816998
          ],
          [
           19,
           0.9092571804719317
          ],
          [
           20,
           0.5102933297623888
          ],
          [
           34,
           0.459319942463265
          ],
          [
           23,
           0.37591911679356127
          ],
          [
           8,
           0.12469988879718602
          ],
          [
           43,
           0.32380074922893837
          ],
          [
           39,
           0.6407387153520375
          ],
          [
           25,
           0.5005122847362551
          ],
          [
           11,
           0.1483878937838236
          ],
          [
           16,
           0.15809192769955943
          ],
          [
           28,
           0.8668291160442657
          ],
          [
           15,
           0.4148459828736771
          ],
          [
           30,
           0.008180988044376006
          ],
          [
           28,
           0.6240907389266059
          ],
          [
           6,
           0.058798552003844824
          ],
          [
           5,
           0.097594675276989
          ],
          [
           7,
           0.7720116906591408
          ],
          [
           13,
           0.15630995997541033
          ],
          [
           42,
           0.08995826532632199
          ],
          [
           35,
           0.8293799910644282
          ],
          [
           12,
           0.19426126992017043
          ],
          [
           25,
           0.12420147491866108
          ],
          [
           44,
           0.0028762684424374855
          ],
          [
           19,
           0.13079684784013962
          ],
          [
           33,
           0.7521958782495722
          ],
          [
           45,
           0.7426784219373581
          ],
          [
           22,
           0.4173848660781732
          ],
          [
           54,
           0.6235210401248138
          ],
          [
           46,
           0.0050374265574970045
          ],
          [
           53,
           0.3146496999737864
          ],
          [
           16,
           0.030729769031970864
          ],
          [
           49,
           0.5858695787486848
          ],
          [
           39,
           0.269078830161545
          ],
          [
           14,
           0.6323561393349136
          ],
          [
           43,
           0.9030393217230406
          ],
          [
           53,
           0.8910561658867115
          ],
          [
           52,
           0.00000260209892849475
          ],
          [
           26,
           0.22112155902414574
          ],
          [
           5,
           0.8401853911534617
          ],
          [
           21,
           0.4533160227513774
          ],
          [
           12,
           0.14576106595689178
          ],
          [
           36,
           0.06627600015335626
          ],
          [
           34,
           0.09585138176136979
          ],
          [
           35,
           0.627186352076664
          ],
          [
           28,
           0.0409649613186813
          ],
          [
           6,
           0.6974383219952859
          ],
          [
           14,
           0.2518886099984962
          ],
          [
           8,
           0.4262189896090544
          ],
          [
           40,
           0.26377857173416264
          ],
          [
           25,
           0.2405105517323935
          ],
          [
           30,
           0.049271258785760025
          ],
          [
           24,
           0.5341933011143266
          ],
          [
           33,
           0.04685366400231403
          ],
          [
           11,
           0.04839640518248378
          ],
          [
           14,
           0.7930442405616853
          ],
          [
           17,
           0.4244310053842232
          ],
          [
           31,
           0.15805330633170928
          ],
          [
           13,
           0.43701249933316005
          ],
          [
           32,
           0.287774456803725
          ],
          [
           22,
           0.6567164957880244
          ],
          [
           25,
           0.838011073453031
          ],
          [
           13,
           0.7261383124977255
          ],
          [
           17,
           0.2824284756202174
          ],
          [
           30,
           0.8166041959289747
          ],
          [
           7,
           0.01544894253661083
          ],
          [
           15,
           0.9220050714941934
          ],
          [
           18,
           0.8661052690184861
          ],
          [
           18,
           0.8931353742280671
          ],
          [
           7,
           0.6418749568468587
          ],
          [
           17,
           0.38423695273580494
          ],
          [
           12,
           0.8846775966303143
          ],
          [
           19,
           0.749089339045598
          ],
          [
           18,
           0.27529735952311346
          ],
          [
           5,
           0.8786543843077733
          ],
          [
           18,
           0.924511098199915
          ],
          [
           11,
           0.0227055038996394
          ],
          [
           14,
           0.14675709266384038
          ],
          [
           15,
           0.6714367231546288
          ]
         ],
         "hovertemplate": "<b>num anoms = %{customdata[0]} </b><br><b>r2 = %{customdata[1]:.2f} </b><br>",
         "marker": {
          "color": [
           0.930015241388022,
           0.011603588451803986,
           0.3346617257945968,
           0.025939174337951156,
           0.23884614067816415,
           0.0075759722874518395,
           0.8242659480938979,
           0.1657004144403735,
           0.06632786676980165,
           0.02089285321483623,
           0.12376909218691226,
           0.21360110627350745,
           0.45783720711773107,
           0.025818220517323735,
           0.26356604934990696,
           0.46550307286744497,
           0.03694779962628862,
           0.18395586787365556,
           0.025939289406000134,
           0.37448118450539364,
           0.43525890386727795,
           0.10206258009154873,
           0.5257343262751148,
           0.31331797243863996,
           0.703990158768482,
           0.8440270705926074,
           0.9917836758922824,
           0.1799836988749146,
           0.28561115175784124,
           0.7823874817632211,
           0.22893619506938354,
           0.34267611537319426,
           0.5937725696396252,
           0.024336528460444335,
           0.21490185610984683,
           0.662336883856214,
           0.02661652897110679,
           0.01171864554693178,
           0.6576557121071338,
           0.8930751480349798,
           0.05248574563612297,
           0.09023058333709333,
           0.8728013883179357,
           0.3756769046485854,
           0.7927692228228737,
           0.6531742243027554,
           0.8909532888099599,
           0.4751479565402832,
           0.2694770024625722,
           0.6380786658207849,
           0.2298526111397529,
           0.14730946025284747,
           0.7357019293982535,
           0.8745358355977394,
           0.9430884063873776,
           0.8224613843933551,
           0.8501035834856148,
           0.9808113006135571,
           0.10506221452942165,
           0.31954406571953436,
           0.8816927971249024,
           0.9376970684715992,
           0.8050657591645852,
           0.5314570320256248,
           0.9566323057998405,
           0.05034382610499086,
           0.5628098930010639,
           0.9130140561816998,
           0.9092571804719317,
           0.5102933297623888,
           0.459319942463265,
           0.37591911679356127,
           0.12469988879718602,
           0.32380074922893837,
           0.6407387153520375,
           0.5005122847362551,
           0.1483878937838236,
           0.15809192769955943,
           0.8668291160442657,
           0.4148459828736771,
           0.008180988044376006,
           0.6240907389266059,
           0.058798552003844824,
           0.097594675276989,
           0.7720116906591408,
           0.15630995997541033,
           0.08995826532632199,
           0.8293799910644282,
           0.19426126992017043,
           0.12420147491866108,
           0.0028762684424374855,
           0.13079684784013962,
           0.7521958782495722,
           0.7426784219373581,
           0.4173848660781732,
           0.6235210401248138,
           0.0050374265574970045,
           0.3146496999737864,
           0.030729769031970864,
           0.5858695787486848,
           0.269078830161545,
           0.6323561393349136,
           0.9030393217230406,
           0.8910561658867115,
           0.00000260209892849475,
           0.22112155902414574,
           0.8401853911534617,
           0.4533160227513774,
           0.14576106595689178,
           0.06627600015335626,
           0.09585138176136979,
           0.627186352076664,
           0.0409649613186813,
           0.6974383219952859,
           0.2518886099984962,
           0.4262189896090544,
           0.26377857173416264,
           0.2405105517323935,
           0.049271258785760025,
           0.5341933011143266,
           0.04685366400231403,
           0.04839640518248378,
           0.7930442405616853,
           0.4244310053842232,
           0.15805330633170928,
           0.43701249933316005,
           0.287774456803725,
           0.6567164957880244,
           0.838011073453031,
           0.7261383124977255,
           0.2824284756202174,
           0.8166041959289747,
           0.01544894253661083,
           0.9220050714941934,
           0.8661052690184861,
           0.8931353742280671,
           0.6418749568468587,
           0.38423695273580494,
           0.8846775966303143,
           0.749089339045598,
           0.27529735952311346,
           0.8786543843077733,
           0.924511098199915,
           0.0227055038996394,
           0.14675709266384038,
           0.6714367231546288
          ]
         },
         "mode": "markers",
         "type": "scatter",
         "x": [
          "2022-05-24",
          "2022-05-25",
          "2022-06-02",
          "2022-06-14",
          "2022-06-15",
          "2022-06-16",
          "2022-06-17",
          "2022-06-20",
          "2022-06-21",
          "2022-06-23",
          "2022-06-24",
          "2022-06-25",
          "2022-06-27",
          "2022-07-05",
          "2022-07-06",
          "2022-07-07",
          "2022-07-08",
          "2022-07-26",
          "2022-07-29",
          "2022-07-31",
          "2022-08-03",
          "2022-08-09",
          "2022-08-17",
          "2022-08-23",
          "2022-08-25",
          "2022-08-26",
          "2022-08-29",
          "2022-09-08",
          "2022-09-10",
          "2022-09-11",
          "2022-09-12",
          "2022-09-22",
          "2022-09-26",
          "2022-09-27",
          "2022-10-03",
          "2022-10-04",
          "2022-10-05",
          "2022-10-06",
          "2022-10-07",
          "2022-10-10",
          "2022-10-11",
          "2022-10-12",
          "2022-10-17",
          "2022-10-18",
          "2022-10-19",
          "2022-10-20",
          "2022-10-21",
          "2022-10-28",
          "2022-11-14",
          "2022-11-15",
          "2022-11-17",
          "2022-11-22",
          "2022-12-08",
          "2023-01-23",
          "2023-01-30",
          "2023-01-31",
          "2023-02-01",
          "2023-02-02",
          "2023-02-07",
          "2023-02-10",
          "2023-02-13",
          "2023-02-16",
          "2023-02-17",
          "2023-03-16",
          "2023-03-17",
          "2023-03-28",
          "2023-04-06",
          "2023-04-08",
          "2023-04-10",
          "2023-04-11",
          "2023-04-16",
          "2023-04-26",
          "2023-04-27",
          "2023-04-28",
          "2023-04-29",
          "2023-05-01",
          "2023-05-02",
          "2023-05-03",
          "2023-05-09",
          "2023-05-15",
          "2023-05-18",
          "2023-05-19",
          "2023-05-22",
          "2023-05-23",
          "2023-05-30",
          "2023-06-09",
          "2023-06-16",
          "2023-06-21",
          "2023-06-22",
          "2023-06-24",
          "2023-06-25",
          "2023-06-26",
          "2023-06-30",
          "2023-07-05",
          "2023-07-09",
          "2023-07-10",
          "2023-07-11",
          "2023-07-12",
          "2023-07-14",
          "2023-07-20",
          "2023-07-21",
          "2023-07-25",
          "2023-07-28",
          "2023-08-04",
          "2023-08-05",
          "2023-08-06",
          "2023-08-07",
          "2023-08-08",
          "2023-08-09",
          "2023-08-10",
          "2023-08-13",
          "2023-08-14",
          "2023-08-16",
          "2023-08-17",
          "2023-08-25",
          "2023-08-28",
          "2023-08-29",
          "2023-08-30",
          "2023-08-31",
          "2023-09-06",
          "2023-09-07",
          "2023-09-08",
          "2023-09-11",
          "2023-09-14",
          "2023-09-15",
          "2023-09-23",
          "2023-09-25",
          "2023-09-26",
          "2023-09-27",
          "2023-09-29",
          "2023-10-05",
          "2023-10-06",
          "2023-10-09",
          "2023-10-18",
          "2023-10-19",
          "2023-10-20",
          "2023-10-22",
          "2023-10-27",
          "2023-10-31",
          "2023-11-09",
          "2023-11-14",
          "2023-11-17",
          "2023-11-21",
          "2023-11-22",
          "2023-11-27",
          "2023-11-28"
         ],
         "xaxis": "x2",
         "y": [
          274.1492487809941,
          138.51971008019407,
          333.0243918067318,
          217.47044883538427,
          262.47257742600283,
          67.34304401691253,
          163.93406833510195,
          56.92058292321759,
          -170.65941568861584,
          88.7769623142459,
          311.67528607552504,
          205.21321563711393,
          108.9437365067931,
          181.37288421201646,
          302.69719124444043,
          -345.42779982972974,
          -95.85341775725804,
          410.88753724417313,
          135.08392052827043,
          137.00348354411716,
          307.7173846614213,
          511.320719547228,
          265.4677492330382,
          115.8867699936405,
          145.73697701735372,
          209.54593649439207,
          207.7920336968526,
          473.4078874537154,
          213.3531705091873,
          230.15054359508736,
          290.14195572224384,
          198.03908791441856,
          121.17110463272955,
          -280.07109869607024,
          105.93350309536693,
          195.82143784890408,
          220.7094360813817,
          -300.6195480252296,
          108.55842381746302,
          229.5999630278936,
          124.18801437460333,
          -63.20701040597545,
          281.6872483508416,
          274.01958763679283,
          94.82293996487515,
          81.5395211289883,
          128.9902547091277,
          149.98790711621083,
          179.3489764423563,
          62.72060390280718,
          123.50913985113817,
          226.14870469227492,
          179.38901196321058,
          156.21898495558167,
          258.7194408010414,
          323.80658817766204,
          202.519671135521,
          208.90826392409696,
          260.67085984469975,
          157.32250224696242,
          131.1604109679887,
          251.84927411595848,
          227.14387259500668,
          190.00101165462763,
          241.54510864208524,
          547.3656754503534,
          424.18414337744963,
          161.52674639085714,
          445.7079339130331,
          311.54621498785923,
          192.30661121659222,
          148.09625396317196,
          191.88089930304895,
          92.09904886740826,
          282.8057765422486,
          132.534855448404,
          138.53591533674054,
          189.42374916796217,
          302.54190956642725,
          289.6270435425221,
          -126.73845348514392,
          138.94978890625026,
          88.08676597469784,
          99.49958356513804,
          190.64183566887087,
          -109.25680136351143,
          76.16766513658567,
          257.587963859732,
          98.67636215550658,
          66.70426991029325,
          -120.90978680647306,
          -143.71065623670958,
          245.04998537593644,
          131.36354602765786,
          75.81207717677498,
          -136.4676870605355,
          164.3018447658196,
          212.1818734274198,
          51.39152270271642,
          -237.48189074961834,
          164.92786611199557,
          144.6218353505639,
          158.10631490278524,
          142.8657916073166,
          -61.207535832619655,
          167.15347418684152,
          109.36584048923847,
          471.0116541938098,
          -117.46695004213692,
          121.86275339467424,
          97.04594534502168,
          91.97024929547956,
          193.1847454059132,
          532.3930084389223,
          426.628964355017,
          165.3467444415836,
          118.9471423152244,
          193.89822327325248,
          126.12919861381859,
          198.2618492548396,
          189.25916046907713,
          84.44009879173215,
          113.02175481037945,
          -149.46653125607796,
          56.43042309607295,
          254.57950994869165,
          -53.16542763763039,
          125.44349114005146,
          96.8817168477065,
          145.00614768503374,
          376.8790653417923,
          165.21907235372657,
          -227.6567238769019,
          149.85191123762775,
          196.40701066992514,
          293.5455574351948,
          187.16561744341934,
          606.0537128902218,
          218.86007465985577,
          207.8596266814994,
          45.44045986025262,
          444.65594419685465,
          307.15826409598645,
          107.1083821995252,
          299.8457068890284,
          162.47598632030454
         ],
         "yaxis": "y2"
        },
        {
         "customdata": [
          [
           9,
           0.8206625342374364
          ],
          [
           39,
           0.6924908646276323
          ],
          [
           8,
           0.06129606935085399
          ],
          [
           33,
           0.0037307049045986838
          ],
          [
           50,
           0.07243832406108898
          ],
          [
           58,
           0.9212700977079284
          ],
          [
           23,
           0.014831154057773747
          ],
          [
           10,
           0.8392145116200246
          ],
          [
           53,
           0.26606795425497853
          ],
          [
           7,
           0.6808898923501681
          ],
          [
           35,
           0.07309762885574399
          ],
          [
           53,
           0.20868653318739308
          ],
          [
           33,
           0.49989389121870553
          ],
          [
           47,
           0.08580813237285013
          ],
          [
           57,
           0.17887757577097205
          ],
          [
           42,
           0.3343588218089219
          ],
          [
           50,
           0.6671051056921827
          ],
          [
           37,
           0.08662808891983649
          ],
          [
           15,
           0.0034673389722639537
          ],
          [
           28,
           0.24432958217278275
          ],
          [
           25,
           0.032903624788623825
          ],
          [
           10,
           0.00965782730068016
          ],
          [
           17,
           0.15807883746645632
          ],
          [
           22,
           0.0739859729404844
          ],
          [
           8,
           0.4567947772366625
          ],
          [
           7,
           0.40654127218226893
          ],
          [
           6,
           0.38589824285460944
          ],
          [
           7,
           0.25694074009553913
          ],
          [
           39,
           0.0042942044480052816
          ],
          [
           10,
           0.0005801128518510798
          ],
          [
           9,
           0.5398788344629869
          ],
          [
           31,
           0.3605107193164783
          ],
          [
           24,
           0.3696703726614471
          ],
          [
           32,
           0.07670382333767471
          ],
          [
           28,
           0.5714410006170443
          ],
          [
           24,
           0.4893889511008571
          ],
          [
           18,
           0.11397834965554346
          ],
          [
           24,
           0.09814167008885574
          ],
          [
           21,
           0.3844859268377438
          ],
          [
           24,
           0.7093520549353128
          ],
          [
           8,
           0.24705180111937453
          ],
          [
           24,
           0.3019334991299037
          ],
          [
           18,
           0.3925910644771974
          ],
          [
           24,
           0.00262423133788507
          ],
          [
           20,
           0.7544341597545151
          ],
          [
           25,
           0.2624360869348554
          ],
          [
           11,
           0.18416785076653408
          ],
          [
           8,
           0.06745617082422413
          ],
          [
           10,
           0.38342754910163906
          ],
          [
           13,
           0.9086134190469666
          ],
          [
           7,
           0.3083337819916454
          ],
          [
           14,
           0.39465024756124417
          ],
          [
           12,
           0.8010261789359531
          ],
          [
           14,
           0.6656934461311875
          ],
          [
           13,
           0.9871814675796641
          ],
          [
           19,
           0.5440828454737461
          ],
          [
           13,
           0.7902370931578246
          ],
          [
           14,
           0.9697774696805123
          ],
          [
           20,
           0.60672453342972
          ],
          [
           11,
           0.07294968215366614
          ],
          [
           16,
           0.8273890582303071
          ],
          [
           19,
           0.4625243970857332
          ],
          [
           15,
           0.7524572708043001
          ],
          [
           16,
           0.5587603371543416
          ],
          [
           22,
           0.34453612760704405
          ],
          [
           13,
           0.08719345074704551
          ],
          [
           24,
           0.35055136885255167
          ],
          [
           11,
           0.7482217368003243
          ],
          [
           19,
           0.8516309722767232
          ],
          [
           20,
           0.005241624061977983
          ],
          [
           34,
           0.2593510091187796
          ],
          [
           23,
           0.2115757547157949
          ],
          [
           8,
           0.06736706909105743
          ],
          [
           43,
           0.5338379996157143
          ],
          [
           39,
           0.6017593279000066
          ],
          [
           25,
           0.13699267364847995
          ],
          [
           11,
           0.10781040605062432
          ],
          [
           16,
           0.000003658030597400207
          ],
          [
           28,
           0.3668230677675652
          ],
          [
           15,
           0.08528628787475293
          ],
          [
           30,
           0.7792575530697596
          ],
          [
           28,
           0.8398233628424789
          ],
          [
           6,
           0.19851402759459927
          ],
          [
           5,
           0.5423753274490164
          ],
          [
           7,
           0.5229666391015119
          ],
          [
           13,
           0.2628475750940376
          ],
          [
           42,
           0.28900036079269836
          ],
          [
           35,
           0.5643058521335528
          ],
          [
           12,
           0.012874965534369386
          ],
          [
           25,
           0.4458610363156143
          ],
          [
           44,
           0.1317741097432851
          ],
          [
           19,
           0.00481105663727845
          ],
          [
           33,
           0.008661416365945184
          ],
          [
           45,
           0.4414901750783961
          ],
          [
           22,
           0.0005915176174753091
          ],
          [
           54,
           0.026272808109529876
          ],
          [
           46,
           0.11314432926304205
          ],
          [
           53,
           0.6945782706605762
          ],
          [
           16,
           0.934680862801018
          ],
          [
           49,
           0.35321279776422476
          ],
          [
           39,
           0.6164861199983611
          ],
          [
           14,
           0.11853401738477866
          ],
          [
           43,
           0.8652510126715813
          ],
          [
           53,
           0.08323731174171142
          ],
          [
           52,
           0.37916260043923417
          ],
          [
           26,
           0.0515665834648154
          ],
          [
           5,
           0.860579055256982
          ],
          [
           21,
           0.35475419662361946
          ],
          [
           12,
           0.001398737224459728
          ],
          [
           36,
           0.0003462036059084081
          ],
          [
           34,
           0.2621184503948197
          ],
          [
           35,
           0.6537770457429778
          ],
          [
           28,
           0.000035662852684425704
          ],
          [
           6,
           0.7708411879713692
          ],
          [
           14,
           0.01244622249960266
          ],
          [
           8,
           0.08439048470214033
          ],
          [
           40,
           0.7494283129317315
          ],
          [
           25,
           0.707225595130927
          ],
          [
           30,
           0.1393082646721798
          ],
          [
           24,
           0.5441084536461089
          ],
          [
           33,
           0.03523504334005713
          ],
          [
           11,
           0.005663516559247546
          ],
          [
           14,
           0.825589607694397
          ],
          [
           17,
           0.09997055091284641
          ],
          [
           31,
           0.6152166664980193
          ],
          [
           13,
           0.17946451568416882
          ],
          [
           32,
           0.3361666087588261
          ],
          [
           22,
           0.4825397894353255
          ],
          [
           25,
           0.6932131322777539
          ],
          [
           13,
           0.651884013602324
          ],
          [
           17,
           0.2847502504823969
          ],
          [
           30,
           0.4866984262622921
          ],
          [
           7,
           0.040215865675291854
          ],
          [
           15,
           0.7555470153813973
          ],
          [
           18,
           0.6285670495943352
          ],
          [
           18,
           0.7768749766773948
          ],
          [
           7,
           0.6960386896218568
          ],
          [
           17,
           0.20065722983767734
          ],
          [
           12,
           0.6941418858728875
          ],
          [
           19,
           0.8052265327773311
          ],
          [
           18,
           0.083569960061545
          ],
          [
           5,
           0.7746598111609089
          ],
          [
           18,
           0.8661306286934679
          ],
          [
           11,
           0.24330465386647115
          ],
          [
           14,
           0.28987439775232643
          ],
          [
           15,
           0.8135393950829958
          ]
         ],
         "hovertemplate": "<b>num anoms = %{customdata[0]} </b><br><b>r2 = %{customdata[1]:.2f} </b><br>",
         "marker": {
          "color": [
           0.8206625342374364,
           0.6924908646276323,
           0.06129606935085399,
           0.0037307049045986838,
           0.07243832406108898,
           0.9212700977079284,
           0.014831154057773747,
           0.8392145116200246,
           0.26606795425497853,
           0.6808898923501681,
           0.07309762885574399,
           0.20868653318739308,
           0.49989389121870553,
           0.08580813237285013,
           0.17887757577097205,
           0.3343588218089219,
           0.6671051056921827,
           0.08662808891983649,
           0.0034673389722639537,
           0.24432958217278275,
           0.032903624788623825,
           0.00965782730068016,
           0.15807883746645632,
           0.0739859729404844,
           0.4567947772366625,
           0.40654127218226893,
           0.38589824285460944,
           0.25694074009553913,
           0.0042942044480052816,
           0.0005801128518510798,
           0.5398788344629869,
           0.3605107193164783,
           0.3696703726614471,
           0.07670382333767471,
           0.5714410006170443,
           0.4893889511008571,
           0.11397834965554346,
           0.09814167008885574,
           0.3844859268377438,
           0.7093520549353128,
           0.24705180111937453,
           0.3019334991299037,
           0.3925910644771974,
           0.00262423133788507,
           0.7544341597545151,
           0.2624360869348554,
           0.18416785076653408,
           0.06745617082422413,
           0.38342754910163906,
           0.9086134190469666,
           0.3083337819916454,
           0.39465024756124417,
           0.8010261789359531,
           0.6656934461311875,
           0.9871814675796641,
           0.5440828454737461,
           0.7902370931578246,
           0.9697774696805123,
           0.60672453342972,
           0.07294968215366614,
           0.8273890582303071,
           0.4625243970857332,
           0.7524572708043001,
           0.5587603371543416,
           0.34453612760704405,
           0.08719345074704551,
           0.35055136885255167,
           0.7482217368003243,
           0.8516309722767232,
           0.005241624061977983,
           0.2593510091187796,
           0.2115757547157949,
           0.06736706909105743,
           0.5338379996157143,
           0.6017593279000066,
           0.13699267364847995,
           0.10781040605062432,
           0.000003658030597400207,
           0.3668230677675652,
           0.08528628787475293,
           0.7792575530697596,
           0.8398233628424789,
           0.19851402759459927,
           0.5423753274490164,
           0.5229666391015119,
           0.2628475750940376,
           0.28900036079269836,
           0.5643058521335528,
           0.012874965534369386,
           0.4458610363156143,
           0.1317741097432851,
           0.00481105663727845,
           0.008661416365945184,
           0.4414901750783961,
           0.0005915176174753091,
           0.026272808109529876,
           0.11314432926304205,
           0.6945782706605762,
           0.934680862801018,
           0.35321279776422476,
           0.6164861199983611,
           0.11853401738477866,
           0.8652510126715813,
           0.08323731174171142,
           0.37916260043923417,
           0.0515665834648154,
           0.860579055256982,
           0.35475419662361946,
           0.001398737224459728,
           0.0003462036059084081,
           0.2621184503948197,
           0.6537770457429778,
           0.000035662852684425704,
           0.7708411879713692,
           0.01244622249960266,
           0.08439048470214033,
           0.7494283129317315,
           0.707225595130927,
           0.1393082646721798,
           0.5441084536461089,
           0.03523504334005713,
           0.005663516559247546,
           0.825589607694397,
           0.09997055091284641,
           0.6152166664980193,
           0.17946451568416882,
           0.3361666087588261,
           0.4825397894353255,
           0.6932131322777539,
           0.651884013602324,
           0.2847502504823969,
           0.4866984262622921,
           0.040215865675291854,
           0.7555470153813973,
           0.6285670495943352,
           0.7768749766773948,
           0.6960386896218568,
           0.20065722983767734,
           0.6941418858728875,
           0.8052265327773311,
           0.083569960061545,
           0.7746598111609089,
           0.8661306286934679,
           0.24330465386647115,
           0.28987439775232643,
           0.8135393950829958
          ]
         },
         "mode": "markers",
         "type": "scatter",
         "x": [
          "2022-05-24",
          "2022-05-25",
          "2022-06-02",
          "2022-06-14",
          "2022-06-15",
          "2022-06-16",
          "2022-06-17",
          "2022-06-20",
          "2022-06-21",
          "2022-06-23",
          "2022-06-24",
          "2022-06-25",
          "2022-06-27",
          "2022-07-05",
          "2022-07-06",
          "2022-07-07",
          "2022-07-08",
          "2022-07-26",
          "2022-07-29",
          "2022-07-31",
          "2022-08-03",
          "2022-08-09",
          "2022-08-17",
          "2022-08-23",
          "2022-08-25",
          "2022-08-26",
          "2022-08-29",
          "2022-09-08",
          "2022-09-10",
          "2022-09-11",
          "2022-09-12",
          "2022-09-22",
          "2022-09-26",
          "2022-09-27",
          "2022-10-03",
          "2022-10-04",
          "2022-10-05",
          "2022-10-06",
          "2022-10-07",
          "2022-10-10",
          "2022-10-11",
          "2022-10-12",
          "2022-10-17",
          "2022-10-18",
          "2022-10-19",
          "2022-10-20",
          "2022-10-21",
          "2022-10-28",
          "2022-11-14",
          "2022-11-15",
          "2022-11-17",
          "2022-11-22",
          "2022-12-08",
          "2023-01-23",
          "2023-01-30",
          "2023-01-31",
          "2023-02-01",
          "2023-02-02",
          "2023-02-07",
          "2023-02-10",
          "2023-02-13",
          "2023-02-16",
          "2023-02-17",
          "2023-03-16",
          "2023-03-17",
          "2023-03-28",
          "2023-04-06",
          "2023-04-08",
          "2023-04-10",
          "2023-04-11",
          "2023-04-16",
          "2023-04-26",
          "2023-04-27",
          "2023-04-28",
          "2023-04-29",
          "2023-05-01",
          "2023-05-02",
          "2023-05-03",
          "2023-05-09",
          "2023-05-15",
          "2023-05-18",
          "2023-05-19",
          "2023-05-22",
          "2023-05-23",
          "2023-05-30",
          "2023-06-09",
          "2023-06-16",
          "2023-06-21",
          "2023-06-22",
          "2023-06-24",
          "2023-06-25",
          "2023-06-26",
          "2023-06-30",
          "2023-07-05",
          "2023-07-09",
          "2023-07-10",
          "2023-07-11",
          "2023-07-12",
          "2023-07-14",
          "2023-07-20",
          "2023-07-21",
          "2023-07-25",
          "2023-07-28",
          "2023-08-04",
          "2023-08-05",
          "2023-08-06",
          "2023-08-07",
          "2023-08-08",
          "2023-08-09",
          "2023-08-10",
          "2023-08-13",
          "2023-08-14",
          "2023-08-16",
          "2023-08-17",
          "2023-08-25",
          "2023-08-28",
          "2023-08-29",
          "2023-08-30",
          "2023-08-31",
          "2023-09-06",
          "2023-09-07",
          "2023-09-08",
          "2023-09-11",
          "2023-09-14",
          "2023-09-15",
          "2023-09-23",
          "2023-09-25",
          "2023-09-26",
          "2023-09-27",
          "2023-09-29",
          "2023-10-05",
          "2023-10-06",
          "2023-10-09",
          "2023-10-18",
          "2023-10-19",
          "2023-10-20",
          "2023-10-22",
          "2023-10-27",
          "2023-10-31",
          "2023-11-09",
          "2023-11-14",
          "2023-11-17",
          "2023-11-21",
          "2023-11-22",
          "2023-11-27",
          "2023-11-28"
         ],
         "xaxis": "x3",
         "y": [
          1.7041890096468622,
          1.169914142971088,
          1.7402731522597574,
          1.0490836001386081,
          1.5601876754350201,
          1.2958121387620254,
          0.7903391993946612,
          0.7854631237520919,
          1.230523753573047,
          1.2765364912875206,
          1.6771814760706267,
          0.3914400653842001,
          1.2695876509602464,
          -1.0311648994709548,
          1.1433806400817579,
          0.9819246780755819,
          1.2435352846758503,
          1.8248218114764982,
          0.8590856862542406,
          3.5156667091142544,
          -2.3230942946634454,
          2.981825615091095,
          1.6753411181342917,
          0.7215894820045144,
          0.6452852316348486,
          1.9582208589610528,
          1.6638337326436097,
          1.8859616278616327,
          4.482788652535378,
          -1.3886668999270013,
          2.305315089115909,
          0.729873704940263,
          0.6023471343735538,
          -1.5058853833664876,
          0.7256311260195341,
          0.7986444434866494,
          0.9753159086592514,
          -1.7208909649474176,
          0.3506136796522482,
          0.9526850815753319,
          0.7661583816391242,
          0.3315998498469276,
          1.3606106798657212,
          1.0917581282538837,
          0.19082968677181406,
          0.33197443291920614,
          0.6626090301826262,
          0.7726222407891087,
          1.7265824388876616,
          0.8285469231342427,
          0.5000721245857497,
          0.749552982642575,
          0.578964587085297,
          2.092922953543597,
          1.7680235150224275,
          0.7885965343744705,
          0.3889735821367881,
          0.8620755338890497,
          0.8309093527814239,
          0.9816211898529548,
          0.823155680343883,
          0.6084897776454408,
          0.7363789637473273,
          0.9517713290957763,
          0.7360456767065134,
          3.5553874767241838,
          2.349257233078087,
          0.8496476080758403,
          2.9572396229225686,
          1.6877280678722497,
          -1.5299224910472098,
          0.6910520076639676,
          -1.2181156252239176,
          1.4046873667816913,
          2.6861239215918267,
          0.9586283080911108,
          0.9497227455856931,
          1.0444325656351876,
          1.1081975130128674,
          -2.047840604410309,
          1.739748681219164,
          2.0847722616695727,
          -2.428416290717149,
          -0.7216608216131688,
          1.0968111209500349,
          0.5851378873268068,
          -1.3039296313701478,
          0.505758713908616,
          0.3307680425863115,
          0.8340027963450356,
          1.6002797439920056,
          0.5333105484647085,
          -1.6099769901256566,
          0.6123674712452578,
          0.44094028138792907,
          0.3186676830395859,
          1.8885154255562615,
          0.8314846161984139,
          1.0110949050720228,
          0.3733542413275952,
          1.4577219733456939,
          1.0787054725235403,
          0.8162727087185127,
          1.0495338023426712,
          0.3215205716588952,
          0.43186072880956516,
          0.2481357370410718,
          1.6357940404310634,
          3.1557822938383113,
          0.9326044622206346,
          0.9031892032499146,
          0.5684925963473768,
          -0.764050305985634,
          1.9858392629236001,
          1.3488270596855254,
          1.0616320536309,
          1.2686958865295652,
          0.9329712903323036,
          1.6443116660663677,
          0.871270648816741,
          1.4590840940037546,
          -0.6028710201172893,
          0.934282996181714,
          -0.527511026441654,
          0.4827071267300611,
          3.1048003924318843,
          0.5338310781806277,
          0.6670652210152177,
          0.48071332586207266,
          1.2086534772062232,
          1.8691256411866224,
          0.7982070527057413,
          1.2817451406495948,
          0.6178892238830999,
          0.7239176701859332,
          1.2983191714560671,
          1.2731962790117466,
          2.440392331014555,
          0.7318108544797212,
          0.9489956312762539,
          0.32040060050303115,
          1.593171257188347,
          1.0815397438290535,
          0.39940824455998314,
          0.6994801798908751,
          0.725384145215098
         ],
         "yaxis": "y3"
        }
       ],
       "layout": {
        "height": 700,
        "template": {
         "data": {
          "bar": [
           {
            "error_x": {
             "color": "#2a3f5f"
            },
            "error_y": {
             "color": "#2a3f5f"
            },
            "marker": {
             "line": {
              "color": "#E5ECF6",
              "width": 0.5
             },
             "pattern": {
              "fillmode": "overlay",
              "size": 10,
              "solidity": 0.2
             }
            },
            "type": "bar"
           }
          ],
          "barpolar": [
           {
            "marker": {
             "line": {
              "color": "#E5ECF6",
              "width": 0.5
             },
             "pattern": {
              "fillmode": "overlay",
              "size": 10,
              "solidity": 0.2
             }
            },
            "type": "barpolar"
           }
          ],
          "carpet": [
           {
            "aaxis": {
             "endlinecolor": "#2a3f5f",
             "gridcolor": "white",
             "linecolor": "white",
             "minorgridcolor": "white",
             "startlinecolor": "#2a3f5f"
            },
            "baxis": {
             "endlinecolor": "#2a3f5f",
             "gridcolor": "white",
             "linecolor": "white",
             "minorgridcolor": "white",
             "startlinecolor": "#2a3f5f"
            },
            "type": "carpet"
           }
          ],
          "choropleth": [
           {
            "colorbar": {
             "outlinewidth": 0,
             "ticks": ""
            },
            "type": "choropleth"
           }
          ],
          "contour": [
           {
            "colorbar": {
             "outlinewidth": 0,
             "ticks": ""
            },
            "colorscale": [
             [
              0,
              "#0d0887"
             ],
             [
              0.1111111111111111,
              "#46039f"
             ],
             [
              0.2222222222222222,
              "#7201a8"
             ],
             [
              0.3333333333333333,
              "#9c179e"
             ],
             [
              0.4444444444444444,
              "#bd3786"
             ],
             [
              0.5555555555555556,
              "#d8576b"
             ],
             [
              0.6666666666666666,
              "#ed7953"
             ],
             [
              0.7777777777777778,
              "#fb9f3a"
             ],
             [
              0.8888888888888888,
              "#fdca26"
             ],
             [
              1,
              "#f0f921"
             ]
            ],
            "type": "contour"
           }
          ],
          "contourcarpet": [
           {
            "colorbar": {
             "outlinewidth": 0,
             "ticks": ""
            },
            "type": "contourcarpet"
           }
          ],
          "heatmap": [
           {
            "colorbar": {
             "outlinewidth": 0,
             "ticks": ""
            },
            "colorscale": [
             [
              0,
              "#0d0887"
             ],
             [
              0.1111111111111111,
              "#46039f"
             ],
             [
              0.2222222222222222,
              "#7201a8"
             ],
             [
              0.3333333333333333,
              "#9c179e"
             ],
             [
              0.4444444444444444,
              "#bd3786"
             ],
             [
              0.5555555555555556,
              "#d8576b"
             ],
             [
              0.6666666666666666,
              "#ed7953"
             ],
             [
              0.7777777777777778,
              "#fb9f3a"
             ],
             [
              0.8888888888888888,
              "#fdca26"
             ],
             [
              1,
              "#f0f921"
             ]
            ],
            "type": "heatmap"
           }
          ],
          "heatmapgl": [
           {
            "colorbar": {
             "outlinewidth": 0,
             "ticks": ""
            },
            "colorscale": [
             [
              0,
              "#0d0887"
             ],
             [
              0.1111111111111111,
              "#46039f"
             ],
             [
              0.2222222222222222,
              "#7201a8"
             ],
             [
              0.3333333333333333,
              "#9c179e"
             ],
             [
              0.4444444444444444,
              "#bd3786"
             ],
             [
              0.5555555555555556,
              "#d8576b"
             ],
             [
              0.6666666666666666,
              "#ed7953"
             ],
             [
              0.7777777777777778,
              "#fb9f3a"
             ],
             [
              0.8888888888888888,
              "#fdca26"
             ],
             [
              1,
              "#f0f921"
             ]
            ],
            "type": "heatmapgl"
           }
          ],
          "histogram": [
           {
            "marker": {
             "pattern": {
              "fillmode": "overlay",
              "size": 10,
              "solidity": 0.2
             }
            },
            "type": "histogram"
           }
          ],
          "histogram2d": [
           {
            "colorbar": {
             "outlinewidth": 0,
             "ticks": ""
            },
            "colorscale": [
             [
              0,
              "#0d0887"
             ],
             [
              0.1111111111111111,
              "#46039f"
             ],
             [
              0.2222222222222222,
              "#7201a8"
             ],
             [
              0.3333333333333333,
              "#9c179e"
             ],
             [
              0.4444444444444444,
              "#bd3786"
             ],
             [
              0.5555555555555556,
              "#d8576b"
             ],
             [
              0.6666666666666666,
              "#ed7953"
             ],
             [
              0.7777777777777778,
              "#fb9f3a"
             ],
             [
              0.8888888888888888,
              "#fdca26"
             ],
             [
              1,
              "#f0f921"
             ]
            ],
            "type": "histogram2d"
           }
          ],
          "histogram2dcontour": [
           {
            "colorbar": {
             "outlinewidth": 0,
             "ticks": ""
            },
            "colorscale": [
             [
              0,
              "#0d0887"
             ],
             [
              0.1111111111111111,
              "#46039f"
             ],
             [
              0.2222222222222222,
              "#7201a8"
             ],
             [
              0.3333333333333333,
              "#9c179e"
             ],
             [
              0.4444444444444444,
              "#bd3786"
             ],
             [
              0.5555555555555556,
              "#d8576b"
             ],
             [
              0.6666666666666666,
              "#ed7953"
             ],
             [
              0.7777777777777778,
              "#fb9f3a"
             ],
             [
              0.8888888888888888,
              "#fdca26"
             ],
             [
              1,
              "#f0f921"
             ]
            ],
            "type": "histogram2dcontour"
           }
          ],
          "mesh3d": [
           {
            "colorbar": {
             "outlinewidth": 0,
             "ticks": ""
            },
            "type": "mesh3d"
           }
          ],
          "parcoords": [
           {
            "line": {
             "colorbar": {
              "outlinewidth": 0,
              "ticks": ""
             }
            },
            "type": "parcoords"
           }
          ],
          "pie": [
           {
            "automargin": true,
            "type": "pie"
           }
          ],
          "scatter": [
           {
            "fillpattern": {
             "fillmode": "overlay",
             "size": 10,
             "solidity": 0.2
            },
            "type": "scatter"
           }
          ],
          "scatter3d": [
           {
            "line": {
             "colorbar": {
              "outlinewidth": 0,
              "ticks": ""
             }
            },
            "marker": {
             "colorbar": {
              "outlinewidth": 0,
              "ticks": ""
             }
            },
            "type": "scatter3d"
           }
          ],
          "scattercarpet": [
           {
            "marker": {
             "colorbar": {
              "outlinewidth": 0,
              "ticks": ""
             }
            },
            "type": "scattercarpet"
           }
          ],
          "scattergeo": [
           {
            "marker": {
             "colorbar": {
              "outlinewidth": 0,
              "ticks": ""
             }
            },
            "type": "scattergeo"
           }
          ],
          "scattergl": [
           {
            "marker": {
             "colorbar": {
              "outlinewidth": 0,
              "ticks": ""
             }
            },
            "type": "scattergl"
           }
          ],
          "scattermapbox": [
           {
            "marker": {
             "colorbar": {
              "outlinewidth": 0,
              "ticks": ""
             }
            },
            "type": "scattermapbox"
           }
          ],
          "scatterpolar": [
           {
            "marker": {
             "colorbar": {
              "outlinewidth": 0,
              "ticks": ""
             }
            },
            "type": "scatterpolar"
           }
          ],
          "scatterpolargl": [
           {
            "marker": {
             "colorbar": {
              "outlinewidth": 0,
              "ticks": ""
             }
            },
            "type": "scatterpolargl"
           }
          ],
          "scatterternary": [
           {
            "marker": {
             "colorbar": {
              "outlinewidth": 0,
              "ticks": ""
             }
            },
            "type": "scatterternary"
           }
          ],
          "surface": [
           {
            "colorbar": {
             "outlinewidth": 0,
             "ticks": ""
            },
            "colorscale": [
             [
              0,
              "#0d0887"
             ],
             [
              0.1111111111111111,
              "#46039f"
             ],
             [
              0.2222222222222222,
              "#7201a8"
             ],
             [
              0.3333333333333333,
              "#9c179e"
             ],
             [
              0.4444444444444444,
              "#bd3786"
             ],
             [
              0.5555555555555556,
              "#d8576b"
             ],
             [
              0.6666666666666666,
              "#ed7953"
             ],
             [
              0.7777777777777778,
              "#fb9f3a"
             ],
             [
              0.8888888888888888,
              "#fdca26"
             ],
             [
              1,
              "#f0f921"
             ]
            ],
            "type": "surface"
           }
          ],
          "table": [
           {
            "cells": {
             "fill": {
              "color": "#EBF0F8"
             },
             "line": {
              "color": "white"
             }
            },
            "header": {
             "fill": {
              "color": "#C8D4E3"
             },
             "line": {
              "color": "white"
             }
            },
            "type": "table"
           }
          ]
         },
         "layout": {
          "annotationdefaults": {
           "arrowcolor": "#2a3f5f",
           "arrowhead": 0,
           "arrowwidth": 1
          },
          "autotypenumbers": "strict",
          "coloraxis": {
           "colorbar": {
            "outlinewidth": 0,
            "ticks": ""
           }
          },
          "colorscale": {
           "diverging": [
            [
             0,
             "#8e0152"
            ],
            [
             0.1,
             "#c51b7d"
            ],
            [
             0.2,
             "#de77ae"
            ],
            [
             0.3,
             "#f1b6da"
            ],
            [
             0.4,
             "#fde0ef"
            ],
            [
             0.5,
             "#f7f7f7"
            ],
            [
             0.6,
             "#e6f5d0"
            ],
            [
             0.7,
             "#b8e186"
            ],
            [
             0.8,
             "#7fbc41"
            ],
            [
             0.9,
             "#4d9221"
            ],
            [
             1,
             "#276419"
            ]
           ],
           "sequential": [
            [
             0,
             "#0d0887"
            ],
            [
             0.1111111111111111,
             "#46039f"
            ],
            [
             0.2222222222222222,
             "#7201a8"
            ],
            [
             0.3333333333333333,
             "#9c179e"
            ],
            [
             0.4444444444444444,
             "#bd3786"
            ],
            [
             0.5555555555555556,
             "#d8576b"
            ],
            [
             0.6666666666666666,
             "#ed7953"
            ],
            [
             0.7777777777777778,
             "#fb9f3a"
            ],
            [
             0.8888888888888888,
             "#fdca26"
            ],
            [
             1,
             "#f0f921"
            ]
           ],
           "sequentialminus": [
            [
             0,
             "#0d0887"
            ],
            [
             0.1111111111111111,
             "#46039f"
            ],
            [
             0.2222222222222222,
             "#7201a8"
            ],
            [
             0.3333333333333333,
             "#9c179e"
            ],
            [
             0.4444444444444444,
             "#bd3786"
            ],
            [
             0.5555555555555556,
             "#d8576b"
            ],
            [
             0.6666666666666666,
             "#ed7953"
            ],
            [
             0.7777777777777778,
             "#fb9f3a"
            ],
            [
             0.8888888888888888,
             "#fdca26"
            ],
            [
             1,
             "#f0f921"
            ]
           ]
          },
          "colorway": [
           "#636efa",
           "#EF553B",
           "#00cc96",
           "#ab63fa",
           "#FFA15A",
           "#19d3f3",
           "#FF6692",
           "#B6E880",
           "#FF97FF",
           "#FECB52"
          ],
          "font": {
           "color": "#2a3f5f"
          },
          "geo": {
           "bgcolor": "white",
           "lakecolor": "white",
           "landcolor": "#E5ECF6",
           "showlakes": true,
           "showland": true,
           "subunitcolor": "white"
          },
          "hoverlabel": {
           "align": "left"
          },
          "hovermode": "closest",
          "mapbox": {
           "style": "light"
          },
          "paper_bgcolor": "white",
          "plot_bgcolor": "#E5ECF6",
          "polar": {
           "angularaxis": {
            "gridcolor": "white",
            "linecolor": "white",
            "ticks": ""
           },
           "bgcolor": "#E5ECF6",
           "radialaxis": {
            "gridcolor": "white",
            "linecolor": "white",
            "ticks": ""
           }
          },
          "scene": {
           "xaxis": {
            "backgroundcolor": "#E5ECF6",
            "gridcolor": "white",
            "gridwidth": 2,
            "linecolor": "white",
            "showbackground": true,
            "ticks": "",
            "zerolinecolor": "white"
           },
           "yaxis": {
            "backgroundcolor": "#E5ECF6",
            "gridcolor": "white",
            "gridwidth": 2,
            "linecolor": "white",
            "showbackground": true,
            "ticks": "",
            "zerolinecolor": "white"
           },
           "zaxis": {
            "backgroundcolor": "#E5ECF6",
            "gridcolor": "white",
            "gridwidth": 2,
            "linecolor": "white",
            "showbackground": true,
            "ticks": "",
            "zerolinecolor": "white"
           }
          },
          "shapedefaults": {
           "line": {
            "color": "#2a3f5f"
           }
          },
          "ternary": {
           "aaxis": {
            "gridcolor": "white",
            "linecolor": "white",
            "ticks": ""
           },
           "baxis": {
            "gridcolor": "white",
            "linecolor": "white",
            "ticks": ""
           },
           "bgcolor": "#E5ECF6",
           "caxis": {
            "gridcolor": "white",
            "linecolor": "white",
            "ticks": ""
           }
          },
          "title": {
           "x": 0.05
          },
          "xaxis": {
           "automargin": true,
           "gridcolor": "white",
           "linecolor": "white",
           "ticks": "",
           "title": {
            "standoff": 15
           },
           "zerolinecolor": "white",
           "zerolinewidth": 2
          },
          "yaxis": {
           "automargin": true,
           "gridcolor": "white",
           "linecolor": "white",
           "ticks": "",
           "title": {
            "standoff": 15
           },
           "zerolinecolor": "white",
           "zerolinewidth": 2
          }
         }
        },
        "xaxis": {
         "anchor": "y",
         "domain": [
          0,
          1
         ],
         "matches": "x3",
         "showticklabels": false
        },
        "xaxis2": {
         "anchor": "y2",
         "domain": [
          0,
          1
         ],
         "matches": "x3",
         "showticklabels": false
        },
        "xaxis3": {
         "anchor": "y3",
         "domain": [
          0,
          1
         ]
        },
        "yaxis": {
         "anchor": "x",
         "domain": [
          0.7333333333333333,
          1
         ]
        },
        "yaxis2": {
         "anchor": "x2",
         "domain": [
          0.36666666666666664,
          0.6333333333333333
         ]
        },
        "yaxis3": {
         "anchor": "x3",
         "domain": [
          0,
          0.26666666666666666
         ]
        }
       }
      },
      "text/html": [
       "<div>                            <div id=\"e85bedab-07d1-4662-9818-71c05b6ddcea\" class=\"plotly-graph-div\" style=\"height:700px; width:100%;\"></div>            <script type=\"text/javascript\">                require([\"plotly\"], function(Plotly) {                    window.PLOTLYENV=window.PLOTLYENV || {};                                    if (document.getElementById(\"e85bedab-07d1-4662-9818-71c05b6ddcea\")) {                    Plotly.newPlot(                        \"e85bedab-07d1-4662-9818-71c05b6ddcea\",                        [{\"customdata\":[[9.0,0.8613435386350079],[39.0,0.016956544225859245],[8.0,0.8171245354876306],[33.0,0.5488032651832966],[50.0,0.2116614985595954],[58.0,0.0400759297310165],[23.0,0.014942532003746692],[10.0,0.2366817777619431],[53.0,0.006387595717575494],[7.0,0.04642023188176254],[35.0,0.014075751219997497],[53.0,0.044232026526870964],[33.0,0.28443676447708005],[47.0,0.21667627722283261],[57.0,0.1024215167102175],[42.0,0.1834747968593991],[50.0,0.0319269915578362],[37.0,0.822235246323783],[15.0,0.02634002841969733],[28.0,0.015875636828525715],[25.0,0.07366268919510106],[10.0,0.6278851073396561],[17.0,0.667730521844656],[22.0,0.5354938042864313],[8.0,0.6484247344526688],[7.0,0.6904060144846901],[6.0,0.4691656302938992],[7.0,0.08128865361173256],[39.0,0.5567331910593408],[10.0,0.002825355695612018],[9.0,0.5630765800228378],[31.0,0.31694508304420893],[24.0,0.29416493252441234],[32.0,0.9087132610581555],[28.0,0.7834103156860988],[24.0,0.8227758420034769],[18.0,0.8856021884380054],[24.0,0.8868249785338265],[21.0,0.7534520815077252],[24.0,0.8201215498157243],[8.0,0.01318889571835412],[24.0,0.1014653400038368],[18.0,0.18531354812337406],[24.0,0.40924716550435525],[20.0,0.7748411119343014],[25.0,0.1206791711914064],[11.0,0.14920265424461615],[8.0,0.23442359072214794],[10.0,0.7393003120531705],[13.0,0.5959561940213705],[7.0,0.9807154544807046],[14.0,0.19472556728392773],[12.0,0.8993105169211788],[14.0,0.5086313703792184],[13.0,0.918826864810798],[19.0,0.4320640970369509],[13.0,0.8086726532717876],[14.0,0.9546219371688804],[20.0,0.13041846861741688],[11.0,0.6881773072101358],[16.0,0.9556618183395517],[19.0,0.572169689309063],[15.0,0.8096819444644603],[16.0,0.9467769542038106],[22.0,0.3468039003627881],[13.0,0.9171321943871029],[24.0,0.824822088480015],[11.0,0.9246968840593446],[19.0,0.9558268192325454],[20.0,0.12181314386236118],[34.0,0.000382833417782581],[23.0,0.03383958142945016],[8.0,0.3533766408828593],[43.0,0.2631012527535107],[39.0,0.8887644719181557],[25.0,0.1981374804798338],[11.0,0.23948851124657977],[16.0,0.10032899608504749],[28.0,0.2691388817754652],[15.0,0.022947022094697875],[30.0,8.939663014808e-05],[28.0,0.4683982009222146],[6.0,0.014553924862687962],[5.0,0.16938019998777196],[7.0,0.29138206941788886],[13.0,0.11943647063284167],[42.0,0.10516505031569481],[35.0,0.7122762611653594],[12.0,0.5014815701387354],[25.0,0.007266122416348042],[44.0,0.031089666326355864],[19.0,0.032074171193237945],[33.0,0.015422366338461816],[45.0,0.419292142898214],[22.0,0.011352722036141398],[54.0,0.12652887095329107],[46.0,0.5901483079617864],[53.0,0.6015181540216756],[16.0,0.0007032997182065766],[49.0,0.24957519823606822],[39.0,0.4651095546935846],[14.0,0.5713941462917097],[43.0,0.9362112468343736],[53.0,0.10217447077647154],[52.0,0.027174819485438997],[26.0,0.4587909472643511],[5.0,0.5379565949506043],[21.0,0.82276649047395],[12.0,0.3473129854198302],[36.0,0.6110312445919955],[34.0,0.3660965692542192],[35.0,0.7034286611531725],[28.0,0.4482550274016991],[6.0,0.7592957671070207],[14.0,0.4503744516156727],[8.0,0.5645581876227104],[40.0,0.32357059327280213],[25.0,0.3252657821587654],[30.0,0.022332976177638113],[24.0,0.814779799305566],[33.0,0.3072044703779752],[11.0,0.20560818964839428],[14.0,0.9100576455011001],[17.0,0.637712958243222],[31.0,0.0293786967561631],[13.0,0.00013435808087350806],[32.0,0.01185535639616419],[22.0,0.3565786407492163],[25.0,0.5581140961124649],[13.0,0.6889194269725796],[17.0,0.9450422670373143],[30.0,0.7734325949900221],[7.0,0.6206884791019557],[15.0,0.9205645734854],[18.0,0.835817615961226],[18.0,0.7962267921171124],[7.0,0.6917788941683468],[17.0,0.7733567336105006],[12.0,0.9265932476654606],[19.0,0.9381619252126627],[18.0,0.5298479704002517],[5.0,0.967127365788704],[18.0,0.9175972586074936],[11.0,0.573797412686008],[14.0,0.6161931570605499],[15.0,0.7977618847157931]],\"hovertemplate\":\"<b>num anoms = %{customdata[0]} </b><br><b>r2 = %{customdata[1]:.2f} </b><br>\",\"marker\":{\"color\":[0.8613435386350079,0.016956544225859245,0.8171245354876306,0.5488032651832966,0.2116614985595954,0.0400759297310165,0.014942532003746692,0.2366817777619431,0.006387595717575494,0.04642023188176254,0.014075751219997497,0.044232026526870964,0.28443676447708005,0.21667627722283261,0.1024215167102175,0.1834747968593991,0.0319269915578362,0.822235246323783,0.02634002841969733,0.015875636828525715,0.07366268919510106,0.6278851073396561,0.667730521844656,0.5354938042864313,0.6484247344526688,0.6904060144846901,0.4691656302938992,0.08128865361173256,0.5567331910593408,0.002825355695612018,0.5630765800228378,0.31694508304420893,0.29416493252441234,0.9087132610581555,0.7834103156860988,0.8227758420034769,0.8856021884380054,0.8868249785338265,0.7534520815077252,0.8201215498157243,0.01318889571835412,0.1014653400038368,0.18531354812337406,0.40924716550435525,0.7748411119343014,0.1206791711914064,0.14920265424461615,0.23442359072214794,0.7393003120531705,0.5959561940213705,0.9807154544807046,0.19472556728392773,0.8993105169211788,0.5086313703792184,0.918826864810798,0.4320640970369509,0.8086726532717876,0.9546219371688804,0.13041846861741688,0.6881773072101358,0.9556618183395517,0.572169689309063,0.8096819444644603,0.9467769542038106,0.3468039003627881,0.9171321943871029,0.824822088480015,0.9246968840593446,0.9558268192325454,0.12181314386236118,0.000382833417782581,0.03383958142945016,0.3533766408828593,0.2631012527535107,0.8887644719181557,0.1981374804798338,0.23948851124657977,0.10032899608504749,0.2691388817754652,0.022947022094697875,8.939663014808e-05,0.4683982009222146,0.014553924862687962,0.16938019998777196,0.29138206941788886,0.11943647063284167,0.10516505031569481,0.7122762611653594,0.5014815701387354,0.007266122416348042,0.031089666326355864,0.032074171193237945,0.015422366338461816,0.419292142898214,0.011352722036141398,0.12652887095329107,0.5901483079617864,0.6015181540216756,0.0007032997182065766,0.24957519823606822,0.4651095546935846,0.5713941462917097,0.9362112468343736,0.10217447077647154,0.027174819485438997,0.4587909472643511,0.5379565949506043,0.82276649047395,0.3473129854198302,0.6110312445919955,0.3660965692542192,0.7034286611531725,0.4482550274016991,0.7592957671070207,0.4503744516156727,0.5645581876227104,0.32357059327280213,0.3252657821587654,0.022332976177638113,0.814779799305566,0.3072044703779752,0.20560818964839428,0.9100576455011001,0.637712958243222,0.0293786967561631,0.00013435808087350806,0.01185535639616419,0.3565786407492163,0.5581140961124649,0.6889194269725796,0.9450422670373143,0.7734325949900221,0.6206884791019557,0.9205645734854,0.835817615961226,0.7962267921171124,0.6917788941683468,0.7733567336105006,0.9265932476654606,0.9381619252126627,0.5298479704002517,0.967127365788704,0.9175972586074936,0.573797412686008,0.6161931570605499,0.7977618847157931]},\"mode\":\"markers\",\"x\":[\"2022-05-24\",\"2022-05-25\",\"2022-06-02\",\"2022-06-14\",\"2022-06-15\",\"2022-06-16\",\"2022-06-17\",\"2022-06-20\",\"2022-06-21\",\"2022-06-23\",\"2022-06-24\",\"2022-06-25\",\"2022-06-27\",\"2022-07-05\",\"2022-07-06\",\"2022-07-07\",\"2022-07-08\",\"2022-07-26\",\"2022-07-29\",\"2022-07-31\",\"2022-08-03\",\"2022-08-09\",\"2022-08-17\",\"2022-08-23\",\"2022-08-25\",\"2022-08-26\",\"2022-08-29\",\"2022-09-08\",\"2022-09-10\",\"2022-09-11\",\"2022-09-12\",\"2022-09-22\",\"2022-09-26\",\"2022-09-27\",\"2022-10-03\",\"2022-10-04\",\"2022-10-05\",\"2022-10-06\",\"2022-10-07\",\"2022-10-10\",\"2022-10-11\",\"2022-10-12\",\"2022-10-17\",\"2022-10-18\",\"2022-10-19\",\"2022-10-20\",\"2022-10-21\",\"2022-10-28\",\"2022-11-14\",\"2022-11-15\",\"2022-11-17\",\"2022-11-22\",\"2022-12-08\",\"2023-01-23\",\"2023-01-30\",\"2023-01-31\",\"2023-02-01\",\"2023-02-02\",\"2023-02-07\",\"2023-02-10\",\"2023-02-13\",\"2023-02-16\",\"2023-02-17\",\"2023-03-16\",\"2023-03-17\",\"2023-03-28\",\"2023-04-06\",\"2023-04-08\",\"2023-04-10\",\"2023-04-11\",\"2023-04-16\",\"2023-04-26\",\"2023-04-27\",\"2023-04-28\",\"2023-04-29\",\"2023-05-01\",\"2023-05-02\",\"2023-05-03\",\"2023-05-09\",\"2023-05-15\",\"2023-05-18\",\"2023-05-19\",\"2023-05-22\",\"2023-05-23\",\"2023-05-30\",\"2023-06-09\",\"2023-06-16\",\"2023-06-21\",\"2023-06-22\",\"2023-06-24\",\"2023-06-25\",\"2023-06-26\",\"2023-06-30\",\"2023-07-05\",\"2023-07-09\",\"2023-07-10\",\"2023-07-11\",\"2023-07-12\",\"2023-07-14\",\"2023-07-20\",\"2023-07-21\",\"2023-07-25\",\"2023-07-28\",\"2023-08-04\",\"2023-08-05\",\"2023-08-06\",\"2023-08-07\",\"2023-08-08\",\"2023-08-09\",\"2023-08-10\",\"2023-08-13\",\"2023-08-14\",\"2023-08-16\",\"2023-08-17\",\"2023-08-25\",\"2023-08-28\",\"2023-08-29\",\"2023-08-30\",\"2023-08-31\",\"2023-09-06\",\"2023-09-07\",\"2023-09-08\",\"2023-09-11\",\"2023-09-14\",\"2023-09-15\",\"2023-09-23\",\"2023-09-25\",\"2023-09-26\",\"2023-09-27\",\"2023-09-29\",\"2023-10-05\",\"2023-10-06\",\"2023-10-09\",\"2023-10-18\",\"2023-10-19\",\"2023-10-20\",\"2023-10-22\",\"2023-10-27\",\"2023-10-31\",\"2023-11-09\",\"2023-11-14\",\"2023-11-17\",\"2023-11-21\",\"2023-11-22\",\"2023-11-27\",\"2023-11-28\"],\"y\":[160.8678657291674,-118.40160315389697,191.36328763924055,207.29563288059379,168.23141315535565,51.96975858032147,207.42241870409902,72.46754329001813,138.6884366864724,-69.5451817634332,-185.83277392601036,524.2519450217654,85.81033095619198,175.89125105506494,264.738776076177,-351.78645322033657,77.08138155665111,225.16584066458321,157.24149836235662,38.969417433381764,132.46013533256126,171.47908212989412,158.455938530698,160.59930595401264,225.8489267577454,107.0083262240236,124.8874990451713,251.01671235510813,-47.593849955098605,165.7348811346949,125.85783049444818,271.33336435325776,201.16490594538735,185.98433970449747,145.98809132743182,245.19226227131148,226.29533069422274,174.6883179402449,309.6240395558307,241.00300032853866,162.09183029351536,190.61230104643587,207.0300141835146,250.98928100040717,496.89826341464544,245.61988226615287,194.67023362717498,194.1283840897751,103.87513066442433,75.69951942558247,246.9826526592556,301.7114332531635,309.844532748221,74.64153646510596,146.33257906513728,410.61122394420795,520.651479781735,242.33173975099,313.7175661486035,160.2680380916889,159.33852380535706,413.8923665907629,308.4605668786408,199.6288455496309,328.16592269503604,153.95387395431732,180.56096088790892,190.1102820222841,150.7175578394796,184.5950309878007,125.69696330495897,214.30551148211964,157.52273046146743,65.56551375443655,105.28396484949019,138.2546857105825,145.8698509440305,181.36522682318628,273.0035991002214,141.43046237034764,-72.8487136408289,66.64986457320452,-36.273338435184215,137.87582834650928,173.8146450445733,-186.7197522666826,58.41393837836937,509.3099867109254,298.3249572236346,79.98087081077014,-75.55540664712503,-269.4689925980704,152.20713518198187,214.51751145521862,171.9327545629185,-428.2445140305707,87.00053096861754,255.18436456169817,50.82759535718913,-636.0765848143741,113.14082460694542,134.06980777823745,193.69300628830325,136.12309702500752,190.36895685031382,387.0541196176932,440.75005798594844,287.9406835775543,37.22276732190693,130.66927977645057,107.44807953397208,161.77915048744325,252.84296582631927,268.09471359485593,316.29626740620404,155.74769419977406,93.75544098325767,207.82871379052855,-76.70638189629423,227.55483560027636,129.71093389809113,-140.06329044528312,120.97164913873397,283.3429516427556,116.90406039443019,81.99545148514098,-99.59223022163818,188.05281281062278,201.53740625759983,119.97330121468094,201.63388540458357,206.9877380733123,177.61465728009287,242.52229274349452,271.311253694746,226.09660543330264,147.0045275255572,248.34273784095384,299.06645046342425,219.0311734122106,141.8238910567296,279.1011588933573,284.0009032017,268.16767970707156,428.66933976000126,223.98612844250354],\"type\":\"scatter\",\"xaxis\":\"x\",\"yaxis\":\"y\"},{\"customdata\":[[9.0,0.930015241388022],[39.0,0.011603588451803986],[8.0,0.3346617257945968],[33.0,0.025939174337951156],[50.0,0.23884614067816415],[58.0,0.0075759722874518395],[23.0,0.8242659480938979],[10.0,0.1657004144403735],[53.0,0.06632786676980165],[7.0,0.02089285321483623],[35.0,0.12376909218691226],[53.0,0.21360110627350745],[33.0,0.45783720711773107],[47.0,0.025818220517323735],[57.0,0.26356604934990696],[42.0,0.46550307286744497],[50.0,0.03694779962628862],[37.0,0.18395586787365556],[15.0,0.025939289406000134],[28.0,0.37448118450539364],[25.0,0.43525890386727795],[10.0,0.10206258009154873],[17.0,0.5257343262751148],[22.0,0.31331797243863996],[8.0,0.703990158768482],[7.0,0.8440270705926074],[6.0,0.9917836758922824],[7.0,0.1799836988749146],[39.0,0.28561115175784124],[10.0,0.7823874817632211],[9.0,0.22893619506938354],[31.0,0.34267611537319426],[24.0,0.5937725696396252],[32.0,0.024336528460444335],[28.0,0.21490185610984683],[24.0,0.662336883856214],[18.0,0.02661652897110679],[24.0,0.01171864554693178],[21.0,0.6576557121071338],[24.0,0.8930751480349798],[8.0,0.05248574563612297],[24.0,0.09023058333709333],[18.0,0.8728013883179357],[24.0,0.3756769046485854],[20.0,0.7927692228228737],[25.0,0.6531742243027554],[11.0,0.8909532888099599],[8.0,0.4751479565402832],[10.0,0.2694770024625722],[13.0,0.6380786658207849],[7.0,0.2298526111397529],[14.0,0.14730946025284747],[12.0,0.7357019293982535],[14.0,0.8745358355977394],[13.0,0.9430884063873776],[19.0,0.8224613843933551],[13.0,0.8501035834856148],[14.0,0.9808113006135571],[20.0,0.10506221452942165],[11.0,0.31954406571953436],[16.0,0.8816927971249024],[19.0,0.9376970684715992],[15.0,0.8050657591645852],[16.0,0.5314570320256248],[22.0,0.9566323057998405],[13.0,0.05034382610499086],[24.0,0.5628098930010639],[11.0,0.9130140561816998],[19.0,0.9092571804719317],[20.0,0.5102933297623888],[34.0,0.459319942463265],[23.0,0.37591911679356127],[8.0,0.12469988879718602],[43.0,0.32380074922893837],[39.0,0.6407387153520375],[25.0,0.5005122847362551],[11.0,0.1483878937838236],[16.0,0.15809192769955943],[28.0,0.8668291160442657],[15.0,0.4148459828736771],[30.0,0.008180988044376006],[28.0,0.6240907389266059],[6.0,0.058798552003844824],[5.0,0.097594675276989],[7.0,0.7720116906591408],[13.0,0.15630995997541033],[42.0,0.08995826532632199],[35.0,0.8293799910644282],[12.0,0.19426126992017043],[25.0,0.12420147491866108],[44.0,0.0028762684424374855],[19.0,0.13079684784013962],[33.0,0.7521958782495722],[45.0,0.7426784219373581],[22.0,0.4173848660781732],[54.0,0.6235210401248138],[46.0,0.0050374265574970045],[53.0,0.3146496999737864],[16.0,0.030729769031970864],[49.0,0.5858695787486848],[39.0,0.269078830161545],[14.0,0.6323561393349136],[43.0,0.9030393217230406],[53.0,0.8910561658867115],[52.0,2.60209892849475e-06],[26.0,0.22112155902414574],[5.0,0.8401853911534617],[21.0,0.4533160227513774],[12.0,0.14576106595689178],[36.0,0.06627600015335626],[34.0,0.09585138176136979],[35.0,0.627186352076664],[28.0,0.0409649613186813],[6.0,0.6974383219952859],[14.0,0.2518886099984962],[8.0,0.4262189896090544],[40.0,0.26377857173416264],[25.0,0.2405105517323935],[30.0,0.049271258785760025],[24.0,0.5341933011143266],[33.0,0.04685366400231403],[11.0,0.04839640518248378],[14.0,0.7930442405616853],[17.0,0.4244310053842232],[31.0,0.15805330633170928],[13.0,0.43701249933316005],[32.0,0.287774456803725],[22.0,0.6567164957880244],[25.0,0.838011073453031],[13.0,0.7261383124977255],[17.0,0.2824284756202174],[30.0,0.8166041959289747],[7.0,0.01544894253661083],[15.0,0.9220050714941934],[18.0,0.8661052690184861],[18.0,0.8931353742280671],[7.0,0.6418749568468587],[17.0,0.38423695273580494],[12.0,0.8846775966303143],[19.0,0.749089339045598],[18.0,0.27529735952311346],[5.0,0.8786543843077733],[18.0,0.924511098199915],[11.0,0.0227055038996394],[14.0,0.14675709266384038],[15.0,0.6714367231546288]],\"hovertemplate\":\"<b>num anoms = %{customdata[0]} </b><br><b>r2 = %{customdata[1]:.2f} </b><br>\",\"marker\":{\"color\":[0.930015241388022,0.011603588451803986,0.3346617257945968,0.025939174337951156,0.23884614067816415,0.0075759722874518395,0.8242659480938979,0.1657004144403735,0.06632786676980165,0.02089285321483623,0.12376909218691226,0.21360110627350745,0.45783720711773107,0.025818220517323735,0.26356604934990696,0.46550307286744497,0.03694779962628862,0.18395586787365556,0.025939289406000134,0.37448118450539364,0.43525890386727795,0.10206258009154873,0.5257343262751148,0.31331797243863996,0.703990158768482,0.8440270705926074,0.9917836758922824,0.1799836988749146,0.28561115175784124,0.7823874817632211,0.22893619506938354,0.34267611537319426,0.5937725696396252,0.024336528460444335,0.21490185610984683,0.662336883856214,0.02661652897110679,0.01171864554693178,0.6576557121071338,0.8930751480349798,0.05248574563612297,0.09023058333709333,0.8728013883179357,0.3756769046485854,0.7927692228228737,0.6531742243027554,0.8909532888099599,0.4751479565402832,0.2694770024625722,0.6380786658207849,0.2298526111397529,0.14730946025284747,0.7357019293982535,0.8745358355977394,0.9430884063873776,0.8224613843933551,0.8501035834856148,0.9808113006135571,0.10506221452942165,0.31954406571953436,0.8816927971249024,0.9376970684715992,0.8050657591645852,0.5314570320256248,0.9566323057998405,0.05034382610499086,0.5628098930010639,0.9130140561816998,0.9092571804719317,0.5102933297623888,0.459319942463265,0.37591911679356127,0.12469988879718602,0.32380074922893837,0.6407387153520375,0.5005122847362551,0.1483878937838236,0.15809192769955943,0.8668291160442657,0.4148459828736771,0.008180988044376006,0.6240907389266059,0.058798552003844824,0.097594675276989,0.7720116906591408,0.15630995997541033,0.08995826532632199,0.8293799910644282,0.19426126992017043,0.12420147491866108,0.0028762684424374855,0.13079684784013962,0.7521958782495722,0.7426784219373581,0.4173848660781732,0.6235210401248138,0.0050374265574970045,0.3146496999737864,0.030729769031970864,0.5858695787486848,0.269078830161545,0.6323561393349136,0.9030393217230406,0.8910561658867115,2.60209892849475e-06,0.22112155902414574,0.8401853911534617,0.4533160227513774,0.14576106595689178,0.06627600015335626,0.09585138176136979,0.627186352076664,0.0409649613186813,0.6974383219952859,0.2518886099984962,0.4262189896090544,0.26377857173416264,0.2405105517323935,0.049271258785760025,0.5341933011143266,0.04685366400231403,0.04839640518248378,0.7930442405616853,0.4244310053842232,0.15805330633170928,0.43701249933316005,0.287774456803725,0.6567164957880244,0.838011073453031,0.7261383124977255,0.2824284756202174,0.8166041959289747,0.01544894253661083,0.9220050714941934,0.8661052690184861,0.8931353742280671,0.6418749568468587,0.38423695273580494,0.8846775966303143,0.749089339045598,0.27529735952311346,0.8786543843077733,0.924511098199915,0.0227055038996394,0.14675709266384038,0.6714367231546288]},\"mode\":\"markers\",\"x\":[\"2022-05-24\",\"2022-05-25\",\"2022-06-02\",\"2022-06-14\",\"2022-06-15\",\"2022-06-16\",\"2022-06-17\",\"2022-06-20\",\"2022-06-21\",\"2022-06-23\",\"2022-06-24\",\"2022-06-25\",\"2022-06-27\",\"2022-07-05\",\"2022-07-06\",\"2022-07-07\",\"2022-07-08\",\"2022-07-26\",\"2022-07-29\",\"2022-07-31\",\"2022-08-03\",\"2022-08-09\",\"2022-08-17\",\"2022-08-23\",\"2022-08-25\",\"2022-08-26\",\"2022-08-29\",\"2022-09-08\",\"2022-09-10\",\"2022-09-11\",\"2022-09-12\",\"2022-09-22\",\"2022-09-26\",\"2022-09-27\",\"2022-10-03\",\"2022-10-04\",\"2022-10-05\",\"2022-10-06\",\"2022-10-07\",\"2022-10-10\",\"2022-10-11\",\"2022-10-12\",\"2022-10-17\",\"2022-10-18\",\"2022-10-19\",\"2022-10-20\",\"2022-10-21\",\"2022-10-28\",\"2022-11-14\",\"2022-11-15\",\"2022-11-17\",\"2022-11-22\",\"2022-12-08\",\"2023-01-23\",\"2023-01-30\",\"2023-01-31\",\"2023-02-01\",\"2023-02-02\",\"2023-02-07\",\"2023-02-10\",\"2023-02-13\",\"2023-02-16\",\"2023-02-17\",\"2023-03-16\",\"2023-03-17\",\"2023-03-28\",\"2023-04-06\",\"2023-04-08\",\"2023-04-10\",\"2023-04-11\",\"2023-04-16\",\"2023-04-26\",\"2023-04-27\",\"2023-04-28\",\"2023-04-29\",\"2023-05-01\",\"2023-05-02\",\"2023-05-03\",\"2023-05-09\",\"2023-05-15\",\"2023-05-18\",\"2023-05-19\",\"2023-05-22\",\"2023-05-23\",\"2023-05-30\",\"2023-06-09\",\"2023-06-16\",\"2023-06-21\",\"2023-06-22\",\"2023-06-24\",\"2023-06-25\",\"2023-06-26\",\"2023-06-30\",\"2023-07-05\",\"2023-07-09\",\"2023-07-10\",\"2023-07-11\",\"2023-07-12\",\"2023-07-14\",\"2023-07-20\",\"2023-07-21\",\"2023-07-25\",\"2023-07-28\",\"2023-08-04\",\"2023-08-05\",\"2023-08-06\",\"2023-08-07\",\"2023-08-08\",\"2023-08-09\",\"2023-08-10\",\"2023-08-13\",\"2023-08-14\",\"2023-08-16\",\"2023-08-17\",\"2023-08-25\",\"2023-08-28\",\"2023-08-29\",\"2023-08-30\",\"2023-08-31\",\"2023-09-06\",\"2023-09-07\",\"2023-09-08\",\"2023-09-11\",\"2023-09-14\",\"2023-09-15\",\"2023-09-23\",\"2023-09-25\",\"2023-09-26\",\"2023-09-27\",\"2023-09-29\",\"2023-10-05\",\"2023-10-06\",\"2023-10-09\",\"2023-10-18\",\"2023-10-19\",\"2023-10-20\",\"2023-10-22\",\"2023-10-27\",\"2023-10-31\",\"2023-11-09\",\"2023-11-14\",\"2023-11-17\",\"2023-11-21\",\"2023-11-22\",\"2023-11-27\",\"2023-11-28\"],\"y\":[274.1492487809941,138.51971008019407,333.0243918067318,217.47044883538427,262.47257742600283,67.34304401691253,163.93406833510195,56.92058292321759,-170.65941568861584,88.7769623142459,311.67528607552504,205.21321563711393,108.9437365067931,181.37288421201646,302.69719124444043,-345.42779982972974,-95.85341775725804,410.88753724417313,135.08392052827043,137.00348354411716,307.7173846614213,511.320719547228,265.4677492330382,115.8867699936405,145.73697701735372,209.54593649439207,207.7920336968526,473.4078874537154,213.3531705091873,230.15054359508736,290.14195572224384,198.03908791441856,121.17110463272955,-280.07109869607024,105.93350309536693,195.82143784890408,220.7094360813817,-300.6195480252296,108.55842381746302,229.5999630278936,124.18801437460333,-63.20701040597545,281.6872483508416,274.01958763679283,94.82293996487515,81.5395211289883,128.9902547091277,149.98790711621083,179.3489764423563,62.72060390280718,123.50913985113817,226.14870469227492,179.38901196321058,156.21898495558167,258.7194408010414,323.80658817766204,202.519671135521,208.90826392409696,260.67085984469975,157.32250224696242,131.1604109679887,251.84927411595848,227.14387259500668,190.00101165462763,241.54510864208524,547.3656754503534,424.18414337744963,161.52674639085714,445.7079339130331,311.54621498785923,192.30661121659222,148.09625396317196,191.88089930304895,92.09904886740826,282.8057765422486,132.534855448404,138.53591533674054,189.42374916796217,302.54190956642725,289.6270435425221,-126.73845348514392,138.94978890625026,88.08676597469784,99.49958356513804,190.64183566887087,-109.25680136351143,76.16766513658567,257.587963859732,98.67636215550658,66.70426991029325,-120.90978680647306,-143.71065623670958,245.04998537593644,131.36354602765786,75.81207717677498,-136.4676870605355,164.3018447658196,212.1818734274198,51.39152270271642,-237.48189074961834,164.92786611199557,144.6218353505639,158.10631490278524,142.8657916073166,-61.207535832619655,167.15347418684152,109.36584048923847,471.0116541938098,-117.46695004213692,121.86275339467424,97.04594534502168,91.97024929547956,193.1847454059132,532.3930084389223,426.628964355017,165.3467444415836,118.9471423152244,193.89822327325248,126.12919861381859,198.2618492548396,189.25916046907713,84.44009879173215,113.02175481037945,-149.46653125607796,56.43042309607295,254.57950994869165,-53.16542763763039,125.44349114005146,96.8817168477065,145.00614768503374,376.8790653417923,165.21907235372657,-227.6567238769019,149.85191123762775,196.40701066992514,293.5455574351948,187.16561744341934,606.0537128902218,218.86007465985577,207.8596266814994,45.44045986025262,444.65594419685465,307.15826409598645,107.1083821995252,299.8457068890284,162.47598632030454],\"type\":\"scatter\",\"xaxis\":\"x2\",\"yaxis\":\"y2\"},{\"customdata\":[[9.0,0.8206625342374364],[39.0,0.6924908646276323],[8.0,0.06129606935085399],[33.0,0.0037307049045986838],[50.0,0.07243832406108898],[58.0,0.9212700977079284],[23.0,0.014831154057773747],[10.0,0.8392145116200246],[53.0,0.26606795425497853],[7.0,0.6808898923501681],[35.0,0.07309762885574399],[53.0,0.20868653318739308],[33.0,0.49989389121870553],[47.0,0.08580813237285013],[57.0,0.17887757577097205],[42.0,0.3343588218089219],[50.0,0.6671051056921827],[37.0,0.08662808891983649],[15.0,0.0034673389722639537],[28.0,0.24432958217278275],[25.0,0.032903624788623825],[10.0,0.00965782730068016],[17.0,0.15807883746645632],[22.0,0.0739859729404844],[8.0,0.4567947772366625],[7.0,0.40654127218226893],[6.0,0.38589824285460944],[7.0,0.25694074009553913],[39.0,0.0042942044480052816],[10.0,0.0005801128518510798],[9.0,0.5398788344629869],[31.0,0.3605107193164783],[24.0,0.3696703726614471],[32.0,0.07670382333767471],[28.0,0.5714410006170443],[24.0,0.4893889511008571],[18.0,0.11397834965554346],[24.0,0.09814167008885574],[21.0,0.3844859268377438],[24.0,0.7093520549353128],[8.0,0.24705180111937453],[24.0,0.3019334991299037],[18.0,0.3925910644771974],[24.0,0.00262423133788507],[20.0,0.7544341597545151],[25.0,0.2624360869348554],[11.0,0.18416785076653408],[8.0,0.06745617082422413],[10.0,0.38342754910163906],[13.0,0.9086134190469666],[7.0,0.3083337819916454],[14.0,0.39465024756124417],[12.0,0.8010261789359531],[14.0,0.6656934461311875],[13.0,0.9871814675796641],[19.0,0.5440828454737461],[13.0,0.7902370931578246],[14.0,0.9697774696805123],[20.0,0.60672453342972],[11.0,0.07294968215366614],[16.0,0.8273890582303071],[19.0,0.4625243970857332],[15.0,0.7524572708043001],[16.0,0.5587603371543416],[22.0,0.34453612760704405],[13.0,0.08719345074704551],[24.0,0.35055136885255167],[11.0,0.7482217368003243],[19.0,0.8516309722767232],[20.0,0.005241624061977983],[34.0,0.2593510091187796],[23.0,0.2115757547157949],[8.0,0.06736706909105743],[43.0,0.5338379996157143],[39.0,0.6017593279000066],[25.0,0.13699267364847995],[11.0,0.10781040605062432],[16.0,3.658030597400207e-06],[28.0,0.3668230677675652],[15.0,0.08528628787475293],[30.0,0.7792575530697596],[28.0,0.8398233628424789],[6.0,0.19851402759459927],[5.0,0.5423753274490164],[7.0,0.5229666391015119],[13.0,0.2628475750940376],[42.0,0.28900036079269836],[35.0,0.5643058521335528],[12.0,0.012874965534369386],[25.0,0.4458610363156143],[44.0,0.1317741097432851],[19.0,0.00481105663727845],[33.0,0.008661416365945184],[45.0,0.4414901750783961],[22.0,0.0005915176174753091],[54.0,0.026272808109529876],[46.0,0.11314432926304205],[53.0,0.6945782706605762],[16.0,0.934680862801018],[49.0,0.35321279776422476],[39.0,0.6164861199983611],[14.0,0.11853401738477866],[43.0,0.8652510126715813],[53.0,0.08323731174171142],[52.0,0.37916260043923417],[26.0,0.0515665834648154],[5.0,0.860579055256982],[21.0,0.35475419662361946],[12.0,0.001398737224459728],[36.0,0.0003462036059084081],[34.0,0.2621184503948197],[35.0,0.6537770457429778],[28.0,3.5662852684425704e-05],[6.0,0.7708411879713692],[14.0,0.01244622249960266],[8.0,0.08439048470214033],[40.0,0.7494283129317315],[25.0,0.707225595130927],[30.0,0.1393082646721798],[24.0,0.5441084536461089],[33.0,0.03523504334005713],[11.0,0.005663516559247546],[14.0,0.825589607694397],[17.0,0.09997055091284641],[31.0,0.6152166664980193],[13.0,0.17946451568416882],[32.0,0.3361666087588261],[22.0,0.4825397894353255],[25.0,0.6932131322777539],[13.0,0.651884013602324],[17.0,0.2847502504823969],[30.0,0.4866984262622921],[7.0,0.040215865675291854],[15.0,0.7555470153813973],[18.0,0.6285670495943352],[18.0,0.7768749766773948],[7.0,0.6960386896218568],[17.0,0.20065722983767734],[12.0,0.6941418858728875],[19.0,0.8052265327773311],[18.0,0.083569960061545],[5.0,0.7746598111609089],[18.0,0.8661306286934679],[11.0,0.24330465386647115],[14.0,0.28987439775232643],[15.0,0.8135393950829958]],\"hovertemplate\":\"<b>num anoms = %{customdata[0]} </b><br><b>r2 = %{customdata[1]:.2f} </b><br>\",\"marker\":{\"color\":[0.8206625342374364,0.6924908646276323,0.06129606935085399,0.0037307049045986838,0.07243832406108898,0.9212700977079284,0.014831154057773747,0.8392145116200246,0.26606795425497853,0.6808898923501681,0.07309762885574399,0.20868653318739308,0.49989389121870553,0.08580813237285013,0.17887757577097205,0.3343588218089219,0.6671051056921827,0.08662808891983649,0.0034673389722639537,0.24432958217278275,0.032903624788623825,0.00965782730068016,0.15807883746645632,0.0739859729404844,0.4567947772366625,0.40654127218226893,0.38589824285460944,0.25694074009553913,0.0042942044480052816,0.0005801128518510798,0.5398788344629869,0.3605107193164783,0.3696703726614471,0.07670382333767471,0.5714410006170443,0.4893889511008571,0.11397834965554346,0.09814167008885574,0.3844859268377438,0.7093520549353128,0.24705180111937453,0.3019334991299037,0.3925910644771974,0.00262423133788507,0.7544341597545151,0.2624360869348554,0.18416785076653408,0.06745617082422413,0.38342754910163906,0.9086134190469666,0.3083337819916454,0.39465024756124417,0.8010261789359531,0.6656934461311875,0.9871814675796641,0.5440828454737461,0.7902370931578246,0.9697774696805123,0.60672453342972,0.07294968215366614,0.8273890582303071,0.4625243970857332,0.7524572708043001,0.5587603371543416,0.34453612760704405,0.08719345074704551,0.35055136885255167,0.7482217368003243,0.8516309722767232,0.005241624061977983,0.2593510091187796,0.2115757547157949,0.06736706909105743,0.5338379996157143,0.6017593279000066,0.13699267364847995,0.10781040605062432,3.658030597400207e-06,0.3668230677675652,0.08528628787475293,0.7792575530697596,0.8398233628424789,0.19851402759459927,0.5423753274490164,0.5229666391015119,0.2628475750940376,0.28900036079269836,0.5643058521335528,0.012874965534369386,0.4458610363156143,0.1317741097432851,0.00481105663727845,0.008661416365945184,0.4414901750783961,0.0005915176174753091,0.026272808109529876,0.11314432926304205,0.6945782706605762,0.934680862801018,0.35321279776422476,0.6164861199983611,0.11853401738477866,0.8652510126715813,0.08323731174171142,0.37916260043923417,0.0515665834648154,0.860579055256982,0.35475419662361946,0.001398737224459728,0.0003462036059084081,0.2621184503948197,0.6537770457429778,3.5662852684425704e-05,0.7708411879713692,0.01244622249960266,0.08439048470214033,0.7494283129317315,0.707225595130927,0.1393082646721798,0.5441084536461089,0.03523504334005713,0.005663516559247546,0.825589607694397,0.09997055091284641,0.6152166664980193,0.17946451568416882,0.3361666087588261,0.4825397894353255,0.6932131322777539,0.651884013602324,0.2847502504823969,0.4866984262622921,0.040215865675291854,0.7555470153813973,0.6285670495943352,0.7768749766773948,0.6960386896218568,0.20065722983767734,0.6941418858728875,0.8052265327773311,0.083569960061545,0.7746598111609089,0.8661306286934679,0.24330465386647115,0.28987439775232643,0.8135393950829958]},\"mode\":\"markers\",\"x\":[\"2022-05-24\",\"2022-05-25\",\"2022-06-02\",\"2022-06-14\",\"2022-06-15\",\"2022-06-16\",\"2022-06-17\",\"2022-06-20\",\"2022-06-21\",\"2022-06-23\",\"2022-06-24\",\"2022-06-25\",\"2022-06-27\",\"2022-07-05\",\"2022-07-06\",\"2022-07-07\",\"2022-07-08\",\"2022-07-26\",\"2022-07-29\",\"2022-07-31\",\"2022-08-03\",\"2022-08-09\",\"2022-08-17\",\"2022-08-23\",\"2022-08-25\",\"2022-08-26\",\"2022-08-29\",\"2022-09-08\",\"2022-09-10\",\"2022-09-11\",\"2022-09-12\",\"2022-09-22\",\"2022-09-26\",\"2022-09-27\",\"2022-10-03\",\"2022-10-04\",\"2022-10-05\",\"2022-10-06\",\"2022-10-07\",\"2022-10-10\",\"2022-10-11\",\"2022-10-12\",\"2022-10-17\",\"2022-10-18\",\"2022-10-19\",\"2022-10-20\",\"2022-10-21\",\"2022-10-28\",\"2022-11-14\",\"2022-11-15\",\"2022-11-17\",\"2022-11-22\",\"2022-12-08\",\"2023-01-23\",\"2023-01-30\",\"2023-01-31\",\"2023-02-01\",\"2023-02-02\",\"2023-02-07\",\"2023-02-10\",\"2023-02-13\",\"2023-02-16\",\"2023-02-17\",\"2023-03-16\",\"2023-03-17\",\"2023-03-28\",\"2023-04-06\",\"2023-04-08\",\"2023-04-10\",\"2023-04-11\",\"2023-04-16\",\"2023-04-26\",\"2023-04-27\",\"2023-04-28\",\"2023-04-29\",\"2023-05-01\",\"2023-05-02\",\"2023-05-03\",\"2023-05-09\",\"2023-05-15\",\"2023-05-18\",\"2023-05-19\",\"2023-05-22\",\"2023-05-23\",\"2023-05-30\",\"2023-06-09\",\"2023-06-16\",\"2023-06-21\",\"2023-06-22\",\"2023-06-24\",\"2023-06-25\",\"2023-06-26\",\"2023-06-30\",\"2023-07-05\",\"2023-07-09\",\"2023-07-10\",\"2023-07-11\",\"2023-07-12\",\"2023-07-14\",\"2023-07-20\",\"2023-07-21\",\"2023-07-25\",\"2023-07-28\",\"2023-08-04\",\"2023-08-05\",\"2023-08-06\",\"2023-08-07\",\"2023-08-08\",\"2023-08-09\",\"2023-08-10\",\"2023-08-13\",\"2023-08-14\",\"2023-08-16\",\"2023-08-17\",\"2023-08-25\",\"2023-08-28\",\"2023-08-29\",\"2023-08-30\",\"2023-08-31\",\"2023-09-06\",\"2023-09-07\",\"2023-09-08\",\"2023-09-11\",\"2023-09-14\",\"2023-09-15\",\"2023-09-23\",\"2023-09-25\",\"2023-09-26\",\"2023-09-27\",\"2023-09-29\",\"2023-10-05\",\"2023-10-06\",\"2023-10-09\",\"2023-10-18\",\"2023-10-19\",\"2023-10-20\",\"2023-10-22\",\"2023-10-27\",\"2023-10-31\",\"2023-11-09\",\"2023-11-14\",\"2023-11-17\",\"2023-11-21\",\"2023-11-22\",\"2023-11-27\",\"2023-11-28\"],\"y\":[1.7041890096468622,1.169914142971088,1.7402731522597574,1.0490836001386081,1.5601876754350201,1.2958121387620254,0.7903391993946612,0.7854631237520919,1.230523753573047,1.2765364912875206,1.6771814760706267,0.3914400653842001,1.2695876509602464,-1.0311648994709548,1.1433806400817579,0.9819246780755819,1.2435352846758503,1.8248218114764982,0.8590856862542406,3.5156667091142544,-2.3230942946634454,2.981825615091095,1.6753411181342917,0.7215894820045144,0.6452852316348486,1.9582208589610528,1.6638337326436097,1.8859616278616327,4.482788652535378,-1.3886668999270013,2.305315089115909,0.729873704940263,0.6023471343735538,-1.5058853833664876,0.7256311260195341,0.7986444434866494,0.9753159086592514,-1.7208909649474176,0.3506136796522482,0.9526850815753319,0.7661583816391242,0.3315998498469276,1.3606106798657212,1.0917581282538837,0.19082968677181406,0.33197443291920614,0.6626090301826262,0.7726222407891087,1.7265824388876616,0.8285469231342427,0.5000721245857497,0.749552982642575,0.578964587085297,2.092922953543597,1.7680235150224275,0.7885965343744705,0.3889735821367881,0.8620755338890497,0.8309093527814239,0.9816211898529548,0.823155680343883,0.6084897776454408,0.7363789637473273,0.9517713290957763,0.7360456767065134,3.5553874767241838,2.349257233078087,0.8496476080758403,2.9572396229225686,1.6877280678722497,-1.5299224910472098,0.6910520076639676,-1.2181156252239176,1.4046873667816913,2.6861239215918267,0.9586283080911108,0.9497227455856931,1.0444325656351876,1.1081975130128674,-2.047840604410309,1.739748681219164,2.0847722616695727,-2.428416290717149,-0.7216608216131688,1.0968111209500349,0.5851378873268068,-1.3039296313701478,0.505758713908616,0.3307680425863115,0.8340027963450356,1.6002797439920056,0.5333105484647085,-1.6099769901256566,0.6123674712452578,0.44094028138792907,0.3186676830395859,1.8885154255562615,0.8314846161984139,1.0110949050720228,0.3733542413275952,1.4577219733456939,1.0787054725235403,0.8162727087185127,1.0495338023426712,0.3215205716588952,0.43186072880956516,0.2481357370410718,1.6357940404310634,3.1557822938383113,0.9326044622206346,0.9031892032499146,0.5684925963473768,-0.764050305985634,1.9858392629236001,1.3488270596855254,1.0616320536309,1.2686958865295652,0.9329712903323036,1.6443116660663677,0.871270648816741,1.4590840940037546,-0.6028710201172893,0.934282996181714,-0.527511026441654,0.4827071267300611,3.1048003924318843,0.5338310781806277,0.6670652210152177,0.48071332586207266,1.2086534772062232,1.8691256411866224,0.7982070527057413,1.2817451406495948,0.6178892238830999,0.7239176701859332,1.2983191714560671,1.2731962790117466,2.440392331014555,0.7318108544797212,0.9489956312762539,0.32040060050303115,1.593171257188347,1.0815397438290535,0.39940824455998314,0.6994801798908751,0.725384145215098],\"type\":\"scatter\",\"xaxis\":\"x3\",\"yaxis\":\"y3\"}],                        {\"template\":{\"data\":{\"histogram2dcontour\":[{\"type\":\"histogram2dcontour\",\"colorbar\":{\"outlinewidth\":0,\"ticks\":\"\"},\"colorscale\":[[0.0,\"#0d0887\"],[0.1111111111111111,\"#46039f\"],[0.2222222222222222,\"#7201a8\"],[0.3333333333333333,\"#9c179e\"],[0.4444444444444444,\"#bd3786\"],[0.5555555555555556,\"#d8576b\"],[0.6666666666666666,\"#ed7953\"],[0.7777777777777778,\"#fb9f3a\"],[0.8888888888888888,\"#fdca26\"],[1.0,\"#f0f921\"]]}],\"choropleth\":[{\"type\":\"choropleth\",\"colorbar\":{\"outlinewidth\":0,\"ticks\":\"\"}}],\"histogram2d\":[{\"type\":\"histogram2d\",\"colorbar\":{\"outlinewidth\":0,\"ticks\":\"\"},\"colorscale\":[[0.0,\"#0d0887\"],[0.1111111111111111,\"#46039f\"],[0.2222222222222222,\"#7201a8\"],[0.3333333333333333,\"#9c179e\"],[0.4444444444444444,\"#bd3786\"],[0.5555555555555556,\"#d8576b\"],[0.6666666666666666,\"#ed7953\"],[0.7777777777777778,\"#fb9f3a\"],[0.8888888888888888,\"#fdca26\"],[1.0,\"#f0f921\"]]}],\"heatmap\":[{\"type\":\"heatmap\",\"colorbar\":{\"outlinewidth\":0,\"ticks\":\"\"},\"colorscale\":[[0.0,\"#0d0887\"],[0.1111111111111111,\"#46039f\"],[0.2222222222222222,\"#7201a8\"],[0.3333333333333333,\"#9c179e\"],[0.4444444444444444,\"#bd3786\"],[0.5555555555555556,\"#d8576b\"],[0.6666666666666666,\"#ed7953\"],[0.7777777777777778,\"#fb9f3a\"],[0.8888888888888888,\"#fdca26\"],[1.0,\"#f0f921\"]]}],\"heatmapgl\":[{\"type\":\"heatmapgl\",\"colorbar\":{\"outlinewidth\":0,\"ticks\":\"\"},\"colorscale\":[[0.0,\"#0d0887\"],[0.1111111111111111,\"#46039f\"],[0.2222222222222222,\"#7201a8\"],[0.3333333333333333,\"#9c179e\"],[0.4444444444444444,\"#bd3786\"],[0.5555555555555556,\"#d8576b\"],[0.6666666666666666,\"#ed7953\"],[0.7777777777777778,\"#fb9f3a\"],[0.8888888888888888,\"#fdca26\"],[1.0,\"#f0f921\"]]}],\"contourcarpet\":[{\"type\":\"contourcarpet\",\"colorbar\":{\"outlinewidth\":0,\"ticks\":\"\"}}],\"contour\":[{\"type\":\"contour\",\"colorbar\":{\"outlinewidth\":0,\"ticks\":\"\"},\"colorscale\":[[0.0,\"#0d0887\"],[0.1111111111111111,\"#46039f\"],[0.2222222222222222,\"#7201a8\"],[0.3333333333333333,\"#9c179e\"],[0.4444444444444444,\"#bd3786\"],[0.5555555555555556,\"#d8576b\"],[0.6666666666666666,\"#ed7953\"],[0.7777777777777778,\"#fb9f3a\"],[0.8888888888888888,\"#fdca26\"],[1.0,\"#f0f921\"]]}],\"surface\":[{\"type\":\"surface\",\"colorbar\":{\"outlinewidth\":0,\"ticks\":\"\"},\"colorscale\":[[0.0,\"#0d0887\"],[0.1111111111111111,\"#46039f\"],[0.2222222222222222,\"#7201a8\"],[0.3333333333333333,\"#9c179e\"],[0.4444444444444444,\"#bd3786\"],[0.5555555555555556,\"#d8576b\"],[0.6666666666666666,\"#ed7953\"],[0.7777777777777778,\"#fb9f3a\"],[0.8888888888888888,\"#fdca26\"],[1.0,\"#f0f921\"]]}],\"mesh3d\":[{\"type\":\"mesh3d\",\"colorbar\":{\"outlinewidth\":0,\"ticks\":\"\"}}],\"scatter\":[{\"fillpattern\":{\"fillmode\":\"overlay\",\"size\":10,\"solidity\":0.2},\"type\":\"scatter\"}],\"parcoords\":[{\"type\":\"parcoords\",\"line\":{\"colorbar\":{\"outlinewidth\":0,\"ticks\":\"\"}}}],\"scatterpolargl\":[{\"type\":\"scatterpolargl\",\"marker\":{\"colorbar\":{\"outlinewidth\":0,\"ticks\":\"\"}}}],\"bar\":[{\"error_x\":{\"color\":\"#2a3f5f\"},\"error_y\":{\"color\":\"#2a3f5f\"},\"marker\":{\"line\":{\"color\":\"#E5ECF6\",\"width\":0.5},\"pattern\":{\"fillmode\":\"overlay\",\"size\":10,\"solidity\":0.2}},\"type\":\"bar\"}],\"scattergeo\":[{\"type\":\"scattergeo\",\"marker\":{\"colorbar\":{\"outlinewidth\":0,\"ticks\":\"\"}}}],\"scatterpolar\":[{\"type\":\"scatterpolar\",\"marker\":{\"colorbar\":{\"outlinewidth\":0,\"ticks\":\"\"}}}],\"histogram\":[{\"marker\":{\"pattern\":{\"fillmode\":\"overlay\",\"size\":10,\"solidity\":0.2}},\"type\":\"histogram\"}],\"scattergl\":[{\"type\":\"scattergl\",\"marker\":{\"colorbar\":{\"outlinewidth\":0,\"ticks\":\"\"}}}],\"scatter3d\":[{\"type\":\"scatter3d\",\"line\":{\"colorbar\":{\"outlinewidth\":0,\"ticks\":\"\"}},\"marker\":{\"colorbar\":{\"outlinewidth\":0,\"ticks\":\"\"}}}],\"scattermapbox\":[{\"type\":\"scattermapbox\",\"marker\":{\"colorbar\":{\"outlinewidth\":0,\"ticks\":\"\"}}}],\"scatterternary\":[{\"type\":\"scatterternary\",\"marker\":{\"colorbar\":{\"outlinewidth\":0,\"ticks\":\"\"}}}],\"scattercarpet\":[{\"type\":\"scattercarpet\",\"marker\":{\"colorbar\":{\"outlinewidth\":0,\"ticks\":\"\"}}}],\"carpet\":[{\"aaxis\":{\"endlinecolor\":\"#2a3f5f\",\"gridcolor\":\"white\",\"linecolor\":\"white\",\"minorgridcolor\":\"white\",\"startlinecolor\":\"#2a3f5f\"},\"baxis\":{\"endlinecolor\":\"#2a3f5f\",\"gridcolor\":\"white\",\"linecolor\":\"white\",\"minorgridcolor\":\"white\",\"startlinecolor\":\"#2a3f5f\"},\"type\":\"carpet\"}],\"table\":[{\"cells\":{\"fill\":{\"color\":\"#EBF0F8\"},\"line\":{\"color\":\"white\"}},\"header\":{\"fill\":{\"color\":\"#C8D4E3\"},\"line\":{\"color\":\"white\"}},\"type\":\"table\"}],\"barpolar\":[{\"marker\":{\"line\":{\"color\":\"#E5ECF6\",\"width\":0.5},\"pattern\":{\"fillmode\":\"overlay\",\"size\":10,\"solidity\":0.2}},\"type\":\"barpolar\"}],\"pie\":[{\"automargin\":true,\"type\":\"pie\"}]},\"layout\":{\"autotypenumbers\":\"strict\",\"colorway\":[\"#636efa\",\"#EF553B\",\"#00cc96\",\"#ab63fa\",\"#FFA15A\",\"#19d3f3\",\"#FF6692\",\"#B6E880\",\"#FF97FF\",\"#FECB52\"],\"font\":{\"color\":\"#2a3f5f\"},\"hovermode\":\"closest\",\"hoverlabel\":{\"align\":\"left\"},\"paper_bgcolor\":\"white\",\"plot_bgcolor\":\"#E5ECF6\",\"polar\":{\"bgcolor\":\"#E5ECF6\",\"angularaxis\":{\"gridcolor\":\"white\",\"linecolor\":\"white\",\"ticks\":\"\"},\"radialaxis\":{\"gridcolor\":\"white\",\"linecolor\":\"white\",\"ticks\":\"\"}},\"ternary\":{\"bgcolor\":\"#E5ECF6\",\"aaxis\":{\"gridcolor\":\"white\",\"linecolor\":\"white\",\"ticks\":\"\"},\"baxis\":{\"gridcolor\":\"white\",\"linecolor\":\"white\",\"ticks\":\"\"},\"caxis\":{\"gridcolor\":\"white\",\"linecolor\":\"white\",\"ticks\":\"\"}},\"coloraxis\":{\"colorbar\":{\"outlinewidth\":0,\"ticks\":\"\"}},\"colorscale\":{\"sequential\":[[0.0,\"#0d0887\"],[0.1111111111111111,\"#46039f\"],[0.2222222222222222,\"#7201a8\"],[0.3333333333333333,\"#9c179e\"],[0.4444444444444444,\"#bd3786\"],[0.5555555555555556,\"#d8576b\"],[0.6666666666666666,\"#ed7953\"],[0.7777777777777778,\"#fb9f3a\"],[0.8888888888888888,\"#fdca26\"],[1.0,\"#f0f921\"]],\"sequentialminus\":[[0.0,\"#0d0887\"],[0.1111111111111111,\"#46039f\"],[0.2222222222222222,\"#7201a8\"],[0.3333333333333333,\"#9c179e\"],[0.4444444444444444,\"#bd3786\"],[0.5555555555555556,\"#d8576b\"],[0.6666666666666666,\"#ed7953\"],[0.7777777777777778,\"#fb9f3a\"],[0.8888888888888888,\"#fdca26\"],[1.0,\"#f0f921\"]],\"diverging\":[[0,\"#8e0152\"],[0.1,\"#c51b7d\"],[0.2,\"#de77ae\"],[0.3,\"#f1b6da\"],[0.4,\"#fde0ef\"],[0.5,\"#f7f7f7\"],[0.6,\"#e6f5d0\"],[0.7,\"#b8e186\"],[0.8,\"#7fbc41\"],[0.9,\"#4d9221\"],[1,\"#276419\"]]},\"xaxis\":{\"gridcolor\":\"white\",\"linecolor\":\"white\",\"ticks\":\"\",\"title\":{\"standoff\":15},\"zerolinecolor\":\"white\",\"automargin\":true,\"zerolinewidth\":2},\"yaxis\":{\"gridcolor\":\"white\",\"linecolor\":\"white\",\"ticks\":\"\",\"title\":{\"standoff\":15},\"zerolinecolor\":\"white\",\"automargin\":true,\"zerolinewidth\":2},\"scene\":{\"xaxis\":{\"backgroundcolor\":\"#E5ECF6\",\"gridcolor\":\"white\",\"linecolor\":\"white\",\"showbackground\":true,\"ticks\":\"\",\"zerolinecolor\":\"white\",\"gridwidth\":2},\"yaxis\":{\"backgroundcolor\":\"#E5ECF6\",\"gridcolor\":\"white\",\"linecolor\":\"white\",\"showbackground\":true,\"ticks\":\"\",\"zerolinecolor\":\"white\",\"gridwidth\":2},\"zaxis\":{\"backgroundcolor\":\"#E5ECF6\",\"gridcolor\":\"white\",\"linecolor\":\"white\",\"showbackground\":true,\"ticks\":\"\",\"zerolinecolor\":\"white\",\"gridwidth\":2}},\"shapedefaults\":{\"line\":{\"color\":\"#2a3f5f\"}},\"annotationdefaults\":{\"arrowcolor\":\"#2a3f5f\",\"arrowhead\":0,\"arrowwidth\":1},\"geo\":{\"bgcolor\":\"white\",\"landcolor\":\"#E5ECF6\",\"subunitcolor\":\"white\",\"showland\":true,\"showlakes\":true,\"lakecolor\":\"white\"},\"title\":{\"x\":0.05},\"mapbox\":{\"style\":\"light\"}}},\"xaxis\":{\"anchor\":\"y\",\"domain\":[0.0,1.0],\"matches\":\"x3\",\"showticklabels\":false},\"yaxis\":{\"anchor\":\"x\",\"domain\":[0.7333333333333333,1.0]},\"xaxis2\":{\"anchor\":\"y2\",\"domain\":[0.0,1.0],\"matches\":\"x3\",\"showticklabels\":false},\"yaxis2\":{\"anchor\":\"x2\",\"domain\":[0.36666666666666664,0.6333333333333333]},\"xaxis3\":{\"anchor\":\"y3\",\"domain\":[0.0,1.0]},\"yaxis3\":{\"anchor\":\"x3\",\"domain\":[0.0,0.26666666666666666]},\"height\":700},                        {\"responsive\": true}                    ).then(function(){\n",
       "                            \n",
       "var gd = document.getElementById('e85bedab-07d1-4662-9818-71c05b6ddcea');\n",
       "var x = new MutationObserver(function (mutations, observer) {{\n",
       "        var display = window.getComputedStyle(gd).display;\n",
       "        if (!display || display === 'none') {{\n",
       "            console.log([gd, 'removed!']);\n",
       "            Plotly.purge(gd);\n",
       "            observer.disconnect();\n",
       "        }}\n",
       "}});\n",
       "\n",
       "// Listen for the removal of the full notebook cells\n",
       "var notebookContainer = gd.closest('#notebook-container');\n",
       "if (notebookContainer) {{\n",
       "    x.observe(notebookContainer, {childList: true});\n",
       "}}\n",
       "\n",
       "// Listen for the clearing of the current output cell\n",
       "var outputEl = gd.closest('.output');\n",
       "if (outputEl) {{\n",
       "    x.observe(outputEl, {childList: true});\n",
       "}}\n",
       "\n",
       "                        })                };                });            </script>        </div>"
      ]
     },
     "metadata": {},
     "output_type": "display_data"
    }
   ],
   "source": [
    "fig = make_subplots(3,1,shared_xaxes=True)\n",
    "\n",
    "fig.add_trace(go.Scatter(\n",
    "    x = daily_anom_summary_df['date'],\n",
    "    y = daily_anom_summary_df['xco_xco2_slope'],\n",
    "    customdata=np.stack((daily_anom_summary_df['good_anoms'],daily_anom_summary_df['xco_xco2_r2']), axis=-1),\n",
    "    mode = 'markers',\n",
    "    marker_color = daily_anom_summary_df['xco_xco2_r2'],\n",
    "    hovertemplate = #sets up the hover data\n",
    "    \"<b>num anoms = %{customdata[0]} </b><br>\" + #bold and include the z information\n",
    "    \"<b>r2 = %{customdata[1]:.2f} </b><br>\" ,\n",
    "),row = 1,col = 1)\n",
    "\n",
    "fig.add_trace(go.Scatter(\n",
    "    x = daily_anom_summary_df['date'],\n",
    "    y = daily_anom_summary_df['xch4_xco2_slope'],\n",
    "    customdata=np.stack((daily_anom_summary_df['good_anoms'],daily_anom_summary_df['xch4_xco2_r2']), axis=-1),\n",
    "    mode = 'markers',\n",
    "    marker_color = daily_anom_summary_df['xch4_xco2_r2'],\n",
    "    hovertemplate = #sets up the hover data\n",
    "    \"<b>num anoms = %{customdata[0]} </b><br>\" + #bold and include the z information\n",
    "    \"<b>r2 = %{customdata[1]:.2f} </b><br>\" ,\n",
    "),row = 2,col = 1)\n",
    "\n",
    "fig.add_trace(go.Scatter(\n",
    "    x = daily_anom_summary_df['date'],\n",
    "    y = daily_anom_summary_df['xch4_xco_slope'],\n",
    "    customdata=np.stack((daily_anom_summary_df['good_anoms'],daily_anom_summary_df['xch4_xco_r2']), axis=-1),\n",
    "    mode = 'markers',\n",
    "    marker_color = daily_anom_summary_df['xch4_xco_r2'],\n",
    "    hovertemplate = #sets up the hover data\n",
    "    \"<b>num anoms = %{customdata[0]} </b><br>\" + #bold and include the z information\n",
    "    \"<b>r2 = %{customdata[1]:.2f} </b><br>\" ,\n",
    "),row = 3,col = 1)\n",
    "\n",
    "fig.update_layout(\n",
    "    height = 700\n",
    ")\n",
    "\n"
   ]
  },
  {
   "cell_type": "markdown",
   "metadata": {},
   "source": [
    "# Other plotting"
   ]
  },
  {
   "cell_type": "code",
   "execution_count": null,
   "metadata": {},
   "outputs": [],
   "source": [
    "fig = make_subplots(4,1,shared_xaxes=True)\n",
    "\n",
    "rise_grp = binned_summary_df.loc[binned_summary_df['rise_set'] == 'rise']\n",
    "set_grp = binned_summary_df.loc[binned_summary_df['rise_set'] == 'set']\n",
    "\n",
    "#row 1\n",
    "row = 1\n",
    "spec = spec_names[row-1]\n",
    "fig.add_trace(go.Scatter(\n",
    "    x = df.index,\n",
    "    y = df[spec],\n",
    "    mode = 'markers',\n",
    "    marker = {'color':'black','size':2},\n",
    "    name='Collected Data'\n",
    "),row = row,col = 1)\n",
    "fig.add_trace(go.Scatter(\n",
    "    x = rise_grp['tmid'],\n",
    "    y = rise_grp[spec],\n",
    "    mode = 'markers',\n",
    "    marker = {'color':'orange','size':8},\n",
    "    name = f'Sun rising, {sza_bin_size}deg bin',\n",
    "),row = row,col = 1)\n",
    "fig.add_trace(go.Scatter(\n",
    "    x = set_grp['tmid'],\n",
    "    y = set_grp[spec],\n",
    "    mode = 'markers',\n",
    "    marker = {'color':'red','size':8},\n",
    "    name = f'Sun setting, {sza_bin_size}deg bin',\n",
    "),row = row,col = 1)\n",
    "fig.update_yaxes(title_text=spec, row=row, col=1)\n",
    "\n",
    "row = 2\n",
    "spec = spec_names[row-1]\n",
    "fig.add_trace(go.Scatter(\n",
    "    x = df.index,\n",
    "    y = df[spec],\n",
    "    mode = 'markers',\n",
    "    marker = {'color':'black','size':2},\n",
    "    showlegend=False\n",
    "),row = row,col = 1)\n",
    "fig.add_trace(go.Scatter(\n",
    "    x = rise_grp['tmid'],\n",
    "    y = rise_grp[spec],\n",
    "    mode = 'markers',\n",
    "    marker = {'color':'orange','size':8},\n",
    "    showlegend=False\n",
    "),row = row,col = 1)\n",
    "fig.add_trace(go.Scatter(\n",
    "    x = set_grp['tmid'],\n",
    "    y = set_grp[spec],\n",
    "    mode = 'markers',\n",
    "    marker = {'color':'red','size':8},\n",
    "    showlegend=False\n",
    "),row = row,col = 1)\n",
    "fig.update_yaxes(title_text=spec, row=row, col=1)\n",
    "\n",
    "row = 3\n",
    "spec = spec_names[row-1]\n",
    "fig.add_trace(go.Scatter(\n",
    "    x = df.index,\n",
    "    y = df[spec],\n",
    "    mode = 'markers',\n",
    "    marker = {'color':'black','size':2},\n",
    "    showlegend=False\n",
    "),row = row,col = 1)\n",
    "fig.add_trace(go.Scatter(\n",
    "    x = rise_grp['tmid'],\n",
    "    y = rise_grp[spec],\n",
    "    mode = 'markers',\n",
    "    marker = {'color':'orange','size':8},\n",
    "    showlegend=False\n",
    "),row = row,col = 1)\n",
    "fig.add_trace(go.Scatter(\n",
    "    x = set_grp['tmid'],\n",
    "    y = set_grp[spec],\n",
    "    mode = 'markers',\n",
    "    marker = {'color':'red','size':8},\n",
    "    showlegend=False\n",
    "),row = row,col = 1)\n",
    "fig.update_yaxes(title_text=spec, row=row, col=1)\n",
    "\n",
    "\n",
    "#row 4\n",
    "row = 4\n",
    "rise = df.loc[df['rise_set'] == 'rise']\n",
    "fig.add_trace(go.Scatter(\n",
    "    x = rise.index,\n",
    "    y = rise['solzen(deg)'],\n",
    "    mode = 'markers',\n",
    "    marker_color = 'orange',\n",
    "    showlegend=False\n",
    "),row = row, col = 1)\n",
    "set = df.loc[df['rise_set'] == 'set']\n",
    "fig.add_trace(go.Scatter(\n",
    "    x = set.index,\n",
    "    y = set['solzen(deg)'],\n",
    "    mode = 'markers',\n",
    "    marker_color = 'red',\n",
    "    showlegend=False\n",
    "),row = row, col = 1)\n",
    "fig.update_yaxes(title_text='SZA (deg)', row=row, col=1)\n",
    "\n",
    "fig.update_layout(\n",
    "    height=700,\n",
    ")\n",
    "fig.show()\n",
    "\n",
    "\n"
   ]
  }
 ],
 "metadata": {
  "kernelspec": {
   "display_name": "atmos_column",
   "language": "python",
   "name": "python3"
  },
  "language_info": {
   "codemirror_mode": {
    "name": "ipython",
    "version": 3
   },
   "file_extension": ".py",
   "mimetype": "text/x-python",
   "name": "python",
   "nbconvert_exporter": "python",
   "pygments_lexer": "ipython3",
   "version": "3.11.2"
  }
 },
 "nbformat": 4,
 "nbformat_minor": 2
}
