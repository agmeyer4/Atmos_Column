{
 "cells": [
  {
   "cell_type": "code",
   "execution_count": 1,
   "metadata": {},
   "outputs": [],
   "source": [
    "import os\n",
    "import pandas as pd"
   ]
  },
  {
   "cell_type": "code",
   "execution_count": 2,
   "metadata": {},
   "outputs": [],
   "source": [
    "met_folder = '/uufs/chpc.utah.edu/common/home/u0890904/LAIR_1/Data/met/wbb/daily_txt_gggformat'\n",
    "ha_folder = '/uufs/chpc.utah.edu/common/home/lin-group9/agm/EM27/ha/inst_data/ifgs'\n",
    "\n",
    "dates = os.listdir(ha_folder)\n",
    "met_files = os.listdir(met_folder)\n",
    "\n",
    "for date in dates:\n",
    "    for met_file in met_files:\n",
    "        if met_file.startswith(date):\n",
    "            df = pd.read_csv(os.path.join(met_folder,met_file))\n",
    "            df['dt'] = pd.to_datetime(df['UTCDate'] + ' ' + df['UTCTime'], format='%y/%m/%d %H:%M:%S')\n",
    "            df.set_index('dt',inplace = True)\n",
    "            df['timediff'] = df.index.diff()\n",
    "            gaps_locations = df[df['timediff'] > pd.Timedelta(minutes=5)].index\n",
    "            if len(gaps_locations) == 0:\n",
    "                continue\n",
    "            else:\n",
    "                print('gap',gaps_locations)\n",
    "\n"
   ]
  },
  {
   "cell_type": "code",
   "execution_count": 3,
   "metadata": {},
   "outputs": [
    {
     "name": "stdout",
     "output_type": "stream",
     "text": [
      "      UTCDate   UTCTime  Pout  Tout  RH  WSPD  WDIR  wind_na\n",
      "480  23/11/05  08:00:00   NaN   NaN NaN   0.0   0.0     True\n",
      "481  23/11/05  08:05:00   NaN   NaN NaN   0.0   0.0     True\n",
      "482  23/11/05  08:10:00   NaN   NaN NaN   0.0   0.0     True\n",
      "483  23/11/05  08:15:00   NaN   NaN NaN   0.0   0.0     True\n",
      "484  23/11/05  08:20:00   NaN   NaN NaN   0.0   0.0     True\n",
      "485  23/11/05  08:25:00   NaN   NaN NaN   0.0   0.0     True\n",
      "486  23/11/05  08:30:00   NaN   NaN NaN   0.0   0.0     True\n",
      "487  23/11/05  08:35:00   NaN   NaN NaN   0.0   0.0     True\n",
      "488  23/11/05  08:40:00   NaN   NaN NaN   0.0   0.0     True\n",
      "489  23/11/05  08:45:00   NaN   NaN NaN   0.0   0.0     True\n",
      "490  23/11/05  08:50:00   NaN   NaN NaN   0.0   0.0     True\n",
      "491  23/11/05  08:55:00   NaN   NaN NaN   0.0   0.0     True\n"
     ]
    }
   ],
   "source": [
    "for met_file in met_files:\n",
    "    df = pd.read_csv(os.path.join(met_folder,met_file))\n",
    "    if len(df[df.isnull().any(axis=1)]) > 0 :\n",
    "        print(df[df.isnull().any(axis=1)])"
   ]
  }
 ],
 "metadata": {
  "kernelspec": {
   "display_name": "atmos_column1",
   "language": "python",
   "name": "python3"
  },
  "language_info": {
   "codemirror_mode": {
    "name": "ipython",
    "version": 3
   },
   "file_extension": ".py",
   "mimetype": "text/x-python",
   "name": "python",
   "nbconvert_exporter": "python",
   "pygments_lexer": "ipython3",
   "version": "3.11.6"
  }
 },
 "nbformat": 4,
 "nbformat_minor": 2
}
