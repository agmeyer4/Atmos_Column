{
 "cells": [
  {
   "cell_type": "code",
   "execution_count": 1,
   "metadata": {},
   "outputs": [],
   "source": [
    "import os\n",
    "import pandas as pd"
   ]
  },
  {
   "cell_type": "code",
   "execution_count": 18,
   "metadata": {},
   "outputs": [],
   "source": [
    "met_folder = '/uufs/chpc.utah.edu/common/home/u0890904/LAIR_1/Data/met/wbb/daily_txt_gggformat'\n",
    "ha_folder = '/uufs/chpc.utah.edu/common/home/lin-group9/agm/EM27/ha/inst_data/ifgs'\n",
    "\n",
    "dates = os.listdir(ha_folder)\n",
    "met_files = os.listdir(met_folder)\n",
    "\n",
    "for date in dates:\n",
    "    for met_file in met_files:\n",
    "        if met_file.startswith(date):\n",
    "            df = pd.read_csv(os.path.join(met_folder,met_file))\n",
    "            df['dt'] = pd.to_datetime(df['UTCDate'] + ' ' + df['UTCTime'], format='%y/%m/%d %H:%M:%S')\n",
    "            df.set_index('dt',inplace = True)\n",
    "            df['timediff'] = df.index.diff()\n",
    "            gaps_locations = df[df['timediff'] > pd.Timedelta(minutes=5)].index\n",
    "            if len(gaps_locations) == 0:\n",
    "                continue\n",
    "            else:\n",
    "                print('gap',gaps_locations)\n",
    "\n"
   ]
  }
 ],
 "metadata": {
  "kernelspec": {
   "display_name": "atmos_column1",
   "language": "python",
   "name": "python3"
  },
  "language_info": {
   "codemirror_mode": {
    "name": "ipython",
    "version": 3
   },
   "file_extension": ".py",
   "mimetype": "text/x-python",
   "name": "python",
   "nbconvert_exporter": "python",
   "pygments_lexer": "ipython3",
   "version": "3.11.6"
  }
 },
 "nbformat": 4,
 "nbformat_minor": 2
}
