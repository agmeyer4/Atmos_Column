{
 "cells": [
  {
   "cell_type": "code",
   "execution_count": null,
   "metadata": {},
   "outputs": [],
   "source": [
    "import os\n",
    "import sys\n",
    "import pandas as pd\n",
    "import datetime\n",
    "import plotly.graph_objects as go\n",
    "from plotly.subplots import make_subplots\n",
    "import pytz\n",
    "sys.path.append('..')\n",
    "import funcs.ac_funcs as ac"
   ]
  },
  {
   "cell_type": "markdown",
   "metadata": {},
   "source": [
    "## For making sure met data doesnt have nans and or gaps"
   ]
  },
  {
   "cell_type": "code",
   "execution_count": null,
   "metadata": {},
   "outputs": [],
   "source": [
    "met_folder = '/uufs/chpc.utah.edu/common/home/u0890904/LAIR_1/Data/met/wbb/daily_txt_gggformat'\n",
    "ha_folder = '/uufs/chpc.utah.edu/common/home/lin-group9/agm/EM27/ha/inst_data/ifgs'\n",
    "\n",
    "dates = os.listdir(ha_folder)\n",
    "met_files = os.listdir(met_folder)\n",
    "\n",
    "for date in dates:\n",
    "    for met_file in met_files:\n",
    "        if met_file.startswith(date):\n",
    "            df = pd.read_csv(os.path.join(met_folder,met_file))\n",
    "            df['dt'] = pd.to_datetime(df['UTCDate'] + ' ' + df['UTCTime'], format='%y/%m/%d %H:%M:%S')\n",
    "            df.set_index('dt',inplace = True)\n",
    "            df['timediff'] = df.index.diff()\n",
    "            gaps_locations = df[df['timediff'] > pd.Timedelta(minutes=5)].index\n",
    "            if len(gaps_locations) == 0:\n",
    "                continue\n",
    "            else:\n",
    "                print('gap',gaps_locations)\n",
    "\n"
   ]
  },
  {
   "cell_type": "code",
   "execution_count": null,
   "metadata": {},
   "outputs": [],
   "source": [
    "for met_file in met_files:\n",
    "    df = pd.read_csv(os.path.join(met_folder,met_file))\n",
    "    if len(df[df.isnull().any(axis=1)]) > 0 :\n",
    "        print(df[df.isnull().any(axis=1)])"
   ]
  },
  {
   "cell_type": "markdown",
   "metadata": {},
   "source": [
    "## Comparing met data"
   ]
  },
  {
   "cell_type": "code",
   "execution_count": null,
   "metadata": {},
   "outputs": [],
   "source": [
    "dt1_str = '2024-07-16 08:00:00' #Start Datetime\n",
    "dt2_str =  '2024-07-17 00:00:00' #End Datetime\n",
    "\n",
    "mlg = ac.met_loader_ggg('/uufs/chpc.utah.edu/common/home/u0890904/LAIR_1/Data/met/wbb/daily_txt_gggformat/')\n",
    "dt1 = datetime.datetime.strptime(dt1_str,'%Y-%m-%d %H:%M:%S') #create the datetime\n",
    "dt1 = pytz.timezone('UTC').localize(dt1) #apply the timezone\n",
    "dt2 = datetime.datetime.strptime(dt2_str,'%Y-%m-%d %H:%M:%S') #create the datetime\n",
    "dt2 = pytz.timezone('UTC').localize(dt2) #apply the timezone\n",
    "\n",
    "wbb_met_df = mlg.load_data_inrange(dt1,dt2)\n",
    "wbb_met_df.index = wbb_met_df.index.tz_convert('US/Mountain')\n",
    "\n",
    "mlg = ac.met_loader_ggg('/uufs/chpc.utah.edu/common/home/u0890904/LAIR_1/Data/met/vaisala/')\n",
    "vaisala_met_df = mlg.load_data_inrange(dt1,dt2)\n",
    "vaisala_met_df.index = vaisala_met_df.index.tz_convert('US/Mountain')"
   ]
  },
  {
   "cell_type": "code",
   "execution_count": null,
   "metadata": {},
   "outputs": [],
   "source": [
    "params = ['pres','rh','temp']\n",
    "df_dict = {'wbb':[wbb_met_df,'black'],'vaisala':[vaisala_met_df,'red']}\n",
    "\n",
    "fig = make_subplots(rows=len(params),cols=1,shared_xaxes=True)\n",
    "\n",
    "row = 1\n",
    "for param in params:\n",
    "    for key,values in df_dict.items():\n",
    "        df = values[0]\n",
    "        color = values[1]\n",
    "        fig.add_trace(go.Scatter(\n",
    "        x = df.index,\n",
    "        y = df[param],\n",
    "        mode = 'markers',\n",
    "        marker = {'color' : color,'size':3},\n",
    "        name = key,\n",
    "        showlegend = True,\n",
    "        ),row = row,col = 1)\n",
    "        fig.update_yaxes(title_text = param,row=row,col=1)\n",
    "    row+=1\n",
    "\n",
    "fig.update_layout(\n",
    "    height=600,\n",
    "    margin = go.layout.Margin(t=1,b=1)\n",
    ")\n",
    "fig.show()"
   ]
  }
 ],
 "metadata": {
  "kernelspec": {
   "display_name": "atmos_column1",
   "language": "python",
   "name": "python3"
  },
  "language_info": {
   "codemirror_mode": {
    "name": "ipython",
    "version": 3
   },
   "file_extension": ".py",
   "mimetype": "text/x-python",
   "name": "python",
   "nbconvert_exporter": "python",
   "pygments_lexer": "ipython3",
   "version": "3.11.6"
  }
 },
 "nbformat": 4,
 "nbformat_minor": 2
}
