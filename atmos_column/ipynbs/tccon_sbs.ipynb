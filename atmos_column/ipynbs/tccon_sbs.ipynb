{
 "cells": [
  {
   "cell_type": "code",
   "execution_count": 1,
   "metadata": {},
   "outputs": [],
   "source": [
    "import os"
   ]
  },
  {
   "cell_type": "markdown",
   "metadata": {},
   "source": [
    "# Rename ifgs with gap in 20230516 -- ONLY RUN THIS ONCE"
   ]
  },
  {
   "cell_type": "code",
   "execution_count": null,
   "metadata": {},
   "outputs": [],
   "source": [
    "ifg_data_folder = '/uufs/chpc.utah.edu/common/home/lin-group15/agm/em27/ua/inst_data/ifgs'\n",
    "date = '20230516'\n",
    "date_folder = os.path.join(ifg_data_folder,date)"
   ]
  },
  {
   "cell_type": "code",
   "execution_count": 12,
   "metadata": {},
   "outputs": [],
   "source": [
    "#Correct gap in ifg data\n",
    "good_data_ifgs = []\n",
    "no_data_ifgs = []\n",
    "\n",
    "for file in sorted(os.listdir(date_folder)):\n",
    "    fsize_kb = os.stat(os.path.join(date_folder,file)).st_size/1024\n",
    "    if fsize_kb>2:\n",
    "        good_data_ifgs.append(file)\n",
    "    else:\n",
    "        no_data_ifgs.append(file)\n",
    "\n",
    "for file in no_data_ifgs:\n",
    "    os.remove(os.path.join(date_folder,file))"
   ]
  },
  {
   "cell_type": "code",
   "execution_count": 31,
   "metadata": {},
   "outputs": [],
   "source": [
    "before_3600_ids = []\n",
    "after_3600_ids = []\n",
    "for file in sorted(os.listdir(date_folder)):\n",
    "    ifg_id =int(file.split('.')[-1])\n",
    "    if ifg_id < 3601:\n",
    "        before_3600_ids.append(ifg_id)\n",
    "    else:\n",
    "        after_3600_ids.append(ifg_id)\n",
    "last_before_3600_id = max(before_3600_ids)\n",
    "\n",
    "new_id = last_before_3600_id\n",
    "\n",
    "for old_id in after_3600_ids:\n",
    "    new_id = new_id+1\n",
    "    new_id_str = f'{new_id:04}'\n",
    "\n",
    "    old_fullname = os.path.join(date_folder,f'ua{date}.ifg.{old_id}')\n",
    "    new_fullname = os.path.join(date_folder,f'ua{date}.ifg.{new_id_str}')\n",
    "    os.rename(old_fullname,new_fullname)"
   ]
  }
 ],
 "metadata": {
  "kernelspec": {
   "display_name": "atmos_column",
   "language": "python",
   "name": "python3"
  },
  "language_info": {
   "codemirror_mode": {
    "name": "ipython",
    "version": 3
   },
   "file_extension": ".py",
   "mimetype": "text/x-python",
   "name": "python",
   "nbconvert_exporter": "python",
   "pygments_lexer": "ipython3",
   "version": "3.11.2"
  },
  "orig_nbformat": 4
 },
 "nbformat": 4,
 "nbformat_minor": 2
}
