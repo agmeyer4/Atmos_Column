{
 "cells": [
  {
   "cell_type": "code",
   "execution_count": null,
   "metadata": {},
   "outputs": [],
   "source": [
    "import pandas as pd\n",
    "import os\n",
    "from plotly.subplots import make_subplots\n",
    "import plotly.graph_objects as go\n",
    "import xarray as xr\n",
    "import matplotlib.pyplot as plt\n",
    "import numpy as np"
   ]
  },
  {
   "cell_type": "markdown",
   "metadata": {},
   "source": [
    "https://tccon-wiki.caltech.edu/Main/GGG2020DataChanges"
   ]
  },
  {
   "cell_type": "markdown",
   "metadata": {},
   "source": [
    "# From results akall"
   ]
  },
  {
   "cell_type": "code",
   "execution_count": null,
   "metadata": {},
   "outputs": [],
   "source": [
    "results_path = '/uufs/chpc.utah.edu/common/home/lin-group9/agm/EM27/ha/results/daily'\n",
    "ak_dates = ['20220616','20220910','20221122','20230131','20230428','20230710','20231006']\n",
    "specs = {'ch4':[5938,6002,6076],'co2':[6220,6339],'co':[4233,4290]}\n",
    "\n",
    "all_dfs = {}\n",
    "gas_dfs = {spec: {} for spec in specs.keys()}\n",
    "\n",
    "for ak_date in ak_dates:\n",
    "    all_dfs[ak_date] = {}\n",
    "    day_path = os.path.join(results_path, ak_date)\n",
    "    akall_files = [file for file in os.listdir(day_path) if (file.endswith('akall')) & (file.split('_')[0] in specs)]\n",
    "    for spec in specs.keys():\n",
    "        files = [file for file in akall_files if file.startswith(f'{spec}_')]\n",
    "        spec_df = pd.DataFrame()\n",
    "        for file in files:\n",
    "            window = file.split('_')[1].split('.')[0]\n",
    "            df = pd.read_csv(os.path.join(day_path, file), header=1, sep='\\s+')\n",
    "            first_df = df.groupby('ispec').first()[['sza', 'ak', 'p']]\n",
    "            for col in first_df.columns:\n",
    "                first_df = first_df.rename(columns={col: f'{col}_{window}'})\n",
    "            spec_df = pd.concat([spec_df, first_df], axis=1)\n",
    "        avg_cols = [col for col in spec_df.columns if 'ak' in col]\n",
    "        spec_df['avg_ak'] = spec_df.apply(lambda row: row[avg_cols].mean(), axis=1)\n",
    "        all_dfs[ak_date][spec] = spec_df\n",
    "        gas_dfs[spec][ak_date] = spec_df \n"
   ]
  },
  {
   "cell_type": "code",
   "execution_count": null,
   "metadata": {},
   "outputs": [],
   "source": [
    "gas_dfs['co']['20220616']"
   ]
  },
  {
   "cell_type": "code",
   "execution_count": null,
   "metadata": {},
   "outputs": [],
   "source": [
    "bin_dfs = {}\n",
    "for spec in specs.keys():\n",
    "    spec_df = pd.DataFrame()\n",
    "    for date in all_dfs.keys():\n",
    "        window = specs[spec][0]\n",
    "        df = all_dfs[date][spec]\n",
    "        df.index = round(df[f'sza_{window}']*2)/2\n",
    "        df_binned = df.groupby(df.index).mean()[['avg_ak']]\n",
    "        df_binned = df_binned.rename(columns = {'avg_ak':f'avg_ak_{date}'})\n",
    "        spec_df = pd.concat([spec_df,df_binned],axis = 1)\n",
    "    bin_dfs[spec] = spec_df.mean(axis = 1)"
   ]
  },
  {
   "cell_type": "code",
   "execution_count": null,
   "metadata": {},
   "outputs": [],
   "source": [
    "spec = 'co2'\n",
    "date = list(all_dfs.keys())[0]\n",
    "for date in all_dfs.keys():\n",
    "    df = all_dfs[date][spec]\n",
    "    window = specs[spec][0]\n",
    "    # for window in windows:\n",
    "    #     plt.plot(df[f'sza_{window}'],df[f'ak_{window}'],label = date)\n",
    "\n",
    "    plt.plot(df[f'sza_{window}'],df['avg_ak'],label=date)\n",
    "\n",
    "plt.plot(bin_dfs[spec],color = 'k',linewidth = 5)\n",
    "\n",
    "plt.legend()\n"
   ]
  },
  {
   "cell_type": "code",
   "execution_count": null,
   "metadata": {},
   "outputs": [],
   "source": [
    "# # SAVING --careful not to overwrite\n",
    "import pickle\n",
    "pickle_path = f'/uufs/chpc.utah.edu/common/home/u0890904/LAIR_1/Data/Pickled_files/averaging_kernel'\n",
    "\n",
    "fname = 'mean_sza0.5.pkl'\n",
    "with open(os.path.join(pickle_path,fname), 'wb') as handle:\n",
    "    pickle.dump(bin_dfs, handle, protocol=pickle.HIGHEST_PROTOCOL)"
   ]
  },
  {
   "cell_type": "code",
   "execution_count": null,
   "metadata": {},
   "outputs": [],
   "source": [
    "gas = 'co'\n",
    "date = '20220616'"
   ]
  },
  {
   "cell_type": "code",
   "execution_count": null,
   "metadata": {},
   "outputs": [],
   "source": [
    "gas_df = gas_dfs[gas][date]\n",
    "fig, ax = plt.subplots()\n",
    "for window in specs[gas]:\n",
    "    ax.plot(gas_df[f'sza_{window}'],gas_df[f'ak_{window}'],label = f'{window} cm-1')\n",
    "ax.legend()\n",
    "ax.set_title(f'{date}')\n",
    "ax.set_xlabel('SZA')\n",
    "ax.set_ylabel(f'{gas} Surface AK')\n",
    "plt.show()"
   ]
  },
  {
   "cell_type": "code",
   "execution_count": null,
   "metadata": {},
   "outputs": [],
   "source": [
    "gas_df = gas_dfs[gas][date]\n",
    "fig, ax = plt.subplots()\n",
    "for window in specs[gas]:\n",
    "    ax.plot(gas_df.index,gas_df[f'ak_{window}'],label = f'{window} cm-1')\n",
    "ax.legend()\n",
    "ax.set_title(f'{gas} AKs for {date}')\n",
    "ax.set_xlabel('ispec (~time of day)')\n",
    "ax.set_ylabel(f'{gas} surface AK')\n",
    "plt.show()"
   ]
  },
  {
   "cell_type": "code",
   "execution_count": null,
   "metadata": {},
   "outputs": [],
   "source": [
    "window = 6076\n",
    "\n",
    "fig, ax = plt.subplots()\n",
    "for date,df in gas_dfs[gas].items():\n",
    "    ax.plot(df[f'sza_{window}'],df[f'ak_{window}'],label = f'{date}')\n",
    "    ax.legend()\n",
    "    ax.set_title(f'Window {window} cm-1')\n",
    "    ax.set_xlabel('SZA')\n",
    "    ax.set_ylabel(f'{gas} Surface AK')\n",
    "plt.show()"
   ]
  },
  {
   "cell_type": "markdown",
   "metadata": {},
   "source": [
    "# With NC Files"
   ]
  },
  {
   "cell_type": "code",
   "execution_count": null,
   "metadata": {},
   "outputs": [],
   "source": [
    "ds = xr.open_dataset('/uufs/chpc.utah.edu/common/home/lin-group9/agm/EM27/ha/results/daily/20220616/ha20220616_20220617.private.nc')"
   ]
  },
  {
   "cell_type": "code",
   "execution_count": null,
   "metadata": {},
   "outputs": [],
   "source": [
    "airmass = ds['o2_7885_am_o2']\n",
    "xgas_name ='xco'\n",
    "xgas = ds[xgas_name]\n",
    "slant_xgas = airmass * xgas"
   ]
  },
  {
   "cell_type": "code",
   "execution_count": null,
   "metadata": {},
   "outputs": [],
   "source": [
    "slant_xgas_values.max()"
   ]
  },
  {
   "cell_type": "code",
   "execution_count": null,
   "metadata": {},
   "outputs": [],
   "source": [
    "# Prepare the output array\n",
    "interpolated_values = []\n",
    "\n",
    "# Extract required variables\n",
    "slant_xgas_values = slant_xgas.values  # Slant XCO2 values for each time\n",
    "ak_slant_xgas_bin = ds[f'ak_slant_{xgas_name}_bin'].values  # Slant XCO2 bin edges\n",
    "ak_xgas = ds[f'ak_{xgas_name}'].values  # AK table, shape (ak_altitude, ak_slant_xgas_bin)\n",
    "\n",
    "# Loop through each time point\n",
    "for i, slant_value in enumerate(slant_xgas_values):\n",
    "    # Interpolate for each altitude\n",
    "    interpolated_ak = np.empty(ak_xgas.shape[0])  # Placeholder for interpolated values at this time\n",
    "    \n",
    "    for j in range(ak_xgas.shape[0]):  # Iterate over altitude\n",
    "        interpolated_ak[j] = np.interp(\n",
    "            slant_value,                   # Current slant XCO2 value\n",
    "            ak_slant_xgas_bin,            # Slant XCO2 bins\n",
    "            ak_xgas[j, :]                 # AK values at this altitude\n",
    "        )\n",
    "    \n",
    "    interpolated_values.append(interpolated_ak)\n",
    "\n",
    "# Convert results to xarray DataArray\n",
    "ak_interp = xr.DataArray(\n",
    "    data=np.array(interpolated_values),  # Stack the results into a 2D array\n",
    "    dims=[\"time\", \"ak_altitude\"],        # Dimensions are time and altitude\n",
    "    coords={\n",
    "        \"time\": ds[\"time\"],              # Time coordinate from the original dataset\n",
    "        \"ak_altitude\": ds[\"ak_altitude\"] # Altitude coordinate from the original dataset\n",
    "    },\n",
    "    name=\"ak_interp\"                     # Name of the new DataArray\n",
    ")\n"
   ]
  },
  {
   "cell_type": "code",
   "execution_count": null,
   "metadata": {},
   "outputs": [],
   "source": [
    "ak_interp"
   ]
  },
  {
   "cell_type": "code",
   "execution_count": null,
   "metadata": {},
   "outputs": [],
   "source": [
    "ak_interp.isel(ak_altitude = 0).plot()"
   ]
  },
  {
   "cell_type": "markdown",
   "metadata": {},
   "source": [
    "## TCCON Check"
   ]
  },
  {
   "cell_type": "code",
   "execution_count": null,
   "metadata": {},
   "outputs": [],
   "source": [
    "public_ds = xr.open_dataset('/uufs/chpc.utah.edu/common/home/lin-group9/agm/TCCON/ci20120920_20240421.public.qc.nc')\n",
    "public_ds = public_ds.where((public_ds.time > pd.to_datetime('2023-05-02'))&(public_ds.time < pd.to_datetime('2023-07-01')),drop = True)\n",
    "private_ds = xr.open_dataset('/uufs/chpc.utah.edu/common/home/u0890904/LAIR_1/Data/TCCON/ci20230502_20230701.private.nc')"
   ]
  },
  {
   "cell_type": "code",
   "execution_count": null,
   "metadata": {},
   "outputs": [],
   "source": [
    "public_co2_ak = public_ds['ak_xco2'].isel(ak_altitude = 0)"
   ]
  },
  {
   "cell_type": "code",
   "execution_count": null,
   "metadata": {},
   "outputs": [],
   "source": [
    "airmass = private_ds['o2_7885_am_o2']\n",
    "xco2 = private_ds['xco2']\n",
    "slant_xco2 = airmass * xco2\n",
    "\n",
    "# # Prepare the output array\n",
    "interpolated_values = []\n",
    "\n",
    "# Extract required variables\n",
    "slant_xco2_values = slant_xco2.values  # Slant XCO2 values for each time\n",
    "ak_slant_xco2_bin = private_ds['ak_slant_xco2_bin'].values  # Slant XCO2 bin edges\n",
    "ak_xco2 = private_ds['ak_xco2'].values  # AK table, shape (ak_altitude, ak_slant_xgas_bin)\n",
    "\n",
    "# Loop through each time point\n",
    "for i, slant_value in enumerate(slant_xco2_values):\n",
    "    # Interpolate for each altitude\n",
    "    interpolated_ak = np.empty(ak_xco2.shape[0])  # Placeholder for interpolated values at this time\n",
    "    \n",
    "    for j in range(ak_xco2.shape[0]):  # Iterate over altitude\n",
    "        interpolated_ak[j] = np.interp(\n",
    "            slant_value,                   # Current slant XCO2 value\n",
    "            ak_slant_xco2_bin,            # Slant XCO2 bins\n",
    "            ak_xco2[j, :]                 # AK values at this altitude\n",
    "        )\n",
    "    \n",
    "    interpolated_values.append(interpolated_ak)\n",
    "\n",
    "# Convert results to xarray DataArray\n",
    "ak_interp = xr.DataArray(\n",
    "    data=np.array(interpolated_values),  # Stack the results into a 2D array\n",
    "    dims=[\"time\", \"ak_altitude\"],        # Dimensions are time and altitude\n",
    "    coords={\n",
    "        \"time\": private_ds[\"time\"],              # Time coordinate from the original dataset\n",
    "        \"ak_altitude\": private_ds[\"ak_altitude\"] # Altitude coordinate from the original dataset\n",
    "    },\n",
    "    name=\"ak_interp\"                     # Name of the new DataArray\n",
    ")\n",
    "\n",
    "private_co2_ak = ak_interp.isel(ak_altitude = 0)"
   ]
  },
  {
   "cell_type": "code",
   "execution_count": null,
   "metadata": {},
   "outputs": [],
   "source": [
    "fig = make_subplots(rows = 1, cols = 1)\n",
    "fig.add_trace(go.Scatter(\n",
    "    x = public_ds['time'],\n",
    "    y = public_co2_ak,\n",
    "    mode = 'markers',\n",
    "    name = 'Public AK')\n",
    "    ,row = 1,col = 1)\n",
    "fig.add_trace(go.Scatter(\n",
    "    x = private_ds['time'],\n",
    "    y = private_co2_ak,\n",
    "    mode = 'markers',\n",
    "    name = 'Private AK')\n",
    "    ,row = 1,col = 1)\n"
   ]
  },
  {
   "cell_type": "markdown",
   "metadata": {},
   "source": [
    "# Checking for nc"
   ]
  },
  {
   "cell_type": "code",
   "execution_count": null,
   "metadata": {},
   "outputs": [],
   "source": [
    "results_path = '/uufs/chpc.utah.edu/common/home/lin-group9/agm/EM27/ha/results/daily'\n",
    "for date in os.listdir(results_path):\n",
    "    if not any(file.endswith('.nc') for file in os.listdir(os.path.join(results_path, date))):\n",
    "        print(date)"
   ]
  },
  {
   "cell_type": "code",
   "execution_count": null,
   "metadata": {},
   "outputs": [],
   "source": []
  }
 ],
 "metadata": {
  "kernelspec": {
   "display_name": "atmos_column1",
   "language": "python",
   "name": "python3"
  },
  "language_info": {
   "codemirror_mode": {
    "name": "ipython",
    "version": 3
   },
   "file_extension": ".py",
   "mimetype": "text/x-python",
   "name": "python",
   "nbconvert_exporter": "python",
   "pygments_lexer": "ipython3",
   "version": "3.11.6"
  }
 },
 "nbformat": 4,
 "nbformat_minor": 2
}
