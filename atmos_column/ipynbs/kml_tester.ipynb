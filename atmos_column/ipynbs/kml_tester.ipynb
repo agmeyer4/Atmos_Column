{
 "cells": [
  {
   "cell_type": "markdown",
   "metadata": {},
   "source": [
    "# Initial testing for creating KML files to visualize total columns"
   ]
  },
  {
   "cell_type": "code",
   "execution_count": 3,
   "metadata": {},
   "outputs": [],
   "source": [
    "#Import Packages\n",
    "import pandas as pd\n",
    "import simplekml\n",
    "import os\n",
    "import xarray as xr\n",
    "import numpy as np\n",
    "import sys\n",
    "sys.path.append('..')\n",
    "import funcs.ac_funcs as ac"
   ]
  },
  {
   "cell_type": "code",
   "execution_count": 4,
   "metadata": {},
   "outputs": [],
   "source": [
    "base_project_dir = '/Users/agmeyer4/LAIR_1'\n",
    "kml_save_dir = '/Users/agmeyer4/Google Drive/My Drive/Documents/Work/Solicitations/DoE_Methane_3b/Figures/earth_model/uinta_basin'"
   ]
  },
  {
   "cell_type": "markdown",
   "metadata": {},
   "source": [
    "# Grid"
   ]
  },
  {
   "cell_type": "code",
   "execution_count": 141,
   "metadata": {},
   "outputs": [],
   "source": [
    "# Create the grid\n",
    "ll_spacing = 0.2\n",
    "z_spacing = 5000\n",
    "\n",
    "grid_extent = {'lon_min':-110.6,\n",
    "                  'lon_max':-109,\n",
    "                  'lat_min':39.7,\n",
    "                  'lat_max':40.7} \n",
    "\n",
    "# Define the latitude, longitude, and elevation arrays\n",
    "lats = np.arange(grid_extent['lat_min'],grid_extent['lat_max'], ll_spacing)\n",
    "lons = np.arange(grid_extent['lon_min'],grid_extent['lon_max'], ll_spacing)\n",
    "zasls = np.arange(1000, 20000, z_spacing)  # Elevation levels from 1000 to 5000 in steps of 500\n",
    "\n",
    "# Initialize a list to store the line segments\n",
    "air_grid_segments = []\n",
    "\n",
    "# Create vertical and horizontal line segments\n",
    "for l in lats:\n",
    "    for ln in lons:\n",
    "        for zasl in zasls:\n",
    "            # Horizontal segments (latitude changes)\n",
    "            if l < lats[-1]:\n",
    "                air_grid_segments.append({'coords':((ln, l, zasl), (ln, l + ll_spacing, zasl)),'zasl':zasl})\n",
    "            # Vertical segments (longitude changes)\n",
    "            if ln < lons[-1]:\n",
    "                air_grid_segments.append({'coords':((ln, l, zasl), (ln+ll_spacing, l, zasl)),'zasl':zasl})\n",
    "            # Elevation segments (elevation changes)\n",
    "            if zasl < zasls[-1]:\n",
    "                air_grid_segments.append({'coords':((ln, l, zasl), (ln, l, zasl+z_spacing)),'zasl':zasl})\n",
    "\n",
    "ground_segments = []\n",
    "for l in lats:\n",
    "    for ln in lons:\n",
    "        if l < lats[-1]:\n",
    "            ground_segments.append(((ln, l, 0), (ln, l + ll_spacing, 0)))\n",
    "        # Vertical segments (longitude changes)\n",
    "        if ln < lons[-1]:\n",
    "            ground_segments.append(((ln, l, 0), (ln + ll_spacing, l, 0)))\n"
   ]
  },
  {
   "cell_type": "code",
   "execution_count": 142,
   "metadata": {},
   "outputs": [],
   "source": [
    "#Put the grid in the kml\n",
    "name = 'grid'\n",
    "\n",
    "kml_name = f'{name}.kml' #storage\n",
    "\n",
    "kml = simplekml.Kml() #initialize the kml file\n",
    "fol = kml.newfolder(name='air_grid')\n",
    "zfols = {}\n",
    "for zasl in zasls:\n",
    "    zfols[zasl] = fol.newfolder(name=zasl)\n",
    "\n",
    "for segment in air_grid_segments:\n",
    "    zfol = zfols[segment['zasl']]\n",
    "    ls = zfol.newlinestring(name=segment['zasl'],\n",
    "                            coords=[segment['coords'][0],segment['coords'][1]],                           \n",
    "                            altitudemode='absolute')\n",
    "\n",
    "fol = kml.newfolder(name='ground_grid')\n",
    "for segment in ground_segments:\n",
    "    ls = fol.newlinestring(name=f'grid_ls',\n",
    "                            coords=[segment[0],segment[1]],                           \n",
    "                            altitudemode='relativeToGround')\n",
    "    \n",
    "\n",
    "kml.save(os.path.join(kml_save_dir,kml_name))"
   ]
  },
  {
   "cell_type": "markdown",
   "metadata": {},
   "source": [
    "# Ground based solar"
   ]
  },
  {
   "cell_type": "code",
   "execution_count": 31,
   "metadata": {},
   "outputs": [],
   "source": [
    "# Running this will load create the DEM handler \n",
    "dem_folder = os.path.join(base_project_dir,'Data/DEM/')\n",
    "dem_fname = 'ASTGTM_NC.003_30m_aid0001.nc'\n",
    "dem_typeid = 'aster'\n",
    "my_dem_handler = ac.DEM_handler(dem_folder,dem_fname,dem_typeid) #define the handler\n",
    "\n",
    "\n"
   ]
  },
  {
   "cell_type": "code",
   "execution_count": 75,
   "metadata": {},
   "outputs": [],
   "source": [
    "ll_spacing = 0.2\n",
    "\n",
    "grid_extent = {'lon_min':-110.3,\n",
    "                  'lon_max':-109.299,\n",
    "                  'lat_min':39.8,\n",
    "                  'lat_max':40.4} \n",
    "\n",
    "# Define the latitude, longitude, and elevation arrays\n",
    "lats = np.arange(grid_extent['lat_min'],grid_extent['lat_max'], ll_spacing)\n",
    "lons = np.arange(grid_extent['lon_min'],grid_extent['lon_max'], ll_spacing)\n",
    "\n",
    "inst_locs = []\n",
    "for lat in lats:\n",
    "    for lon in lons:\n",
    "        inst_locs.append({'lat':lat,'lon':lon,'zasl':my_dem_handler.get_nearest_elev(lat,lon)})\n"
   ]
  },
  {
   "cell_type": "code",
   "execution_count": 76,
   "metadata": {},
   "outputs": [],
   "source": [
    "#Instrument defs\n",
    "# instruments = {'WBB':{'lat':40.766,'lon':-111.847,'zasl':1470},\n",
    "#                'DBK':{'lat':40.538,'lon':-112.0696,'zasl':1584},\n",
    "#                'T1':{'lat':40.4697,'lon':-111.926,'zasl':1389},\n",
    "#                'T2':{'lat':40.549,'lon':-111.807,'zasl':1559},\n",
    "#                'T3':{'lat':40.640,'lon':-111.805,'zasl':1421},\n",
    "#                'T4':{'lat':40.700,'lon':-111.935,'zasl':1300},\n",
    "#                'T5':{'lat':40.661,'lon':-112.0736,'zasl':1502},\n",
    "#                'T6':{'lat':40.743,'lon':-112.177,'zasl':1288},\n",
    "#                'T7':{'lat':40.825,'lon':-112.005,'zasl': 1286},\n",
    "#                'T8':{'lat':40.855,'lon':-111.858,'zasl':1654}\n",
    "#                }\n"
   ]
  },
  {
   "cell_type": "code",
   "execution_count": 77,
   "metadata": {},
   "outputs": [],
   "source": [
    "interval = '1H'\n",
    "\n",
    "#Next define the datetime range\n",
    "dt1_str = '2022-10-19 14:00:00'\n",
    "dt2_str = '2022-10-20 04:00:00' #start datetime\n",
    "timezone = 'UTC' #this should nearly always be UTC, but can identify if your datetime strings above are in a different timezone\n",
    "\n",
    "#Now format the datetime and timezone into useful formats\n",
    "dt1 = ac.dtstr_to_dttz(dt1_str,timezone)\n",
    "dt2 = ac.dtstr_to_dttz(dt2_str,timezone)\n",
    "\n",
    "#Define the heights above the instrument (in m) from which we would like to release particles\n",
    "z_ail_list = [0,15000]"
   ]
  },
  {
   "cell_type": "code",
   "execution_count": 78,
   "metadata": {},
   "outputs": [
    {
     "name": "stdout",
     "output_type": "stream",
     "text": [
      "Adding receptor lat/lons along the slant column\n",
      "Adding surface height and receptor elevation above ground level\n",
      "adding surface and agl heights\n"
     ]
    },
    {
     "name": "stderr",
     "output_type": "stream",
     "text": [
      "/Users/agmeyer4/opt/anaconda3/envs/atmos_column/lib/python3.11/site-packages/pysolar/solartime.py:111: UserWarning: I don't know about leap seconds after 2021\n",
      "  warnings.warn \\\n"
     ]
    },
    {
     "name": "stdout",
     "output_type": "stream",
     "text": [
      "Adding receptor lat/lons along the slant column\n",
      "Adding surface height and receptor elevation above ground level\n",
      "adding surface and agl heights\n"
     ]
    },
    {
     "name": "stderr",
     "output_type": "stream",
     "text": [
      "/Users/agmeyer4/opt/anaconda3/envs/atmos_column/lib/python3.11/site-packages/pysolar/solartime.py:111: UserWarning: I don't know about leap seconds after 2021\n",
      "  warnings.warn \\\n"
     ]
    },
    {
     "name": "stdout",
     "output_type": "stream",
     "text": [
      "Adding receptor lat/lons along the slant column\n",
      "Adding surface height and receptor elevation above ground level\n",
      "adding surface and agl heights\n"
     ]
    },
    {
     "name": "stderr",
     "output_type": "stream",
     "text": [
      "/Users/agmeyer4/opt/anaconda3/envs/atmos_column/lib/python3.11/site-packages/pysolar/solartime.py:111: UserWarning: I don't know about leap seconds after 2021\n",
      "  warnings.warn \\\n"
     ]
    },
    {
     "name": "stdout",
     "output_type": "stream",
     "text": [
      "Adding receptor lat/lons along the slant column\n",
      "Adding surface height and receptor elevation above ground level\n",
      "adding surface and agl heights\n"
     ]
    },
    {
     "name": "stderr",
     "output_type": "stream",
     "text": [
      "/Users/agmeyer4/opt/anaconda3/envs/atmos_column/lib/python3.11/site-packages/pysolar/solartime.py:111: UserWarning: I don't know about leap seconds after 2021\n",
      "  warnings.warn \\\n"
     ]
    },
    {
     "name": "stdout",
     "output_type": "stream",
     "text": [
      "Adding receptor lat/lons along the slant column\n",
      "Adding surface height and receptor elevation above ground level\n",
      "adding surface and agl heights\n"
     ]
    },
    {
     "name": "stderr",
     "output_type": "stream",
     "text": [
      "/Users/agmeyer4/opt/anaconda3/envs/atmos_column/lib/python3.11/site-packages/pysolar/solartime.py:111: UserWarning: I don't know about leap seconds after 2021\n",
      "  warnings.warn \\\n"
     ]
    },
    {
     "name": "stdout",
     "output_type": "stream",
     "text": [
      "Adding receptor lat/lons along the slant column\n",
      "Adding surface height and receptor elevation above ground level\n",
      "adding surface and agl heights\n"
     ]
    },
    {
     "name": "stderr",
     "output_type": "stream",
     "text": [
      "/Users/agmeyer4/opt/anaconda3/envs/atmos_column/lib/python3.11/site-packages/pysolar/solartime.py:111: UserWarning: I don't know about leap seconds after 2021\n",
      "  warnings.warn \\\n"
     ]
    },
    {
     "name": "stdout",
     "output_type": "stream",
     "text": [
      "Adding receptor lat/lons along the slant column\n",
      "Adding surface height and receptor elevation above ground level\n",
      "adding surface and agl heights\n"
     ]
    },
    {
     "name": "stderr",
     "output_type": "stream",
     "text": [
      "/Users/agmeyer4/opt/anaconda3/envs/atmos_column/lib/python3.11/site-packages/pysolar/solartime.py:111: UserWarning: I don't know about leap seconds after 2021\n",
      "  warnings.warn \\\n"
     ]
    },
    {
     "name": "stdout",
     "output_type": "stream",
     "text": [
      "Adding receptor lat/lons along the slant column\n",
      "Adding surface height and receptor elevation above ground level\n",
      "adding surface and agl heights\n"
     ]
    },
    {
     "name": "stderr",
     "output_type": "stream",
     "text": [
      "/Users/agmeyer4/opt/anaconda3/envs/atmos_column/lib/python3.11/site-packages/pysolar/solartime.py:111: UserWarning: I don't know about leap seconds after 2021\n",
      "  warnings.warn \\\n"
     ]
    },
    {
     "name": "stdout",
     "output_type": "stream",
     "text": [
      "Adding receptor lat/lons along the slant column\n",
      "Adding surface height and receptor elevation above ground level\n",
      "adding surface and agl heights\n"
     ]
    },
    {
     "name": "stderr",
     "output_type": "stream",
     "text": [
      "/Users/agmeyer4/opt/anaconda3/envs/atmos_column/lib/python3.11/site-packages/pysolar/solartime.py:111: UserWarning: I don't know about leap seconds after 2021\n",
      "  warnings.warn \\\n"
     ]
    },
    {
     "name": "stdout",
     "output_type": "stream",
     "text": [
      "Adding receptor lat/lons along the slant column\n",
      "Adding surface height and receptor elevation above ground level\n",
      "adding surface and agl heights\n"
     ]
    },
    {
     "name": "stderr",
     "output_type": "stream",
     "text": [
      "/Users/agmeyer4/opt/anaconda3/envs/atmos_column/lib/python3.11/site-packages/pysolar/solartime.py:111: UserWarning: I don't know about leap seconds after 2021\n",
      "  warnings.warn \\\n"
     ]
    },
    {
     "name": "stdout",
     "output_type": "stream",
     "text": [
      "Adding receptor lat/lons along the slant column\n",
      "Adding surface height and receptor elevation above ground level\n",
      "adding surface and agl heights\n"
     ]
    },
    {
     "name": "stderr",
     "output_type": "stream",
     "text": [
      "/Users/agmeyer4/opt/anaconda3/envs/atmos_column/lib/python3.11/site-packages/pysolar/solartime.py:111: UserWarning: I don't know about leap seconds after 2021\n",
      "  warnings.warn \\\n"
     ]
    },
    {
     "name": "stdout",
     "output_type": "stream",
     "text": [
      "Adding receptor lat/lons along the slant column\n",
      "Adding surface height and receptor elevation above ground level\n",
      "adding surface and agl heights\n"
     ]
    },
    {
     "name": "stderr",
     "output_type": "stream",
     "text": [
      "/Users/agmeyer4/opt/anaconda3/envs/atmos_column/lib/python3.11/site-packages/pysolar/solartime.py:111: UserWarning: I don't know about leap seconds after 2021\n",
      "  warnings.warn \\\n"
     ]
    },
    {
     "name": "stdout",
     "output_type": "stream",
     "text": [
      "Adding receptor lat/lons along the slant column\n",
      "Adding surface height and receptor elevation above ground level\n",
      "adding surface and agl heights\n"
     ]
    },
    {
     "name": "stderr",
     "output_type": "stream",
     "text": [
      "/Users/agmeyer4/opt/anaconda3/envs/atmos_column/lib/python3.11/site-packages/pysolar/solartime.py:111: UserWarning: I don't know about leap seconds after 2021\n",
      "  warnings.warn \\\n"
     ]
    },
    {
     "name": "stdout",
     "output_type": "stream",
     "text": [
      "Adding receptor lat/lons along the slant column\n",
      "Adding surface height and receptor elevation above ground level\n",
      "adding surface and agl heights\n"
     ]
    },
    {
     "name": "stderr",
     "output_type": "stream",
     "text": [
      "/Users/agmeyer4/opt/anaconda3/envs/atmos_column/lib/python3.11/site-packages/pysolar/solartime.py:111: UserWarning: I don't know about leap seconds after 2021\n",
      "  warnings.warn \\\n"
     ]
    },
    {
     "name": "stdout",
     "output_type": "stream",
     "text": [
      "Adding receptor lat/lons along the slant column\n",
      "Adding surface height and receptor elevation above ground level\n",
      "adding surface and agl heights\n"
     ]
    },
    {
     "name": "stderr",
     "output_type": "stream",
     "text": [
      "/Users/agmeyer4/opt/anaconda3/envs/atmos_column/lib/python3.11/site-packages/pysolar/solartime.py:111: UserWarning: I don't know about leap seconds after 2021\n",
      "  warnings.warn \\\n"
     ]
    },
    {
     "name": "stdout",
     "output_type": "stream",
     "text": [
      "Adding receptor lat/lons along the slant column\n",
      "Adding surface height and receptor elevation above ground level\n",
      "adding surface and agl heights\n"
     ]
    },
    {
     "name": "stderr",
     "output_type": "stream",
     "text": [
      "/Users/agmeyer4/opt/anaconda3/envs/atmos_column/lib/python3.11/site-packages/pysolar/solartime.py:111: UserWarning: I don't know about leap seconds after 2021\n",
      "  warnings.warn \\\n"
     ]
    },
    {
     "name": "stdout",
     "output_type": "stream",
     "text": [
      "Adding receptor lat/lons along the slant column\n",
      "Adding surface height and receptor elevation above ground level\n",
      "adding surface and agl heights\n"
     ]
    },
    {
     "name": "stderr",
     "output_type": "stream",
     "text": [
      "/Users/agmeyer4/opt/anaconda3/envs/atmos_column/lib/python3.11/site-packages/pysolar/solartime.py:111: UserWarning: I don't know about leap seconds after 2021\n",
      "  warnings.warn \\\n"
     ]
    },
    {
     "name": "stdout",
     "output_type": "stream",
     "text": [
      "Adding receptor lat/lons along the slant column\n",
      "Adding surface height and receptor elevation above ground level\n",
      "adding surface and agl heights\n"
     ]
    },
    {
     "name": "stderr",
     "output_type": "stream",
     "text": [
      "/Users/agmeyer4/opt/anaconda3/envs/atmos_column/lib/python3.11/site-packages/pysolar/solartime.py:111: UserWarning: I don't know about leap seconds after 2021\n",
      "  warnings.warn \\\n"
     ]
    },
    {
     "name": "stdout",
     "output_type": "stream",
     "text": [
      "Adding receptor lat/lons along the slant column\n",
      "Adding surface height and receptor elevation above ground level\n",
      "adding surface and agl heights\n"
     ]
    },
    {
     "name": "stderr",
     "output_type": "stream",
     "text": [
      "/Users/agmeyer4/opt/anaconda3/envs/atmos_column/lib/python3.11/site-packages/pysolar/solartime.py:111: UserWarning: I don't know about leap seconds after 2021\n",
      "  warnings.warn \\\n"
     ]
    },
    {
     "name": "stdout",
     "output_type": "stream",
     "text": [
      "Adding receptor lat/lons along the slant column\n",
      "Adding surface height and receptor elevation above ground level\n",
      "adding surface and agl heights\n"
     ]
    },
    {
     "name": "stderr",
     "output_type": "stream",
     "text": [
      "/Users/agmeyer4/opt/anaconda3/envs/atmos_column/lib/python3.11/site-packages/pysolar/solartime.py:111: UserWarning: I don't know about leap seconds after 2021\n",
      "  warnings.warn \\\n"
     ]
    },
    {
     "name": "stdout",
     "output_type": "stream",
     "text": [
      "Adding receptor lat/lons along the slant column\n",
      "Adding surface height and receptor elevation above ground level\n",
      "adding surface and agl heights\n"
     ]
    },
    {
     "name": "stderr",
     "output_type": "stream",
     "text": [
      "/Users/agmeyer4/opt/anaconda3/envs/atmos_column/lib/python3.11/site-packages/pysolar/solartime.py:111: UserWarning: I don't know about leap seconds after 2021\n",
      "  warnings.warn \\\n"
     ]
    },
    {
     "name": "stdout",
     "output_type": "stream",
     "text": [
      "Adding receptor lat/lons along the slant column\n",
      "Adding surface height and receptor elevation above ground level\n",
      "adding surface and agl heights\n"
     ]
    },
    {
     "name": "stderr",
     "output_type": "stream",
     "text": [
      "/Users/agmeyer4/opt/anaconda3/envs/atmos_column/lib/python3.11/site-packages/pysolar/solartime.py:111: UserWarning: I don't know about leap seconds after 2021\n",
      "  warnings.warn \\\n"
     ]
    },
    {
     "name": "stdout",
     "output_type": "stream",
     "text": [
      "Adding receptor lat/lons along the slant column\n",
      "Adding surface height and receptor elevation above ground level\n",
      "adding surface and agl heights\n"
     ]
    },
    {
     "name": "stderr",
     "output_type": "stream",
     "text": [
      "/Users/agmeyer4/opt/anaconda3/envs/atmos_column/lib/python3.11/site-packages/pysolar/solartime.py:111: UserWarning: I don't know about leap seconds after 2021\n",
      "  warnings.warn \\\n"
     ]
    },
    {
     "name": "stdout",
     "output_type": "stream",
     "text": [
      "Adding receptor lat/lons along the slant column\n",
      "Adding surface height and receptor elevation above ground level\n",
      "adding surface and agl heights\n"
     ]
    },
    {
     "name": "stderr",
     "output_type": "stream",
     "text": [
      "/Users/agmeyer4/opt/anaconda3/envs/atmos_column/lib/python3.11/site-packages/pysolar/solartime.py:111: UserWarning: I don't know about leap seconds after 2021\n",
      "  warnings.warn \\\n"
     ]
    }
   ],
   "source": [
    "slant_dfs = {}\n",
    "i = 0\n",
    "for inst in inst_locs:\n",
    "    gsh = ac.ground_slant_handler(inst['lat'],inst['lon'],inst['zasl'],z_ail_list)\n",
    "    slant_df = gsh.run_slant_at_intervals(dt1,dt2,my_dem_handler,interval=interval)\n",
    "    slant_df = slant_df.dropna()\n",
    "    slant_dfs[i] = slant_df\n",
    "    i+=1"
   ]
  },
  {
   "cell_type": "code",
   "execution_count": 79,
   "metadata": {},
   "outputs": [],
   "source": [
    "name = 'column_network_1hr'\n",
    "\n",
    "kml_name = f'{name}.kml' #storage\n",
    "icon_size = 0.6 #how big we want the receptor points to be \n",
    "\n",
    "kml = simplekml.Kml() #initialize the kml file\n",
    "\n",
    "#Add the slant columns\n",
    "for inst_id,slant_df in slant_dfs.items():\n",
    "    fol = kml.newfolder(name=inst_id)\n",
    "    for dt,newdf in slant_df.groupby(level=0): #groupby the first index -- datetime\n",
    "        time_str = dt.strftime('%H:%M %Z') #grab the datetime string for labeling\n",
    "        plotdf = newdf.droplevel(0).reset_index() #get the new dataframe at that datetime level and reset the index so z_asl is a column not an index\n",
    "\n",
    "        slant_id = time_str #the slant ID is best associated with the time string \n",
    "        \n",
    "        #the linestring is just a path between the first and last points of the column receptor, to visualize the column\n",
    "        ls = fol.newlinestring(name=f'{slant_id}_ls',coords=[(plotdf.iloc[0]['receptor_lon'],plotdf.iloc[0]['receptor_lat'],plotdf.iloc[0]['receptor_zasl'])\n",
    "                                                            ,(plotdf.iloc[-1]['receptor_lon'],plotdf.iloc[-1]['receptor_lat'],plotdf.iloc[-1]['receptor_zasl'])],\n",
    "                                                            altitudemode='absolute')\n",
    "        ls.timespan.begin = dt.strftime('%Y-%m-%dT%H:%M:%S')\n",
    "        end = dt + pd.to_timedelta(interval)\n",
    "        ls.timespan.end = end.strftime('%Y-%m-%dT%H:%M:%S')\n",
    "        ls.style.linestyle.width = 2.8\n",
    "        #ls.style.linestyle.color = 'f5f242'\n",
    "\n",
    "kml.save(os.path.join(kml_save_dir,kml_name))"
   ]
  },
  {
   "cell_type": "markdown",
   "metadata": {},
   "source": [
    "# Draped Images"
   ]
  },
  {
   "cell_type": "code",
   "execution_count": 85,
   "metadata": {},
   "outputs": [],
   "source": [
    "name = 'draped_ch4_inventory'\n",
    "\n",
    "\n",
    "kml_name = f'{name}.kml' #storage\n",
    "icon_size = 0.6 #how big we want the receptor points to be \n",
    "\n",
    "kml = simplekml.Kml() #initialize the kml file\n",
    "\n",
    "\n",
    "\n",
    "raster_extent= {'lon_min':-110.6,\n",
    "                  'lon_max':-109.201,\n",
    "                  'lat_min':39.7,\n",
    "                  'lat_max':40.5}\n",
    "\n",
    "name = 'inventory'\n",
    "bbox = raster_extent\n",
    "raster_path = '/Users/agmeyer4/Library/CloudStorage/GoogleDrive-agmeyer4@gmail.com/My Drive/Documents/Work/Solicitations/DoE_Methane_3b/Figures/earth_model/uinta_basin/uinta_ch4_EPA.jpg'\n",
    "#Set the bounding box with lat lons for our png file\n",
    "numpy_bounds = [ (raster_extent['lon_min'],raster_extent['lat_min']),\n",
    "                 (raster_extent['lon_max'],raster_extent['lat_min']),\n",
    "                 (raster_extent['lon_max'],raster_extent['lat_max']),\n",
    "                 (raster_extent['lon_min'],raster_extent['lat_max']) ] \n",
    "corner_coords = [ (float(x), float(y)) for x,y in numpy_bounds ]\n",
    "\n",
    "doc = kml.newdocument(name = 'EPA')\n",
    "#Add ground overlay\n",
    "ground = doc.newgroundoverlay(name=name, color='ffffffff')\n",
    "ground.gxlatlonquad.coords = corner_coords\n",
    "ground.icon.href = raster_path\n",
    "\n",
    "kml.save(os.path.join(kml_save_dir,kml_name))"
   ]
  },
  {
   "cell_type": "code",
   "execution_count": 86,
   "metadata": {},
   "outputs": [],
   "source": [
    "\n",
    "name = 'footprint'\n",
    "\n",
    "kml_name = f'{name}.kml' #storage\n",
    "icon_size = 0.6 #how big we want the receptor points to be \n",
    "\n",
    "kml = simplekml.Kml() #initialize the kml file\n",
    "\n",
    "\n",
    "\n",
    "extent=[-112.3,-111.57,40.39,40.95]\n",
    "\n",
    "name = 'footprint'\n",
    "bbox = extent\n",
    "raster_path = '/Users/agmeyer4/LAIR_1/Figures/stilt_footprint_pngs/202210191700_-111.842_40.7613_384.86.png'\n",
    "\n",
    "#Set the bounding box with lat lons for our png file\n",
    "numpy_bounds = [ (bbox[0],bbox[2]),(bbox[1],bbox[2]),(bbox[1],bbox[3]),(bbox[0],bbox[3]) ]\n",
    "corner_coords = [ (float(x), float(y)) for x,y in numpy_bounds ]\n",
    "\n",
    "\n",
    "doc = kml.newdocument(name = 'footprint')\n",
    "#Add ground overlay\n",
    "ground = doc.newgroundoverlay(name=name, color='ffffffff')\n",
    "ground.gxlatlonquad.coords = corner_coords\n",
    "ground.icon.href = raster_path\n",
    "\n",
    "kml.save(os.path.join(kml_save_dir,kml_name))"
   ]
  },
  {
   "cell_type": "markdown",
   "metadata": {},
   "source": [
    "# Satellite"
   ]
  },
  {
   "cell_type": "code",
   "execution_count": 137,
   "metadata": {},
   "outputs": [],
   "source": [
    "ll_spacing = 0.2\n",
    "z_sat = 60000\n",
    "grid_extent = {'lon_min':-109.8,\n",
    "                  'lon_max':-109.6,\n",
    "                  'lat_min':39.7,\n",
    "                  'lat_max':40.5} \n",
    "\n",
    "# Define the latitude, longitude, and elevation arrays\n",
    "lats = np.arange(grid_extent['lat_min'],grid_extent['lat_max'], ll_spacing)\n",
    "lon_min = -109.6"
   ]
  },
  {
   "cell_type": "code",
   "execution_count": 138,
   "metadata": {},
   "outputs": [],
   "source": [
    "#Put the grid in the kml\n",
    "name = 'satellite'\n",
    "\n",
    "kml_name = f'{name}.kml' #storage\n",
    "\n",
    "kml = simplekml.Kml() #initialize the kml file\n",
    "\n",
    "i = 0\n",
    "for l in lats:\n",
    "    fol = kml.newfolder(name=i)\n",
    "    sat_point = {'lat':l+ll_spacing/2,'lon':lon_min+ll_spacing/2}\n",
    "    \n",
    "    ls = fol.newlinestring(name=f'grid_ls',\n",
    "                    coords=((lon_min, l, 0), (lon_min, l + ll_spacing, 0)),                           \n",
    "                    altitudemode='relativeToGround')\n",
    "    ls = fol.newlinestring(name=f'grid_ls',\n",
    "                    coords=((lon_min+ ll_spacing, l, 0), (lon_min, l , 0)),                           \n",
    "                    altitudemode='relativeToGround')\n",
    "    ls = fol.newlinestring(name=f'grid_ls',\n",
    "                    coords=((lon_min, l+ ll_spacing, 0), (lon_min+ ll_spacing, l+ ll_spacing , 0)),                           \n",
    "                    altitudemode='relativeToGround')\n",
    "    ls = fol.newlinestring(name=f'grid_ls',\n",
    "                    coords=((lon_min+ ll_spacing, l+ ll_spacing, 0), (lon_min+ ll_spacing, l , 0)),                           \n",
    "                    altitudemode='relativeToGround')\n",
    "    ls = fol.newlinestring(name=f'grid_ls',\n",
    "                coords=((lon_min, l, 0), (sat_point['lon'], sat_point['lat'] , z_sat)),                           \n",
    "                altitudemode='relativeToGround')\n",
    "    ls = fol.newlinestring(name=f'grid_ls',\n",
    "                coords=((lon_min+ll_spacing, l, 0), (sat_point['lon'], sat_point['lat'] , z_sat)),                           \n",
    "                altitudemode='relativeToGround')\n",
    "    ls = fol.newlinestring(name=f'grid_ls',\n",
    "                coords=((lon_min+ll_spacing, l+ll_spacing, 0), (sat_point['lon'], sat_point['lat'] , z_sat)),                           \n",
    "                altitudemode='relativeToGround')\n",
    "    ls = fol.newlinestring(name=f'grid_ls',\n",
    "                coords=((lon_min, l+ll_spacing, 0), (sat_point['lon'], sat_point['lat'] , z_sat)),                           \n",
    "                altitudemode='relativeToGround')\n",
    "    pt = fol.newpoint(name='sat_pt',coords = [(sat_point['lon'],sat_point['lat'],z_sat)],\n",
    "                      altitudemode = 'relativeToGround')\n",
    "    i+=1\n",
    "\n",
    "kml.save(os.path.join(kml_save_dir,kml_name))"
   ]
  },
  {
   "cell_type": "code",
   "execution_count": null,
   "metadata": {},
   "outputs": [],
   "source": []
  }
 ],
 "metadata": {
  "kernelspec": {
   "display_name": "atmos_column",
   "language": "python",
   "name": "python3"
  },
  "language_info": {
   "codemirror_mode": {
    "name": "ipython",
    "version": 3
   },
   "file_extension": ".py",
   "mimetype": "text/x-python",
   "name": "python",
   "nbconvert_exporter": "python",
   "pygments_lexer": "ipython3",
   "version": "3.11.1"
  }
 },
 "nbformat": 4,
 "nbformat_minor": 4
}
