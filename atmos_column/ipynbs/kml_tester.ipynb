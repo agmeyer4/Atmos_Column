{
 "cells": [
  {
   "cell_type": "markdown",
   "metadata": {},
   "source": [
    "# Initial testing for creating KML files to visualize total columns"
   ]
  },
  {
   "cell_type": "code",
   "execution_count": 23,
   "metadata": {},
   "outputs": [],
   "source": [
    "#Import Packages\n",
    "import pandas as pd\n",
    "import simplekml\n",
    "import os\n",
    "import sys\n",
    "import numpy as np\n",
    "sys.path.append('..')\n",
    "import funcs.ac_funcs as ac"
   ]
  },
  {
   "cell_type": "code",
   "execution_count": 13,
   "metadata": {},
   "outputs": [],
   "source": [
    "base_project_dir = '/Users/agmeyer4/LAIR_1'\n",
    "kml_folder = os.path.join(base_project_dir,'Figures','KML','DOE_fig')\n"
   ]
  },
  {
   "cell_type": "markdown",
   "metadata": {},
   "source": [
    "# Sources"
   ]
  },
  {
   "cell_type": "code",
   "execution_count": 14,
   "metadata": {},
   "outputs": [],
   "source": [
    "#Sources\n",
    "landfills = {'slv_landfill':[40.746,-112.042],\n",
    "             'jordan_landfill':[40.55862,-112.053],\n",
    "             'davis_landfill':[41.114,-111.931],\n",
    "             'weber_landfill':[41.218,-111.99],\n",
    "             'bountiful':    [40.911,-111.917]}\n",
    "ww_plants = {'central_valley_wwtp':[40.7036613,-111.9141398],\n",
    "             'big_cottonwood_wwtp':[40.6187424,-111.7824328],\n",
    "             'se_regional_wwtp':[40.5411975,-111.8191652],\n",
    "             'south_valley_wwtp':[40.5033357,-111.9187493],\n",
    "             'slc_wwtp':[40.8030915,-111.9295899],\n",
    "             }\n",
    "refineries = {'Chevron':        [40.825,-111.924],\n",
    "              'Big West Oil':   [40.838,-111.920],\n",
    "              'Marathon':       [40.794,-111.909],\n",
    "              'Holly Refining': [40.887,-111.904],\n",
    "              'Silver Eagle':   [40.868,-111.910]}"
   ]
  },
  {
   "cell_type": "code",
   "execution_count": 15,
   "metadata": {},
   "outputs": [],
   "source": [
    "name = 'sources'\n",
    "\n",
    "kml_name = f'{name}.kml' #storage\n",
    "icon_size = 0.6 #how big we want the receptor points to be \n",
    "\n",
    "kml = simplekml.Kml() #initialize the kml file\n",
    "\n",
    "#Add landfills\n",
    "fol = kml.newfolder(name='landfills')\n",
    "for name,loc in landfills.items():\n",
    "    pnt = fol.newpoint(name=name, coords=[(loc[1],loc[0],100)])\n",
    "    pnt.style.iconstyle.color = simplekml.Color.cyan\n",
    "    pnt.style.iconstyle.icon.href = 'https://maps.google.com/mapfiles/kml/pal2/icon18.png'\n",
    "    pnt.style.iconstyle.scale = 1.0\n",
    "    pnt.style.labelstyle.scale = 0\n",
    "    pnt.altitudemode='relativeToGround'\n",
    "\n",
    "#Add wwtps\n",
    "fol = kml.newfolder(name='wwtps')\n",
    "for name,loc in ww_plants.items():\n",
    "    pnt = fol.newpoint(name=name, coords=[(loc[1],loc[0],100)])\n",
    "    pnt.style.iconstyle.color = simplekml.Color.orange\n",
    "    pnt.style.iconstyle.icon.href = 'https://maps.google.com/mapfiles/kml/pal2/icon18.png'\n",
    "    pnt.style.iconstyle.scale = 0.6\n",
    "    pnt.style.labelstyle.scale = 0\n",
    "    pnt.altitudemode='relativeToGround'\n",
    "\n",
    "#Add refineries\n",
    "fol = kml.newfolder(name='refineries')\n",
    "for name,loc in refineries.items():\n",
    "    pnt = fol.newpoint(name=name, coords=[(loc[1],loc[0],100)])\n",
    "    pnt.style.iconstyle.color = simplekml.Color.green\n",
    "    pnt.style.iconstyle.icon.href = 'https://maps.google.com/mapfiles/kml/pal2/icon18.png'\n",
    "    pnt.style.iconstyle.scale = 1.0\n",
    "    pnt.altitudemode='relativeToGround'\n",
    "    pnt.style.labelstyle.scale = 0\n",
    "\n",
    "kml.save(os.path.join(kml_folder,kml_name))"
   ]
  },
  {
   "cell_type": "markdown",
   "metadata": {},
   "source": [
    "# Slant Columns"
   ]
  },
  {
   "cell_type": "code",
   "execution_count": 16,
   "metadata": {},
   "outputs": [],
   "source": [
    "# Running this will load create the DEM handler \n",
    "dem_folder = os.path.join(base_project_dir,'Data/DEM/')\n",
    "dem_fname = 'ASTGTM_NC.003_30m_aid0001_slcbig.nc'\n",
    "dem_typeid = 'aster'\n",
    "my_dem_handler = ac.DEM_handler(dem_folder,dem_fname,dem_typeid) #define the handler"
   ]
  },
  {
   "cell_type": "code",
   "execution_count": 17,
   "metadata": {},
   "outputs": [],
   "source": [
    "#Instrument defs\n",
    "instruments = {'WBB':{'lat':40.766,'lon':-111.847,'zasl':1470},\n",
    "               'DBK':{'lat':40.538,'lon':-112.0696,'zasl':1584},\n",
    "               'T1':{'lat':40.4697,'lon':-111.926,'zasl':1389},\n",
    "               'T2':{'lat':40.549,'lon':-111.807,'zasl':1559},\n",
    "               'T3':{'lat':40.640,'lon':-111.805,'zasl':1421},\n",
    "               'T4':{'lat':40.700,'lon':-111.935,'zasl':1300},\n",
    "               'T5':{'lat':40.661,'lon':-112.0736,'zasl':1502},\n",
    "               'T6':{'lat':40.743,'lon':-112.177,'zasl':1288},\n",
    "               'T7':{'lat':40.825,'lon':-112.005,'zasl': 1286},\n",
    "               'T8':{'lat':40.855,'lon':-111.858,'zasl':1654}\n",
    "               }\n",
    "\n"
   ]
  },
  {
   "cell_type": "code",
   "execution_count": 84,
   "metadata": {},
   "outputs": [],
   "source": [
    "interval = '1H'\n",
    "\n",
    "#Next define the datetime range\n",
    "dt1_str = '2022-10-19 14:00:00'\n",
    "dt2_str = '2022-10-20 04:00:00' #start datetime\n",
    "timezone = 'UTC' #this should nearly always be UTC, but can identify if your datetime strings above are in a different timezone\n",
    "\n",
    "#Now format the datetime and timezone into useful formats\n",
    "dt1 = ac.dtstr_to_dttz(dt1_str,timezone)\n",
    "dt2 = ac.dtstr_to_dttz(dt2_str,timezone)\n",
    "\n",
    "#Define the heights above the instrument (in m) from which we would like to release particles\n",
    "z_ail_list = [0,18000]"
   ]
  },
  {
   "cell_type": "code",
   "execution_count": 85,
   "metadata": {},
   "outputs": [
    {
     "name": "stdout",
     "output_type": "stream",
     "text": [
      "Adding receptor lat/lons along the slant column\n",
      "Adding surface height and receptor elevation above ground level\n",
      "adding surface and agl heights\n"
     ]
    },
    {
     "name": "stderr",
     "output_type": "stream",
     "text": [
      "/Users/agmeyer4/opt/anaconda3/envs/atmos_column/lib/python3.11/site-packages/pysolar/solartime.py:111: UserWarning: I don't know about leap seconds after 2021\n",
      "  warnings.warn \\\n"
     ]
    },
    {
     "name": "stdout",
     "output_type": "stream",
     "text": [
      "Adding receptor lat/lons along the slant column\n",
      "Adding surface height and receptor elevation above ground level\n",
      "adding surface and agl heights\n"
     ]
    },
    {
     "name": "stderr",
     "output_type": "stream",
     "text": [
      "/Users/agmeyer4/opt/anaconda3/envs/atmos_column/lib/python3.11/site-packages/pysolar/solartime.py:111: UserWarning: I don't know about leap seconds after 2021\n",
      "  warnings.warn \\\n"
     ]
    },
    {
     "name": "stdout",
     "output_type": "stream",
     "text": [
      "Adding receptor lat/lons along the slant column\n",
      "Adding surface height and receptor elevation above ground level\n",
      "adding surface and agl heights\n"
     ]
    },
    {
     "name": "stderr",
     "output_type": "stream",
     "text": [
      "/Users/agmeyer4/opt/anaconda3/envs/atmos_column/lib/python3.11/site-packages/pysolar/solartime.py:111: UserWarning: I don't know about leap seconds after 2021\n",
      "  warnings.warn \\\n"
     ]
    },
    {
     "name": "stdout",
     "output_type": "stream",
     "text": [
      "Adding receptor lat/lons along the slant column\n",
      "Adding surface height and receptor elevation above ground level\n",
      "adding surface and agl heights\n"
     ]
    },
    {
     "name": "stderr",
     "output_type": "stream",
     "text": [
      "/Users/agmeyer4/opt/anaconda3/envs/atmos_column/lib/python3.11/site-packages/pysolar/solartime.py:111: UserWarning: I don't know about leap seconds after 2021\n",
      "  warnings.warn \\\n"
     ]
    },
    {
     "name": "stdout",
     "output_type": "stream",
     "text": [
      "Adding receptor lat/lons along the slant column\n",
      "Adding surface height and receptor elevation above ground level\n",
      "adding surface and agl heights\n"
     ]
    },
    {
     "name": "stderr",
     "output_type": "stream",
     "text": [
      "/Users/agmeyer4/opt/anaconda3/envs/atmos_column/lib/python3.11/site-packages/pysolar/solartime.py:111: UserWarning: I don't know about leap seconds after 2021\n",
      "  warnings.warn \\\n"
     ]
    },
    {
     "name": "stdout",
     "output_type": "stream",
     "text": [
      "Adding receptor lat/lons along the slant column\n",
      "Adding surface height and receptor elevation above ground level\n",
      "adding surface and agl heights\n"
     ]
    },
    {
     "name": "stderr",
     "output_type": "stream",
     "text": [
      "/Users/agmeyer4/opt/anaconda3/envs/atmos_column/lib/python3.11/site-packages/pysolar/solartime.py:111: UserWarning: I don't know about leap seconds after 2021\n",
      "  warnings.warn \\\n"
     ]
    },
    {
     "name": "stdout",
     "output_type": "stream",
     "text": [
      "Adding receptor lat/lons along the slant column\n",
      "Adding surface height and receptor elevation above ground level\n",
      "adding surface and agl heights\n"
     ]
    },
    {
     "name": "stderr",
     "output_type": "stream",
     "text": [
      "/Users/agmeyer4/opt/anaconda3/envs/atmos_column/lib/python3.11/site-packages/pysolar/solartime.py:111: UserWarning: I don't know about leap seconds after 2021\n",
      "  warnings.warn \\\n"
     ]
    },
    {
     "name": "stdout",
     "output_type": "stream",
     "text": [
      "Adding receptor lat/lons along the slant column\n",
      "Adding surface height and receptor elevation above ground level\n",
      "adding surface and agl heights\n"
     ]
    },
    {
     "name": "stderr",
     "output_type": "stream",
     "text": [
      "/Users/agmeyer4/opt/anaconda3/envs/atmos_column/lib/python3.11/site-packages/pysolar/solartime.py:111: UserWarning: I don't know about leap seconds after 2021\n",
      "  warnings.warn \\\n"
     ]
    },
    {
     "name": "stdout",
     "output_type": "stream",
     "text": [
      "Adding receptor lat/lons along the slant column\n",
      "Adding surface height and receptor elevation above ground level\n",
      "adding surface and agl heights\n"
     ]
    },
    {
     "name": "stderr",
     "output_type": "stream",
     "text": [
      "/Users/agmeyer4/opt/anaconda3/envs/atmos_column/lib/python3.11/site-packages/pysolar/solartime.py:111: UserWarning: I don't know about leap seconds after 2021\n",
      "  warnings.warn \\\n"
     ]
    },
    {
     "name": "stdout",
     "output_type": "stream",
     "text": [
      "Adding receptor lat/lons along the slant column\n",
      "Adding surface height and receptor elevation above ground level\n",
      "adding surface and agl heights\n"
     ]
    },
    {
     "name": "stderr",
     "output_type": "stream",
     "text": [
      "/Users/agmeyer4/opt/anaconda3/envs/atmos_column/lib/python3.11/site-packages/pysolar/solartime.py:111: UserWarning: I don't know about leap seconds after 2021\n",
      "  warnings.warn \\\n"
     ]
    }
   ],
   "source": [
    "slant_dfs = {}\n",
    "for name,details in instruments.items():\n",
    "    gsh = ac.ground_slant_handler(details['lat'],details['lon'],details['zasl'],z_ail_list)\n",
    "    slant_df = gsh.run_slant_at_intervals(dt1,dt2,my_dem_handler,interval=interval)\n",
    "    slant_df = slant_df.dropna()\n",
    "    slant_dfs[name] = slant_df"
   ]
  },
  {
   "cell_type": "code",
   "execution_count": 86,
   "metadata": {},
   "outputs": [],
   "source": [
    "name = 'column_network_1hr'\n",
    "\n",
    "kml_name = f'{name}.kml' #storage\n",
    "icon_size = 0.6 #how big we want the receptor points to be \n",
    "\n",
    "kml = simplekml.Kml() #initialize the kml file\n",
    "\n",
    "#Add the slant columns\n",
    "for inst_id,slant_df in slant_dfs.items():\n",
    "    fol = kml.newfolder(name=inst_id)\n",
    "    for dt,newdf in slant_df.groupby(level=0): #groupby the first index -- datetime\n",
    "        time_str = dt.strftime('%H:%M %Z') #grab the datetime string for labeling\n",
    "        plotdf = newdf.droplevel(0).reset_index() #get the new dataframe at that datetime level and reset the index so z_asl is a column not an index\n",
    "\n",
    "        slant_id = time_str #the slant ID is best associated with the time string \n",
    "        \n",
    "        #the linestring is just a path between the first and last points of the column receptor, to visualize the column\n",
    "        ls = fol.newlinestring(name=f'{slant_id}_ls',coords=[(plotdf.iloc[0]['receptor_lon'],plotdf.iloc[0]['receptor_lat'],plotdf.iloc[0]['receptor_zasl'])\n",
    "                                                            ,(plotdf.iloc[-1]['receptor_lon'],plotdf.iloc[-1]['receptor_lat'],plotdf.iloc[-1]['receptor_zasl'])],\n",
    "                                                            altitudemode='absolute')\n",
    "        ls.timespan.begin = dt.strftime('%Y-%m-%dT%H:%M:%S')\n",
    "        end = dt + pd.to_timedelta(interval)\n",
    "        ls.timespan.end = end.strftime('%Y-%m-%dT%H:%M:%S')\n",
    "        ls.style.linestyle.width = 2.8\n",
    "\n",
    "kml.save(os.path.join(kml_folder,kml_name))"
   ]
  },
  {
   "cell_type": "markdown",
   "metadata": {},
   "source": [
    "# Draped Images"
   ]
  },
  {
   "cell_type": "code",
   "execution_count": 21,
   "metadata": {},
   "outputs": [],
   "source": [
    "name = 'ch4_inventory'\n",
    "kml_name = f'{name}.kml' #storage\n",
    "\n",
    "raster_extent={'lon_min':-112.15,\n",
    "                  'lon_max':-111.7,\n",
    "                  'lat_min':40.4,\n",
    "                  'lat_max':41.0}\n",
    "\n",
    "name = 'footprint'\n",
    "bbox = raster_extent\n",
    "raster_path = '/Users/agmeyer4/LAIR_1/Figures/KML/DOE_fig/ch4_inventory.png'\n",
    "#Set the bounding box with lat lons for our png file\n",
    "numpy_bounds = [ (raster_extent['lon_min'],raster_extent['lat_min']),\n",
    "                 (raster_extent['lon_max'],raster_extent['lat_min']),\n",
    "                 (raster_extent['lon_max'],raster_extent['lat_max']),\n",
    "                 (raster_extent['lon_min'],raster_extent['lat_max'])]\n",
    "corner_coords = [ (float(x), float(y)) for x,y in numpy_bounds ]\n",
    "\n",
    "\n",
    "kml = simplekml.Kml() #initialize the kml file\n",
    "\n",
    "doc = kml.newdocument(name = 'footprint')\n",
    "#Add ground overlay\n",
    "ground = doc.newgroundoverlay(name=name, color='ffffffff')\n",
    "ground.gxlatlonquad.coords = corner_coords\n",
    "ground.icon.href = raster_path\n",
    "\n",
    "kml.save(os.path.join(kml_folder,kml_name))"
   ]
  },
  {
   "cell_type": "code",
   "execution_count": 22,
   "metadata": {},
   "outputs": [],
   "source": [
    "name = 'stilt_footprint'\n",
    "kml_name = f'{name}.kml' #storage\n",
    "\n",
    "extent=[-112.3,-111.57,40.39,40.95]\n",
    "\n",
    "\n",
    "raster_extent={'lon_min':-112.3,\n",
    "                  'lon_max':-111.57,\n",
    "                  'lat_min':40.39,\n",
    "                  'lat_max':40.95}\n",
    "\n",
    "name = 'footprint'\n",
    "bbox = raster_extent\n",
    "raster_path = '/Users/agmeyer4/LAIR_1/Figures/KML/DOE_fig/202210191700_-111.842_40.7613_384.86.png'\n",
    "#Set the bounding box with lat lons for our png file\n",
    "numpy_bounds = [ (raster_extent['lon_min'],raster_extent['lat_min']),\n",
    "                 (raster_extent['lon_max'],raster_extent['lat_min']),\n",
    "                 (raster_extent['lon_max'],raster_extent['lat_max']),\n",
    "                 (raster_extent['lon_min'],raster_extent['lat_max'])]\n",
    "corner_coords = [ (float(x), float(y)) for x,y in numpy_bounds ]\n",
    "\n",
    "\n",
    "kml = simplekml.Kml() #initialize the kml file\n",
    "\n",
    "doc = kml.newdocument(name = 'footprint')\n",
    "#Add ground overlay\n",
    "ground = doc.newgroundoverlay(name=name, color='ffffffff')\n",
    "ground.gxlatlonquad.coords = corner_coords\n",
    "ground.icon.href = raster_path\n",
    "\n",
    "kml.save(os.path.join(kml_folder,kml_name))"
   ]
  },
  {
   "cell_type": "markdown",
   "metadata": {},
   "source": [
    "# Grid"
   ]
  },
  {
   "cell_type": "code",
   "execution_count": 50,
   "metadata": {},
   "outputs": [],
   "source": [
    "name = 'air_grid'\n",
    "\n",
    "grid_extent = {'lon_min':-112.15,\n",
    "                  'lon_max':-111.7,\n",
    "                  'lat_min':40.4,\n",
    "                  'lat_max':41.0}\n",
    "lon_spacing = 0.09\n",
    "lat_spacing = 0.1\n",
    "z_spacing = 5000\n",
    "\n",
    "\n",
    "# Define the latitude, longitude, and elevation arrays\n",
    "lat = np.arange(grid_extent['lat_min'], grid_extent['lat_max'], lat_spacing)\n",
    "lon = np.arange(grid_extent['lon_min'], grid_extent['lon_max'], lon_spacing)\n",
    "z = np.arange(1000, 20000, z_spacing)  # Elevation levels from 1000 to 5000 in steps of 500\n",
    "\n",
    "# Initialize a list to store the line segments\n",
    "air_grid_segments = []\n",
    "\n",
    "# Create vertical and horizontal line segments\n",
    "for l in lat:\n",
    "    for ln in lon:\n",
    "        for elev in z:\n",
    "            # Horizontal segments (latitude changes)\n",
    "            if l < lat[-1]:\n",
    "                air_grid_segments.append(((ln, l, elev), (ln, l + lat_spacing, elev)))\n",
    "            # Vertical segments (longitude changes)\n",
    "            if ln < lon[-1]:\n",
    "                air_grid_segments.append(((ln, l, elev), (ln + lon_spacing, l, elev)))\n",
    "            # Elevation segments (elevation changes)\n",
    "            if elev < z[-1]:\n",
    "                air_grid_segments.append(((ln, l, elev), (ln, l, elev + z_spacing)))\n",
    "\n",
    "kml_name = f'{name}.kml' #storage\n",
    "kml = simplekml.Kml() #initialize the kml file\n",
    "doc = kml.newdocument(name = name)\n",
    "fol = kml.newfolder(name=name)\n",
    "i=0\n",
    "for segment in air_grid_segments:\n",
    "    #the linestring is just a path between the first and last points of the column receptor, to visualize the column\n",
    "    ls = fol.newlinestring(name=f'{i}_ls',\n",
    "                           coords=[segment[0],segment[1]],\n",
    "                           altitudemode='absolute')\n",
    "    ls.style.linestyle.width = 2.8\n",
    "    i+=1\n",
    "\n",
    "kml.save(os.path.join(kml_folder,kml_name))"
   ]
  },
  {
   "cell_type": "code",
   "execution_count": 53,
   "metadata": {},
   "outputs": [],
   "source": [
    "name = 'ground_grid'\n",
    "\n",
    "grid_extent = {'lon_min':-112.15,\n",
    "                  'lon_max':-111.7,\n",
    "                  'lat_min':40.4,\n",
    "                  'lat_max':41.0}\n",
    "lon_spacing = 0.09\n",
    "lat_spacing = 0.1\n",
    "\n",
    "\n",
    "# Define the latitude, longitude, and elevation arrays\n",
    "lat = np.arange(grid_extent['lat_min'], grid_extent['lat_max'], lat_spacing)\n",
    "lon = np.arange(grid_extent['lon_min'], grid_extent['lon_max'], lon_spacing)\n",
    "\n",
    "# Initialize a list to store the line segments\n",
    "ground_grid_segments = []\n",
    "\n",
    "# Create vertical and horizontal line segments\n",
    "for l in lat:\n",
    "    for ln in lon:\n",
    "        for elev in z:\n",
    "            # Horizontal segments (latitude changes)\n",
    "            if l < lat[-1]:\n",
    "                ground_grid_segments.append(((ln, l, 0), (ln, l + lat_spacing, 0)))\n",
    "            # Vertical segments (longitude changes)\n",
    "            if ln < lon[-1]:\n",
    "                ground_grid_segments.append(((ln, l, 0), (ln + lon_spacing, l, 0)))\n",
    "\n",
    "\n",
    "kml_name = f'{name}.kml' #storage\n",
    "kml = simplekml.Kml() #initialize the kml file\n",
    "doc = kml.newdocument(name = name)\n",
    "fol = kml.newfolder(name=name)\n",
    "i=0\n",
    "for segment in ground_grid_segments:\n",
    "    #the linestring is just a path between the first and last points of the column receptor, to visualize the column\n",
    "    ls = fol.newlinestring(name=f'{i}_ls',\n",
    "                           coords=[segment[0],segment[1]],\n",
    "                           altitudemode='relativeToGround')\n",
    "    ls.style.linestyle.width = 2.8\n",
    "    i+=1\n",
    "\n",
    "kml.save(os.path.join(kml_folder,kml_name))"
   ]
  },
  {
   "cell_type": "markdown",
   "metadata": {},
   "source": [
    "# Satellite"
   ]
  },
  {
   "cell_type": "code",
   "execution_count": 64,
   "metadata": {},
   "outputs": [
    {
     "data": {
      "text/plain": [
       "array([40.4, 40.5, 40.6, 40.7, 40.8, 40.9, 41. ])"
      ]
     },
     "execution_count": 64,
     "metadata": {},
     "output_type": "execute_result"
    }
   ],
   "source": [
    "lats"
   ]
  },
  {
   "cell_type": "code",
   "execution_count": 83,
   "metadata": {},
   "outputs": [],
   "source": [
    "name = 'sat_columns'\n",
    "\n",
    "lon_min = -111.97\n",
    "lon_max = -111.88\n",
    "lat_min = 40.4\n",
    "lat_max = 41\n",
    "lat_spacing = 0.1\n",
    "lon_spacing = 0.09\n",
    "ztop = 23000\n",
    "\n",
    "lats= np.arange(grid_extent['lat_min'], grid_extent['lat_max'], lat_spacing)\n",
    "\n",
    "\n",
    "kml_name = f'{name}.kml' #storage\n",
    "kml = simplekml.Kml() #initialize the kml file\n",
    "\n",
    "j = 0\n",
    "for lat in lats[:-1]:\n",
    "    fol = kml.newfolder(name=j)\n",
    "\n",
    "    point_coords = (lon_min+lon_spacing/2,lat+lat_spacing/2,ztop)\n",
    "    point = fol.newpoint(name='point',\n",
    "                         coords = [point_coords],\n",
    "                         altitudemode = 'absolute')\n",
    "    point.style.iconstyle.icon.href = 'https://maps.google.com/mapfiles/kml/pal4/icon56.png'\n",
    "    point.style.labelstyle.scale = 0  # Text twice as big\n",
    "\n",
    "    fol1 = fol.newfolder(name='column')\n",
    "    column_segments = []\n",
    "    column_segments.append(((lon_min,lat,0),(point_coords[0],point_coords[1],ztop)))\n",
    "    column_segments.append(((lon_min,lat+lat_spacing,0),(point_coords[0],point_coords[1],ztop)))\n",
    "    column_segments.append(((lon_max,lat,0),(point_coords[0],point_coords[1],ztop)))\n",
    "    column_segments.append(((lon_max,lat+lat_spacing,0),(point_coords[0],point_coords[1],ztop)))\n",
    "\n",
    "    i=0\n",
    "    for segment in column_segments:\n",
    "        #the linestring is just a path between the first and last points of the column receptor, to visualize the column\n",
    "        ls = fol1.newlinestring(name=f'{i}_ls',\n",
    "                            coords=[segment[0],segment[1]],\n",
    "                            altitudemode='absolute')\n",
    "        ls.style.linestyle.width = 2.8\n",
    "        i+=1\n",
    "\n",
    "    fol1 = fol.newfolder(name='ground')\n",
    "    ground_segments = []\n",
    "    ground_segments.append(((lon_min,lat,0),(lon_min,lat+lat_spacing,0)))\n",
    "    ground_segments.append(((lon_min,lat+lat_spacing,0),(lon_min+lon_spacing,lat+lat_spacing,0)))\n",
    "    ground_segments.append(((lon_max,lat,0),(lon_max,lat+lat_spacing,0)))\n",
    "    ground_segments.append(((lon_min,lat,0),(lon_max,lat,0)))\n",
    "    \n",
    "    i=0\n",
    "    for segment in ground_segments:\n",
    "        #the linestring is just a path between the first and last points of the column receptor, to visualize the column\n",
    "        ls = fol1.newlinestring(name=f'{i}_ls',\n",
    "                            coords=[segment[0],segment[1]],\n",
    "                            altitudemode='relativeToGround')\n",
    "        ls.style.linestyle.width = 2.8\n",
    "        i+=1\n",
    "\n",
    "\n",
    "\n",
    "    j+=1\n",
    "\n",
    "kml.save(os.path.join(kml_folder,kml_name))"
   ]
  },
  {
   "cell_type": "code",
   "execution_count": 75,
   "metadata": {},
   "outputs": [
    {
     "data": {
      "text/plain": [
       "[((-111.97, 40.900000000000006, 0), (-111.97, 41.00000000000001, 0)),\n",
       " ((-111.97, 41.00000000000001, 0), (-111.07, 41.00000000000001, 0)),\n",
       " ((-111.88, 40.900000000000006, 0), (-111.88, 41.00000000000001, 0)),\n",
       " ((-111.97, 40.900000000000006, 0), (-111.88, 40.900000000000006, 0))]"
      ]
     },
     "execution_count": 75,
     "metadata": {},
     "output_type": "execute_result"
    }
   ],
   "source": [
    "ground_segments"
   ]
  },
  {
   "cell_type": "code",
   "execution_count": null,
   "metadata": {},
   "outputs": [],
   "source": []
  }
 ],
 "metadata": {
  "kernelspec": {
   "display_name": "atmos_column",
   "language": "python",
   "name": "python3"
  },
  "language_info": {
   "codemirror_mode": {
    "name": "ipython",
    "version": 3
   },
   "file_extension": ".py",
   "mimetype": "text/x-python",
   "name": "python",
   "nbconvert_exporter": "python",
   "pygments_lexer": "ipython3",
   "version": "3.11.1"
  }
 },
 "nbformat": 4,
 "nbformat_minor": 4
}
