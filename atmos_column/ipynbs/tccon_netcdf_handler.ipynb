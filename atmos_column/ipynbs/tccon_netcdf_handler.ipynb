{
 "cells": [
  {
   "cell_type": "code",
   "execution_count": 33,
   "id": "888e45bd",
   "metadata": {},
   "outputs": [],
   "source": [
    "import pandas as pd\n",
    "import netCDF4\n",
    "import datetime\n",
    "import numpy as np\n",
    "import os"
   ]
  },
  {
   "cell_type": "markdown",
   "id": "5d01fb37",
   "metadata": {},
   "source": [
    "## Write Met File"
   ]
  },
  {
   "cell_type": "code",
   "execution_count": null,
   "id": "ed0cd645",
   "metadata": {},
   "outputs": [],
   "source": [
    "tccon_data_fullpath = '/uufs/chpc.utah.edu/common/home/u0890904/LAIR_1/Data/TCCON/ci20230502_20230701.private.nc'\n",
    "f = netCDF4.Dataset(tccon_data_fullpath)"
   ]
  },
  {
   "cell_type": "code",
   "execution_count": 45,
   "id": "e8299a1f",
   "metadata": {},
   "outputs": [],
   "source": [
    "#Unit,UTCDate,UTCTime,WSPD,WDIR,SigTheta,Gust,Tout,RH,Pout,Sflux,Precip,LeafWet,Battery,Bit\n",
    "# format the time \n",
    "time = f.variables['time']\n",
    "datetimes = netCDF4.num2date(time[:], time.units)\n",
    "datetimes = [date.strftime('%Y-%m-%d %H:%M:%S') for date in datetimes]\n",
    "\n",
    "# list the variables you want to keep\n",
    "cols = list( ['tout','pout','hout','wspd','wdir'] )\n",
    "\n",
    "# extract those variables from the netcdf and append together\n",
    "list_nc = []\n",
    "for c in cols:\n",
    "    list_nc.append(list(f.variables[c][:]))\n",
    "    \n",
    "# convert into pandas dataframe\n",
    "df = pd.DataFrame(list_nc)\n",
    "df = df.T # transpose the dataframe\n",
    "df.columns = cols # set column names\n",
    "\n",
    "# add the time as the dataframe index \n",
    "df['dt'] = pd.to_datetime(datetimes, utc = True)\n",
    "df = df.rename(columns = {'tout':'Tout','pout':'Pout','wspd':'WSPD','wdir':'WDIR','hout':'RH'})\n",
    "df['UTCDate'] = df.apply(lambda row: datetime.datetime.strftime(row['dt'],'%y/%m/%d'),axis = 1)\n",
    "df['UTCTime'] = df.apply(lambda row: datetime.datetime.strftime(row['dt'],'%H:%M:%S'),axis = 1)\n",
    "# subset the time period of interest \n",
    "sub_df = df.loc[(df['UTCDate']=='23/05/16')]\n",
    "sub_df = sub_df[['UTCDate','UTCTime','Tout','Pout','RH','WSPD','WDIR']]"
   ]
  },
  {
   "cell_type": "code",
   "execution_count": 46,
   "id": "c42cd15f",
   "metadata": {},
   "outputs": [],
   "source": [
    "met_save_path = '/uufs/chpc.utah.edu/common/home/lin-group15/agm/em27/ua/inst_data/met/tccon/'\n",
    "dates = ['2023-05-16','2023-05-17','2023-05-18','2023-05-19']\n",
    "sub_dfs = {}\n",
    "for date in dates:\n",
    "    sub_df = df.loc[(df['dt']>=f'{date} 00:00:00')&(df['dt']<=f'{date} 23:59:59')]\n",
    "    sub_df = sub_df[['UTCDate','UTCTime','Tout','Pout','RH','WSPD','WDIR']]\n",
    "    filename = f\"{date.replace('-','')}_tccon.txt\"\n",
    "    fullsavepath = os.path.join(met_save_path,filename)\n",
    "    sub_df.to_csv(fullsavepath,index=False)"
   ]
  }
 ],
 "metadata": {
  "kernelspec": {
   "display_name": "Python 3 (ipykernel)",
   "language": "python",
   "name": "python3"
  },
  "language_info": {
   "codemirror_mode": {
    "name": "ipython",
    "version": 3
   },
   "file_extension": ".py",
   "mimetype": "text/x-python",
   "name": "python",
   "nbconvert_exporter": "python",
   "pygments_lexer": "ipython3",
   "version": "3.11.2"
  }
 },
 "nbformat": 4,
 "nbformat_minor": 5
}
