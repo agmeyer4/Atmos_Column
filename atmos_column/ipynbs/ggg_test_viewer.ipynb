{
 "cells": [
  {
   "cell_type": "code",
   "execution_count": 1,
   "metadata": {},
   "outputs": [],
   "source": [
    "#Import Packages\n",
    "import pandas as pd\n",
    "import numpy as np\n",
    "import os\n",
    "import itertools\n",
    "import plotly.graph_objects as go\n",
    "import matplotlib.pyplot as plt\n",
    "import datetime\n",
    "import matplotlib\n",
    "from herbie import Herbie\n",
    "import pickle\n",
    "import cartopy.crs as ccrs\n",
    "import cartopy.io.img_tiles as cimgt\n",
    "import pysolar.solar as solar\n",
    "from geographiclib.geodesic import Geodesic\n",
    "import xarray as xr\n",
    "import pytz\n",
    "import simplekml\n",
    "import cartopy\n",
    "import sys\n",
    "sys.path.append('..')\n",
    "import funcs.ac_funcs as ac\n",
    "import funcs.plotting as plotting\n",
    "\n",
    "\n",
    "pd.options.mode.chained_assignment = None\n"
   ]
  },
  {
   "cell_type": "code",
   "execution_count": 7,
   "metadata": {},
   "outputs": [],
   "source": [
    "def add_oof_trace(fig,oof_df,spec,color,name,errors=False):\n",
    "    if errors:\n",
    "        fig.add_trace(go.Scatter(\n",
    "            x = oof_df.index,\n",
    "            y = oof_df[spec],\n",
    "            name=name,\n",
    "            error_y = dict(\n",
    "                type='data', # value of error bar given in data coordinates\n",
    "                array=oof_df[f'{spec}_error'],\n",
    "                visible=True,\n",
    "                color = 'grey',\n",
    "                width = 0.1),\n",
    "            mode='markers',\n",
    "            marker={'color':color,'size':2},\n",
    "        ))\n",
    "    else:\n",
    "        fig.add_trace(go.Scatter(\n",
    "            x = oof_df.index,\n",
    "            y = oof_df[spec],\n",
    "            name=name,\n",
    "            mode='markers',\n",
    "            marker={'color':color,'size':2},\n",
    "        ))"
   ]
  },
  {
   "cell_type": "code",
   "execution_count": 3,
   "metadata": {},
   "outputs": [
    {
     "name": "stdout",
     "output_type": "stream",
     "text": [
      "Copying Files\n"
     ]
    }
   ],
   "source": [
    "existing_results_path = '/uufs/chpc.utah.edu/common/home/lin-group15/agm/em27/ha/results/'\n",
    "oof_destination_path = '/uufs/chpc.utah.edu/common/home/u0890904/LAIR_1/Data/EM27_oof/summer_2023/ha/'\n",
    "\n",
    "ac.copy_em27_oofs_to_singlefolder(existing_results_path,oof_destination_path)"
   ]
  },
  {
   "cell_type": "code",
   "execution_count": 13,
   "metadata": {},
   "outputs": [
    {
     "name": "stderr",
     "output_type": "stream",
     "text": [
      "/tmp/ipykernel_1759651/921825353.py:25: FutureWarning:\n",
      "\n",
      "The default value of numeric_only in DataFrameGroupBy.mean is deprecated. In a future version, numeric_only will default to False. Either specify numeric_only or select only columns which should be valid for the function.\n",
      "\n",
      "/tmp/ipykernel_1759651/921825353.py:25: FutureWarning:\n",
      "\n",
      "The default value of numeric_only in DataFrameGroupBy.mean is deprecated. In a future version, numeric_only will default to False. Either specify numeric_only or select only columns which should be valid for the function.\n",
      "\n"
     ]
    }
   ],
   "source": [
    "#base_project_dir = '/Users/agmeyer4/LAIR_1/'\n",
    "base_project_dir = '/uufs/chpc.utah.edu/common/home/u0890904/LAIR_1/'\n",
    "data_subfolder = os.path.join(base_project_dir,'Data/EM27_oof/summer_2023')\n",
    "\n",
    "inst_ids = ['ha','ua']\n",
    "flag = 0\n",
    "resample = '5T'\n",
    "\n",
    "#define datetime range and interval parameters\n",
    "dt1_str = '2023-07-07 00:00:00'#start datetime\n",
    "dt2_str = '2023-08-14 23:59:59' #end datetime\n",
    "timezone = 'US/Mountain' #this should nearly always be UTC, but can identify if your datetime strings above are in a different timezone\n",
    "dt1 = ac.dtstr_to_dttz(dt1_str,timezone)\n",
    "dt2 = ac.dtstr_to_dttz(dt2_str,timezone)\n",
    "\n",
    "my_oof_managers = {}\n",
    "oof_dfs = {}\n",
    "for inst_id in inst_ids:\n",
    "    data_folder = os.path.join(data_subfolder,inst_id)\n",
    "    my_oof_managers[inst_id] = ac.oof_manager(data_folder,timezone)\n",
    "    df = my_oof_managers[inst_id].load_oof_df_inrange(dt1,dt2)\n",
    "    if flag is not None:\n",
    "        df = df.loc[df['flag']==flag]\n",
    "    if resample is not None:\n",
    "        df = df.resample(resample).mean()\n",
    "    oof_dfs[inst_id] = df"
   ]
  },
  {
   "cell_type": "code",
   "execution_count": 16,
   "metadata": {},
   "outputs": [
    {
     "ename": "TypeError",
     "evalue": "add_oof_trace() got multiple values for argument 'errors'",
     "output_type": "error",
     "traceback": [
      "\u001b[0;31m---------------------------------------------------------------------------\u001b[0m",
      "\u001b[0;31mTypeError\u001b[0m                                 Traceback (most recent call last)",
      "\u001b[1;32m/uufs/chpc.utah.edu/common/home/u0890904/LAIR_1/Atmos_Column/atmos_column/ipynbs/ggg_test_viewer.ipynb Cell 5\u001b[0m line \u001b[0;36m6\n\u001b[1;32m      <a href='vscode-notebook-cell://ssh-remote%2Bgimli.chpc.utah.edu/uufs/chpc.utah.edu/common/home/u0890904/LAIR_1/Atmos_Column/atmos_column/ipynbs/ggg_test_viewer.ipynb#W4sdnNjb2RlLXJlbW90ZQ%3D%3D?line=3'>4</a>\u001b[0m fig \u001b[39m=\u001b[39m go\u001b[39m.\u001b[39mFigure()\n\u001b[1;32m      <a href='vscode-notebook-cell://ssh-remote%2Bgimli.chpc.utah.edu/uufs/chpc.utah.edu/common/home/u0890904/LAIR_1/Atmos_Column/atmos_column/ipynbs/ggg_test_viewer.ipynb#W4sdnNjb2RlLXJlbW90ZQ%3D%3D?line=4'>5</a>\u001b[0m inst_id \u001b[39m=\u001b[39m \u001b[39m'\u001b[39m\u001b[39mha\u001b[39m\u001b[39m'\u001b[39m\n\u001b[0;32m----> <a href='vscode-notebook-cell://ssh-remote%2Bgimli.chpc.utah.edu/uufs/chpc.utah.edu/common/home/u0890904/LAIR_1/Atmos_Column/atmos_column/ipynbs/ggg_test_viewer.ipynb#W4sdnNjb2RlLXJlbW90ZQ%3D%3D?line=5'>6</a>\u001b[0m add_oof_trace(fig,oof_dfs[inst_id],\u001b[39m'\u001b[39;49m\u001b[39mxch4(ppm)\u001b[39;49m\u001b[39m'\u001b[39;49m,\u001b[39m'\u001b[39;49m\u001b[39mblue\u001b[39;49m\u001b[39m'\u001b[39;49m,inst_id,\u001b[39m1\u001b[39;49m,errors \u001b[39m=\u001b[39;49m \u001b[39mFalse\u001b[39;49;00m)\n\u001b[1;32m      <a href='vscode-notebook-cell://ssh-remote%2Bgimli.chpc.utah.edu/uufs/chpc.utah.edu/common/home/u0890904/LAIR_1/Atmos_Column/atmos_column/ipynbs/ggg_test_viewer.ipynb#W4sdnNjb2RlLXJlbW90ZQ%3D%3D?line=6'>7</a>\u001b[0m inst_id \u001b[39m=\u001b[39m \u001b[39m'\u001b[39m\u001b[39mua\u001b[39m\u001b[39m'\u001b[39m\n\u001b[1;32m      <a href='vscode-notebook-cell://ssh-remote%2Bgimli.chpc.utah.edu/uufs/chpc.utah.edu/common/home/u0890904/LAIR_1/Atmos_Column/atmos_column/ipynbs/ggg_test_viewer.ipynb#W4sdnNjb2RlLXJlbW90ZQ%3D%3D?line=7'>8</a>\u001b[0m add_oof_trace(fig,oof_dfs[inst_id],\u001b[39m'\u001b[39m\u001b[39mxch4(ppm)\u001b[39m\u001b[39m'\u001b[39m,\u001b[39m'\u001b[39m\u001b[39mred\u001b[39m\u001b[39m'\u001b[39m,inst_id,\u001b[39m1\u001b[39m,errors \u001b[39m=\u001b[39m \u001b[39mFalse\u001b[39;00m)\n",
      "\u001b[0;31mTypeError\u001b[0m: add_oof_trace() got multiple values for argument 'errors'"
     ]
    }
   ],
   "source": [
    "# xlims= [datetime.datetime.combine(em27_resampled.index[0].date(),datetime.time(hour=6)),\n",
    "#         datetime.datetime.combine(em27_resampled.index[-1].date(),datetime.time(hour=22))]\n",
    "spec = 'xch4(ppm)'\n",
    "fig = go.Figure()\n",
    "inst_id = 'ha'\n",
    "add_oof_trace(fig,oof_dfs[inst_id],'xch4(ppm)','blue',inst_id)\n",
    "inst_id = 'ua'\n",
    "add_oof_trace(fig,oof_dfs[inst_id],'xch4(ppm)','red',inst_id)\n",
    "fig.update_yaxes(title_text = spec)\n",
    "fig.update_layout(\n",
    "    height=400,\n",
    ")\n",
    "fig.show()"
   ]
  }
 ],
 "metadata": {
  "kernelspec": {
   "display_name": "atmos_column",
   "language": "python",
   "name": "python3"
  },
  "language_info": {
   "codemirror_mode": {
    "name": "ipython",
    "version": 3
   },
   "file_extension": ".py",
   "mimetype": "text/x-python",
   "name": "python",
   "nbconvert_exporter": "python",
   "pygments_lexer": "ipython3",
   "version": "3.11.2"
  },
  "orig_nbformat": 4
 },
 "nbformat": 4,
 "nbformat_minor": 2
}
