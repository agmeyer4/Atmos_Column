{
 "cells": [
  {
   "cell_type": "markdown",
   "id": "c72ca53f",
   "metadata": {},
   "source": [
    "# Interferogram Handler\n",
    "This ipynb contains code useful for viewing, finding, deleting, and renaming interferograms produced by OPUS from EM27 instruments. Often useful when ifgs are incorrectly labeled, we need information about datetimes within the metadata, etc. "
   ]
  },
  {
   "cell_type": "code",
   "execution_count": 1,
   "id": "4a8016c1-126a-47ea-8f35-c847c8df6021",
   "metadata": {},
   "outputs": [],
   "source": [
    "import datetime\n",
    "import os"
   ]
  },
  {
   "cell_type": "markdown",
   "id": "cae03c94",
   "metadata": {},
   "source": [
    "# Finding, Deleting, Renaming IFGs"
   ]
  },
  {
   "cell_type": "code",
   "execution_count": null,
   "id": "e924c780",
   "metadata": {},
   "outputs": [],
   "source": [
    "# Setting up path names -- you will need to adapt this to your system\n",
    "ifg_data_folder = '/uufs/chpc.utah.edu/common/home/lin-group15/agm/em27/ua/inst_data/ifgs' #where the ifg date folders are\n",
    "date = '20230516' #the date of interest -- I think this is the only one with bad ifgs for the TCCON side by side\n",
    "date_folder = os.path.join(ifg_data_folder,date)"
   ]
  },
  {
   "cell_type": "code",
   "execution_count": null,
   "id": "ff2cd389",
   "metadata": {},
   "outputs": [],
   "source": [
    "#Find which ifgs are good and which are empty\n",
    "good_data_ifgs = [] #ifgs with stuff in them\n",
    "no_data_ifgs = [] #empty ifgs\n",
    "\n",
    "for file in sorted(os.listdir(date_folder)): #loop through the data folder\n",
    "    fsize_kb = os.stat(os.path.join(date_folder,file)).st_size/1024 #get the size of the file\n",
    "    if fsize_kb>2: #if the filesize is bigger than 2kb\n",
    "        good_data_ifgs.append(file) #add it to the good data list\n",
    "    else:\n",
    "        no_data_ifgs.append(file) #if not, add it to the no data list\n",
    "print(f'IFGS with good data: {good_data_ifgs}')\n",
    "print(f'IFGS with no data: {no_data_ifgs}')"
   ]
  },
  {
   "cell_type": "code",
   "execution_count": null,
   "id": "5307b0ba",
   "metadata": {},
   "outputs": [],
   "source": [
    "# BEFORE YOU RUN THIS CELL\n",
    "# Make sure you have your data backed up as it will delete IFGS identified as having no data. \n",
    "# You will only have to run this once, then the files will be gone so you obviously cant \"delete them again\"\n",
    "for file in no_data_ifgs:\n",
    "    os.remove(os.path.join(date_folder,file))"
   ]
  },
  {
   "cell_type": "code",
   "execution_count": null,
   "id": "f6aea43a",
   "metadata": {},
   "outputs": [],
   "source": [
    "# Now we should have a folder with a gap in IFGS -- a set of good ifgs before xxx.3600 and a set of good\n",
    "# ifgs after xxx.3600. We want to rename them so that we have a continuous set of data starting at xxx.0001\n",
    "\n",
    "before_3600_ids = [] #all of the ifgs with an id before xxx.3600\n",
    "after_3600_ids = [] #all of the ifgs with an id after xxx.3600\n",
    "for file in sorted(os.listdir(date_folder)): #loop through the data folder\n",
    "    ifg_id =int(file.split('.')[-1]) #get the ifg id by stripping off everything after the last \".\"\n",
    "    if ifg_id < 3601: #if it's before 3601\n",
    "        before_3600_ids.append(ifg_id) #add it to the before list\n",
    "    else:\n",
    "        after_3600_ids.append(ifg_id) #otherwise add it to the after list\n",
    "last_before_3600_id = max(before_3600_ids) #this is the id of the last good ifg before 3600"
   ]
  },
  {
   "cell_type": "code",
   "execution_count": null,
   "id": "9cfb5ba9",
   "metadata": {},
   "outputs": [],
   "source": [
    "# AGAIN: you should only run this cell once and it will rename files in your directory, so make sure you know\n",
    "# where you're working\n",
    "\n",
    "new_id = last_before_3600_id #initialize the first \"new_id\" as the last good ifg before 3600\n",
    "for old_id in after_3600_ids: #loop through all of the after 3600 ifgs, and rename them to be sequential starting with the last id before 3600\n",
    "    new_id = new_id+1 #add one to the new_id, which will increment every time\n",
    "    new_id_str = f'{new_id:04}' #make it a string of 4 digits with leading 0s \n",
    "\n",
    "    old_fullname = os.path.join(date_folder,f'ua{date}.ifg.{old_id}') #this is the old filename and path of the good ifg\n",
    "    new_fullname = os.path.join(date_folder,f'ua{date}.ifg.{new_id_str}') #this is the new filename incremented one more than the previous\n",
    "    os.rename(old_fullname,new_fullname) #this actually renames the file from the old to the new name"
   ]
  },
  {
   "cell_type": "markdown",
   "id": "e49fc345",
   "metadata": {},
   "source": [
    "# Examining and resetting time in IFG files"
   ]
  },
  {
   "cell_type": "markdown",
   "id": "3fd6ce6d",
   "metadata": {},
   "source": [
    "View the datetime in the ifg binary file"
   ]
  },
  {
   "cell_type": "code",
   "execution_count": 1,
   "id": "74a07eec",
   "metadata": {},
   "outputs": [
    {
     "name": "stdout",
     "output_type": "stream",
     "text": [
      "File Path: /uufs/chpc.utah.edu/common/home/lin-group15/agm/em27/ua/inst_data/ifgs/20230516/ua20230516.ifg.0001\n",
      "DAT position: 915428\n",
      "b'16/05/2023'\n",
      "TIM position: 915448\n",
      "b'16:17:50.802 (GMT+0)'\n"
     ]
    }
   ],
   "source": [
    "# return the date and time strings, ensure that all printed output is what you expect\n",
    "test_file = '/uufs/chpc.utah.edu/common/home/lin-group15/agm/em27/ua/inst_data/ifgs/20230516/ua20230516.ifg.0001'\n",
    "\n",
    "print(\"File Path: \" + test_file)\n",
    "file = open(test_file, \"rb\")\n",
    "s = file.read()\n",
    "pos = s.find(b'DAT') # get the position of the string \"DAT\" in the ifg file\n",
    "print(\"DAT position: \" + str(pos)) #915428\n",
    "\n",
    "# look for date string\n",
    "# print(chr(s[pos]) + chr(s[pos+1]) + chr(s[pos+2]))\n",
    "# print((s[pos:pos+3])) # prints \"DAT\"\n",
    "date_start =  pos+8 # get index of where date string starts (8 characters from where the \"DAT\" string is found)\n",
    "date_end = date_start + 10 # get index of where date string ends (10 characters from where the date string starts)\n",
    "date_found = s[date_start:date_end] # get the complete date string using indices\n",
    "print(date_found) # prints the date string in the file\n",
    "\n",
    "# look for time string\n",
    "pos = s.find(b'TIM') # get the position of the string \"TIM\" in the ifg file\n",
    "time_start = pos+8 # get index of where time string starts (8 characters from where the \"TIM\" string is found)\n",
    "time_end = time_start+20 # get index of where time string ends (20 characters from where the time string starts)\n",
    "time_found = s[time_start:time_end] # get the complete time string using indices\n",
    "print('TIM position: ' + str(pos))\n",
    "print(time_found)\n",
    "\n",
    "# # time_off = 42775 #in seconds\n",
    "# # convert time_found to time object\n",
    "# # add the timeoffset\n",
    "# # convert back to string\n",
    "\n",
    "file.close()"
   ]
  },
  {
   "cell_type": "markdown",
   "id": "adc9862a",
   "metadata": {},
   "source": [
    "Correct the datetime in the ifg binary file"
   ]
  },
  {
   "cell_type": "code",
   "execution_count": null,
   "id": "b957f54c",
   "metadata": {},
   "outputs": [],
   "source": [
    "### Fix the time offset\n",
    "\n",
    "## convert time string to time object \n",
    "tim_string = time_found.decode().split('.')[0]\n",
    "\n",
    "## set date string\n",
    "dat_string = date_found.decode() # use date found in file\n",
    "# dat_string = \"03/11/2022\" # or if the date in the file is wrong, you can just indicate the correct date here\n",
    "\n",
    "## convert date and time strings to datetime\n",
    "test = datetime.datetime.strptime(dat_string + ' ' + tim_string, '%d/%m/%Y %H:%M:%S')\n",
    "print(\"Original time: \" + str(test))\n",
    "\n",
    "## input time offset in seconds\n",
    "time_off = datetime.timedelta(seconds = 61651)\n",
    "\n",
    "## apply the time offset to get the correct time\n",
    "new_time = test + time_off\n",
    "print(\"Corrected time: \" + str(new_time))\n",
    "\n",
    "## create new byte object with the correct time string\n",
    "new_time_str = str(new_time.time()) + '.704 (GMT+0)' # convert correct time to string, in the same format as in the ifg file\n",
    "## note: I manually added the .704 to the end of the time so that the length of the time string would be the same length as \n",
    "##      what is in the ifg file. Without this it will not work, since it needs to replace text with a string with the same number\n",
    "##      of characters. The times in the ifg files must be in some sort of decimal format, but I couldn't figure it out. I \n",
    "##      just accepted that my times may be off by ~1 second, but it's okay because I average it into 5 min anyway. \n",
    "new_time_byt = bytes(new_time_str, 'utf-8') # convert string to byte object\n",
    "# print(new_time_byt)"
   ]
  },
  {
   "cell_type": "code",
   "execution_count": null,
   "id": "e6ac82fc",
   "metadata": {},
   "outputs": [],
   "source": [
    "## replace the time_found with the corrected time\n",
    "file = open(test_file, \"rb\")\n",
    "s = file.read() \n",
    "s2 = s.replace(time_found, new_time_byt) # create a copy of the original file, but replace the times with the correct time\n",
    "s2 = s2.replace(date_found, new_dat_byt) # replace the date with the correct date\n",
    "file.close()"
   ]
  },
  {
   "cell_type": "code",
   "execution_count": null,
   "id": "2c60d1af",
   "metadata": {},
   "outputs": [],
   "source": [
    "## BE CAREFUL - THIS WILL OVERWRITE YOUR FILE!!!\n",
    "## overwrite the file with the corrected time \n",
    "with open(test_file+'_test', 'wb') as output_file: # wb indicates we can write to the file\n",
    "    output_file.write(s2)"
   ]
  }
 ],
 "metadata": {
  "kernelspec": {
   "display_name": "Python 3 (ipykernel)",
   "language": "python",
   "name": "python3"
  },
  "language_info": {
   "codemirror_mode": {
    "name": "ipython",
    "version": 3
   },
   "file_extension": ".py",
   "mimetype": "text/x-python",
   "name": "python",
   "nbconvert_exporter": "python",
   "pygments_lexer": "ipython3",
   "version": "3.11.6"
  }
 },
 "nbformat": 4,
 "nbformat_minor": 5
}
