{
 "cells": [
  {
   "cell_type": "code",
   "execution_count": 1,
   "id": "4a8016c1-126a-47ea-8f35-c847c8df6021",
   "metadata": {},
   "outputs": [],
   "source": [
    "import glob\n",
    "import datetime\n",
    "import time\n",
    "import os"
   ]
  },
  {
   "cell_type": "code",
   "execution_count": null,
   "id": "e924c780",
   "metadata": {},
   "outputs": [],
   "source": [
    "# Setting up path names -- you will need to adapt this to your system\n",
    "\n",
    "ifg_data_folder = '/uufs/chpc.utah.edu/common/home/lin-group15/agm/em27/ua/inst_data/ifgs' #where the ifg date folders are\n",
    "date = '20230516' #the date of interest -- I think this is the only one with bad ifgs for the TCCON side by side\n",
    "date_folder = os.path.join(ifg_data_folder,date)"
   ]
  },
  {
   "cell_type": "code",
   "execution_count": null,
   "id": "ff2cd389",
   "metadata": {},
   "outputs": [],
   "source": [
    "#Find which ifgs are good and which are empty\n",
    "good_data_ifgs = [] #ifgs with stuff in them\n",
    "no_data_ifgs = [] #empty ifgs\n",
    "\n",
    "for file in sorted(os.listdir(date_folder)): #loop through the data folder\n",
    "    fsize_kb = os.stat(os.path.join(date_folder,file)).st_size/1024 #get the size of the file\n",
    "    if fsize_kb>2: #if the filesize is bigger than 2kb\n",
    "        good_data_ifgs.append(file) #add it to the good data list\n",
    "    else:\n",
    "        no_data_ifgs.append(file) #if not, add it to the no data list\n",
    "print(f'IFGS with good data: {good_data_ifgs}')\n",
    "print(f'IFGS with no data: {no_data_ifgs}')"
   ]
  },
  {
   "cell_type": "code",
   "execution_count": null,
   "id": "5307b0ba",
   "metadata": {},
   "outputs": [],
   "source": [
    "# BEFORE YOU RUN THIS CELL\n",
    "# Make sure you have your data backed up as it will delete IFGS identified as having no data. \n",
    "# You will only have to run this once, then the files will be gone so you obviously cant \"delete them again\"\n",
    "for file in no_data_ifgs:\n",
    "    os.remove(os.path.join(date_folder,file))"
   ]
  },
  {
   "cell_type": "code",
   "execution_count": null,
   "id": "f6aea43a",
   "metadata": {},
   "outputs": [],
   "source": [
    "# Now we should have a folder with a gap in IFGS -- a set of good ifgs before xxx.3600 and a set of good\n",
    "# ifgs after xxx.3600. We want to rename them so that we have a continuous set of data starting at xxx.0001\n",
    "\n",
    "before_3600_ids = [] #all of the ifgs with an id before xxx.3600\n",
    "after_3600_ids = [] #all of the ifgs with an id after xxx.3600\n",
    "for file in sorted(os.listdir(date_folder)): #loop through the data folder\n",
    "    ifg_id =int(file.split('.')[-1]) #get the ifg id by stripping off everything after the last \".\"\n",
    "    if ifg_id < 3601: #if it's before 3601\n",
    "        before_3600_ids.append(ifg_id) #add it to the before list\n",
    "    else:\n",
    "        after_3600_ids.append(ifg_id) #otherwise add it to the after list\n",
    "last_before_3600_id = max(before_3600_ids) #this is the id of the last good ifg before 3600"
   ]
  },
  {
   "cell_type": "code",
   "execution_count": null,
   "id": "9cfb5ba9",
   "metadata": {},
   "outputs": [],
   "source": [
    "# AGAIN: you should only run this cell once and it will rename files in your directory, so make sure you know\n",
    "# where you're working\n",
    "\n",
    "new_id = last_before_3600_id #initialize the first \"new_id\" as the last good ifg before 3600\n",
    "for old_id in after_3600_ids: #loop through all of the after 3600 ifgs, and rename them to be sequential starting with the last id before 3600\n",
    "    new_id = new_id+1 #add one to the new_id, which will increment every time\n",
    "    new_id_str = f'{new_id:04}' #make it a string of 4 digits with leading 0s \n",
    "\n",
    "    old_fullname = os.path.join(date_folder,f'ua{date}.ifg.{old_id}') #this is the old filename and path of the good ifg\n",
    "    new_fullname = os.path.join(date_folder,f'ua{date}.ifg.{new_id_str}') #this is the new filename incremented one more than the previous\n",
    "    os.rename(old_fullname,new_fullname) #this actually renames the file from the old to the new name"
   ]
  }
 ],
 "metadata": {
  "kernelspec": {
   "display_name": "Python 3 (ipykernel)",
   "language": "python",
   "name": "python3"
  },
  "language_info": {
   "codemirror_mode": {
    "name": "ipython",
    "version": 3
   },
   "file_extension": ".py",
   "mimetype": "text/x-python",
   "name": "python",
   "nbconvert_exporter": "python",
   "pygments_lexer": "ipython3",
   "version": "3.11.2"
  }
 },
 "nbformat": 4,
 "nbformat_minor": 5
}
