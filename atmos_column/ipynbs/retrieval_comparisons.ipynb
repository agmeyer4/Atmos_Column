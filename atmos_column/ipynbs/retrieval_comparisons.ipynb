{
 "cells": [
  {
   "cell_type": "code",
   "execution_count": null,
   "metadata": {},
   "outputs": [],
   "source": [
    "#Import Packages\n",
    "import pandas as pd\n",
    "import numpy as np\n",
    "import os\n",
    "import itertools\n",
    "import plotly.graph_objects as go\n",
    "from plotly.subplots import make_subplots\n",
    "import re\n",
    "import matplotlib.pyplot as plt\n",
    "from PIL import Image\n",
    "import datetime\n",
    "import matplotlib\n",
    "import matplotlib.dates as mdates\n",
    "from sklearn.linear_model import LinearRegression\n",
    "import string\n",
    "import statsmodels.api as sm\n",
    "from herbie import Herbie\n",
    "import pickle\n",
    "import cartopy.crs as ccrs\n",
    "import cartopy.io.img_tiles as cimgt\n",
    "import pysolar.solar as solar\n",
    "from geographiclib.geodesic import Geodesic\n",
    "import xarray as xr\n",
    "import pytz\n",
    "import simplekml\n",
    "from pylr2 import regress2\n",
    "import cartopy\n",
    "import sklearn\n",
    "import sys\n",
    "sys.path.append('..')\n",
    "import funcs.ac_funcs as ac\n",
    "import funcs.plotting as plotting\n",
    "\n",
    "pd.options.mode.chained_assignment = None\n",
    "\n",
    "%load_ext autoreload\n",
    "%autoreload 2"
   ]
  },
  {
   "cell_type": "markdown",
   "metadata": {},
   "source": [
    "# Aaron Vs Elaine \n",
    "UA Summer 2023 Retrievals.\\\n",
    "Aaron retrievals using EGI on UoU CHPC, no airmass correction\\\n",
    "Elain retrievals at Harvard, with airmass correction"
   ]
  },
  {
   "cell_type": "code",
   "execution_count": null,
   "metadata": {},
   "outputs": [],
   "source": [
    "#Define parameters\n",
    "base_project_dir = '/uufs/chpc.utah.edu/common/home/u0890904/LAIR_1/'\n",
    "inst_ids = ['ha','ua']\n",
    "flag = 0\n",
    "resample = 'T'\n",
    "timezone = 'US/Mountain' \n",
    "specs = ['xch4(ppm)','xco2(ppm)','xco(ppb)']"
   ]
  },
  {
   "cell_type": "code",
   "execution_count": null,
   "metadata": {},
   "outputs": [],
   "source": [
    "#Load the EM27 Data\n",
    "aaron_folder = \"/uufs/chpc.utah.edu/common/home/u0890904/LAIR_1/Data/EM27_oof/summer_2023/aaron_retrievals/ha/\"\n",
    "elaine_folder = \"/uufs/chpc.utah.edu/common/home/u0890904/LAIR_1/Data/EM27_oof/summer_2023/elaine_retrievals/ha/\"\n",
    "\n",
    "dt1_str = '2023-07-08 11:00:00'\n",
    "dt2_str = '2023-07-11 23:59:59' \n",
    "tz = 'UTC'\n",
    "\n",
    "aaron_oof_manage = ac.oof_manager(aaron_folder,tz)\n",
    "aaron_em27_df = aaron_oof_manage.load_oof_df_inrange(dt1_str,dt2_str,True)\n",
    "\n",
    "elaine_oof_manage = ac.oof_manager(elaine_folder,tz)\n",
    "elaine_em27_df = elaine_oof_manage.load_oof_df_inrange(dt1_str,dt2_str,True)\n"
   ]
  },
  {
   "cell_type": "code",
   "execution_count": null,
   "metadata": {},
   "outputs": [],
   "source": [
    "species = ['xch4(ppm)','xco2(ppm)','xco(ppb)']\n",
    "fig = make_subplots(rows=3,cols=1)\n",
    "row = 1\n",
    "for spec in species:\n",
    "    if row == 1:\n",
    "        showlegend = True\n",
    "    else:\n",
    "        showlegend = False\n",
    "    fig.add_trace(go.Scatter(\n",
    "        x = aaron_em27_df.index,\n",
    "        y = aaron_em27_df[spec],\n",
    "        mode = 'markers',\n",
    "        marker = {'color' : 'grey'},\n",
    "        name = 'aaron',\n",
    "        showlegend = showlegend\n",
    "    ), row = row , col = 1)\n",
    "    fig.add_trace(go.Scatter(\n",
    "        x = elaine_em27_df.index,\n",
    "        y = elaine_em27_df[spec],\n",
    "        mode = 'markers',\n",
    "        marker = {'color' : 'red'},\n",
    "        name = 'elaine',\n",
    "        showlegend = showlegend\n",
    "    ), row = row , col = 1)\n",
    "    fig.update_yaxes(title_text=f'{spec}',row=row,col=1)\n",
    "    row += 1\n",
    "\n",
    "fig.update_layout(\n",
    "    height=600,\n",
    "    margin = go.layout.Margin(t=1,b=1)\n",
    ")"
   ]
  },
  {
   "cell_type": "markdown",
   "metadata": {},
   "source": [
    "# Airmass Correction Comparison\n",
    "Both retrieved by Elaine at Harvard\\\n",
    "One with Nasrin's airmass correction\\\n",
    "One without"
   ]
  },
  {
   "cell_type": "code",
   "execution_count": null,
   "metadata": {},
   "outputs": [],
   "source": [
    "#Loading the full datasets can take a while\n",
    "dt1_str = '2022-05-23 00:00:00'\n",
    "dt2_str =  '2022-12-01 00:00:00'\n",
    "tz = 'UTC'\n",
    "\n",
    "em27_data_folder_v1 = \"/uufs/chpc.utah.edu/common/home/u0890904/LAIR_1/Data/EM27_oof/SLC_EM27_ha_2022_2023_oof_v1/\"\n",
    "em27_data_folder_v2 = \"/uufs/chpc.utah.edu/common/home/u0890904/LAIR_1/Data/EM27_oof/SLC_EM27_ha_2022_2023_oof_v2_nasrin_correct/\"\n",
    "\n",
    "oof_manage_v1 = ac.oof_manager(em27_data_folder_v1,tz)\n",
    "em27_df_v1 = oof_manage_v1.load_oof_df_inrange(dt1_str,dt2_str,False)\n",
    "\n",
    "oof_manage_v2 = ac.oof_manager(em27_data_folder_v2,tz)\n",
    "em27_df_v2 = oof_manage_v2.load_oof_df_inrange(dt1_str,dt2_str,False)"
   ]
  },
  {
   "cell_type": "markdown",
   "metadata": {},
   "source": [
    "## Flag Differences"
   ]
  },
  {
   "cell_type": "markdown",
   "metadata": {},
   "source": [
    "We examine both V1 and V2 datasets for differences between flags. V2 has many more rows of flag=0 (good) data. All of the rows that are flag=0 in V2 and are NOT flag=0 in V1 are flag=99 in V1. "
   ]
  },
  {
   "cell_type": "code",
   "execution_count": null,
   "metadata": {},
   "outputs": [],
   "source": [
    "flag0df_v1 = em27_df_v1.loc[em27_df_v1['flag']==0]\n",
    "flag0df_v2 = em27_df_v2.loc[em27_df_v2['flag']==0]\n",
    "diff_flag_idxs = flag0df_v2.index.difference(flag0df_v1.index)\n",
    "\n",
    "diff_flags_df_v1 = em27_df_v1.loc[diff_flag_idxs]\n",
    "diff_flags_df_v2 = em27_df_v2.loc[diff_flag_idxs]\n",
    "\n",
    "print(f\"V1 has {len(flag0df_v1)} rows of flag=0 data\")\n",
    "print(f\"V2 has {len(flag0df_v2)} rows of flag=0 data\")\n",
    "print(f\"V2 has {len(diff_flag_idxs)} more flag=0 data\")"
   ]
  },
  {
   "cell_type": "code",
   "execution_count": null,
   "metadata": {},
   "outputs": [],
   "source": [
    "diff_flags_df_v1.groupby('flag').count()"
   ]
  },
  {
   "cell_type": "code",
   "execution_count": null,
   "metadata": {},
   "outputs": [],
   "source": [
    "subtract_diff = flag0df_v1.drop(['spectrum'],axis = 1).subtract(flag0df_v2.drop(['spectrum'],axis=1))"
   ]
  },
  {
   "cell_type": "code",
   "execution_count": null,
   "metadata": {},
   "outputs": [],
   "source": [
    "labsize = 18\n",
    "\n",
    "plotdf_v1 = em27_df_v1.loc[(em27_df_v1.index>'2022-07-20')&\n",
    "                       (em27_df_v1.index<'2022-07-23')]\n",
    "plotdf_v2 = em27_df_v2.loc[(em27_df_v2.index>'2022-07-20')&\n",
    "                       (em27_df_v2.index<'2022-07-23')]\n",
    "\n",
    "fig,ax = plt.subplots(figsize = (20,10))\n",
    "ax.scatter(plotdf_v1.index[10:],plotdf_v1['xh2o(ppm)'][10:],s=3,c='k',label='V1')\n",
    "ax.scatter(plotdf_v2.index[10:],plotdf_v2['xh2o(ppm)'][10:],s=3,c='r',label='V2')\n",
    "ax.set_ylabel('XH2O (ppm)',size = labsize)\n",
    "ax.set_xlabel('Datetime (UTC)',size = labsize)\n",
    "ax.tick_params(labelsize = labsize)\n",
    "ax.legend(fontsize=labsize)\n",
    "ax.xaxis.set_major_formatter(mdates.DateFormatter('%H:%M %Z', tz = plotdf_v2.index.tz))\n",
    "ax.set_xlabel(plotdf_v2.index[0].strftime('%b %d, %Y'),size = labsize)\n",
    "plt.gcf().autofmt_xdate()\n",
    "plt.show()"
   ]
  },
  {
   "cell_type": "code",
   "execution_count": null,
   "metadata": {},
   "outputs": [],
   "source": [
    "labsize = 18\n",
    "\n",
    "fig,ax = plt.subplots(figsize = (20,10))\n",
    "ax.scatter(subtract_diff.index,subtract_diff['xh2o(ppm)'],s=3,c='k')\n",
    "ax.set_ylabel('V1 - V2 XH2O(ppm) Difference',size = labsize)\n",
    "ax.set_xlabel('Datetime (UTC)',size = labsize)\n",
    "ax.tick_params(labelsize = labsize)\n",
    "ax.xaxis.set_major_formatter(mdates.DateFormatter('%Y-%m-%d', tz = plotdf_v2.index.tz))\n",
    "ax.set_xlabel('Datetime UTC',size = labsize)\n",
    "plt.gcf().autofmt_xdate()\n",
    "plt.show()"
   ]
  },
  {
   "cell_type": "code",
   "execution_count": null,
   "metadata": {},
   "outputs": [],
   "source": [
    "summary_df = subtract_diff.describe().drop(['count','25%','50%','75%'])\n",
    "summary_df\n",
    "#summary_df.to_csv('/uufs/chpc.utah.edu/common/home/u0890904/LAIR_1/Data/v1_v2_subtraction_stats.csv')"
   ]
  }
 ],
 "metadata": {
  "kernelspec": {
   "display_name": "atmos_column",
   "language": "python",
   "name": "python3"
  },
  "language_info": {
   "codemirror_mode": {
    "name": "ipython",
    "version": 3
   },
   "file_extension": ".py",
   "mimetype": "text/x-python",
   "name": "python",
   "nbconvert_exporter": "python",
   "pygments_lexer": "ipython3",
   "version": "3.11.2"
  },
  "orig_nbformat": 4
 },
 "nbformat": 4,
 "nbformat_minor": 2
}
